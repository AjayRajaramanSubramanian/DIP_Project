{
 "cells": [
  {
   "cell_type": "markdown",
   "metadata": {},
   "source": [
    "# Imports"
   ]
  },
  {
   "cell_type": "code",
   "execution_count": 1,
   "metadata": {},
   "outputs": [
    {
     "name": "stderr",
     "output_type": "stream",
     "text": [
      "[2023-11-30 17:00:57,913] DEBUG: Falling back to TensorFlow client; we recommended you install the Cloud TPU client directly with pip install cloud-tpu-client.\n",
      "[2023-11-30 17:00:58,260] DEBUG: Creating converter from 7 to 5\n",
      "[2023-11-30 17:00:58,260] DEBUG: Creating converter from 5 to 7\n",
      "[2023-11-30 17:00:58,260] DEBUG: Creating converter from 7 to 5\n",
      "[2023-11-30 17:00:58,261] DEBUG: Creating converter from 5 to 7\n",
      "[2023-11-30 17:01:01,188] WARNING: From c:\\Users\\ajayr\\miniconda3\\envs\\dip_project\\lib\\site-packages\\keras\\src\\losses.py:2976: The name tf.losses.sparse_softmax_cross_entropy is deprecated. Please use tf.compat.v1.losses.sparse_softmax_cross_entropy instead.\n",
      "\n"
     ]
    },
    {
     "data": {
      "text/plain": [
       "'C:\\\\Users\\\\ajayr\\\\Documents\\\\Masters\\\\3rd Sem\\\\Digital Image Processing\\\\Project\\\\Function\\\\InputWeights_U;C:\\\\Users\\\\ajayr\\\\Documents\\\\Masters\\\\3rd Sem\\\\Digital Image Processing\\\\Project\\\\Function\\\\InputWeights;C:\\\\Users\\\\ajayr\\\\Documents\\\\MATLAB;C:\\\\Program Files\\\\MATLAB\\\\R2023a\\\\toolbox\\\\matlab\\\\addon_enable_disable_management\\\\matlab;C:\\\\Program Files\\\\MATLAB\\\\R2023a\\\\toolbox\\\\matlab\\\\addon_updates\\\\matlab;C:\\\\Program Files\\\\MATLAB\\\\R2023a\\\\toolbox\\\\matlab\\\\addons;C:\\\\Program Files\\\\MATLAB\\\\R2023a\\\\toolbox\\\\matlab\\\\addons\\\\cef;C:\\\\Program Files\\\\MATLAB\\\\R2023a\\\\toolbox\\\\matlab\\\\addons\\\\fileexchange;C:\\\\Program Files\\\\MATLAB\\\\R2023a\\\\toolbox\\\\matlab\\\\addons\\\\supportpackages;C:\\\\Program Files\\\\MATLAB\\\\R2023a\\\\toolbox\\\\matlab\\\\addons_common\\\\matlab;C:\\\\Program Files\\\\MATLAB\\\\R2023a\\\\toolbox\\\\matlab\\\\addons_install_location\\\\matlab;C:\\\\Program Files\\\\MATLAB\\\\R2023a\\\\toolbox\\\\matlab\\\\addons_product;C:\\\\Program Files\\\\MATLAB\\\\R2023a\\\\toolbox\\\\matlab\\\\addons_product_support\\\\matlab;C:\\\\Program Files\\\\MATLAB\\\\R2023a\\\\toolbox\\\\matlab\\\\addons_registry\\\\matlab;C:\\\\Program Files\\\\MATLAB\\\\R2023a\\\\toolbox\\\\matlab\\\\addons_sidepanel\\\\matlab;C:\\\\Program Files\\\\MATLAB\\\\R2023a\\\\toolbox\\\\matlab\\\\addressbar_plugins\\\\browse_for_folder_button\\\\matlab;C:\\\\Program Files\\\\MATLAB\\\\R2023a\\\\toolbox\\\\matlab\\\\addressbar_plugins\\\\cd_up_one_dir_button\\\\matlab;C:\\\\Program Files\\\\MATLAB\\\\R2023a\\\\toolbox\\\\matlab\\\\appcontainer;C:\\\\Program Files\\\\MATLAB\\\\R2023a\\\\toolbox\\\\matlab\\\\appdesigner\\\\appdesigner;C:\\\\Program Files\\\\MATLAB\\\\R2023a\\\\toolbox\\\\matlab\\\\appdesigner\\\\appdesigner\\\\interface;C:\\\\Program Files\\\\MATLAB\\\\R2023a\\\\toolbox\\\\matlab\\\\appdesigner\\\\appdesigner\\\\runtime;C:\\\\Program Files\\\\MATLAB\\\\R2023a\\\\toolbox\\\\matlab\\\\appdesigner\\\\appdesigner_api;C:\\\\Program Files\\\\MATLAB\\\\R2023a\\\\toolbox\\\\matlab\\\\appdesigner\\\\comparisons\\\\mldesktop_m;C:\\\\Program Files\\\\MATLAB\\\\R2023a\\\\toolbox\\\\matlab\\\\appdesigner\\\\matlab_integration\\\\cfb\\\\cfb;C:\\\\Program Files\\\\MATLAB\\\\R2023a\\\\toolbox\\\\matlab\\\\apps;C:\\\\Program Files\\\\MATLAB\\\\R2023a\\\\toolbox\\\\matlab\\\\audiovideo;C:\\\\Program Files\\\\MATLAB\\\\R2023a\\\\toolbox\\\\matlab\\\\automation\\\\core;C:\\\\Program Files\\\\MATLAB\\\\R2023a\\\\toolbox\\\\matlab\\\\bigdata;C:\\\\Program Files\\\\MATLAB\\\\R2023a\\\\toolbox\\\\matlab\\\\bluetooth;C:\\\\Program Files\\\\MATLAB\\\\R2023a\\\\toolbox\\\\matlab\\\\buildtool\\\\core;C:\\\\Program Files\\\\MATLAB\\\\R2023a\\\\toolbox\\\\matlab\\\\buildtool\\\\ext;C:\\\\Program Files\\\\MATLAB\\\\R2023a\\\\toolbox\\\\matlab\\\\capabilities;C:\\\\Program Files\\\\MATLAB\\\\R2023a\\\\toolbox\\\\matlab\\\\cefclient;C:\\\\Program Files\\\\MATLAB\\\\R2023a\\\\toolbox\\\\matlab\\\\codeanalysis\\\\analyzerrpt\\\\backend;C:\\\\Program Files\\\\MATLAB\\\\R2023a\\\\toolbox\\\\matlab\\\\codeanalysis\\\\reports\\\\analysis;C:\\\\Program Files\\\\MATLAB\\\\R2023a\\\\toolbox\\\\matlab\\\\codeanalysis\\\\tools;C:\\\\Program Files\\\\MATLAB\\\\R2023a\\\\toolbox\\\\matlab\\\\codetools;C:\\\\Program Files\\\\MATLAB\\\\R2023a\\\\toolbox\\\\matlab\\\\codetools\\\\embeddedoutputs;C:\\\\Program Files\\\\MATLAB\\\\R2023a\\\\toolbox\\\\matlab\\\\codetools\\\\embeddedoutputs\\\\DataToolsRegistration;C:\\\\Program Files\\\\MATLAB\\\\R2023a\\\\toolbox\\\\matlab\\\\codetools\\\\liveapps;C:\\\\Program Files\\\\MATLAB\\\\R2023a\\\\toolbox\\\\matlab\\\\configtools;C:\\\\Program Files\\\\MATLAB\\\\R2023a\\\\toolbox\\\\matlab\\\\connector2\\\\binary;C:\\\\Program Files\\\\MATLAB\\\\R2023a\\\\toolbox\\\\matlab\\\\connector2\\\\common;C:\\\\Program Files\\\\MATLAB\\\\R2023a\\\\toolbox\\\\matlab\\\\connector2\\\\configuration;C:\\\\Program Files\\\\MATLAB\\\\R2023a\\\\toolbox\\\\matlab\\\\connector2\\\\connector;C:\\\\Program Files\\\\MATLAB\\\\R2023a\\\\toolbox\\\\matlab\\\\connector2\\\\editor;C:\\\\Program Files\\\\MATLAB\\\\R2023a\\\\toolbox\\\\matlab\\\\connector2\\\\figures;C:\\\\Program Files\\\\MATLAB\\\\R2023a\\\\toolbox\\\\matlab\\\\connector2\\\\http;C:\\\\Program Files\\\\MATLAB\\\\R2023a\\\\toolbox\\\\matlab\\\\connector2\\\\interpreter;C:\\\\Program Files\\\\MATLAB\\\\R2023a\\\\toolbox\\\\matlab\\\\connector2\\\\logger;C:\\\\Program Files\\\\MATLAB\\\\R2023a\\\\toolbox\\\\matlab\\\\connector2\\\\messageservice;C:\\\\Program Files\\\\MATLAB\\\\R2023a\\\\toolbox\\\\matlab\\\\connector2\\\\mgg;C:\\\\Program Files\\\\MATLAB\\\\R2023a\\\\toolbox\\\\matlab\\\\connector2\\\\nativebridge;C:\\\\Program Files\\\\MATLAB\\\\R2023a\\\\toolbox\\\\matlab\\\\connector2\\\\restmatlab;C:\\\\Program Files\\\\MATLAB\\\\R2023a\\\\toolbox\\\\matlab\\\\connector2\\\\session;C:\\\\Program Files\\\\MATLAB\\\\R2023a\\\\toolbox\\\\matlab\\\\connector2\\\\shadowfiles;C:\\\\Program Files\\\\MATLAB\\\\R2023a\\\\toolbox\\\\matlab\\\\connector2\\\\webwindow\\\\m;C:\\\\Program Files\\\\MATLAB\\\\R2023a\\\\toolbox\\\\matlab\\\\connector2\\\\worker;C:\\\\Program Files\\\\MATLAB\\\\R2023a\\\\toolbox\\\\matlab\\\\datafun;C:\\\\Program Files\\\\MATLAB\\\\R2023a\\\\toolbox\\\\matlab\\\\datamanager;C:\\\\Program Files\\\\MATLAB\\\\R2023a\\\\toolbox\\\\matlab\\\\datastoreio;C:\\\\Program Files\\\\MATLAB\\\\R2023a\\\\toolbox\\\\matlab\\\\datatools\\\\datatoolsservices\\\\matlab;C:\\\\Program Files\\\\MATLAB\\\\R2023a\\\\toolbox\\\\matlab\\\\datatools\\\\desktop_importtool\\\\matlab;C:\\\\Program Files\\\\MATLAB\\\\R2023a\\\\toolbox\\\\matlab\\\\datatools\\\\desktop_variableeditor\\\\matlab;C:\\\\Program Files\\\\MATLAB\\\\R2023a\\\\toolbox\\\\matlab\\\\datatools\\\\desktop_workspacebrowser\\\\matlab;C:\\\\Program Files\\\\MATLAB\\\\R2023a\\\\toolbox\\\\matlab\\\\datatools\\\\editorconverters\\\\matlab;C:\\\\Program Files\\\\MATLAB\\\\R2023a\\\\toolbox\\\\matlab\\\\datatools\\\\import_livetask;C:\\\\Program Files\\\\MATLAB\\\\R2023a\\\\toolbox\\\\matlab\\\\datatools\\\\importtool\\\\matlab\\\\peer;C:\\\\Program Files\\\\MATLAB\\\\R2023a\\\\toolbox\\\\matlab\\\\datatools\\\\importtool\\\\matlab\\\\server;C:\\\\Program Files\\\\MATLAB\\\\R2023a\\\\toolbox\\\\matlab\\\\datatools\\\\inspector\\\\matlab;C:\\\\Program Files\\\\MATLAB\\\\R2023a\\\\toolbox\\\\matlab\\\\datatools\\\\inspector\\\\registration;C:\\\\Program Files\\\\MATLAB\\\\R2023a\\\\toolbox\\\\matlab\\\\datatools\\\\matlab_integration\\\\cfb\\\\matlab;C:\\\\Program Files\\\\MATLAB\\\\R2023a\\\\toolbox\\\\matlab\\\\datatools\\\\media_widgets\\\\matlab;C:\\\\Program Files\\\\MATLAB\\\\R2023a\\\\toolbox\\\\matlab\\\\datatools\\\\peermodel_mcos\\\\matlab;C:\\\\Program Files\\\\MATLAB\\\\R2023a\\\\toolbox\\\\matlab\\\\datatools\\\\plotstab\\\\matlab;C:\\\\Program Files\\\\MATLAB\\\\R2023a\\\\toolbox\\\\matlab\\\\datatools\\\\preprocessing;C:\\\\Program Files\\\\MATLAB\\\\R2023a\\\\toolbox\\\\matlab\\\\datatools\\\\variableeditor\\\\matlab;C:\\\\Program Files\\\\MATLAB\\\\R2023a\\\\toolbox\\\\matlab\\\\datatools\\\\widgets\\\\matlab;C:\\\\Program Files\\\\MATLAB\\\\R2023a\\\\toolbox\\\\matlab\\\\datatools\\\\workspacebrowser\\\\matlab;C:\\\\Program Files\\\\MATLAB\\\\R2023a\\\\toolbox\\\\matlab\\\\datatypes;C:\\\\Program Files\\\\MATLAB\\\\R2023a\\\\toolbox\\\\matlab\\\\datatypes\\\\applyfuns;C:\\\\Program Files\\\\MATLAB\\\\R2023a\\\\toolbox\\\\matlab\\\\datatypes\\\\calendarDuration;C:\\\\Program Files\\\\MATLAB\\\\R2023a\\\\toolbox\\\\matlab\\\\datatypes\\\\categorical;C:\\\\Program Files\\\\MATLAB\\\\R2023a\\\\toolbox\\\\matlab\\\\datatypes\\\\cell;C:\\\\Program Files\\\\MATLAB\\\\R2023a\\\\toolbox\\\\matlab\\\\datatypes\\\\cell_nonlibmatlab;C:\\\\Program Files\\\\MATLAB\\\\R2023a\\\\toolbox\\\\matlab\\\\datatypes\\\\codegen\\\\categorical;C:\\\\Program Files\\\\MATLAB\\\\R2023a\\\\toolbox\\\\matlab\\\\datatypes\\\\codegen\\\\datetime;C:\\\\Program Files\\\\MATLAB\\\\R2023a\\\\toolbox\\\\matlab\\\\datatypes\\\\codegen\\\\duration;C:\\\\Program Files\\\\MATLAB\\\\R2023a\\\\toolbox\\\\matlab\\\\datatypes\\\\codegen\\\\tabular;C:\\\\Program Files\\\\MATLAB\\\\R2023a\\\\toolbox\\\\matlab\\\\datatypes\\\\datetime;C:\\\\Program Files\\\\MATLAB\\\\R2023a\\\\toolbox\\\\matlab\\\\datatypes\\\\datetime_nonlibmatlab;C:\\\\Program Files\\\\MATLAB\\\\R2023a\\\\toolbox\\\\matlab\\\\datatypes\\\\dictionary;C:\\\\Program Files\\\\MATLAB\\\\R2023a\\\\toolbox\\\\matlab\\\\datatypes\\\\duration;C:\\\\Program Files\\\\MATLAB\\\\R2023a\\\\toolbox\\\\matlab\\\\datatypes\\\\missing;C:\\\\Program Files\\\\MATLAB\\\\R2023a\\\\toolbox\\\\matlab\\\\datatypes\\\\shared\\\\codegen;C:\\\\Program Files\\\\MATLAB\\\\R2023a\\\\toolbox\\\\matlab\\\\datatypes\\\\shared\\\\matlab_datatypes;C:\\\\Program Files\\\\MATLAB\\\\R2023a\\\\toolbox\\\\matlab\\\\datatypes\\\\struct;C:\\\\Program Files\\\\MATLAB\\\\R2023a\\\\toolbox\\\\matlab\\\\datatypes\\\\tabular;C:\\\\Program Files\\\\MATLAB\\\\R2023a\\\\toolbox\\\\matlab\\\\dataui;C:\\\\Program Files\\\\MATLAB\\\\R2023a\\\\toolbox\\\\matlab\\\\ddux;C:\\\\Program Files\\\\MATLAB\\\\R2023a\\\\toolbox\\\\matlab\\\\debugger;C:\\\\Program Files\\\\MATLAB\\\\R2023a\\\\toolbox\\\\matlab\\\\demos;C:\\\\Program Files\\\\MATLAB\\\\R2023a\\\\toolbox\\\\matlab\\\\dependency\\\\analysis;C:\\\\Program Files\\\\MATLAB\\\\R2023a\\\\toolbox\\\\matlab\\\\dependency\\\\app;C:\\\\Program Files\\\\MATLAB\\\\R2023a\\\\toolbox\\\\matlab\\\\dependency\\\\attribute;C:\\\\Program Files\\\\MATLAB\\\\R2023a\\\\toolbox\\\\matlab\\\\dependency\\\\comparisons\\\\mldesktop\\\\matlab;C:\\\\Program Files\\\\MATLAB\\\\R2023a\\\\toolbox\\\\matlab\\\\dependency\\\\matlab;C:\\\\Program Files\\\\MATLAB\\\\R2023a\\\\toolbox\\\\matlab\\\\dependency\\\\refactoring;C:\\\\Program Files\\\\MATLAB\\\\R2023a\\\\toolbox\\\\matlab\\\\dependency\\\\report;C:\\\\Program Files\\\\MATLAB\\\\R2023a\\\\toolbox\\\\matlab\\\\dependency\\\\widget\\\\progress;C:\\\\Program Files\\\\MATLAB\\\\R2023a\\\\toolbox\\\\matlab\\\\dependency\\\\widget\\\\progress_web;C:\\\\Program Files\\\\MATLAB\\\\R2023a\\\\toolbox\\\\matlab\\\\dependency\\\\widget\\\\window;C:\\\\Program Files\\\\MATLAB\\\\R2023a\\\\toolbox\\\\matlab\\\\depfun;C:\\\\Program Files\\\\MATLAB\\\\R2023a\\\\toolbox\\\\matlab\\\\editor\\\\cfb_integration\\\\editor_actions\\\\matlab;C:\\\\Program Files\\\\MATLAB\\\\R2023a\\\\toolbox\\\\matlab\\\\editor\\\\cfb_integration\\\\editor_open_action\\\\matlab;C:\\\\Program Files\\\\MATLAB\\\\R2023a\\\\toolbox\\\\matlab\\\\editor\\\\cfb_integration\\\\matlabcode_filename_validation\\\\matlab;C:\\\\Program Files\\\\MATLAB\\\\R2023a\\\\toolbox\\\\matlab\\\\editor\\\\cfb_integration\\\\matlabcode_filepreview\\\\matlab;C:\\\\Program Files\\\\MATLAB\\\\R2023a\\\\toolbox\\\\matlab\\\\editor\\\\cfb_integration\\\\matlabcode_filetype_icons\\\\matlab;C:\\\\Program Files\\\\MATLAB\\\\R2023a\\\\toolbox\\\\matlab\\\\editor\\\\cfb_integration\\\\matlabcode_filetype_labels\\\\matlab;C:\\\\Program Files\\\\MATLAB\\\\R2023a\\\\toolbox\\\\matlab\\\\editor_addons\\\\matlab_unit\\\\matlab;C:\\\\Program Files\\\\MATLAB\\\\R2023a\\\\toolbox\\\\matlab\\\\editor_addons\\\\system_object\\\\matlab;C:\\\\Program Files\\\\MATLAB\\\\R2023a\\\\toolbox\\\\matlab\\\\elfun;C:\\\\Program Files\\\\MATLAB\\\\R2023a\\\\toolbox\\\\matlab\\\\elmat;C:\\\\Program Files\\\\MATLAB\\\\R2023a\\\\toolbox\\\\matlab\\\\embeddedoutputs\\\\figureoutputs;C:\\\\Program Files\\\\MATLAB\\\\R2023a\\\\toolbox\\\\matlab\\\\embeddedoutputs\\\\outputs;C:\\\\Program Files\\\\MATLAB\\\\R2023a\\\\toolbox\\\\matlab\\\\embeddedoutputs\\\\outpututilities;C:\\\\Program Files\\\\MATLAB\\\\R2023a\\\\toolbox\\\\matlab\\\\embeddedoutputs\\\\variableoutputs;C:\\\\Program Files\\\\MATLAB\\\\R2023a\\\\toolbox\\\\matlab\\\\external\\\\engines\\\\codegen;C:\\\\Program Files\\\\MATLAB\\\\R2023a\\\\toolbox\\\\matlab\\\\external\\\\engines\\\\engine_api;C:\\\\Program Files\\\\MATLAB\\\\R2023a\\\\toolbox\\\\matlab\\\\external\\\\interfaces\\\\cpp;C:\\\\Program Files\\\\MATLAB\\\\R2023a\\\\toolbox\\\\matlab\\\\external\\\\interfaces\\\\dotnet;C:\\\\Program Files\\\\MATLAB\\\\R2023a\\\\toolbox\\\\matlab\\\\external\\\\interfaces\\\\java\\\\jmi;C:\\\\Program Files\\\\MATLAB\\\\R2023a\\\\toolbox\\\\matlab\\\\external\\\\interfaces\\\\json;C:\\\\Program Files\\\\MATLAB\\\\R2023a\\\\toolbox\\\\matlab\\\\external\\\\interfaces\\\\python;C:\\\\Program Files\\\\MATLAB\\\\R2023a\\\\toolbox\\\\matlab\\\\external\\\\interfaces\\\\webservices;C:\\\\Program Files\\\\MATLAB\\\\R2023a\\\\toolbox\\\\matlab\\\\external\\\\interfaces\\\\webservices\\\\http;C:\\\\Program Files\\\\MATLAB\\\\R2023a\\\\toolbox\\\\matlab\\\\external\\\\interfaces\\\\webservices\\\\restful;C:\\\\Program Files\\\\MATLAB\\\\R2023a\\\\toolbox\\\\matlab\\\\external\\\\interfaces\\\\webservices\\\\wsdl;C:\\\\Program Files\\\\MATLAB\\\\R2023a\\\\toolbox\\\\matlab\\\\external\\\\mex;C:\\\\Program Files\\\\MATLAB\\\\R2023a\\\\toolbox\\\\matlab\\\\file_chooser\\\\service\\\\matlab;C:\\\\Program Files\\\\MATLAB\\\\R2023a\\\\toolbox\\\\matlab\\\\filebrowser;C:\\\\Program Files\\\\MATLAB\\\\R2023a\\\\toolbox\\\\matlab\\\\filesystem\\\\default_filetype_plugins\\\\file_icon_plugin;C:\\\\Program Files\\\\MATLAB\\\\R2023a\\\\toolbox\\\\matlab\\\\filesystem\\\\default_filetype_plugins\\\\folder_icon_plugin;C:\\\\Program Files\\\\MATLAB\\\\R2023a\\\\toolbox\\\\matlab\\\\filesystem\\\\default_filetype_plugins\\\\folder_label_plugin;C:\\\\Program Files\\\\MATLAB\\\\R2023a\\\\toolbox\\\\matlab\\\\filesystem\\\\matlab_filetype_filters\\\\filetypefilters;C:\\\\Program Files\\\\MATLAB\\\\R2023a\\\\toolbox\\\\matlab\\\\filesystem\\\\services\\\\matlab;C:\\\\Program Files\\\\MATLAB\\\\R2023a\\\\toolbox\\\\matlab\\\\findfiles\\\\m;C:\\\\Program Files\\\\MATLAB\\\\R2023a\\\\toolbox\\\\matlab\\\\funfun;C:\\\\Program Files\\\\MATLAB\\\\R2023a\\\\toolbox\\\\matlab\\\\general;C:\\\\Program Files\\\\MATLAB\\\\R2023a\\\\toolbox\\\\matlab\\\\graph2d;C:\\\\Program Files\\\\MATLAB\\\\R2023a\\\\toolbox\\\\matlab\\\\graph3d;C:\\\\Program Files\\\\MATLAB\\\\R2023a\\\\toolbox\\\\matlab\\\\graphfun;C:\\\\Program Files\\\\MATLAB\\\\R2023a\\\\toolbox\\\\matlab\\\\graphfun\\\\codegen;C:\\\\Program Files\\\\MATLAB\\\\R2023a\\\\toolbox\\\\matlab\\\\graphics;C:\\\\Program Files\\\\MATLAB\\\\R2023a\\\\toolbox\\\\matlab\\\\graphics\\\\annotation;C:\\\\Program Files\\\\MATLAB\\\\R2023a\\\\toolbox\\\\matlab\\\\graphics\\\\axis;C:\\\\Program Files\\\\MATLAB\\\\R2023a\\\\toolbox\\\\matlab\\\\graphics\\\\chart;C:\\\\Program Files\\\\MATLAB\\\\R2023a\\\\toolbox\\\\matlab\\\\graphics\\\\color;C:\\\\Program Files\\\\MATLAB\\\\R2023a\\\\toolbox\\\\matlab\\\\graphics\\\\function;C:\\\\Program Files\\\\MATLAB\\\\R2023a\\\\toolbox\\\\matlab\\\\graphics\\\\hg;C:\\\\Program Files\\\\MATLAB\\\\R2023a\\\\toolbox\\\\matlab\\\\graphics\\\\illustration;C:\\\\Program Files\\\\MATLAB\\\\R2023a\\\\toolbox\\\\matlab\\\\graphics\\\\legacy;C:\\\\Program Files\\\\MATLAB\\\\R2023a\\\\toolbox\\\\matlab\\\\graphics\\\\maps;C:\\\\Program Files\\\\MATLAB\\\\R2023a\\\\toolbox\\\\matlab\\\\graphics\\\\math;C:\\\\Program Files\\\\MATLAB\\\\R2023a\\\\toolbox\\\\matlab\\\\graphics\\\\objectsystem;C:\\\\Program Files\\\\MATLAB\\\\R2023a\\\\toolbox\\\\matlab\\\\graphics\\\\obsolete;C:\\\\Program Files\\\\MATLAB\\\\R2023a\\\\toolbox\\\\matlab\\\\graphics\\\\primitive;C:\\\\Program Files\\\\MATLAB\\\\R2023a\\\\toolbox\\\\matlab\\\\graphics\\\\printing;C:\\\\Program Files\\\\MATLAB\\\\R2023a\\\\toolbox\\\\matlab\\\\guide;C:\\\\Program Files\\\\MATLAB\\\\R2023a\\\\toolbox\\\\matlab\\\\hardware\\\\shared\\\\sensors;C:\\\\Program Files\\\\MATLAB\\\\R2023a\\\\toolbox\\\\matlab\\\\hardware\\\\stubs;C:\\\\Program Files\\\\MATLAB\\\\R2023a\\\\toolbox\\\\matlab\\\\helptools;C:\\\\Program Files\\\\MATLAB\\\\R2023a\\\\toolbox\\\\matlab\\\\helptools\\\\help_static_content_deferred_services;C:\\\\Program Files\\\\MATLAB\\\\R2023a\\\\toolbox\\\\matlab\\\\helptools\\\\reference;C:\\\\Program Files\\\\MATLAB\\\\R2023a\\\\toolbox\\\\matlab\\\\helptools_js\\\\link_click_handling_docservice\\\\m;C:\\\\Program Files\\\\MATLAB\\\\R2023a\\\\toolbox\\\\matlab\\\\helptools_js\\\\matlab_colon_docservice\\\\m;C:\\\\Program Files\\\\MATLAB\\\\R2023a\\\\toolbox\\\\matlab\\\\htmlviewer;C:\\\\Program Files\\\\MATLAB\\\\R2023a\\\\toolbox\\\\matlab\\\\icons;C:\\\\Program Files\\\\MATLAB\\\\R2023a\\\\toolbox\\\\matlab\\\\images;C:\\\\Program Files\\\\MATLAB\\\\R2023a\\\\toolbox\\\\matlab\\\\imagesci;C:\\\\Program Files\\\\MATLAB\\\\R2023a\\\\toolbox\\\\matlab\\\\indentcode\\\\m;C:\\\\Program Files\\\\MATLAB\\\\R2023a\\\\toolbox\\\\matlab\\\\indexing;C:\\\\Program Files\\\\MATLAB\\\\R2023a\\\\toolbox\\\\matlab\\\\io\\\\archive;C:\\\\Program Files\\\\MATLAB\\\\R2023a\\\\toolbox\\\\matlab\\\\io\\\\arrow;C:\\\\Program Files\\\\MATLAB\\\\R2023a\\\\toolbox\\\\matlab\\\\io\\\\common;C:\\\\Program Files\\\\MATLAB\\\\R2023a\\\\toolbox\\\\matlab\\\\io\\\\datastore\\\\array;C:\\\\Program Files\\\\MATLAB\\\\R2023a\\\\toolbox\\\\matlab\\\\io\\\\datastore\\\\common;C:\\\\Program Files\\\\MATLAB\\\\R2023a\\\\toolbox\\\\matlab\\\\io\\\\datastore\\\\file;C:\\\\Program Files\\\\MATLAB\\\\R2023a\\\\toolbox\\\\matlab\\\\io\\\\datastore\\\\fileset;C:\\\\Program Files\\\\MATLAB\\\\R2023a\\\\toolbox\\\\matlab\\\\io\\\\datastore\\\\image;C:\\\\Program Files\\\\MATLAB\\\\R2023a\\\\toolbox\\\\matlab\\\\io\\\\datastore\\\\keyvalue;C:\\\\Program Files\\\\MATLAB\\\\R2023a\\\\toolbox\\\\matlab\\\\io\\\\datastore\\\\legacy;C:\\\\Program Files\\\\MATLAB\\\\R2023a\\\\toolbox\\\\matlab\\\\io\\\\datastore\\\\parquet;C:\\\\Program Files\\\\MATLAB\\\\R2023a\\\\toolbox\\\\matlab\\\\io\\\\datastore\\\\range;C:\\\\Program Files\\\\MATLAB\\\\R2023a\\\\toolbox\\\\matlab\\\\io\\\\datastore\\\\spreadsheet;C:\\\\Program Files\\\\MATLAB\\\\R2023a\\\\toolbox\\\\matlab\\\\io\\\\datastore\\\\tall;C:\\\\Program Files\\\\MATLAB\\\\R2023a\\\\toolbox\\\\matlab\\\\io\\\\datastore\\\\text;C:\\\\Program Files\\\\MATLAB\\\\R2023a\\\\toolbox\\\\matlab\\\\io\\\\filesystem;C:\\\\Program Files\\\\MATLAB\\\\R2023a\\\\toolbox\\\\matlab\\\\io\\\\filter;C:\\\\Program Files\\\\MATLAB\\\\R2023a\\\\toolbox\\\\matlab\\\\io\\\\ftp;C:\\\\Program Files\\\\MATLAB\\\\R2023a\\\\toolbox\\\\matlab\\\\io\\\\functions;C:\\\\Program Files\\\\MATLAB\\\\R2023a\\\\toolbox\\\\matlab\\\\io\\\\html;C:\\\\Program Files\\\\MATLAB\\\\R2023a\\\\toolbox\\\\matlab\\\\io\\\\interface;C:\\\\Program Files\\\\MATLAB\\\\R2023a\\\\toolbox\\\\matlab\\\\io\\\\json;C:\\\\Program Files\\\\MATLAB\\\\R2023a\\\\toolbox\\\\matlab\\\\io\\\\parquet;C:\\\\Program Files\\\\MATLAB\\\\R2023a\\\\toolbox\\\\matlab\\\\io\\\\spreadsheet;C:\\\\Program Files\\\\MATLAB\\\\R2023a\\\\toolbox\\\\matlab\\\\io\\\\text;C:\\\\Program Files\\\\MATLAB\\\\R2023a\\\\toolbox\\\\matlab\\\\io\\\\word;C:\\\\Program Files\\\\MATLAB\\\\R2023a\\\\toolbox\\\\matlab\\\\io\\\\xml;C:\\\\Program Files\\\\MATLAB\\\\R2023a\\\\toolbox\\\\matlab\\\\iofun;C:\\\\Program Files\\\\MATLAB\\\\R2023a\\\\toolbox\\\\matlab\\\\iot;C:\\\\Program Files\\\\MATLAB\\\\R2023a\\\\toolbox\\\\matlab\\\\iot\\\\connectivity;C:\\\\Program Files\\\\MATLAB\\\\R2023a\\\\toolbox\\\\matlab\\\\lang;C:\\\\Program Files\\\\MATLAB\\\\R2023a\\\\toolbox\\\\matlab\\\\licensing;C:\\\\Program Files\\\\MATLAB\\\\R2023a\\\\toolbox\\\\matlab\\\\login;C:\\\\Program Files\\\\MATLAB\\\\R2023a\\\\toolbox\\\\matlab\\\\mapreduceio;C:\\\\Program Files\\\\MATLAB\\\\R2023a\\\\toolbox\\\\matlab\\\\maps;C:\\\\Program Files\\\\MATLAB\\\\R2023a\\\\toolbox\\\\matlab\\\\matfun;C:\\\\Program Files\\\\MATLAB\\\\R2023a\\\\toolbox\\\\matlab\\\\matlab_preferences\\\\matlab;C:\\\\Program Files\\\\MATLAB\\\\R2023a\\\\toolbox\\\\matlab\\\\matlab_suggestion_models;C:\\\\Program Files\\\\MATLAB\\\\R2023a\\\\toolbox\\\\matlab\\\\mex;C:\\\\Program Files\\\\MATLAB\\\\R2023a\\\\toolbox\\\\matlab\\\\mpm;C:\\\\Program Files\\\\MATLAB\\\\R2023a\\\\toolbox\\\\matlab\\\\mvm;C:\\\\Program Files\\\\MATLAB\\\\R2023a\\\\toolbox\\\\matlab\\\\network;C:\\\\Program Files\\\\MATLAB\\\\R2023a\\\\toolbox\\\\matlab\\\\networklib;C:\\\\Program Files\\\\MATLAB\\\\R2023a\\\\toolbox\\\\matlab\\\\networklib\\\\apps\\\\tcpclientapp;C:\\\\Program Files\\\\MATLAB\\\\R2023a\\\\toolbox\\\\matlab\\\\notifications\\\\notifications_center_ui\\\\matlab;C:\\\\Program Files\\\\MATLAB\\\\R2023a\\\\toolbox\\\\matlab\\\\object_serialization_customization;C:\\\\Program Files\\\\MATLAB\\\\R2023a\\\\toolbox\\\\matlab\\\\ops;C:\\\\Program Files\\\\MATLAB\\\\R2023a\\\\toolbox\\\\matlab\\\\optimfun;C:\\\\Program Files\\\\MATLAB\\\\R2023a\\\\toolbox\\\\matlab\\\\optimfun\\\\gui;C:\\\\Program Files\\\\MATLAB\\\\R2023a\\\\toolbox\\\\matlab\\\\oss;C:\\\\Program Files\\\\MATLAB\\\\R2023a\\\\toolbox\\\\matlab\\\\parallel;C:\\\\Program Files\\\\MATLAB\\\\R2023a\\\\toolbox\\\\matlab\\\\pathtool;C:\\\\Program Files\\\\MATLAB\\\\R2023a\\\\toolbox\\\\matlab\\\\pathtool_sidepanel\\\\matlab;C:\\\\Program Files\\\\MATLAB\\\\R2023a\\\\toolbox\\\\matlab\\\\plottools;C:\\\\Program Files\\\\MATLAB\\\\R2023a\\\\toolbox\\\\matlab\\\\plottools\\\\inspector;C:\\\\Program Files\\\\MATLAB\\\\R2023a\\\\toolbox\\\\matlab\\\\polyfun;C:\\\\Program Files\\\\MATLAB\\\\R2023a\\\\toolbox\\\\matlab\\\\preferences\\\\addonspanel;C:\\\\Program Files\\\\MATLAB\\\\R2023a\\\\toolbox\\\\matlab\\\\preferences\\\\fonts;C:\\\\Program Files\\\\MATLAB\\\\R2023a\\\\toolbox\\\\matlab\\\\preferences\\\\variablesprefpanel\\\\variablesprefpanel-ui;C:\\\\Program Files\\\\MATLAB\\\\R2023a\\\\toolbox\\\\matlab\\\\preferences\\\\workspaceprefpanel\\\\workspaceprefpanel-ui;C:\\\\Program Files\\\\MATLAB\\\\R2023a\\\\toolbox\\\\matlab\\\\profileviewer;C:\\\\Program Files\\\\MATLAB\\\\R2023a\\\\toolbox\\\\matlab\\\\project;C:\\\\Program Files\\\\MATLAB\\\\R2023a\\\\toolbox\\\\matlab\\\\project\\\\api;C:\\\\Program Files\\\\MATLAB\\\\R2023a\\\\toolbox\\\\matlab\\\\project\\\\cfbfileinfoplugin\\\\matlab;C:\\\\Program Files\\\\MATLAB\\\\R2023a\\\\toolbox\\\\matlab\\\\project\\\\comparison;C:\\\\Program Files\\\\MATLAB\\\\R2023a\\\\toolbox\\\\matlab\\\\project\\\\comparisons\\\\mldesktop\\\\matlab;C:\\\\Program Files\\\\MATLAB\\\\R2023a\\\\toolbox\\\\matlab\\\\project\\\\creation\\\\fromarchive;C:\\\\Program Files\\\\MATLAB\\\\R2023a\\\\toolbox\\\\matlab\\\\project\\\\creation\\\\fromfile;C:\\\\Program Files\\\\MATLAB\\\\R2023a\\\\toolbox\\\\matlab\\\\project\\\\dependency;C:\\\\Program Files\\\\MATLAB\\\\R2023a\\\\toolbox\\\\matlab\\\\project\\\\example;C:\\\\Program Files\\\\MATLAB\\\\R2023a\\\\toolbox\\\\matlab\\\\project\\\\examplesetup;C:\\\\Program Files\\\\MATLAB\\\\R2023a\\\\toolbox\\\\matlab\\\\project\\\\preferences;C:\\\\Program Files\\\\MATLAB\\\\R2023a\\\\toolbox\\\\matlab\\\\project\\\\refactoring;C:\\\\Program Files\\\\MATLAB\\\\R2023a\\\\toolbox\\\\matlab\\\\project\\\\toolstrip;C:\\\\Program Files\\\\MATLAB\\\\R2023a\\\\toolbox\\\\matlab\\\\project\\\\unsavedchanges;C:\\\\Program Files\\\\MATLAB\\\\R2023a\\\\toolbox\\\\matlab\\\\project\\\\views\\\\action_web\\\\project-action-ui\\\\matlab;C:\\\\Program Files\\\\MATLAB\\\\R2023a\\\\toolbox\\\\matlab\\\\project\\\\views\\\\core;C:\\\\Program Files\\\\MATLAB\\\\R2023a\\\\toolbox\\\\matlab\\\\project\\\\views\\\\file;C:\\\\Program Files\\\\MATLAB\\\\R2023a\\\\toolbox\\\\matlab\\\\project\\\\views\\\\labels;C:\\\\Program Files\\\\MATLAB\\\\R2023a\\\\toolbox\\\\matlab\\\\project\\\\views\\\\references;C:\\\\Program Files\\\\MATLAB\\\\R2023a\\\\toolbox\\\\matlab\\\\project\\\\views\\\\unsavedchanges;C:\\\\Program Files\\\\MATLAB\\\\R2023a\\\\toolbox\\\\matlab\\\\project\\\\views\\\\util;C:\\\\Program Files\\\\MATLAB\\\\R2023a\\\\toolbox\\\\matlab\\\\randfun;C:\\\\Program Files\\\\MATLAB\\\\R2023a\\\\toolbox\\\\matlab\\\\registration_framework\\\\matlab;C:\\\\Program Files\\\\MATLAB\\\\R2023a\\\\toolbox\\\\matlab\\\\remotedata\\\\hdfs;C:\\\\Program Files\\\\MATLAB\\\\R2023a\\\\toolbox\\\\matlab\\\\reports;C:\\\\Program Files\\\\MATLAB\\\\R2023a\\\\toolbox\\\\matlab\\\\resources_folder;C:\\\\Program Files\\\\MATLAB\\\\R2023a\\\\toolbox\\\\matlab\\\\richcontent_preview\\\\matlab;C:\\\\Program Files\\\\MATLAB\\\\R2023a\\\\toolbox\\\\matlab\\\\rtc_addons\\\\rtclanguagesupport\\\\rtc_clike_language_support\\\\matlab;C:\\\\Program Files\\\\MATLAB\\\\R2023a\\\\toolbox\\\\matlab\\\\rtc_addons\\\\rtclanguagesupport\\\\rtc_java_language_support\\\\matlab;C:\\\\Program Files\\\\MATLAB\\\\R2023a\\\\toolbox\\\\matlab\\\\rtc_addons\\\\rtclanguagesupport\\\\rtc_js_language_support\\\\matlab;C:\\\\Program Files\\\\MATLAB\\\\R2023a\\\\toolbox\\\\matlab\\\\rtc_addons\\\\rtclanguagesupport\\\\rtc_mlike_language_support\\\\matlab;C:\\\\Program Files\\\\MATLAB\\\\R2023a\\\\toolbox\\\\matlab\\\\rtc_addons\\\\rtclanguagesupport\\\\rtc_python_language_support\\\\matlab;C:\\\\Program Files\\\\MATLAB\\\\R2023a\\\\toolbox\\\\matlab\\\\rtc_addons\\\\rtclanguagesupport\\\\rtc_tlc_language_support\\\\matlab;C:\\\\Program Files\\\\MATLAB\\\\R2023a\\\\toolbox\\\\matlab\\\\rtc_addons\\\\rtclanguagesupport\\\\rtc_verilog_language_support\\\\matlab;C:\\\\Program Files\\\\MATLAB\\\\R2023a\\\\toolbox\\\\matlab\\\\rtc_addons\\\\rtclanguagesupport\\\\rtc_vhdl_language_support\\\\matlab;C:\\\\Program Files\\\\MATLAB\\\\R2023a\\\\toolbox\\\\matlab\\\\rtc_addons\\\\rtclanguagesupport\\\\rtc_xml_language_support\\\\matlab;C:\\\\Program Files\\\\MATLAB\\\\R2023a\\\\toolbox\\\\matlab\\\\scribe;C:\\\\Program Files\\\\MATLAB\\\\R2023a\\\\toolbox\\\\matlab\\\\scribe\\\\obsolete;C:\\\\Program Files\\\\MATLAB\\\\R2023a\\\\toolbox\\\\matlab\\\\serial;C:\\\\Program Files\\\\MATLAB\\\\R2023a\\\\toolbox\\\\matlab\\\\serialport;C:\\\\Program Files\\\\MATLAB\\\\R2023a\\\\toolbox\\\\matlab\\\\serialport\\\\apps\\\\serialportapp;C:\\\\Program Files\\\\MATLAB\\\\R2023a\\\\toolbox\\\\matlab\\\\sparfun;C:\\\\Program Files\\\\MATLAB\\\\R2023a\\\\toolbox\\\\matlab\\\\specfun;C:\\\\Program Files\\\\MATLAB\\\\R2023a\\\\toolbox\\\\matlab\\\\specgraph;C:\\\\Program Files\\\\MATLAB\\\\R2023a\\\\toolbox\\\\matlab\\\\storage\\\\matlabdrive;C:\\\\Program Files\\\\MATLAB\\\\R2023a\\\\toolbox\\\\matlab\\\\storage\\\\mldrivedesktop;C:\\\\Program Files\\\\MATLAB\\\\R2023a\\\\toolbox\\\\matlab\\\\storage\\\\mldrivejsplugins\\\\matlabdrive_js\\\\matlab;C:\\\\Program Files\\\\MATLAB\\\\R2023a\\\\toolbox\\\\matlab\\\\storage\\\\mldrivejsplugins\\\\share_folder_preview\\\\matlab;C:\\\\Program Files\\\\MATLAB\\\\R2023a\\\\toolbox\\\\matlab\\\\storage\\\\mldrivejsplugins\\\\sharing_actions\\\\matlab;C:\\\\Program Files\\\\MATLAB\\\\R2023a\\\\toolbox\\\\matlab\\\\storage\\\\mldrivejsplugins\\\\tripwire_button\\\\matlab;C:\\\\Program Files\\\\MATLAB\\\\R2023a\\\\toolbox\\\\matlab\\\\strfun;C:\\\\Program Files\\\\MATLAB\\\\R2023a\\\\toolbox\\\\matlab\\\\strfun\\\\pattern;C:\\\\Program Files\\\\MATLAB\\\\R2023a\\\\toolbox\\\\matlab\\\\strfun\\\\validators;C:\\\\Program Files\\\\MATLAB\\\\R2023a\\\\toolbox\\\\matlab\\\\supportpackagemanagement;C:\\\\Program Files\\\\MATLAB\\\\R2023a\\\\toolbox\\\\matlab\\\\system;C:\\\\Program Files\\\\MATLAB\\\\R2023a\\\\toolbox\\\\matlab\\\\system\\\\editor;C:\\\\Program Files\\\\MATLAB\\\\R2023a\\\\toolbox\\\\matlab\\\\taskpool;C:\\\\Program Files\\\\MATLAB\\\\R2023a\\\\toolbox\\\\matlab\\\\testframework\\\\measurement\\\\core;C:\\\\Program Files\\\\MATLAB\\\\R2023a\\\\toolbox\\\\matlab\\\\testframework\\\\measurement\\\\ext;C:\\\\Program Files\\\\MATLAB\\\\R2023a\\\\toolbox\\\\matlab\\\\testframework\\\\mock\\\\core;C:\\\\Program Files\\\\MATLAB\\\\R2023a\\\\toolbox\\\\matlab\\\\testframework\\\\mock\\\\core\\\\masked;C:\\\\Program Files\\\\MATLAB\\\\R2023a\\\\toolbox\\\\matlab\\\\testframework\\\\obsolete;C:\\\\Program Files\\\\MATLAB\\\\R2023a\\\\toolbox\\\\matlab\\\\testframework\\\\performance\\\\core;C:\\\\Program Files\\\\MATLAB\\\\R2023a\\\\toolbox\\\\matlab\\\\testframework\\\\performance\\\\ext;C:\\\\Program Files\\\\MATLAB\\\\R2023a\\\\toolbox\\\\matlab\\\\testframework\\\\shared\\\\testbrowser\\\\testbrowser-mi;C:\\\\Program Files\\\\MATLAB\\\\R2023a\\\\toolbox\\\\matlab\\\\testframework\\\\testbrowser\\\\testbrowser-mi;C:\\\\Program Files\\\\MATLAB\\\\R2023a\\\\toolbox\\\\matlab\\\\testframework\\\\ui\\\\toolstrip;C:\\\\Program Files\\\\MATLAB\\\\R2023a\\\\toolbox\\\\matlab\\\\testframework\\\\uiautomation;C:\\\\Program Files\\\\MATLAB\\\\R2023a\\\\toolbox\\\\matlab\\\\testframework\\\\uitest;C:\\\\Program Files\\\\MATLAB\\\\R2023a\\\\toolbox\\\\matlab\\\\testframework\\\\unittest\\\\core;C:\\\\Program Files\\\\MATLAB\\\\R2023a\\\\toolbox\\\\matlab\\\\testframework\\\\unittest\\\\core\\\\masked;C:\\\\Program Files\\\\MATLAB\\\\R2023a\\\\toolbox\\\\matlab\\\\testframework\\\\unittest\\\\ext;C:\\\\Program Files\\\\MATLAB\\\\R2023a\\\\toolbox\\\\matlab\\\\testframework\\\\unittest\\\\parallel;C:\\\\Program Files\\\\MATLAB\\\\R2023a\\\\toolbox\\\\matlab\\\\timefun;C:\\\\Program Files\\\\MATLAB\\\\R2023a\\\\toolbox\\\\matlab\\\\timeseries;C:\\\\Program Files\\\\MATLAB\\\\R2023a\\\\toolbox\\\\matlab\\\\toolbox_packaging;C:\\\\Program Files\\\\MATLAB\\\\R2023a\\\\toolbox\\\\matlab\\\\toolboxmanagement\\\\matlab_api;C:\\\\Program Files\\\\MATLAB\\\\R2023a\\\\toolbox\\\\matlab\\\\toolstrip;C:\\\\Program Files\\\\MATLAB\\\\R2023a\\\\toolbox\\\\matlab\\\\uicomponents\\\\uicomponents;C:\\\\Program Files\\\\MATLAB\\\\R2023a\\\\toolbox\\\\matlab\\\\uicomponents\\\\uicomponents\\\\databrowser;C:\\\\Program Files\\\\MATLAB\\\\R2023a\\\\toolbox\\\\matlab\\\\uicomponents\\\\uicomponents\\\\graphics;C:\\\\Program Files\\\\MATLAB\\\\R2023a\\\\toolbox\\\\matlab\\\\uicomponents\\\\uicomponents\\\\plugin\\\\appdesigner;C:\\\\Program Files\\\\MATLAB\\\\R2023a\\\\toolbox\\\\matlab\\\\uicomponents\\\\uicomponents\\\\style;C:\\\\Program Files\\\\MATLAB\\\\R2023a\\\\toolbox\\\\matlab\\\\uicomponents\\\\uicomponents\\\\uicontrol;C:\\\\Program Files\\\\MATLAB\\\\R2023a\\\\toolbox\\\\matlab\\\\uitools;C:\\\\Program Files\\\\MATLAB\\\\R2023a\\\\toolbox\\\\matlab\\\\uitools\\\\mofigurehelperfunc;C:\\\\Program Files\\\\MATLAB\\\\R2023a\\\\toolbox\\\\matlab\\\\uitools\\\\obsolete;C:\\\\Program Files\\\\MATLAB\\\\R2023a\\\\toolbox\\\\matlab\\\\uitools\\\\uicomponents\\\\components;C:\\\\Program Files\\\\MATLAB\\\\R2023a\\\\toolbox\\\\matlab\\\\updateinstaller;C:\\\\Program Files\\\\MATLAB\\\\R2023a\\\\toolbox\\\\matlab\\\\urlmanager;C:\\\\Program Files\\\\MATLAB\\\\R2023a\\\\toolbox\\\\matlab\\\\validators;C:\\\\Program Files\\\\MATLAB\\\\R2023a\\\\toolbox\\\\matlab\\\\verctrl;C:\\\\Program Files\\\\MATLAB\\\\R2023a\\\\toolbox\\\\matlab\\\\webcam;C:\\\\Program Files\\\\MATLAB\\\\R2023a\\\\toolbox\\\\matlab\\\\winfun;C:\\\\Program Files\\\\MATLAB\\\\R2023a\\\\toolbox\\\\matlab\\\\winfun\\\\NET;C:\\\\Program Files\\\\MATLAB\\\\R2023a\\\\toolbox\\\\local;C:\\\\Program Files\\\\MATLAB\\\\R2023a\\\\toolbox\\\\simulink\\\\IconEditor;C:\\\\Program Files\\\\MATLAB\\\\R2023a\\\\toolbox\\\\simulink\\\\advisor;C:\\\\Program Files\\\\MATLAB\\\\R2023a\\\\toolbox\\\\simulink\\\\advisor\\\\advisor_common\\\\ml;C:\\\\Program Files\\\\MATLAB\\\\R2023a\\\\toolbox\\\\simulink\\\\advisor\\\\advisor_ui\\\\ml;C:\\\\Program Files\\\\MATLAB\\\\R2023a\\\\toolbox\\\\simulink\\\\batchsim;C:\\\\Program Files\\\\MATLAB\\\\R2023a\\\\toolbox\\\\simulink\\\\blockSupport;C:\\\\Program Files\\\\MATLAB\\\\R2023a\\\\toolbox\\\\simulink\\\\blocks;C:\\\\Program Files\\\\MATLAB\\\\R2023a\\\\toolbox\\\\simulink\\\\blocks\\\\library;C:\\\\Program Files\\\\MATLAB\\\\R2023a\\\\toolbox\\\\simulink\\\\blocks\\\\library\\\\simulinkcoder;C:\\\\Program Files\\\\MATLAB\\\\R2023a\\\\toolbox\\\\simulink\\\\blocks\\\\obsolete;C:\\\\Program Files\\\\MATLAB\\\\R2023a\\\\toolbox\\\\simulink\\\\blocks\\\\pid_Images;C:\\\\Program Files\\\\MATLAB\\\\R2023a\\\\toolbox\\\\simulink\\\\blocks\\\\sb2sl;C:\\\\Program Files\\\\MATLAB\\\\R2023a\\\\toolbox\\\\simulink\\\\comparisons\\\\blockdiagram\\\\matlab;C:\\\\Program Files\\\\MATLAB\\\\R2023a\\\\toolbox\\\\simulink\\\\comparisons\\\\dict\\\\mldesktop\\\\matlab;C:\\\\Program Files\\\\MATLAB\\\\R2023a\\\\toolbox\\\\simulink\\\\comparisons\\\\model\\\\edits;C:\\\\Program Files\\\\MATLAB\\\\R2023a\\\\toolbox\\\\simulink\\\\comparisons\\\\model\\\\mldesktop\\\\matlab;C:\\\\Program Files\\\\MATLAB\\\\R2023a\\\\toolbox\\\\simulink\\\\comparisons\\\\rptgen;C:\\\\Program Files\\\\MATLAB\\\\R2023a\\\\toolbox\\\\simulink\\\\comparisons\\\\scope\\\\matlab;C:\\\\Program Files\\\\MATLAB\\\\R2023a\\\\toolbox\\\\simulink\\\\compiled_model_interface;C:\\\\Program Files\\\\MATLAB\\\\R2023a\\\\toolbox\\\\simulink\\\\components;C:\\\\Program Files\\\\MATLAB\\\\R2023a\\\\toolbox\\\\simulink\\\\components\\\\images;C:\\\\Program Files\\\\MATLAB\\\\R2023a\\\\toolbox\\\\simulink\\\\configset\\\\derived;C:\\\\Program Files\\\\MATLAB\\\\R2023a\\\\toolbox\\\\simulink\\\\configset\\\\m;C:\\\\Program Files\\\\MATLAB\\\\R2023a\\\\toolbox\\\\simulink\\\\configset_context\\\\m;C:\\\\Program Files\\\\MATLAB\\\\R2023a\\\\toolbox\\\\simulink\\\\constraint_manager\\\\matlab;C:\\\\Program Files\\\\MATLAB\\\\R2023a\\\\toolbox\\\\simulink\\\\core\\\\api;C:\\\\Program Files\\\\MATLAB\\\\R2023a\\\\toolbox\\\\simulink\\\\core\\\\callbacktracing;C:\\\\Program Files\\\\MATLAB\\\\R2023a\\\\toolbox\\\\simulink\\\\core\\\\clone_detection;C:\\\\Program Files\\\\MATLAB\\\\R2023a\\\\toolbox\\\\simulink\\\\core\\\\dataclasses;C:\\\\Program Files\\\\MATLAB\\\\R2023a\\\\toolbox\\\\simulink\\\\core\\\\dataobjectwizard;C:\\\\Program Files\\\\MATLAB\\\\R2023a\\\\toolbox\\\\simulink\\\\core\\\\dialogs;C:\\\\Program Files\\\\MATLAB\\\\R2023a\\\\toolbox\\\\simulink\\\\core\\\\general;C:\\\\Program Files\\\\MATLAB\\\\R2023a\\\\toolbox\\\\simulink\\\\core\\\\librarylinktool;C:\\\\Program Files\\\\MATLAB\\\\R2023a\\\\toolbox\\\\simulink\\\\core\\\\model_transformer;C:\\\\Program Files\\\\MATLAB\\\\R2023a\\\\toolbox\\\\simulink\\\\core\\\\sfuncheck;C:\\\\Program Files\\\\MATLAB\\\\R2023a\\\\toolbox\\\\simulink\\\\core\\\\slresolve;C:\\\\Program Files\\\\MATLAB\\\\R2023a\\\\toolbox\\\\simulink\\\\core\\\\sortingcheck;C:\\\\Program Files\\\\MATLAB\\\\R2023a\\\\toolbox\\\\simulink\\\\core\\\\units;C:\\\\Program Files\\\\MATLAB\\\\R2023a\\\\toolbox\\\\simulink\\\\dependency\\\\analysis;C:\\\\Program Files\\\\MATLAB\\\\R2023a\\\\toolbox\\\\simulink\\\\dependency\\\\app;C:\\\\Program Files\\\\MATLAB\\\\R2023a\\\\toolbox\\\\simulink\\\\dependency\\\\buses;C:\\\\Program Files\\\\MATLAB\\\\R2023a\\\\toolbox\\\\simulink\\\\dependency\\\\refactoring;C:\\\\Program Files\\\\MATLAB\\\\R2023a\\\\toolbox\\\\simulink\\\\diagram\\\\mi\\\\m;C:\\\\Program Files\\\\MATLAB\\\\R2023a\\\\toolbox\\\\simulink\\\\engine_interface;C:\\\\Program Files\\\\MATLAB\\\\R2023a\\\\toolbox\\\\simulink\\\\file_preview_plugin\\\\matlab;C:\\\\Program Files\\\\MATLAB\\\\R2023a\\\\toolbox\\\\simulink\\\\fixedandfloat;C:\\\\Program Files\\\\MATLAB\\\\R2023a\\\\toolbox\\\\simulink\\\\fixedandfloat\\\\fxpdemos;C:\\\\Program Files\\\\MATLAB\\\\R2023a\\\\toolbox\\\\simulink\\\\fixedandfloat\\\\obsolete;C:\\\\Program Files\\\\MATLAB\\\\R2023a\\\\toolbox\\\\simulink\\\\hmi;C:\\\\Program Files\\\\MATLAB\\\\R2023a\\\\toolbox\\\\simulink\\\\hmi_lib;C:\\\\Program Files\\\\MATLAB\\\\R2023a\\\\toolbox\\\\simulink\\\\legacycode;C:\\\\Program Files\\\\MATLAB\\\\R2023a\\\\toolbox\\\\simulink\\\\libcodegen_harness\\\\libcodegen_harness;C:\\\\Program Files\\\\MATLAB\\\\R2023a\\\\toolbox\\\\simulink\\\\maskeditor\\\\matlab;C:\\\\Program Files\\\\MATLAB\\\\R2023a\\\\toolbox\\\\simulink\\\\mex;C:\\\\Program Files\\\\MATLAB\\\\R2023a\\\\toolbox\\\\simulink\\\\modelfinder\\\\src;C:\\\\Program Files\\\\MATLAB\\\\R2023a\\\\toolbox\\\\simulink\\\\multisim\\\\design;C:\\\\Program Files\\\\MATLAB\\\\R2023a\\\\toolbox\\\\simulink\\\\multisim\\\\main;C:\\\\Program Files\\\\MATLAB\\\\R2023a\\\\toolbox\\\\simulink\\\\project\\\\settings\\\\matlab;C:\\\\Program Files\\\\MATLAB\\\\R2023a\\\\toolbox\\\\simulink\\\\project\\\\simulinkeditor;C:\\\\Program Files\\\\MATLAB\\\\R2023a\\\\toolbox\\\\simulink\\\\project\\\\unsavedchanges;C:\\\\Program Files\\\\MATLAB\\\\R2023a\\\\toolbox\\\\simulink\\\\protected_model\\\\core\\\\core;C:\\\\Program Files\\\\MATLAB\\\\R2023a\\\\toolbox\\\\simulink\\\\record_playback;C:\\\\Program Files\\\\MATLAB\\\\R2023a\\\\toolbox\\\\simulink\\\\record_playback\\\\src;C:\\\\Program Files\\\\MATLAB\\\\R2023a\\\\toolbox\\\\simulink\\\\record_playback\\\\ui\\\\studio\\\\config\\\\m;C:\\\\Program Files\\\\MATLAB\\\\R2023a\\\\toolbox\\\\simulink\\\\record_playback_lib;C:\\\\Program Files\\\\MATLAB\\\\R2023a\\\\toolbox\\\\simulink\\\\runtime_callbacks;C:\\\\Program Files\\\\MATLAB\\\\R2023a\\\\toolbox\\\\simulink\\\\sdi;C:\\\\Program Files\\\\MATLAB\\\\R2023a\\\\toolbox\\\\simulink\\\\search\\\\mi\\\\m;C:\\\\Program Files\\\\MATLAB\\\\R2023a\\\\toolbox\\\\simulink\\\\simdemos;C:\\\\Program Files\\\\MATLAB\\\\R2023a\\\\toolbox\\\\simulink\\\\simdemos\\\\aerospace;C:\\\\Program Files\\\\MATLAB\\\\R2023a\\\\toolbox\\\\simulink\\\\simdemos\\\\automotive;C:\\\\Program Files\\\\MATLAB\\\\R2023a\\\\toolbox\\\\simulink\\\\simdemos\\\\automotive\\\\powerwindow;C:\\\\Program Files\\\\MATLAB\\\\R2023a\\\\toolbox\\\\simulink\\\\simdemos\\\\dataclasses;C:\\\\Program Files\\\\MATLAB\\\\R2023a\\\\toolbox\\\\simulink\\\\simdemos\\\\simfeatures;C:\\\\Program Files\\\\MATLAB\\\\R2023a\\\\toolbox\\\\simulink\\\\simdemos\\\\simfeatures\\\\datadictionary;C:\\\\Program Files\\\\MATLAB\\\\R2023a\\\\toolbox\\\\simulink\\\\simdemos\\\\simfeatures\\\\modelreference;C:\\\\Program Files\\\\MATLAB\\\\R2023a\\\\toolbox\\\\simulink\\\\simdemos\\\\simgeneral;C:\\\\Program Files\\\\MATLAB\\\\R2023a\\\\toolbox\\\\simulink\\\\simmanager\\\\fileIO;C:\\\\Program Files\\\\MATLAB\\\\R2023a\\\\toolbox\\\\simulink\\\\simulationinput;C:\\\\Program Files\\\\MATLAB\\\\R2023a\\\\toolbox\\\\simulink\\\\simulationinput_deployed;C:\\\\Program Files\\\\MATLAB\\\\R2023a\\\\toolbox\\\\simulink\\\\simulationinput_desktop;C:\\\\Program Files\\\\MATLAB\\\\R2023a\\\\toolbox\\\\simulink\\\\simulationinput_proxy;C:\\\\Program Files\\\\MATLAB\\\\R2023a\\\\toolbox\\\\simulink\\\\simulationoutput;C:\\\\Program Files\\\\MATLAB\\\\R2023a\\\\toolbox\\\\simulink\\\\simulink;C:\\\\Program Files\\\\MATLAB\\\\R2023a\\\\toolbox\\\\simulink\\\\simulink\\\\blocksetdesigner\\\\m;C:\\\\Program Files\\\\MATLAB\\\\R2023a\\\\toolbox\\\\simulink\\\\simulink\\\\iodata\\\\iofile;C:\\\\Program Files\\\\MATLAB\\\\R2023a\\\\toolbox\\\\simulink\\\\simulink\\\\iodata\\\\ioformat;C:\\\\Program Files\\\\MATLAB\\\\R2023a\\\\toolbox\\\\simulink\\\\simulink\\\\iodata\\\\iomap;C:\\\\Program Files\\\\MATLAB\\\\R2023a\\\\toolbox\\\\simulink\\\\simulink\\\\modeladvisor;C:\\\\Program Files\\\\MATLAB\\\\R2023a\\\\toolbox\\\\simulink\\\\simulink\\\\modeladvisor\\\\fixpt;C:\\\\Program Files\\\\MATLAB\\\\R2023a\\\\toolbox\\\\simulink\\\\simulink\\\\modeladvisor\\\\misra;C:\\\\Program Files\\\\MATLAB\\\\R2023a\\\\toolbox\\\\simulink\\\\simulink\\\\modeladvisor\\\\security;C:\\\\Program Files\\\\MATLAB\\\\R2023a\\\\toolbox\\\\simulink\\\\simulink\\\\performance;C:\\\\Program Files\\\\MATLAB\\\\R2023a\\\\toolbox\\\\simulink\\\\simulink\\\\performance\\\\performancea;C:\\\\Program Files\\\\MATLAB\\\\R2023a\\\\toolbox\\\\simulink\\\\simulink\\\\sl_structure_analysis;C:\\\\Program Files\\\\MATLAB\\\\R2023a\\\\toolbox\\\\simulink\\\\simulink\\\\slblocksetsdk;C:\\\\Program Files\\\\MATLAB\\\\R2023a\\\\toolbox\\\\simulink\\\\simulink\\\\slprofiler;C:\\\\Program Files\\\\MATLAB\\\\R2023a\\\\toolbox\\\\simulink\\\\simulink\\\\slproject;C:\\\\Program Files\\\\MATLAB\\\\R2023a\\\\toolbox\\\\simulink\\\\simulink\\\\slproject\\\\examples;C:\\\\Program Files\\\\MATLAB\\\\R2023a\\\\toolbox\\\\simulink\\\\simulink\\\\slproject\\\\simulink;C:\\\\Program Files\\\\MATLAB\\\\R2023a\\\\toolbox\\\\simulink\\\\simulink\\\\slproject\\\\templates;C:\\\\Program Files\\\\MATLAB\\\\R2023a\\\\toolbox\\\\simulink\\\\simulink\\\\sltopo;C:\\\\Program Files\\\\MATLAB\\\\R2023a\\\\toolbox\\\\simulink\\\\simulink\\\\templates\\\\core;C:\\\\Program Files\\\\MATLAB\\\\R2023a\\\\toolbox\\\\simulink\\\\simulink\\\\templates\\\\product;C:\\\\Program Files\\\\MATLAB\\\\R2023a\\\\toolbox\\\\simulink\\\\simulink\\\\upgradeadvisor;C:\\\\Program Files\\\\MATLAB\\\\R2023a\\\\toolbox\\\\simulink\\\\simulink_data_dictionary\\\\matlab;C:\\\\Program Files\\\\MATLAB\\\\R2023a\\\\toolbox\\\\simulink\\\\simulink_data_dictionary\\\\sldd;C:\\\\Program Files\\\\MATLAB\\\\R2023a\\\\toolbox\\\\simulink\\\\simulink_export_methods;C:\\\\Program Files\\\\MATLAB\\\\R2023a\\\\toolbox\\\\simulink\\\\simulink_hmi_slexportprevious;C:\\\\Program Files\\\\MATLAB\\\\R2023a\\\\toolbox\\\\simulink\\\\simulink_udd;C:\\\\Program Files\\\\MATLAB\\\\R2023a\\\\toolbox\\\\simulink\\\\sl_async_streaming;C:\\\\Program Files\\\\MATLAB\\\\R2023a\\\\toolbox\\\\simulink\\\\sl_graphics_services\\\\tools;C:\\\\Program Files\\\\MATLAB\\\\R2023a\\\\toolbox\\\\simulink\\\\sl_interface_dict\\\\api;C:\\\\Program Files\\\\MATLAB\\\\R2023a\\\\toolbox\\\\simulink\\\\sl_interface_dict\\\\editor;C:\\\\Program Files\\\\MATLAB\\\\R2023a\\\\toolbox\\\\simulink\\\\sl_interface_dict\\\\migrator;C:\\\\Program Files\\\\MATLAB\\\\R2023a\\\\toolbox\\\\simulink\\\\sl_solver_profiler;C:\\\\Program Files\\\\MATLAB\\\\R2023a\\\\toolbox\\\\simulink\\\\sl_suggestions\\\\m;C:\\\\Program Files\\\\MATLAB\\\\R2023a\\\\toolbox\\\\simulink\\\\sl_suggestions_mvn_bridge\\\\db;C:\\\\Program Files\\\\MATLAB\\\\R2023a\\\\toolbox\\\\simulink\\\\sl_upgrade_engine;C:\\\\Program Files\\\\MATLAB\\\\R2023a\\\\toolbox\\\\simulink\\\\sl_valuesrc;C:\\\\Program Files\\\\MATLAB\\\\R2023a\\\\toolbox\\\\simulink\\\\slcheck_exclusioneditor;C:\\\\Program Files\\\\MATLAB\\\\R2023a\\\\toolbox\\\\simulink\\\\slcheck_ma_config_editor;C:\\\\Program Files\\\\MATLAB\\\\R2023a\\\\toolbox\\\\simulink\\\\slexportprevious;C:\\\\Program Files\\\\MATLAB\\\\R2023a\\\\toolbox\\\\simulink\\\\slsa\\\\parametertuning;C:\\\\Program Files\\\\MATLAB\\\\R2023a\\\\toolbox\\\\simulink\\\\sltemplate;C:\\\\Program Files\\\\MATLAB\\\\R2023a\\\\toolbox\\\\simulink\\\\sltemplate\\\\toolstrip_plugin\\\\m;C:\\\\Program Files\\\\MATLAB\\\\R2023a\\\\toolbox\\\\simulink\\\\slx\\\\m;C:\\\\Program Files\\\\MATLAB\\\\R2023a\\\\toolbox\\\\simulink\\\\sta;C:\\\\Program Files\\\\MATLAB\\\\R2023a\\\\toolbox\\\\simulink\\\\sta\\\\derivedSignals;C:\\\\Program Files\\\\MATLAB\\\\R2023a\\\\toolbox\\\\simulink\\\\sta\\\\editor;C:\\\\Program Files\\\\MATLAB\\\\R2023a\\\\toolbox\\\\simulink\\\\sta\\\\editor\\\\ui;C:\\\\Program Files\\\\MATLAB\\\\R2023a\\\\toolbox\\\\simulink\\\\sta\\\\repository;C:\\\\Program Files\\\\MATLAB\\\\R2023a\\\\toolbox\\\\simulink\\\\sta\\\\repository\\\\util;C:\\\\Program Files\\\\MATLAB\\\\R2023a\\\\toolbox\\\\simulink\\\\sta\\\\scenarioconnector;C:\\\\Program Files\\\\MATLAB\\\\R2023a\\\\toolbox\\\\simulink\\\\sta\\\\scenarioconnector\\\\ui;C:\\\\Program Files\\\\MATLAB\\\\R2023a\\\\toolbox\\\\simulink\\\\sta\\\\scenarioconnector\\\\ui\\\\toolstrip\\\\filesection;C:\\\\Program Files\\\\MATLAB\\\\R2023a\\\\toolbox\\\\simulink\\\\sta\\\\scenarioconnector\\\\ui\\\\toolstrip\\\\modelsection;C:\\\\Program Files\\\\MATLAB\\\\R2023a\\\\toolbox\\\\simulink\\\\sta\\\\sl_sta_editor_block;C:\\\\Program Files\\\\MATLAB\\\\R2023a\\\\toolbox\\\\simulink\\\\sta\\\\sl_sta_webscope;C:\\\\Program Files\\\\MATLAB\\\\R2023a\\\\toolbox\\\\simulink\\\\sta\\\\sourceBlocks;C:\\\\Program Files\\\\MATLAB\\\\R2023a\\\\toolbox\\\\simulink\\\\sta\\\\ui;C:\\\\Program Files\\\\MATLAB\\\\R2023a\\\\toolbox\\\\simulink\\\\sta\\\\ui\\\\mapping;C:\\\\Program Files\\\\MATLAB\\\\R2023a\\\\toolbox\\\\simulink\\\\sta\\\\ui\\\\mapping\\\\callbacks;C:\\\\Program Files\\\\MATLAB\\\\R2023a\\\\toolbox\\\\simulink\\\\sta\\\\ui\\\\mapping\\\\util;C:\\\\Program Files\\\\MATLAB\\\\R2023a\\\\toolbox\\\\simulink\\\\sta\\\\ui\\\\preferences\\\\mapper;C:\\\\Program Files\\\\MATLAB\\\\R2023a\\\\toolbox\\\\simulink\\\\sta\\\\ui\\\\toolstrip;C:\\\\Program Files\\\\MATLAB\\\\R2023a\\\\toolbox\\\\simulink\\\\sta\\\\ui\\\\toolstrip\\\\help;C:\\\\Program Files\\\\MATLAB\\\\R2023a\\\\toolbox\\\\simulink\\\\sta\\\\ui\\\\toolstrip\\\\open;C:\\\\Program Files\\\\MATLAB\\\\R2023a\\\\toolbox\\\\simulink\\\\sta\\\\ui\\\\toolstrip\\\\open\\\\streaming;C:\\\\Program Files\\\\MATLAB\\\\R2023a\\\\toolbox\\\\simulink\\\\sta\\\\ui\\\\toolstrip\\\\report;C:\\\\Program Files\\\\MATLAB\\\\R2023a\\\\toolbox\\\\simulink\\\\sta\\\\ui\\\\toolstrip\\\\session;C:\\\\Program Files\\\\MATLAB\\\\R2023a\\\\toolbox\\\\simulink\\\\sysarch\\\\sysarch;C:\\\\Program Files\\\\MATLAB\\\\R2023a\\\\toolbox\\\\simulink\\\\timinglegend\\\\m;C:\\\\Program Files\\\\MATLAB\\\\R2023a\\\\toolbox\\\\simulink\\\\timinglegend\\\\web\\\\m;C:\\\\Program Files\\\\MATLAB\\\\R2023a\\\\toolbox\\\\simulink\\\\types;C:\\\\Program Files\\\\MATLAB\\\\R2023a\\\\toolbox\\\\simulink\\\\ui\\\\library_browser\\\\core\\\\m;C:\\\\Program Files\\\\MATLAB\\\\R2023a\\\\toolbox\\\\simulink\\\\ui\\\\matlabjsd;C:\\\\Program Files\\\\MATLAB\\\\R2023a\\\\toolbox\\\\simulink\\\\ui\\\\printing;C:\\\\Program Files\\\\MATLAB\\\\R2023a\\\\toolbox\\\\simulink\\\\ui\\\\sl_studio\\\\sl_studio;C:\\\\Program Files\\\\MATLAB\\\\R2023a\\\\toolbox\\\\simulink\\\\ui\\\\studio\\\\config\\\\m;C:\\\\Program Files\\\\MATLAB\\\\R2023a\\\\toolbox\\\\simulink\\\\ui\\\\sysdoc\\\\core;C:\\\\Program Files\\\\MATLAB\\\\R2023a\\\\toolbox\\\\simulink\\\\webblocks\\\\core\\\\m;C:\\\\Program Files\\\\MATLAB\\\\R2023a\\\\toolbox\\\\simulink\\\\webblocks\\\\customwebblocks\\\\m;C:\\\\Program Files\\\\MATLAB\\\\R2023a\\\\toolbox\\\\simulink\\\\webblocks\\\\customwebblocks_lib;C:\\\\Program Files\\\\MATLAB\\\\R2023a\\\\toolbox\\\\stateflow\\\\coder;C:\\\\Program Files\\\\MATLAB\\\\R2023a\\\\toolbox\\\\stateflow\\\\modeladvisor;C:\\\\Program Files\\\\MATLAB\\\\R2023a\\\\toolbox\\\\stateflow\\\\reqtable\\\\analysis\\\\mfiles;C:\\\\Program Files\\\\MATLAB\\\\R2023a\\\\toolbox\\\\stateflow\\\\reqtable\\\\semantics\\\\mfiles;C:\\\\Program Files\\\\MATLAB\\\\R2023a\\\\toolbox\\\\stateflow\\\\sf_file_preview_plugin\\\\matlab;C:\\\\Program Files\\\\MATLAB\\\\R2023a\\\\toolbox\\\\stateflow\\\\sftemplates;C:\\\\Program Files\\\\MATLAB\\\\R2023a\\\\toolbox\\\\stateflow\\\\stateflow;C:\\\\Program Files\\\\MATLAB\\\\R2023a\\\\toolbox\\\\stateflow\\\\stateflow_lib;C:\\\\Program Files\\\\MATLAB\\\\R2023a\\\\toolbox\\\\stateflow\\\\ui\\\\studio\\\\config\\\\m;C:\\\\Program Files\\\\MATLAB\\\\R2023a\\\\toolbox\\\\rtw\\\\accel;C:\\\\Program Files\\\\MATLAB\\\\R2023a\\\\toolbox\\\\rtw\\\\rtw;C:\\\\Program Files\\\\MATLAB\\\\R2023a\\\\toolbox\\\\rtw\\\\rtwdemos;C:\\\\Program Files\\\\MATLAB\\\\R2023a\\\\toolbox\\\\rtw\\\\rtwdemos\\\\rsimdemos;C:\\\\Program Files\\\\MATLAB\\\\R2023a\\\\toolbox\\\\rtw\\\\targets\\\\AUTOSAR\\\\AUTOSAR;C:\\\\Program Files\\\\MATLAB\\\\R2023a\\\\toolbox\\\\rtw\\\\targets\\\\AUTOSAR\\\\AUTOSAR\\\\dataclasses;C:\\\\Program Files\\\\MATLAB\\\\R2023a\\\\toolbox\\\\rtw\\\\targets\\\\AUTOSAR\\\\AUTOSAR\\\\profiles;C:\\\\Program Files\\\\MATLAB\\\\R2023a\\\\toolbox\\\\rtw\\\\targets\\\\asap2\\\\asap2;C:\\\\Program Files\\\\MATLAB\\\\R2023a\\\\toolbox\\\\rtw\\\\targets\\\\asap2\\\\asap2\\\\dataclasses;C:\\\\Program Files\\\\MATLAB\\\\R2023a\\\\toolbox\\\\rtw\\\\targets\\\\asap2\\\\asap2\\\\user;C:\\\\Program Files\\\\MATLAB\\\\R2023a\\\\toolbox\\\\rtw\\\\targets\\\\common\\\\can\\\\blocks;C:\\\\Program Files\\\\MATLAB\\\\R2023a\\\\toolbox\\\\rtw\\\\targets\\\\common\\\\can\\\\blocks\\\\dataclasses;C:\\\\Program Files\\\\MATLAB\\\\R2023a\\\\toolbox\\\\rtw\\\\targets\\\\common\\\\tgtcommon;C:\\\\Program Files\\\\MATLAB\\\\R2023a\\\\toolbox\\\\rtw\\\\targets\\\\connectivity;C:\\\\Program Files\\\\MATLAB\\\\R2023a\\\\toolbox\\\\rtw\\\\targets\\\\ecoder;C:\\\\Program Files\\\\MATLAB\\\\R2023a\\\\toolbox\\\\rtw\\\\targets\\\\ecoder\\\\ecoderdemos;C:\\\\Program Files\\\\MATLAB\\\\R2023a\\\\toolbox\\\\rtw\\\\targets\\\\ecoder\\\\ecoderdemos\\\\dataclasses;C:\\\\Program Files\\\\MATLAB\\\\R2023a\\\\toolbox\\\\rtw\\\\targets\\\\mpt;C:\\\\Program Files\\\\MATLAB\\\\R2023a\\\\toolbox\\\\rtw\\\\targets\\\\mpt\\\\mpt;C:\\\\Program Files\\\\MATLAB\\\\R2023a\\\\toolbox\\\\rtw\\\\targets\\\\mpt\\\\user_specific;C:\\\\Program Files\\\\MATLAB\\\\R2023a\\\\toolbox\\\\rtw\\\\targets\\\\pil;C:\\\\Program Files\\\\MATLAB\\\\R2023a\\\\extern\\\\examples\\\\compiler;C:\\\\Program Files\\\\MATLAB\\\\R2023a\\\\extern\\\\examples\\\\compilersdk;C:\\\\Program Files\\\\MATLAB\\\\R2023a\\\\platform\\\\pf_matlab_impl\\\\m;C:\\\\Program Files\\\\MATLAB\\\\R2023a\\\\toolbox\\\\alm\\\\artifact_service\\\\ml;C:\\\\Program Files\\\\MATLAB\\\\R2023a\\\\toolbox\\\\alm\\\\mcos_utils\\\\ml;C:\\\\Program Files\\\\MATLAB\\\\R2023a\\\\toolbox\\\\alm\\\\project_services\\\\ml;C:\\\\Program Files\\\\MATLAB\\\\R2023a\\\\toolbox\\\\alm\\\\trace_plugin_interface\\\\ml;C:\\\\Program Files\\\\MATLAB\\\\R2023a\\\\toolbox\\\\alm\\\\trace_plugins\\\\coder_trace_plugins\\\\ml;C:\\\\Program Files\\\\MATLAB\\\\R2023a\\\\toolbox\\\\alm\\\\trace_plugins\\\\mtest_trace_plugins\\\\ml;C:\\\\Program Files\\\\MATLAB\\\\R2023a\\\\toolbox\\\\alm\\\\trace_plugins\\\\req_trace_plugins\\\\ml;C:\\\\Program Files\\\\MATLAB\\\\R2023a\\\\toolbox\\\\alm\\\\trace_plugins\\\\simulink_trace_plugins\\\\ml;C:\\\\Program Files\\\\MATLAB\\\\R2023a\\\\toolbox\\\\alm\\\\trace_plugins\\\\slcov_trace_plugins\\\\ml;C:\\\\Program Files\\\\MATLAB\\\\R2023a\\\\toolbox\\\\alm\\\\trace_plugins\\\\sltest_trace_plugins\\\\ml;C:\\\\Program Files\\\\MATLAB\\\\R2023a\\\\toolbox\\\\alm\\\\trace_plugins\\\\stateflow_trace_plugins\\\\ml;C:\\\\Program Files\\\\MATLAB\\\\R2023a\\\\toolbox\\\\alm\\\\trace_plugins\\\\systemcomposer_trace_plugins\\\\ml;C:\\\\Program Files\\\\MATLAB\\\\R2023a\\\\toolbox\\\\alm\\\\ui_service\\\\ml;C:\\\\Program Files\\\\MATLAB\\\\R2023a\\\\toolbox\\\\audio\\\\audio;C:\\\\Program Files\\\\MATLAB\\\\R2023a\\\\toolbox\\\\audio\\\\audio\\\\compiled;C:\\\\Program Files\\\\MATLAB\\\\R2023a\\\\toolbox\\\\audio\\\\audioapps\\\\audioapps;C:\\\\Program Files\\\\MATLAB\\\\R2023a\\\\toolbox\\\\audio\\\\audioapps\\\\audioapputils;C:\\\\Program Files\\\\MATLAB\\\\R2023a\\\\toolbox\\\\audio\\\\audioexamples;C:\\\\Program Files\\\\MATLAB\\\\R2023a\\\\toolbox\\\\audio\\\\audioutilities;C:\\\\Program Files\\\\MATLAB\\\\R2023a\\\\toolbox\\\\audio\\\\audioutilities\\\\audioinit;C:\\\\Program Files\\\\MATLAB\\\\R2023a\\\\toolbox\\\\audio\\\\audioutilities\\\\audiomex;C:\\\\Program Files\\\\MATLAB\\\\R2023a\\\\toolbox\\\\audio\\\\samples;C:\\\\Program Files\\\\MATLAB\\\\R2023a\\\\toolbox\\\\audio\\\\templates;C:\\\\Program Files\\\\MATLAB\\\\R2023a\\\\toolbox\\\\autoblks\\\\autoblksreference;C:\\\\Program Files\\\\MATLAB\\\\R2023a\\\\toolbox\\\\autoblks\\\\autoblksreference\\\\images;C:\\\\Program Files\\\\MATLAB\\\\R2023a\\\\toolbox\\\\autoblks\\\\autoblksshared;C:\\\\Program Files\\\\MATLAB\\\\R2023a\\\\toolbox\\\\autoblks\\\\autoblksshared\\\\mbc;C:\\\\Program Files\\\\MATLAB\\\\R2023a\\\\toolbox\\\\autoblks\\\\autoblksshared\\\\mbctemplates;C:\\\\Program Files\\\\MATLAB\\\\R2023a\\\\toolbox\\\\autoblks_utils;C:\\\\Program Files\\\\MATLAB\\\\R2023a\\\\toolbox\\\\bioinfo\\\\biodemos;C:\\\\Program Files\\\\MATLAB\\\\R2023a\\\\toolbox\\\\bioinfo\\\\bioinfo;C:\\\\Program Files\\\\MATLAB\\\\R2023a\\\\toolbox\\\\bioinfo\\\\bioinfodata;C:\\\\Program Files\\\\MATLAB\\\\R2023a\\\\toolbox\\\\bioinfo\\\\biolearning;C:\\\\Program Files\\\\MATLAB\\\\R2023a\\\\toolbox\\\\bioinfo\\\\biomatrices;C:\\\\Program Files\\\\MATLAB\\\\R2023a\\\\toolbox\\\\bioinfo\\\\bowtie2;C:\\\\Program Files\\\\MATLAB\\\\R2023a\\\\toolbox\\\\bioinfo\\\\bwa;C:\\\\Program Files\\\\MATLAB\\\\R2023a\\\\toolbox\\\\bioinfo\\\\cufflinks;C:\\\\Program Files\\\\MATLAB\\\\R2023a\\\\toolbox\\\\bioinfo\\\\graphtheory;C:\\\\Program Files\\\\MATLAB\\\\R2023a\\\\toolbox\\\\bioinfo\\\\mass_spec;C:\\\\Program Files\\\\MATLAB\\\\R2023a\\\\toolbox\\\\bioinfo\\\\microarray;C:\\\\Program Files\\\\MATLAB\\\\R2023a\\\\toolbox\\\\bioinfo\\\\pipeline;C:\\\\Program Files\\\\MATLAB\\\\R2023a\\\\toolbox\\\\bioinfo\\\\proteins;C:\\\\Program Files\\\\MATLAB\\\\R2023a\\\\toolbox\\\\classdiagram\\\\app\\\\core;C:\\\\Program Files\\\\MATLAB\\\\R2023a\\\\toolbox\\\\classdiagram\\\\app\\\\mcos;C:\\\\Program Files\\\\MATLAB\\\\R2023a\\\\toolbox\\\\clone_detection\\\\clonedetection_exclusion_editor\\\\clonedetection_exclusion_editor_m;C:\\\\Program Files\\\\MATLAB\\\\R2023a\\\\toolbox\\\\clone_detection_app\\\\m;C:\\\\Program Files\\\\MATLAB\\\\R2023a\\\\toolbox\\\\clonedetection;C:\\\\Program Files\\\\MATLAB\\\\R2023a\\\\toolbox\\\\coder\\\\advisor;C:\\\\Program Files\\\\MATLAB\\\\R2023a\\\\toolbox\\\\coder\\\\clang_api\\\\interface\\\\ml;C:\\\\Program Files\\\\MATLAB\\\\R2023a\\\\toolbox\\\\coder\\\\codedescriptor_core;C:\\\\Program Files\\\\MATLAB\\\\R2023a\\\\toolbox\\\\coder\\\\codegendemos;C:\\\\Program Files\\\\MATLAB\\\\R2023a\\\\toolbox\\\\coder\\\\coder;C:\\\\Program Files\\\\MATLAB\\\\R2023a\\\\toolbox\\\\coder\\\\coder_halide;C:\\\\Program Files\\\\MATLAB\\\\R2023a\\\\toolbox\\\\coder\\\\coderapp\\\\cfb\\\\matlab;C:\\\\Program Files\\\\MATLAB\\\\R2023a\\\\toolbox\\\\coder\\\\coderapp\\\\coderconfig\\\\ml;C:\\\\Program Files\\\\MATLAB\\\\R2023a\\\\toolbox\\\\coder\\\\coderapp\\\\common\\\\ml;C:\\\\Program Files\\\\MATLAB\\\\R2023a\\\\toolbox\\\\coder\\\\coderapp\\\\config\\\\ml;C:\\\\Program Files\\\\MATLAB\\\\R2023a\\\\toolbox\\\\coder\\\\coderapp\\\\configui\\\\ml;C:\\\\Program Files\\\\MATLAB\\\\R2023a\\\\toolbox\\\\coder\\\\coderapp\\\\core\\\\ml;C:\\\\Program Files\\\\MATLAB\\\\R2023a\\\\toolbox\\\\coder\\\\coderapp\\\\emlwhich\\\\ml;C:\\\\Program Files\\\\MATLAB\\\\R2023a\\\\toolbox\\\\coder\\\\coderapp\\\\fixedpoint_config\\\\ml;C:\\\\Program Files\\\\MATLAB\\\\R2023a\\\\toolbox\\\\coder\\\\coderapp\\\\form\\\\ml;C:\\\\Program Files\\\\MATLAB\\\\R2023a\\\\toolbox\\\\coder\\\\coderapp\\\\screener\\\\ml;C:\\\\Program Files\\\\MATLAB\\\\R2023a\\\\toolbox\\\\coder\\\\coderapp\\\\screener_cfb\\\\matlab;C:\\\\Program Files\\\\MATLAB\\\\R2023a\\\\toolbox\\\\coder\\\\coderapp\\\\screener_globallist\\\\ml;C:\\\\Program Files\\\\MATLAB\\\\R2023a\\\\toolbox\\\\coder\\\\coderapp\\\\types\\\\ml;C:\\\\Program Files\\\\MATLAB\\\\R2023a\\\\toolbox\\\\coder\\\\coderapp\\\\utils\\\\ml;C:\\\\Program Files\\\\MATLAB\\\\R2023a\\\\toolbox\\\\coder\\\\compile;C:\\\\Program Files\\\\MATLAB\\\\R2023a\\\\toolbox\\\\coder\\\\compile\\\\codebuildtests;C:\\\\Program Files\\\\MATLAB\\\\R2023a\\\\toolbox\\\\coder\\\\compile\\\\tools\\\\registry;C:\\\\Program Files\\\\MATLAB\\\\R2023a\\\\toolbox\\\\coder\\\\connectivity;C:\\\\Program Files\\\\MATLAB\\\\R2023a\\\\toolbox\\\\coder\\\\connectivity_core;C:\\\\Program Files\\\\MATLAB\\\\R2023a\\\\toolbox\\\\coder\\\\connectivity_targetservices\\\\common;C:\\\\Program Files\\\\MATLAB\\\\R2023a\\\\toolbox\\\\coder\\\\connectivity_targetservices\\\\connectivityconfig;C:\\\\Program Files\\\\MATLAB\\\\R2023a\\\\toolbox\\\\coder\\\\connectivity_targetservices\\\\dispatch;C:\\\\Program Files\\\\MATLAB\\\\R2023a\\\\toolbox\\\\coder\\\\connectivity_targetservices\\\\targetframework;C:\\\\Program Files\\\\MATLAB\\\\R2023a\\\\toolbox\\\\coder\\\\coverage;C:\\\\Program Files\\\\MATLAB\\\\R2023a\\\\toolbox\\\\coder\\\\embeddedcoder;C:\\\\Program Files\\\\MATLAB\\\\R2023a\\\\toolbox\\\\coder\\\\embeddedcoder_templates;C:\\\\Program Files\\\\MATLAB\\\\R2023a\\\\toolbox\\\\coder\\\\extmode\\\\xcp_classic_trig\\\\plugin\\\\m;C:\\\\Program Files\\\\MATLAB\\\\R2023a\\\\toolbox\\\\coder\\\\float2fixed;C:\\\\Program Files\\\\MATLAB\\\\R2023a\\\\toolbox\\\\coder\\\\float2fixed\\\\custom_logger;C:\\\\Program Files\\\\MATLAB\\\\R2023a\\\\toolbox\\\\coder\\\\float2fixed\\\\demos;C:\\\\Program Files\\\\MATLAB\\\\R2023a\\\\toolbox\\\\coder\\\\float2fixed\\\\dmm_emlauthoring;C:\\\\Program Files\\\\MATLAB\\\\R2023a\\\\toolbox\\\\coder\\\\float2fixed\\\\mathlib;C:\\\\Program Files\\\\MATLAB\\\\R2023a\\\\toolbox\\\\coder\\\\foundation;C:\\\\Program Files\\\\MATLAB\\\\R2023a\\\\toolbox\\\\coder\\\\foundation\\\\build\\\\tools\\\\registry;C:\\\\Program Files\\\\MATLAB\\\\R2023a\\\\toolbox\\\\coder\\\\foundation\\\\templates;C:\\\\Program Files\\\\MATLAB\\\\R2023a\\\\toolbox\\\\coder\\\\foundation\\\\tfl;C:\\\\Program Files\\\\MATLAB\\\\R2023a\\\\toolbox\\\\coder\\\\foundation\\\\tfl\\\\AUTOSAR\\\\AUTOSAR4p0\\\\IFL;C:\\\\Program Files\\\\MATLAB\\\\R2023a\\\\toolbox\\\\coder\\\\foundation\\\\tfl\\\\AUTOSAR\\\\AUTOSAR4p0\\\\IFX;C:\\\\Program Files\\\\MATLAB\\\\R2023a\\\\toolbox\\\\coder\\\\foundation\\\\tfl\\\\gui;C:\\\\Program Files\\\\MATLAB\\\\R2023a\\\\toolbox\\\\coder\\\\half;C:\\\\Program Files\\\\MATLAB\\\\R2023a\\\\toolbox\\\\coder\\\\matlabcoder;C:\\\\Program Files\\\\MATLAB\\\\R2023a\\\\toolbox\\\\coder\\\\matlabcoder\\\\templates;C:\\\\Program Files\\\\MATLAB\\\\R2023a\\\\toolbox\\\\coder\\\\objectives;C:\\\\Program Files\\\\MATLAB\\\\R2023a\\\\toolbox\\\\coder\\\\profile;C:\\\\Program Files\\\\MATLAB\\\\R2023a\\\\toolbox\\\\coder\\\\rtiostream;C:\\\\Program Files\\\\MATLAB\\\\R2023a\\\\toolbox\\\\coder\\\\simulinkcoder;C:\\\\Program Files\\\\MATLAB\\\\R2023a\\\\toolbox\\\\coder\\\\simulinkcoder\\\\cgv\\\\API;C:\\\\Program Files\\\\MATLAB\\\\R2023a\\\\toolbox\\\\coder\\\\simulinkcoder\\\\targets;C:\\\\Program Files\\\\MATLAB\\\\R2023a\\\\toolbox\\\\coder\\\\simulinkcoder\\\\toolstripHW\\\\m;C:\\\\Program Files\\\\MATLAB\\\\R2023a\\\\toolbox\\\\coder\\\\simulinkcoder\\\\xil\\\\toolstrip\\\\m;C:\\\\Program Files\\\\MATLAB\\\\R2023a\\\\toolbox\\\\coder\\\\simulinkcoder_app\\\\code_perspective;C:\\\\Program Files\\\\MATLAB\\\\R2023a\\\\toolbox\\\\coder\\\\simulinkcoder_app\\\\core;C:\\\\Program Files\\\\MATLAB\\\\R2023a\\\\toolbox\\\\coder\\\\simulinkcoder_app\\\\dplDlg;C:\\\\Program Files\\\\MATLAB\\\\R2023a\\\\toolbox\\\\coder\\\\simulinkcoder_app\\\\quick_start\\\\m;C:\\\\Program Files\\\\MATLAB\\\\R2023a\\\\toolbox\\\\coder\\\\simulinkcoder_app\\\\report;C:\\\\Program Files\\\\MATLAB\\\\R2023a\\\\toolbox\\\\coder\\\\simulinkcoder_app\\\\sdp\\\\m;C:\\\\Program Files\\\\MATLAB\\\\R2023a\\\\toolbox\\\\coder\\\\simulinkcoder_app\\\\slcoderRpt;C:\\\\Program Files\\\\MATLAB\\\\R2023a\\\\toolbox\\\\coder\\\\simulinkcoder_app\\\\slfpc;C:\\\\Program Files\\\\MATLAB\\\\R2023a\\\\toolbox\\\\coder\\\\simulinkcoder_app\\\\toolstrip\\\\m;C:\\\\Program Files\\\\MATLAB\\\\R2023a\\\\toolbox\\\\coder\\\\simulinkcoder_app\\\\ui;C:\\\\Program Files\\\\MATLAB\\\\R2023a\\\\toolbox\\\\coder\\\\simulinkcoder_core;C:\\\\Program Files\\\\MATLAB\\\\R2023a\\\\toolbox\\\\coder\\\\simulinkcoder_core\\\\templates;C:\\\\Program Files\\\\MATLAB\\\\R2023a\\\\toolbox\\\\coder\\\\simulinkcoder_preview\\\\m;C:\\\\Program Files\\\\MATLAB\\\\R2023a\\\\toolbox\\\\coder\\\\sltoolstrip_base_hw\\\\m;C:\\\\Program Files\\\\MATLAB\\\\R2023a\\\\toolbox\\\\coder\\\\targetreg;C:\\\\Program Files\\\\MATLAB\\\\R2023a\\\\toolbox\\\\coder\\\\trace;C:\\\\Program Files\\\\MATLAB\\\\R2023a\\\\toolbox\\\\coder\\\\wcet;C:\\\\Program Files\\\\MATLAB\\\\R2023a\\\\toolbox\\\\coder\\\\wizard;C:\\\\Program Files\\\\MATLAB\\\\R2023a\\\\toolbox\\\\coder\\\\xcp;C:\\\\Program Files\\\\MATLAB\\\\R2023a\\\\toolbox\\\\coder\\\\xcp_on_can;C:\\\\Program Files\\\\MATLAB\\\\R2023a\\\\toolbox\\\\coder\\\\xrel;C:\\\\Program Files\\\\MATLAB\\\\R2023a\\\\toolbox\\\\coder\\\\xrelimport;C:\\\\Program Files\\\\MATLAB\\\\R2023a\\\\toolbox\\\\collaboration\\\\comments\\\\mi\\\\m;C:\\\\Program Files\\\\MATLAB\\\\R2023a\\\\toolbox\\\\comm\\\\cdma2000;C:\\\\Program Files\\\\MATLAB\\\\R2023a\\\\toolbox\\\\comm\\\\comm;C:\\\\Program Files\\\\MATLAB\\\\R2023a\\\\toolbox\\\\comm\\\\comm\\\\compiled;C:\\\\Program Files\\\\MATLAB\\\\R2023a\\\\toolbox\\\\comm\\\\comm\\\\wavegenApp;C:\\\\Program Files\\\\MATLAB\\\\R2023a\\\\toolbox\\\\comm\\\\commdemos;C:\\\\Program Files\\\\MATLAB\\\\R2023a\\\\toolbox\\\\comm\\\\commdeprecated;C:\\\\Program Files\\\\MATLAB\\\\R2023a\\\\toolbox\\\\comm\\\\commhdloptimized;C:\\\\Program Files\\\\MATLAB\\\\R2023a\\\\toolbox\\\\comm\\\\commhdloptimized\\\\commutilities;C:\\\\Program Files\\\\MATLAB\\\\R2023a\\\\toolbox\\\\comm\\\\commutilities;C:\\\\Program Files\\\\MATLAB\\\\R2023a\\\\toolbox\\\\comm\\\\commutilities\\\\comminit;C:\\\\Program Files\\\\MATLAB\\\\R2023a\\\\toolbox\\\\comm\\\\commutilities\\\\commmex;C:\\\\Program Files\\\\MATLAB\\\\R2023a\\\\toolbox\\\\comm\\\\templates;C:\\\\Program Files\\\\MATLAB\\\\R2023a\\\\toolbox\\\\comm\\\\webscopes\\\\constellationdiagramutils;C:\\\\Program Files\\\\MATLAB\\\\R2023a\\\\toolbox\\\\comm\\\\webscopes\\\\mlconstellationdiagram;C:\\\\Program Files\\\\MATLAB\\\\R2023a\\\\toolbox\\\\comm\\\\webscopes\\\\slconstellationdiagram;C:\\\\Program Files\\\\MATLAB\\\\R2023a\\\\toolbox\\\\comparisons\\\\binary\\\\mldesktop\\\\matlab;C:\\\\Program Files\\\\MATLAB\\\\R2023a\\\\toolbox\\\\comparisons\\\\cfb\\\\action_ui\\\\matlab;C:\\\\Program Files\\\\MATLAB\\\\R2023a\\\\toolbox\\\\comparisons\\\\folder\\\\mldesktop\\\\matlab;C:\\\\Program Files\\\\MATLAB\\\\R2023a\\\\toolbox\\\\comparisons\\\\highlight\\\\matlab;C:\\\\Program Files\\\\MATLAB\\\\R2023a\\\\toolbox\\\\comparisons\\\\mat\\\\mldesktop\\\\matlab;C:\\\\Program Files\\\\MATLAB\\\\R2023a\\\\toolbox\\\\comparisons\\\\mldesktop\\\\matlab;C:\\\\Program Files\\\\MATLAB\\\\R2023a\\\\toolbox\\\\comparisons\\\\rptgen_shared;C:\\\\Program Files\\\\MATLAB\\\\R2023a\\\\toolbox\\\\comparisons\\\\text\\\\mldesktop\\\\matlab;C:\\\\Program Files\\\\MATLAB\\\\R2023a\\\\toolbox\\\\comparisons\\\\text\\\\view\\\\rptgen\\\\matlab;C:\\\\Program Files\\\\MATLAB\\\\R2023a\\\\toolbox\\\\comparisons\\\\tree\\\\mlutils;C:\\\\Program Files\\\\MATLAB\\\\R2023a\\\\toolbox\\\\comparisons\\\\tree\\\\view\\\\rptgen;C:\\\\Program Files\\\\MATLAB\\\\R2023a\\\\toolbox\\\\comparisons\\\\view\\\\edits;C:\\\\Program Files\\\\MATLAB\\\\R2023a\\\\toolbox\\\\comparisons\\\\view\\\\mf0edits;C:\\\\Program Files\\\\MATLAB\\\\R2023a\\\\toolbox\\\\comparisons\\\\view\\\\web3\\\\matlab;C:\\\\Program Files\\\\MATLAB\\\\R2023a\\\\toolbox\\\\comparisons\\\\zip\\\\mldesktop\\\\matlab;C:\\\\Program Files\\\\MATLAB\\\\R2023a\\\\toolbox\\\\comparisons\\\\zip\\\\utilities\\\\matlab;C:\\\\Program Files\\\\MATLAB\\\\R2023a\\\\toolbox\\\\compiler;C:\\\\Program Files\\\\MATLAB\\\\R2023a\\\\toolbox\\\\compiler\\\\cli\\\\build;C:\\\\Program Files\\\\MATLAB\\\\R2023a\\\\toolbox\\\\compiler\\\\cli\\\\deploymentScript;C:\\\\Program Files\\\\MATLAB\\\\R2023a\\\\toolbox\\\\compiler\\\\cli\\\\legacy_project;C:\\\\Program Files\\\\MATLAB\\\\R2023a\\\\toolbox\\\\compiler\\\\cli\\\\package;C:\\\\Program Files\\\\MATLAB\\\\R2023a\\\\toolbox\\\\compiler\\\\compilerdemos;C:\\\\Program Files\\\\MATLAB\\\\R2023a\\\\toolbox\\\\compiler\\\\java;C:\\\\Program Files\\\\MATLAB\\\\R2023a\\\\toolbox\\\\compiler\\\\mlhadoop;C:\\\\Program Files\\\\MATLAB\\\\R2023a\\\\toolbox\\\\compiler\\\\mlspark;C:\\\\Program Files\\\\MATLAB\\\\R2023a\\\\toolbox\\\\compiler\\\\mltall;C:\\\\Program Files\\\\MATLAB\\\\R2023a\\\\toolbox\\\\compiler\\\\secretsmanager;C:\\\\Program Files\\\\MATLAB\\\\R2023a\\\\toolbox\\\\compiler\\\\ui\\\\package_dialog;C:\\\\Program Files\\\\MATLAB\\\\R2023a\\\\toolbox\\\\compiler\\\\userinfo;C:\\\\Program Files\\\\MATLAB\\\\R2023a\\\\toolbox\\\\compiler\\\\utils\\\\utils;C:\\\\Program Files\\\\MATLAB\\\\R2023a\\\\toolbox\\\\compiler_sdk;C:\\\\Program Files\\\\MATLAB\\\\R2023a\\\\toolbox\\\\compiler_sdk\\\\cli\\\\build;C:\\\\Program Files\\\\MATLAB\\\\R2023a\\\\toolbox\\\\compiler_sdk\\\\cli\\\\deploymentScript;C:\\\\Program Files\\\\MATLAB\\\\R2023a\\\\toolbox\\\\compiler_sdk\\\\cli\\\\legacy_project;C:\\\\Program Files\\\\MATLAB\\\\R2023a\\\\toolbox\\\\compiler_sdk\\\\cli\\\\package;C:\\\\Program Files\\\\MATLAB\\\\R2023a\\\\toolbox\\\\compiler_sdk\\\\getting_started\\\\src;C:\\\\Program Files\\\\MATLAB\\\\R2023a\\\\toolbox\\\\compiler_sdk\\\\java;C:\\\\Program Files\\\\MATLAB\\\\R2023a\\\\toolbox\\\\compiler_sdk\\\\matlabtest\\\\core;C:\\\\Program Files\\\\MATLAB\\\\R2023a\\\\toolbox\\\\compiler_sdk\\\\matlabtest\\\\dotnet;C:\\\\Program Files\\\\MATLAB\\\\R2023a\\\\toolbox\\\\compiler_sdk\\\\matlabtest\\\\java;C:\\\\Program Files\\\\MATLAB\\\\R2023a\\\\toolbox\\\\compiler_sdk\\\\matlabtest\\\\python;C:\\\\Program Files\\\\MATLAB\\\\R2023a\\\\toolbox\\\\compiler_sdk\\\\samples\\\\cli\\\\src;C:\\\\Program Files\\\\MATLAB\\\\R2023a\\\\toolbox\\\\compiler_sdk\\\\samples\\\\cppdata\\\\src;C:\\\\Program Files\\\\MATLAB\\\\R2023a\\\\toolbox\\\\compiler_sdk\\\\samples\\\\cppmwarray\\\\src;C:\\\\Program Files\\\\MATLAB\\\\R2023a\\\\toolbox\\\\compiler_sdk\\\\samples\\\\dotnet\\\\src;C:\\\\Program Files\\\\MATLAB\\\\R2023a\\\\toolbox\\\\compiler_sdk\\\\samples\\\\dotnet_mda\\\\src;C:\\\\Program Files\\\\MATLAB\\\\R2023a\\\\toolbox\\\\compiler_sdk\\\\samples\\\\interface\\\\src;C:\\\\Program Files\\\\MATLAB\\\\R2023a\\\\toolbox\\\\compiler_sdk\\\\samples\\\\java\\\\src;C:\\\\Program Files\\\\MATLAB\\\\R2023a\\\\toolbox\\\\compiler_sdk\\\\samples\\\\mparser\\\\src;C:\\\\Program Files\\\\MATLAB\\\\R2023a\\\\toolbox\\\\compiler_sdk\\\\samples\\\\python\\\\src;C:\\\\Program Files\\\\MATLAB\\\\R2023a\\\\toolbox\\\\control\\\\control;C:\\\\Program Files\\\\MATLAB\\\\R2023a\\\\toolbox\\\\control\\\\ctrlanalysis;C:\\\\Program Files\\\\MATLAB\\\\R2023a\\\\toolbox\\\\control\\\\ctrldemos;C:\\\\Program Files\\\\MATLAB\\\\R2023a\\\\toolbox\\\\control\\\\ctrldesign;C:\\\\Program Files\\\\MATLAB\\\\R2023a\\\\toolbox\\\\control\\\\ctrlguis;C:\\\\Program Files\\\\MATLAB\\\\R2023a\\\\toolbox\\\\control\\\\ctrlmodels;C:\\\\Program Files\\\\MATLAB\\\\R2023a\\\\toolbox\\\\control\\\\ctrlobsolete;C:\\\\Program Files\\\\MATLAB\\\\R2023a\\\\toolbox\\\\control\\\\ctrlplots;C:\\\\Program Files\\\\MATLAB\\\\R2023a\\\\toolbox\\\\control\\\\ctrlutil;C:\\\\Program Files\\\\MATLAB\\\\R2023a\\\\toolbox\\\\curvefit\\\\curvefit;C:\\\\Program Files\\\\MATLAB\\\\R2023a\\\\toolbox\\\\curvefit\\\\curvefitdemos;C:\\\\Program Files\\\\MATLAB\\\\R2023a\\\\toolbox\\\\curvefit\\\\curvefitterapp;C:\\\\Program Files\\\\MATLAB\\\\R2023a\\\\toolbox\\\\curvefit\\\\splines;C:\\\\Program Files\\\\MATLAB\\\\R2023a\\\\toolbox\\\\da;C:\\\\Program Files\\\\MATLAB\\\\R2023a\\\\toolbox\\\\daq\\\\apps\\\\daqaiapplet;C:\\\\Program Files\\\\MATLAB\\\\R2023a\\\\toolbox\\\\daq\\\\apps\\\\daqaoapplet;C:\\\\Program Files\\\\MATLAB\\\\R2023a\\\\toolbox\\\\daq\\\\apps\\\\provider;C:\\\\Program Files\\\\MATLAB\\\\R2023a\\\\toolbox\\\\daq\\\\apps\\\\shared;C:\\\\Program Files\\\\MATLAB\\\\R2023a\\\\toolbox\\\\daq\\\\cli;C:\\\\Program Files\\\\MATLAB\\\\R2023a\\\\toolbox\\\\daq\\\\daq;C:\\\\Program Files\\\\MATLAB\\\\R2023a\\\\toolbox\\\\daq\\\\daqblks;C:\\\\Program Files\\\\MATLAB\\\\R2023a\\\\toolbox\\\\daq\\\\daqblks\\\\daqsfcn;C:\\\\Program Files\\\\MATLAB\\\\R2023a\\\\toolbox\\\\daq\\\\daqsdk;C:\\\\Program Files\\\\MATLAB\\\\R2023a\\\\toolbox\\\\daq\\\\daqsdk\\\\tests;C:\\\\Program Files\\\\MATLAB\\\\R2023a\\\\toolbox\\\\dashboard\\\\algorithms\\\\ml;C:\\\\Program Files\\\\MATLAB\\\\R2023a\\\\toolbox\\\\dashboard\\\\api\\\\ml;C:\\\\Program Files\\\\MATLAB\\\\R2023a\\\\toolbox\\\\dashboard\\\\datamodel_ml\\\\ml;C:\\\\Program Files\\\\MATLAB\\\\R2023a\\\\toolbox\\\\dashboard\\\\demos;C:\\\\Program Files\\\\MATLAB\\\\R2023a\\\\toolbox\\\\dashboard\\\\fxp_algorithm_factory\\\\ml;C:\\\\Program Files\\\\MATLAB\\\\R2023a\\\\toolbox\\\\dashboard\\\\mtest_algorithm_factory\\\\ml;C:\\\\Program Files\\\\MATLAB\\\\R2023a\\\\toolbox\\\\dashboard\\\\report_service\\\\ml;C:\\\\Program Files\\\\MATLAB\\\\R2023a\\\\toolbox\\\\dashboard\\\\server_adapters_ml;C:\\\\Program Files\\\\MATLAB\\\\R2023a\\\\toolbox\\\\dashboard\\\\sl_algorithm_factory\\\\ml;C:\\\\Program Files\\\\MATLAB\\\\R2023a\\\\toolbox\\\\dashboard\\\\slcov_algorithm_factory\\\\ml;C:\\\\Program Files\\\\MATLAB\\\\R2023a\\\\toolbox\\\\dashboard\\\\slreq_algorithm_factory\\\\ml;C:\\\\Program Files\\\\MATLAB\\\\R2023a\\\\toolbox\\\\dashboard\\\\sltest_algorithm_factory\\\\ml;C:\\\\Program Files\\\\MATLAB\\\\R2023a\\\\toolbox\\\\dashboard\\\\ui\\\\ml;C:\\\\Program Files\\\\MATLAB\\\\R2023a\\\\toolbox\\\\dashboard\\\\uidatamodel\\\\ml;C:\\\\Program Files\\\\MATLAB\\\\R2023a\\\\toolbox\\\\database\\\\database;C:\\\\Program Files\\\\MATLAB\\\\R2023a\\\\toolbox\\\\database\\\\database\\\\cassandra;C:\\\\Program Files\\\\MATLAB\\\\R2023a\\\\toolbox\\\\database\\\\database\\\\jdbc;C:\\\\Program Files\\\\MATLAB\\\\R2023a\\\\toolbox\\\\database\\\\database\\\\mariadb;C:\\\\Program Files\\\\MATLAB\\\\R2023a\\\\toolbox\\\\database\\\\database\\\\mongo;C:\\\\Program Files\\\\MATLAB\\\\R2023a\\\\toolbox\\\\database\\\\database\\\\neo4j;C:\\\\Program Files\\\\MATLAB\\\\R2023a\\\\toolbox\\\\database\\\\database\\\\odbc;C:\\\\Program Files\\\\MATLAB\\\\R2023a\\\\toolbox\\\\database\\\\database\\\\postgresql;C:\\\\Program Files\\\\MATLAB\\\\R2023a\\\\toolbox\\\\database\\\\database\\\\shared;C:\\\\Program Files\\\\MATLAB\\\\R2023a\\\\toolbox\\\\database\\\\database\\\\sqlite;C:\\\\Program Files\\\\MATLAB\\\\R2023a\\\\toolbox\\\\database\\\\dbdata;C:\\\\Program Files\\\\MATLAB\\\\R2023a\\\\toolbox\\\\diagram\\\\editor\\\\web\\\\m;C:\\\\Program Files\\\\MATLAB\\\\R2023a\\\\toolbox\\\\diagram\\\\layout\\\\treelayout;C:\\\\Program Files\\\\MATLAB\\\\R2023a\\\\toolbox\\\\diagram\\\\markup;C:\\\\Program Files\\\\MATLAB\\\\R2023a\\\\toolbox\\\\dig\\\\src;C:\\\\Program Files\\\\MATLAB\\\\R2023a\\\\toolbox\\\\dnnfpga\\\\dnnfpga;C:\\\\Program Files\\\\MATLAB\\\\R2023a\\\\toolbox\\\\dnnfpga\\\\dnnfpga\\\\lib;C:\\\\Program Files\\\\MATLAB\\\\R2023a\\\\toolbox\\\\dnnfpga\\\\registration;C:\\\\Program Files\\\\MATLAB\\\\R2023a\\\\toolbox\\\\dotnetbuilder\\\\dotnetbuilder;C:\\\\Program Files\\\\MATLAB\\\\R2023a\\\\toolbox\\\\driving\\\\driving;C:\\\\Program Files\\\\MATLAB\\\\R2023a\\\\toolbox\\\\driving\\\\drivingdata;C:\\\\Program Files\\\\MATLAB\\\\R2023a\\\\toolbox\\\\driving\\\\drivingdemos;C:\\\\Program Files\\\\MATLAB\\\\R2023a\\\\toolbox\\\\driving\\\\drivingutilities;C:\\\\Program Files\\\\MATLAB\\\\R2023a\\\\toolbox\\\\dsp\\\\dsp;C:\\\\Program Files\\\\MATLAB\\\\R2023a\\\\toolbox\\\\dsp\\\\dsp\\\\compiled;C:\\\\Program Files\\\\MATLAB\\\\R2023a\\\\toolbox\\\\dsp\\\\dsphdl;C:\\\\Program Files\\\\MATLAB\\\\R2023a\\\\toolbox\\\\dsp\\\\dsphdl\\\\dsputilities;C:\\\\Program Files\\\\MATLAB\\\\R2023a\\\\toolbox\\\\dsp\\\\dsputilities;C:\\\\Program Files\\\\MATLAB\\\\R2023a\\\\toolbox\\\\dsp\\\\dsputilities\\\\crl;C:\\\\Program Files\\\\MATLAB\\\\R2023a\\\\toolbox\\\\dsp\\\\dsputilities\\\\dspinit;C:\\\\Program Files\\\\MATLAB\\\\R2023a\\\\toolbox\\\\dsp\\\\dsputilities\\\\dspmex;C:\\\\Program Files\\\\MATLAB\\\\R2023a\\\\toolbox\\\\dsp\\\\dsputilities\\\\dsptoc;C:\\\\Program Files\\\\MATLAB\\\\R2023a\\\\toolbox\\\\dsp\\\\dsputilities\\\\dsptransform;C:\\\\Program Files\\\\MATLAB\\\\R2023a\\\\toolbox\\\\dsp\\\\dsputilities\\\\dspupgrade;C:\\\\Program Files\\\\MATLAB\\\\R2023a\\\\toolbox\\\\dsp\\\\filterdesign;C:\\\\Program Files\\\\MATLAB\\\\R2023a\\\\toolbox\\\\dsp\\\\halidesim;C:\\\\Program Files\\\\MATLAB\\\\R2023a\\\\toolbox\\\\dsp\\\\samples;C:\\\\Program Files\\\\MATLAB\\\\R2023a\\\\toolbox\\\\dsp\\\\templates;C:\\\\Program Files\\\\MATLAB\\\\R2023a\\\\toolbox\\\\dsphdl\\\\dsphdl;C:\\\\Program Files\\\\MATLAB\\\\R2023a\\\\toolbox\\\\dsphdl\\\\dsphdlutilities;C:\\\\Program Files\\\\MATLAB\\\\R2023a\\\\toolbox\\\\dsphdl\\\\dsphdlutilities\\\\dsphdltransform;C:\\\\Program Files\\\\MATLAB\\\\R2023a\\\\toolbox\\\\eml\\\\eml;C:\\\\Program Files\\\\MATLAB\\\\R2023a\\\\toolbox\\\\evolutions\\\\evolutions;C:\\\\Program Files\\\\MATLAB\\\\R2023a\\\\toolbox\\\\exlink;C:\\\\Program Files\\\\MATLAB\\\\R2023a\\\\toolbox\\\\experiments\\\\dl_templates\\\\experiments;C:\\\\Program Files\\\\MATLAB\\\\R2023a\\\\toolbox\\\\experiments\\\\experiments;C:\\\\Program Files\\\\MATLAB\\\\R2023a\\\\toolbox\\\\finance\\\\bigdata;C:\\\\Program Files\\\\MATLAB\\\\R2023a\\\\toolbox\\\\finance\\\\calendar;C:\\\\Program Files\\\\MATLAB\\\\R2023a\\\\toolbox\\\\finance\\\\finance;C:\\\\Program Files\\\\MATLAB\\\\R2023a\\\\toolbox\\\\finance\\\\findemos;C:\\\\Program Files\\\\MATLAB\\\\R2023a\\\\toolbox\\\\finance\\\\finsupport;C:\\\\Program Files\\\\MATLAB\\\\R2023a\\\\toolbox\\\\finance\\\\ftseries;C:\\\\Program Files\\\\MATLAB\\\\R2023a\\\\toolbox\\\\fininst\\\\fininst;C:\\\\Program Files\\\\MATLAB\\\\R2023a\\\\toolbox\\\\fininst\\\\fininstdemos;C:\\\\Program Files\\\\MATLAB\\\\R2023a\\\\toolbox\\\\fininst\\\\fininstguis;C:\\\\Program Files\\\\MATLAB\\\\R2023a\\\\toolbox\\\\fixedpoint\\\\embeddedlib;C:\\\\Program Files\\\\MATLAB\\\\R2023a\\\\toolbox\\\\fixedpoint\\\\embeddedlibhdl;C:\\\\Program Files\\\\MATLAB\\\\R2023a\\\\toolbox\\\\fixedpoint\\\\fidemos;C:\\\\Program Files\\\\MATLAB\\\\R2023a\\\\toolbox\\\\fixedpoint\\\\fixedpoint;C:\\\\Program Files\\\\MATLAB\\\\R2023a\\\\toolbox\\\\fixedpoint\\\\fixedpointconverter;C:\\\\Program Files\\\\MATLAB\\\\R2023a\\\\toolbox\\\\fixedpoint\\\\fixedpointtool;C:\\\\Program Files\\\\MATLAB\\\\R2023a\\\\toolbox\\\\fixedpoint\\\\simulinkfixedpoint;C:\\\\Program Files\\\\MATLAB\\\\R2023a\\\\toolbox\\\\fixedpoint\\\\ui\\\\nedFunctionApproximationTool;C:\\\\Program Files\\\\MATLAB\\\\R2023a\\\\toolbox\\\\fixedpoint\\\\ui\\\\nedNumericTypeScope;C:\\\\Program Files\\\\MATLAB\\\\R2023a\\\\toolbox\\\\fixedpoint\\\\ui\\\\nedParameterAnalyzer;C:\\\\Program Files\\\\MATLAB\\\\R2023a\\\\toolbox\\\\fixedpoint\\\\ui\\\\nedVisuals;C:\\\\Program Files\\\\MATLAB\\\\R2023a\\\\toolbox\\\\fixpoint;C:\\\\Program Files\\\\MATLAB\\\\R2023a\\\\toolbox\\\\fixpoint\\\\fixed;C:\\\\Program Files\\\\MATLAB\\\\R2023a\\\\toolbox\\\\fixpoint\\\\fxptopo;C:\\\\Program Files\\\\MATLAB\\\\R2023a\\\\toolbox\\\\fixpoint\\\\restorepoint;C:\\\\Program Files\\\\MATLAB\\\\R2023a\\\\toolbox\\\\fusion\\\\fusion;C:\\\\Program Files\\\\MATLAB\\\\R2023a\\\\toolbox\\\\fusion\\\\fusiondata;C:\\\\Program Files\\\\MATLAB\\\\R2023a\\\\toolbox\\\\fusion\\\\simulink;C:\\\\Program Files\\\\MATLAB\\\\R2023a\\\\toolbox\\\\fuzzy\\\\fuzzy;C:\\\\Program Files\\\\MATLAB\\\\R2023a\\\\toolbox\\\\fuzzy\\\\fuzzyutil;C:\\\\Program Files\\\\MATLAB\\\\R2023a\\\\toolbox\\\\geoweb\\\\geoweb;C:\\\\Program Files\\\\MATLAB\\\\R2023a\\\\toolbox\\\\globaloptim;C:\\\\Program Files\\\\MATLAB\\\\R2023a\\\\toolbox\\\\globaloptim\\\\globaloptim;C:\\\\Program Files\\\\MATLAB\\\\R2023a\\\\toolbox\\\\gpucoder_dl_targets_src;C:\\\\Program Files\\\\MATLAB\\\\R2023a\\\\toolbox\\\\hdlcoder\\\\hdlcommon;C:\\\\Program Files\\\\MATLAB\\\\R2023a\\\\toolbox\\\\hdlcoder\\\\hdlcommon\\\\mapping;C:\\\\Program Files\\\\MATLAB\\\\R2023a\\\\toolbox\\\\hdlcoder\\\\hdlcommon\\\\mapping\\\\ui;C:\\\\Program Files\\\\MATLAB\\\\R2023a\\\\toolbox\\\\hdlcoder\\\\hdlcommon\\\\modelcheckeradvisor;C:\\\\Program Files\\\\MATLAB\\\\R2023a\\\\toolbox\\\\hdlcoder\\\\hdllib\\\\ml_lib;C:\\\\Program Files\\\\MATLAB\\\\R2023a\\\\toolbox\\\\hdlcoder\\\\hdllib\\\\sl_lib;C:\\\\Program Files\\\\MATLAB\\\\R2023a\\\\toolbox\\\\hdlcoder\\\\hdlslrt;C:\\\\Program Files\\\\MATLAB\\\\R2023a\\\\toolbox\\\\hdlfilter\\\\hdlfilter;C:\\\\Program Files\\\\MATLAB\\\\R2023a\\\\toolbox\\\\idelink\\\\extensions\\\\ticcs;C:\\\\Program Files\\\\MATLAB\\\\R2023a\\\\toolbox\\\\idelink\\\\extensions\\\\ticcs\\\\ccsblks;C:\\\\Program Files\\\\MATLAB\\\\R2023a\\\\toolbox\\\\idelink\\\\foundation;C:\\\\Program Files\\\\MATLAB\\\\R2023a\\\\toolbox\\\\idelink\\\\foundation\\\\errorhandler;C:\\\\Program Files\\\\MATLAB\\\\R2023a\\\\toolbox\\\\idelink\\\\foundation\\\\hookpoints;C:\\\\Program Files\\\\MATLAB\\\\R2023a\\\\toolbox\\\\idelink\\\\foundation\\\\pjtgenerator;C:\\\\Program Files\\\\MATLAB\\\\R2023a\\\\toolbox\\\\idelink\\\\foundation\\\\pjtgenerator\\\\blks;C:\\\\Program Files\\\\MATLAB\\\\R2023a\\\\toolbox\\\\idelink\\\\foundation\\\\pjtgenerator\\\\blks_common;C:\\\\Program Files\\\\MATLAB\\\\R2023a\\\\toolbox\\\\idelink\\\\foundation\\\\pjtgenerator\\\\blks_common\\\\masks;C:\\\\Program Files\\\\MATLAB\\\\R2023a\\\\toolbox\\\\idelink\\\\foundation\\\\pjtgenerator\\\\blks_common\\\\tlc_c;C:\\\\Program Files\\\\MATLAB\\\\R2023a\\\\toolbox\\\\idelink\\\\foundation\\\\pjtgenerator\\\\mdlinfo;C:\\\\Program Files\\\\MATLAB\\\\R2023a\\\\toolbox\\\\idelink\\\\foundation\\\\pjtgenerator\\\\profiler;C:\\\\Program Files\\\\MATLAB\\\\R2023a\\\\toolbox\\\\idelink\\\\foundation\\\\pjtgenerator\\\\rtw;C:\\\\Program Files\\\\MATLAB\\\\R2023a\\\\toolbox\\\\idelink\\\\foundation\\\\pjtgenerator\\\\tgtpref2;C:\\\\Program Files\\\\MATLAB\\\\R2023a\\\\toolbox\\\\idelink\\\\foundation\\\\util;C:\\\\Program Files\\\\MATLAB\\\\R2023a\\\\toolbox\\\\ident\\\\iddemos;C:\\\\Program Files\\\\MATLAB\\\\R2023a\\\\toolbox\\\\ident\\\\iddemos\\\\examples;C:\\\\Program Files\\\\MATLAB\\\\R2023a\\\\toolbox\\\\ident\\\\ident;C:\\\\Program Files\\\\MATLAB\\\\R2023a\\\\toolbox\\\\ident\\\\idguis;C:\\\\Program Files\\\\MATLAB\\\\R2023a\\\\toolbox\\\\ident\\\\idhelp;C:\\\\Program Files\\\\MATLAB\\\\R2023a\\\\toolbox\\\\ident\\\\idobsolete;C:\\\\Program Files\\\\MATLAB\\\\R2023a\\\\toolbox\\\\ident\\\\idrecursive;C:\\\\Program Files\\\\MATLAB\\\\R2023a\\\\toolbox\\\\ident\\\\idutils;C:\\\\Program Files\\\\MATLAB\\\\R2023a\\\\toolbox\\\\ident\\\\nlident;C:\\\\Program Files\\\\MATLAB\\\\R2023a\\\\toolbox\\\\images\\\\colorspaces;C:\\\\Program Files\\\\MATLAB\\\\R2023a\\\\toolbox\\\\images\\\\deep;C:\\\\Program Files\\\\MATLAB\\\\R2023a\\\\toolbox\\\\images\\\\images;C:\\\\Program Files\\\\MATLAB\\\\R2023a\\\\toolbox\\\\images\\\\imdata;C:\\\\Program Files\\\\MATLAB\\\\R2023a\\\\toolbox\\\\images\\\\imuitools;C:\\\\Program Files\\\\MATLAB\\\\R2023a\\\\toolbox\\\\images\\\\iptformats;C:\\\\Program Files\\\\MATLAB\\\\R2023a\\\\toolbox\\\\images\\\\iptutils;C:\\\\Program Files\\\\MATLAB\\\\R2023a\\\\toolbox\\\\images\\\\volume;C:\\\\Program Files\\\\MATLAB\\\\R2023a\\\\toolbox\\\\imaq\\\\apps\\\\imaqapplet;C:\\\\Program Files\\\\MATLAB\\\\R2023a\\\\toolbox\\\\imaq\\\\apps\\\\provider;C:\\\\Program Files\\\\MATLAB\\\\R2023a\\\\toolbox\\\\imaq\\\\imaq;C:\\\\Program Files\\\\MATLAB\\\\R2023a\\\\toolbox\\\\imaq\\\\imaqblks\\\\imaqblks;C:\\\\Program Files\\\\MATLAB\\\\R2023a\\\\toolbox\\\\imaq\\\\imaqblks\\\\imaqmasks;C:\\\\Program Files\\\\MATLAB\\\\R2023a\\\\toolbox\\\\imaq\\\\imaqblks\\\\imaqmex;C:\\\\Program Files\\\\MATLAB\\\\R2023a\\\\toolbox\\\\imaq\\\\imaqdemos;C:\\\\Program Files\\\\MATLAB\\\\R2023a\\\\toolbox\\\\imaq\\\\preferences;C:\\\\Program Files\\\\MATLAB\\\\R2023a\\\\toolbox\\\\learning\\\\simulink\\\\core\\\\m;C:\\\\Program Files\\\\MATLAB\\\\R2023a\\\\toolbox\\\\lidar\\\\lidar;C:\\\\Program Files\\\\MATLAB\\\\R2023a\\\\toolbox\\\\lidar\\\\lidarUtilities;C:\\\\Program Files\\\\MATLAB\\\\R2023a\\\\toolbox\\\\lidar\\\\lidardata;C:\\\\Program Files\\\\MATLAB\\\\R2023a\\\\toolbox\\\\lidar\\\\lidarformats;C:\\\\Program Files\\\\MATLAB\\\\R2023a\\\\toolbox\\\\lidar\\\\lidarsimulink;C:\\\\Program Files\\\\MATLAB\\\\R2023a\\\\toolbox\\\\livecode\\\\comparisons\\\\mldesktop\\\\matlab;C:\\\\Program Files\\\\MATLAB\\\\R2023a\\\\toolbox\\\\lte\\\\lte;C:\\\\Program Files\\\\MATLAB\\\\R2023a\\\\toolbox\\\\lte\\\\umts;C:\\\\Program Files\\\\MATLAB\\\\R2023a\\\\toolbox\\\\lutdesigner;C:\\\\Program Files\\\\MATLAB\\\\R2023a\\\\toolbox\\\\map\\\\graphics;C:\\\\Program Files\\\\MATLAB\\\\R2023a\\\\toolbox\\\\map\\\\map;C:\\\\Program Files\\\\MATLAB\\\\R2023a\\\\toolbox\\\\map\\\\mapdata;C:\\\\Program Files\\\\MATLAB\\\\R2023a\\\\toolbox\\\\map\\\\mapdisp;C:\\\\Program Files\\\\MATLAB\\\\R2023a\\\\toolbox\\\\map\\\\mapformats;C:\\\\Program Files\\\\MATLAB\\\\R2023a\\\\toolbox\\\\map\\\\mapgeodesy;C:\\\\Program Files\\\\MATLAB\\\\R2023a\\\\toolbox\\\\map\\\\mapobsolete;C:\\\\Program Files\\\\MATLAB\\\\R2023a\\\\toolbox\\\\map\\\\mapproj;C:\\\\Program Files\\\\MATLAB\\\\R2023a\\\\toolbox\\\\map\\\\vectortiles;C:\\\\Program Files\\\\MATLAB\\\\R2023a\\\\toolbox\\\\matlabcoder_dl_targets_src;C:\\\\Program Files\\\\MATLAB\\\\R2023a\\\\toolbox\\\\matlabtest\\\\compiler\\\\core;C:\\\\Program Files\\\\MATLAB\\\\R2023a\\\\toolbox\\\\matlabtest\\\\matlabcoder\\\\testframework;C:\\\\Program Files\\\\MATLAB\\\\R2023a\\\\toolbox\\\\matlabtest\\\\matlabtest;C:\\\\Program Files\\\\MATLAB\\\\R2023a\\\\toolbox\\\\matlabtest\\\\qualitydashboard\\\\qualitydashboard;C:\\\\Program Files\\\\MATLAB\\\\R2023a\\\\toolbox\\\\matlabtest\\\\testframework\\\\unittest\\\\codecov;C:\\\\Program Files\\\\MATLAB\\\\R2023a\\\\toolbox\\\\matlabtest\\\\testframework\\\\unittest\\\\core;C:\\\\Program Files\\\\MATLAB\\\\R2023a\\\\toolbox\\\\matlabtest\\\\testframework\\\\unittest\\\\dependency;C:\\\\Program Files\\\\MATLAB\\\\R2023a\\\\toolbox\\\\matlabtest\\\\testframework\\\\unittest\\\\nwise;C:\\\\Program Files\\\\MATLAB\\\\R2023a\\\\toolbox\\\\matlabtest\\\\testframework\\\\unittest\\\\requirements;C:\\\\Program Files\\\\MATLAB\\\\R2023a\\\\toolbox\\\\matlabtest\\\\testmanager\\\\datamodel\\\\datamodel;C:\\\\Program Files\\\\MATLAB\\\\R2023a\\\\toolbox\\\\matlabtest\\\\testmanager\\\\mtestmanager;C:\\\\Program Files\\\\MATLAB\\\\R2023a\\\\toolbox\\\\mbc\\\\mbc;C:\\\\Program Files\\\\MATLAB\\\\R2023a\\\\toolbox\\\\mbc\\\\mbcdata;C:\\\\Program Files\\\\MATLAB\\\\R2023a\\\\toolbox\\\\mbc\\\\mbcdesign;C:\\\\Program Files\\\\MATLAB\\\\R2023a\\\\toolbox\\\\mbc\\\\mbcexpr;C:\\\\Program Files\\\\MATLAB\\\\R2023a\\\\toolbox\\\\mbc\\\\mbcguitools;C:\\\\Program Files\\\\MATLAB\\\\R2023a\\\\toolbox\\\\mbc\\\\mbclayouts;C:\\\\Program Files\\\\MATLAB\\\\R2023a\\\\toolbox\\\\mbc\\\\mbcmodels;C:\\\\Program Files\\\\MATLAB\\\\R2023a\\\\toolbox\\\\mbc\\\\mbcsimulink;C:\\\\Program Files\\\\MATLAB\\\\R2023a\\\\toolbox\\\\mbc\\\\mbctools;C:\\\\Program Files\\\\MATLAB\\\\R2023a\\\\toolbox\\\\mbc\\\\mbcview;C:\\\\Program Files\\\\MATLAB\\\\R2023a\\\\toolbox\\\\mcb;C:\\\\Program Files\\\\MATLAB\\\\R2023a\\\\toolbox\\\\mcb\\\\mcbblocks;C:\\\\Program Files\\\\MATLAB\\\\R2023a\\\\toolbox\\\\mcb\\\\mcbexamples;C:\\\\Program Files\\\\MATLAB\\\\R2023a\\\\toolbox\\\\mcb\\\\mcbhdl;C:\\\\Program Files\\\\MATLAB\\\\R2023a\\\\toolbox\\\\mcb\\\\utils;C:\\\\Program Files\\\\MATLAB\\\\R2023a\\\\toolbox\\\\medical\\\\apps;C:\\\\Program Files\\\\MATLAB\\\\R2023a\\\\toolbox\\\\medical\\\\fileIO;C:\\\\Program Files\\\\MATLAB\\\\R2023a\\\\toolbox\\\\medical\\\\medical;C:\\\\Program Files\\\\MATLAB\\\\R2023a\\\\toolbox\\\\mlreportgen\\\\rpt2api;C:\\\\Program Files\\\\MATLAB\\\\R2023a\\\\toolbox\\\\mpc\\\\mpc;C:\\\\Program Files\\\\MATLAB\\\\R2023a\\\\toolbox\\\\mpc\\\\mpcdemos;C:\\\\Program Files\\\\MATLAB\\\\R2023a\\\\toolbox\\\\mpc\\\\mpcguis;C:\\\\Program Files\\\\MATLAB\\\\R2023a\\\\toolbox\\\\mpc\\\\mpcobsolete;C:\\\\Program Files\\\\MATLAB\\\\R2023a\\\\toolbox\\\\mpc\\\\mpcutils;C:\\\\Program Files\\\\MATLAB\\\\R2023a\\\\toolbox\\\\mps\\\\discovery;C:\\\\Program Files\\\\MATLAB\\\\R2023a\\\\toolbox\\\\mps\\\\json;C:\\\\Program Files\\\\MATLAB\\\\R2023a\\\\toolbox\\\\mps\\\\metrics;C:\\\\Program Files\\\\MATLAB\\\\R2023a\\\\toolbox\\\\mps\\\\persistence;C:\\\\Program Files\\\\MATLAB\\\\R2023a\\\\toolbox\\\\msblks\\\\helperfiles;C:\\\\Program Files\\\\MATLAB\\\\R2023a\\\\toolbox\\\\msblks\\\\msblks;C:\\\\Program Files\\\\MATLAB\\\\R2023a\\\\toolbox\\\\msblks\\\\msblksmex;C:\\\\Program Files\\\\MATLAB\\\\R2023a\\\\toolbox\\\\msblks\\\\msblksutilities;C:\\\\Program Files\\\\MATLAB\\\\R2023a\\\\toolbox\\\\multisim;C:\\\\Program Files\\\\MATLAB\\\\R2023a\\\\toolbox\\\\nav\\\\nav;C:\\\\Program Files\\\\MATLAB\\\\R2023a\\\\toolbox\\\\nav\\\\navalgs;C:\\\\Program Files\\\\MATLAB\\\\R2023a\\\\toolbox\\\\nav\\\\navalgs2;C:\\\\Program Files\\\\MATLAB\\\\R2023a\\\\toolbox\\\\nav\\\\navalgs2\\\\data;C:\\\\Program Files\\\\MATLAB\\\\R2023a\\\\toolbox\\\\nav\\\\navsimulink;C:\\\\Program Files\\\\MATLAB\\\\R2023a\\\\toolbox\\\\nav\\\\navsimulink\\\\blockicons;C:\\\\Program Files\\\\MATLAB\\\\R2023a\\\\toolbox\\\\nav\\\\navslamapp;C:\\\\Program Files\\\\MATLAB\\\\R2023a\\\\toolbox\\\\nav\\\\positioning\\\\positioning;C:\\\\Program Files\\\\MATLAB\\\\R2023a\\\\toolbox\\\\nav\\\\positioning\\\\positioningdata;C:\\\\Program Files\\\\MATLAB\\\\R2023a\\\\toolbox\\\\nnet;C:\\\\Program Files\\\\MATLAB\\\\R2023a\\\\toolbox\\\\nnet\\\\cnn;C:\\\\Program Files\\\\MATLAB\\\\R2023a\\\\toolbox\\\\nnet\\\\cnn\\\\spkgs;C:\\\\Program Files\\\\MATLAB\\\\R2023a\\\\toolbox\\\\nnet\\\\deep;C:\\\\Program Files\\\\MATLAB\\\\R2023a\\\\toolbox\\\\nnet\\\\deep_blocks;C:\\\\Program Files\\\\MATLAB\\\\R2023a\\\\toolbox\\\\nnet\\\\deepapp;C:\\\\Program Files\\\\MATLAB\\\\R2023a\\\\toolbox\\\\nnet\\\\deepapp\\\\3p;C:\\\\Program Files\\\\MATLAB\\\\R2023a\\\\toolbox\\\\nnet\\\\deepcoder;C:\\\\Program Files\\\\MATLAB\\\\R2023a\\\\toolbox\\\\nnet\\\\deepmonitor;C:\\\\Program Files\\\\MATLAB\\\\R2023a\\\\toolbox\\\\nnet\\\\deepviz;C:\\\\Program Files\\\\MATLAB\\\\R2023a\\\\toolbox\\\\nnet\\\\deepviz\\\\lime;C:\\\\Program Files\\\\MATLAB\\\\R2023a\\\\toolbox\\\\nnet\\\\nnapp;C:\\\\Program Files\\\\MATLAB\\\\R2023a\\\\toolbox\\\\nnet\\\\nncontrol;C:\\\\Program Files\\\\MATLAB\\\\R2023a\\\\toolbox\\\\nnet\\\\nncontrol\\\\blocks;C:\\\\Program Files\\\\MATLAB\\\\R2023a\\\\toolbox\\\\nnet\\\\nndemos;C:\\\\Program Files\\\\MATLAB\\\\R2023a\\\\toolbox\\\\nnet\\\\nndemos\\\\nndatasets;C:\\\\Program Files\\\\MATLAB\\\\R2023a\\\\toolbox\\\\nnet\\\\nnet;C:\\\\Program Files\\\\MATLAB\\\\R2023a\\\\toolbox\\\\nnet\\\\nnet\\\\nnadapt;C:\\\\Program Files\\\\MATLAB\\\\R2023a\\\\toolbox\\\\nnet\\\\nnet\\\\nndatafun;C:\\\\Program Files\\\\MATLAB\\\\R2023a\\\\toolbox\\\\nnet\\\\nnet\\\\nnderivative;C:\\\\Program Files\\\\MATLAB\\\\R2023a\\\\toolbox\\\\nnet\\\\nnet\\\\nndistance;C:\\\\Program Files\\\\MATLAB\\\\R2023a\\\\toolbox\\\\nnet\\\\nnet\\\\nndivision;C:\\\\Program Files\\\\MATLAB\\\\R2023a\\\\toolbox\\\\nnet\\\\nnet\\\\nninitlayer;C:\\\\Program Files\\\\MATLAB\\\\R2023a\\\\toolbox\\\\nnet\\\\nnet\\\\nninitnetwork;C:\\\\Program Files\\\\MATLAB\\\\R2023a\\\\toolbox\\\\nnet\\\\nnet\\\\nninitweight;C:\\\\Program Files\\\\MATLAB\\\\R2023a\\\\toolbox\\\\nnet\\\\nnet\\\\nnlearn;C:\\\\Program Files\\\\MATLAB\\\\R2023a\\\\toolbox\\\\nnet\\\\nnet\\\\nnnetfun;C:\\\\Program Files\\\\MATLAB\\\\R2023a\\\\toolbox\\\\nnet\\\\nnet\\\\nnnetinput;C:\\\\Program Files\\\\MATLAB\\\\R2023a\\\\toolbox\\\\nnet\\\\nnet\\\\nnnetwork;C:\\\\Program Files\\\\MATLAB\\\\R2023a\\\\toolbox\\\\nnet\\\\nnet\\\\nnperformance;C:\\\\Program Files\\\\MATLAB\\\\R2023a\\\\toolbox\\\\nnet\\\\nnet\\\\nnplot;C:\\\\Program Files\\\\MATLAB\\\\R2023a\\\\toolbox\\\\nnet\\\\nnet\\\\nnprocess;C:\\\\Program Files\\\\MATLAB\\\\R2023a\\\\toolbox\\\\nnet\\\\nnet\\\\nnsearch;C:\\\\Program Files\\\\MATLAB\\\\R2023a\\\\toolbox\\\\nnet\\\\nnet\\\\nntopology;C:\\\\Program Files\\\\MATLAB\\\\R2023a\\\\toolbox\\\\nnet\\\\nnet\\\\nntrain;C:\\\\Program Files\\\\MATLAB\\\\R2023a\\\\toolbox\\\\nnet\\\\nnet\\\\nntransfer;C:\\\\Program Files\\\\MATLAB\\\\R2023a\\\\toolbox\\\\nnet\\\\nnet\\\\nnweight;C:\\\\Program Files\\\\MATLAB\\\\R2023a\\\\toolbox\\\\nnet\\\\nnguis;C:\\\\Program Files\\\\MATLAB\\\\R2023a\\\\toolbox\\\\nnet\\\\nnobsolete;C:\\\\Program Files\\\\MATLAB\\\\R2023a\\\\toolbox\\\\nnet\\\\nnutils;C:\\\\Program Files\\\\MATLAB\\\\R2023a\\\\toolbox\\\\nnet\\\\nnviz;C:\\\\Program Files\\\\MATLAB\\\\R2023a\\\\toolbox\\\\optim;C:\\\\Program Files\\\\MATLAB\\\\R2023a\\\\toolbox\\\\optim\\\\gui;C:\\\\Program Files\\\\MATLAB\\\\R2023a\\\\toolbox\\\\optim\\\\optim;C:\\\\Program Files\\\\MATLAB\\\\R2023a\\\\toolbox\\\\optim\\\\problemdef;C:\\\\Program Files\\\\MATLAB\\\\R2023a\\\\toolbox\\\\parallel;C:\\\\Program Files\\\\MATLAB\\\\R2023a\\\\toolbox\\\\parallel\\\\array;C:\\\\Program Files\\\\MATLAB\\\\R2023a\\\\toolbox\\\\parallel\\\\bigdata;C:\\\\Program Files\\\\MATLAB\\\\R2023a\\\\toolbox\\\\parallel\\\\cluster;C:\\\\Program Files\\\\MATLAB\\\\R2023a\\\\toolbox\\\\parallel\\\\cluster\\\\discovery;C:\\\\Program Files\\\\MATLAB\\\\R2023a\\\\toolbox\\\\parallel\\\\distcomp;C:\\\\Program Files\\\\MATLAB\\\\R2023a\\\\toolbox\\\\parallel\\\\gpu;C:\\\\Program Files\\\\MATLAB\\\\R2023a\\\\toolbox\\\\parallel\\\\gpuapi;C:\\\\Program Files\\\\MATLAB\\\\R2023a\\\\toolbox\\\\parallel\\\\lang;C:\\\\Program Files\\\\MATLAB\\\\R2023a\\\\toolbox\\\\parallel\\\\mpi;C:\\\\Program Files\\\\MATLAB\\\\R2023a\\\\toolbox\\\\parallel\\\\mpi\\\\profilerviewer;C:\\\\Program Files\\\\MATLAB\\\\R2023a\\\\toolbox\\\\parallel\\\\parallel;C:\\\\Program Files\\\\MATLAB\\\\R2023a\\\\toolbox\\\\parallel\\\\parallel\\\\util;C:\\\\Program Files\\\\MATLAB\\\\R2023a\\\\toolbox\\\\parallel\\\\pctdemos;C:\\\\Program Files\\\\MATLAB\\\\R2023a\\\\toolbox\\\\parallel\\\\user;C:\\\\Program Files\\\\MATLAB\\\\R2023a\\\\toolbox\\\\parallel\\\\web\\\\plugins\\\\runasbatchjob\\\\matlab;C:\\\\Program Files\\\\MATLAB\\\\R2023a\\\\toolbox\\\\parallel\\\\web\\\\preferences\\\\src;C:\\\\Program Files\\\\MATLAB\\\\R2023a\\\\toolbox\\\\pde;C:\\\\Program Files\\\\MATLAB\\\\R2023a\\\\toolbox\\\\pde\\\\pdedata;C:\\\\Program Files\\\\MATLAB\\\\R2023a\\\\toolbox\\\\phased\\\\phased;C:\\\\Program Files\\\\MATLAB\\\\R2023a\\\\toolbox\\\\phased\\\\phased\\\\webscopes\\\\slatiwebscope;C:\\\\Program Files\\\\MATLAB\\\\R2023a\\\\toolbox\\\\phased\\\\phased\\\\webscopes\\\\sldtiwebscope;C:\\\\Program Files\\\\MATLAB\\\\R2023a\\\\toolbox\\\\phased\\\\phased\\\\webscopes\\\\slrtiwebscope;C:\\\\Program Files\\\\MATLAB\\\\R2023a\\\\toolbox\\\\phased\\\\phasedapps;C:\\\\Program Files\\\\MATLAB\\\\R2023a\\\\toolbox\\\\physmod\\\\battery\\\\builder\\\\m;C:\\\\Program Files\\\\MATLAB\\\\R2023a\\\\toolbox\\\\physmod\\\\battery\\\\library\\\\m;C:\\\\Program Files\\\\MATLAB\\\\R2023a\\\\toolbox\\\\physmod\\\\battery\\\\library\\\\m\\\\simscapebattery;C:\\\\Program Files\\\\MATLAB\\\\R2023a\\\\toolbox\\\\physmod\\\\battery\\\\shared_library\\\\m;C:\\\\Program Files\\\\MATLAB\\\\R2023a\\\\toolbox\\\\physmod\\\\battery\\\\shared_utils\\\\m;C:\\\\Program Files\\\\MATLAB\\\\R2023a\\\\toolbox\\\\physmod\\\\battery\\\\sli\\\\m;C:\\\\Program Files\\\\MATLAB\\\\R2023a\\\\toolbox\\\\physmod\\\\battery\\\\templates;C:\\\\Program Files\\\\MATLAB\\\\R2023a\\\\toolbox\\\\physmod\\\\battery\\\\utils\\\\m;C:\\\\Program Files\\\\MATLAB\\\\R2023a\\\\toolbox\\\\physmod\\\\common\\\\data\\\\mli\\\\m;C:\\\\Program Files\\\\MATLAB\\\\R2023a\\\\toolbox\\\\physmod\\\\common\\\\data2\\\\mli\\\\m;C:\\\\Program Files\\\\MATLAB\\\\R2023a\\\\toolbox\\\\physmod\\\\common\\\\data2\\\\mli\\\\n;C:\\\\Program Files\\\\MATLAB\\\\R2023a\\\\toolbox\\\\physmod\\\\common\\\\dataservices\\\\gui\\\\m;C:\\\\Program Files\\\\MATLAB\\\\R2023a\\\\toolbox\\\\physmod\\\\common\\\\dataservices\\\\mli\\\\m;C:\\\\Program Files\\\\MATLAB\\\\R2023a\\\\toolbox\\\\physmod\\\\common\\\\dataservices\\\\sli\\\\m;C:\\\\Program Files\\\\MATLAB\\\\R2023a\\\\toolbox\\\\physmod\\\\common\\\\deploy\\\\sli\\\\m;C:\\\\Program Files\\\\MATLAB\\\\R2023a\\\\toolbox\\\\physmod\\\\common\\\\exec\\\\mli\\\\m;C:\\\\Program Files\\\\MATLAB\\\\R2023a\\\\toolbox\\\\physmod\\\\common\\\\external\\\\library\\\\m;C:\\\\Program Files\\\\MATLAB\\\\R2023a\\\\toolbox\\\\physmod\\\\common\\\\external\\\\mli\\\\m;C:\\\\Program Files\\\\MATLAB\\\\R2023a\\\\toolbox\\\\physmod\\\\common\\\\foundation\\\\mli\\\\m;C:\\\\Program Files\\\\MATLAB\\\\R2023a\\\\toolbox\\\\physmod\\\\common\\\\foundation\\\\sli\\\\m;C:\\\\Program Files\\\\MATLAB\\\\R2023a\\\\toolbox\\\\physmod\\\\common\\\\gl\\\\mli\\\\m;C:\\\\Program Files\\\\MATLAB\\\\R2023a\\\\toolbox\\\\physmod\\\\common\\\\gl\\\\sli\\\\m;C:\\\\Program Files\\\\MATLAB\\\\R2023a\\\\toolbox\\\\physmod\\\\common\\\\gui\\\\mli\\\\m;C:\\\\Program Files\\\\MATLAB\\\\R2023a\\\\toolbox\\\\physmod\\\\common\\\\logging\\\\mli\\\\m;C:\\\\Program Files\\\\MATLAB\\\\R2023a\\\\toolbox\\\\physmod\\\\common\\\\logging\\\\sli\\\\m;C:\\\\Program Files\\\\MATLAB\\\\R2023a\\\\toolbox\\\\physmod\\\\common\\\\logging2\\\\mli\\\\m;C:\\\\Program Files\\\\MATLAB\\\\R2023a\\\\toolbox\\\\physmod\\\\common\\\\op\\\\mli\\\\m;C:\\\\Program Files\\\\MATLAB\\\\R2023a\\\\toolbox\\\\physmod\\\\common\\\\pi\\\\sli\\\\m;C:\\\\Program Files\\\\MATLAB\\\\R2023a\\\\toolbox\\\\physmod\\\\common\\\\state\\\\gui\\\\m;C:\\\\Program Files\\\\MATLAB\\\\R2023a\\\\toolbox\\\\physmod\\\\common\\\\state\\\\gui\\\\m\\\\toolstrip;C:\\\\Program Files\\\\MATLAB\\\\R2023a\\\\toolbox\\\\physmod\\\\common\\\\state\\\\mli\\\\m;C:\\\\Program Files\\\\MATLAB\\\\R2023a\\\\toolbox\\\\physmod\\\\common\\\\statistics\\\\gui\\\\m;C:\\\\Program Files\\\\MATLAB\\\\R2023a\\\\toolbox\\\\physmod\\\\common\\\\statistics\\\\mli\\\\m;C:\\\\Program Files\\\\MATLAB\\\\R2023a\\\\toolbox\\\\physmod\\\\common\\\\statistics\\\\sli\\\\m;C:\\\\Program Files\\\\MATLAB\\\\R2023a\\\\toolbox\\\\physmod\\\\common\\\\ui\\\\mli\\\\m;C:\\\\Program Files\\\\MATLAB\\\\R2023a\\\\toolbox\\\\physmod\\\\common\\\\units\\\\mli\\\\m;C:\\\\Program Files\\\\MATLAB\\\\R2023a\\\\toolbox\\\\physmod\\\\common\\\\units2\\\\mli\\\\m;C:\\\\Program Files\\\\MATLAB\\\\R2023a\\\\toolbox\\\\physmod\\\\elec\\\\analysis\\\\m;C:\\\\Program Files\\\\MATLAB\\\\R2023a\\\\toolbox\\\\physmod\\\\elec\\\\assistant\\\\m;C:\\\\Program Files\\\\MATLAB\\\\R2023a\\\\toolbox\\\\physmod\\\\elec\\\\assistant\\\\m\\\\convclass;C:\\\\Program Files\\\\MATLAB\\\\R2023a\\\\toolbox\\\\physmod\\\\elec\\\\assistant\\\\m\\\\convclass\\\\conv;C:\\\\Program Files\\\\MATLAB\\\\R2023a\\\\toolbox\\\\physmod\\\\elec\\\\assistant\\\\m\\\\convclass\\\\conv\\\\sl;C:\\\\Program Files\\\\MATLAB\\\\R2023a\\\\toolbox\\\\physmod\\\\elec\\\\assistant\\\\m\\\\utils;C:\\\\Program Files\\\\MATLAB\\\\R2023a\\\\toolbox\\\\physmod\\\\elec\\\\eedemos;C:\\\\Program Files\\\\MATLAB\\\\R2023a\\\\toolbox\\\\physmod\\\\elec\\\\eedemos\\\\applications\\\\ADC_DAC;C:\\\\Program Files\\\\MATLAB\\\\R2023a\\\\toolbox\\\\physmod\\\\elec\\\\eedemos\\\\applications\\\\amplifiers;C:\\\\Program Files\\\\MATLAB\\\\R2023a\\\\toolbox\\\\physmod\\\\elec\\\\eedemos\\\\applications\\\\communications;C:\\\\Program Files\\\\MATLAB\\\\R2023a\\\\toolbox\\\\physmod\\\\elec\\\\eedemos\\\\applications\\\\devicecharacteristics;C:\\\\Program Files\\\\MATLAB\\\\R2023a\\\\toolbox\\\\physmod\\\\elec\\\\eedemos\\\\applications\\\\electricdrives;C:\\\\Program Files\\\\MATLAB\\\\R2023a\\\\toolbox\\\\physmod\\\\elec\\\\eedemos\\\\applications\\\\energystorage;C:\\\\Program Files\\\\MATLAB\\\\R2023a\\\\toolbox\\\\physmod\\\\elec\\\\eedemos\\\\applications\\\\filters;C:\\\\Program Files\\\\MATLAB\\\\R2023a\\\\toolbox\\\\physmod\\\\elec\\\\eedemos\\\\applications\\\\highpowerconverters;C:\\\\Program Files\\\\MATLAB\\\\R2023a\\\\toolbox\\\\physmod\\\\elec\\\\eedemos\\\\applications\\\\logic;C:\\\\Program Files\\\\MATLAB\\\\R2023a\\\\toolbox\\\\physmod\\\\elec\\\\eedemos\\\\applications\\\\lowpowerconverters;C:\\\\Program Files\\\\MATLAB\\\\R2023a\\\\toolbox\\\\physmod\\\\elec\\\\eedemos\\\\applications\\\\oscillators;C:\\\\Program Files\\\\MATLAB\\\\R2023a\\\\toolbox\\\\physmod\\\\elec\\\\eedemos\\\\applications\\\\powergrids;C:\\\\Program Files\\\\MATLAB\\\\R2023a\\\\toolbox\\\\physmod\\\\elec\\\\eedemos\\\\applications\\\\renewables;C:\\\\Program Files\\\\MATLAB\\\\R2023a\\\\toolbox\\\\physmod\\\\elec\\\\eedemos\\\\applications\\\\robotics;C:\\\\Program Files\\\\MATLAB\\\\R2023a\\\\toolbox\\\\physmod\\\\elec\\\\eedemos\\\\applications\\\\thermal;C:\\\\Program Files\\\\MATLAB\\\\R2023a\\\\toolbox\\\\physmod\\\\elec\\\\eedemos\\\\applications\\\\vehiclesystems;C:\\\\Program Files\\\\MATLAB\\\\R2023a\\\\toolbox\\\\physmod\\\\elec\\\\eedemos\\\\doc;C:\\\\Program Files\\\\MATLAB\\\\R2023a\\\\toolbox\\\\physmod\\\\elec\\\\library\\\\m;C:\\\\Program Files\\\\MATLAB\\\\R2023a\\\\toolbox\\\\physmod\\\\elec\\\\sli\\\\m;C:\\\\Program Files\\\\MATLAB\\\\R2023a\\\\toolbox\\\\physmod\\\\elec\\\\sli\\\\sfun;C:\\\\Program Files\\\\MATLAB\\\\R2023a\\\\toolbox\\\\physmod\\\\elec\\\\spice\\\\mosfets\\\\m;C:\\\\Program Files\\\\MATLAB\\\\R2023a\\\\toolbox\\\\physmod\\\\elec\\\\spice2ssc\\\\m;C:\\\\Program Files\\\\MATLAB\\\\R2023a\\\\toolbox\\\\physmod\\\\elec\\\\stubs\\\\elec\\\\m;C:\\\\Program Files\\\\MATLAB\\\\R2023a\\\\toolbox\\\\physmod\\\\elec\\\\stubs\\\\pe\\\\m;C:\\\\Program Files\\\\MATLAB\\\\R2023a\\\\toolbox\\\\physmod\\\\elec\\\\stubs\\\\pe\\\\sli;C:\\\\Program Files\\\\MATLAB\\\\R2023a\\\\toolbox\\\\physmod\\\\elec\\\\templates;C:\\\\Program Files\\\\MATLAB\\\\R2023a\\\\toolbox\\\\physmod\\\\elec\\\\utils\\\\m;C:\\\\Program Files\\\\MATLAB\\\\R2023a\\\\toolbox\\\\physmod\\\\fluids\\\\fluids;C:\\\\Program Files\\\\MATLAB\\\\R2023a\\\\toolbox\\\\physmod\\\\fluids\\\\utils;C:\\\\Program Files\\\\MATLAB\\\\R2023a\\\\toolbox\\\\physmod\\\\ne_sli\\\\ne_sli;C:\\\\Program Files\\\\MATLAB\\\\R2023a\\\\toolbox\\\\physmod\\\\network_engine\\\\network_engine;C:\\\\Program Files\\\\MATLAB\\\\R2023a\\\\toolbox\\\\physmod\\\\pm_sli\\\\pm_sli;C:\\\\Program Files\\\\MATLAB\\\\R2023a\\\\toolbox\\\\physmod\\\\powersys\\\\DR\\\\DR;C:\\\\Program Files\\\\MATLAB\\\\R2023a\\\\toolbox\\\\physmod\\\\powersys\\\\demos;C:\\\\Program Files\\\\MATLAB\\\\R2023a\\\\toolbox\\\\physmod\\\\powersys\\\\demos\\\\analysis;C:\\\\Program Files\\\\MATLAB\\\\R2023a\\\\toolbox\\\\physmod\\\\powersys\\\\demos\\\\control;C:\\\\Program Files\\\\MATLAB\\\\R2023a\\\\toolbox\\\\physmod\\\\powersys\\\\demos\\\\doc;C:\\\\Program Files\\\\MATLAB\\\\R2023a\\\\toolbox\\\\physmod\\\\powersys\\\\demos\\\\intro;C:\\\\Program Files\\\\MATLAB\\\\R2023a\\\\toolbox\\\\physmod\\\\powersys\\\\demos\\\\machines;C:\\\\Program Files\\\\MATLAB\\\\R2023a\\\\toolbox\\\\physmod\\\\powersys\\\\demos\\\\motordrives;C:\\\\Program Files\\\\MATLAB\\\\R2023a\\\\toolbox\\\\physmod\\\\powersys\\\\demos\\\\powerconverters;C:\\\\Program Files\\\\MATLAB\\\\R2023a\\\\toolbox\\\\physmod\\\\powersys\\\\demos\\\\powergrid;C:\\\\Program Files\\\\MATLAB\\\\R2023a\\\\toolbox\\\\physmod\\\\powersys\\\\demos\\\\renewables;C:\\\\Program Files\\\\MATLAB\\\\R2023a\\\\toolbox\\\\physmod\\\\powersys\\\\drives\\\\drives;C:\\\\Program Files\\\\MATLAB\\\\R2023a\\\\toolbox\\\\physmod\\\\powersys\\\\drives\\\\drivesdemo;C:\\\\Program Files\\\\MATLAB\\\\R2023a\\\\toolbox\\\\physmod\\\\powersys\\\\facts\\\\facts;C:\\\\Program Files\\\\MATLAB\\\\R2023a\\\\toolbox\\\\physmod\\\\powersys\\\\library;C:\\\\Program Files\\\\MATLAB\\\\R2023a\\\\toolbox\\\\physmod\\\\powersys\\\\library\\\\control;C:\\\\Program Files\\\\MATLAB\\\\R2023a\\\\toolbox\\\\physmod\\\\powersys\\\\library\\\\electricalmachines;C:\\\\Program Files\\\\MATLAB\\\\R2023a\\\\toolbox\\\\physmod\\\\powersys\\\\library\\\\passives;C:\\\\Program Files\\\\MATLAB\\\\R2023a\\\\toolbox\\\\physmod\\\\powersys\\\\library\\\\powerelectronics;C:\\\\Program Files\\\\MATLAB\\\\R2023a\\\\toolbox\\\\physmod\\\\powersys\\\\library\\\\powergridelements;C:\\\\Program Files\\\\MATLAB\\\\R2023a\\\\toolbox\\\\physmod\\\\powersys\\\\library\\\\sensorsandmeasurements;C:\\\\Program Files\\\\MATLAB\\\\R2023a\\\\toolbox\\\\physmod\\\\powersys\\\\library\\\\sources;C:\\\\Program Files\\\\MATLAB\\\\R2023a\\\\toolbox\\\\physmod\\\\powersys\\\\library\\\\utilities;C:\\\\Program Files\\\\MATLAB\\\\R2023a\\\\toolbox\\\\physmod\\\\powersys\\\\powersys;C:\\\\Program Files\\\\MATLAB\\\\R2023a\\\\toolbox\\\\physmod\\\\powersys\\\\templates;C:\\\\Program Files\\\\MATLAB\\\\R2023a\\\\toolbox\\\\physmod\\\\sdl\\\\advisor\\\\m;C:\\\\Program Files\\\\MATLAB\\\\R2023a\\\\toolbox\\\\physmod\\\\sdl\\\\classic;C:\\\\Program Files\\\\MATLAB\\\\R2023a\\\\toolbox\\\\physmod\\\\sdl\\\\classic\\\\blockIcons;C:\\\\Program Files\\\\MATLAB\\\\R2023a\\\\toolbox\\\\physmod\\\\sdl\\\\sdl;C:\\\\Program Files\\\\MATLAB\\\\R2023a\\\\toolbox\\\\physmod\\\\sdl\\\\sdldemos;C:\\\\Program Files\\\\MATLAB\\\\R2023a\\\\toolbox\\\\physmod\\\\sdl\\\\sdldemos\\\\doc;C:\\\\Program Files\\\\MATLAB\\\\R2023a\\\\toolbox\\\\physmod\\\\sh\\\\advisor\\\\m;C:\\\\Program Files\\\\MATLAB\\\\R2023a\\\\toolbox\\\\physmod\\\\sh\\\\sh;C:\\\\Program Files\\\\MATLAB\\\\R2023a\\\\toolbox\\\\physmod\\\\sh\\\\sh_legacy;C:\\\\Program Files\\\\MATLAB\\\\R2023a\\\\toolbox\\\\physmod\\\\sh\\\\shdemos;C:\\\\Program Files\\\\MATLAB\\\\R2023a\\\\toolbox\\\\physmod\\\\sh\\\\shdemos\\\\doc;C:\\\\Program Files\\\\MATLAB\\\\R2023a\\\\toolbox\\\\physmod\\\\sh\\\\utils;C:\\\\Program Files\\\\MATLAB\\\\R2023a\\\\toolbox\\\\physmod\\\\simrf\\\\m;C:\\\\Program Files\\\\MATLAB\\\\R2023a\\\\toolbox\\\\physmod\\\\simscape\\\\advisor\\\\m;C:\\\\Program Files\\\\MATLAB\\\\R2023a\\\\toolbox\\\\physmod\\\\simscape\\\\compiler\\\\mli\\\\m;C:\\\\Program Files\\\\MATLAB\\\\R2023a\\\\toolbox\\\\physmod\\\\simscape\\\\compiler\\\\patterns\\\\m;C:\\\\Program Files\\\\MATLAB\\\\R2023a\\\\toolbox\\\\physmod\\\\simscape\\\\compiler\\\\sli\\\\m;C:\\\\Program Files\\\\MATLAB\\\\R2023a\\\\toolbox\\\\physmod\\\\simscape\\\\couplers\\\\m;C:\\\\Program Files\\\\MATLAB\\\\R2023a\\\\toolbox\\\\physmod\\\\simscape\\\\domains\\\\mli\\\\m;C:\\\\Program Files\\\\MATLAB\\\\R2023a\\\\toolbox\\\\physmod\\\\simscape\\\\engine\\\\library\\\\m;C:\\\\Program Files\\\\MATLAB\\\\R2023a\\\\toolbox\\\\physmod\\\\simscape\\\\engine\\\\mli\\\\m;C:\\\\Program Files\\\\MATLAB\\\\R2023a\\\\toolbox\\\\physmod\\\\simscape\\\\engine\\\\sli\\\\m;C:\\\\Program Files\\\\MATLAB\\\\R2023a\\\\toolbox\\\\physmod\\\\simscape\\\\fault\\\\m;C:\\\\Program Files\\\\MATLAB\\\\R2023a\\\\toolbox\\\\physmod\\\\simscape\\\\foundation\\\\simscape;C:\\\\Program Files\\\\MATLAB\\\\R2023a\\\\toolbox\\\\physmod\\\\simscape\\\\gui\\\\mli\\\\m;C:\\\\Program Files\\\\MATLAB\\\\R2023a\\\\toolbox\\\\physmod\\\\simscape\\\\language_editor\\\\m;C:\\\\Program Files\\\\MATLAB\\\\R2023a\\\\toolbox\\\\physmod\\\\simscape\\\\library\\\\m;C:\\\\Program Files\\\\MATLAB\\\\R2023a\\\\toolbox\\\\physmod\\\\simscape\\\\library\\\\m\\\\physical_signal_legacy;C:\\\\Program Files\\\\MATLAB\\\\R2023a\\\\toolbox\\\\physmod\\\\simscape\\\\logging\\\\sli\\\\m;C:\\\\Program Files\\\\MATLAB\\\\R2023a\\\\toolbox\\\\physmod\\\\simscape\\\\op\\\\m;C:\\\\Program Files\\\\MATLAB\\\\R2023a\\\\toolbox\\\\physmod\\\\simscape\\\\probe\\\\m;C:\\\\Program Files\\\\MATLAB\\\\R2023a\\\\toolbox\\\\physmod\\\\simscape\\\\reg\\\\m;C:\\\\Program Files\\\\MATLAB\\\\R2023a\\\\toolbox\\\\physmod\\\\simscape\\\\simscape\\\\m;C:\\\\Program Files\\\\MATLAB\\\\R2023a\\\\toolbox\\\\physmod\\\\simscape\\\\simscapedemos;C:\\\\Program Files\\\\MATLAB\\\\R2023a\\\\toolbox\\\\physmod\\\\simscape\\\\simscapedemos\\\\doc;C:\\\\Program Files\\\\MATLAB\\\\R2023a\\\\toolbox\\\\physmod\\\\simscape\\\\sl_toolstrip\\\\m;C:\\\\Program Files\\\\MATLAB\\\\R2023a\\\\toolbox\\\\physmod\\\\simscape\\\\solver\\\\m;C:\\\\Program Files\\\\MATLAB\\\\R2023a\\\\toolbox\\\\physmod\\\\simscape\\\\statistics\\\\sli\\\\m;C:\\\\Program Files\\\\MATLAB\\\\R2023a\\\\toolbox\\\\physmod\\\\simscape\\\\templates;C:\\\\Program Files\\\\MATLAB\\\\R2023a\\\\toolbox\\\\physmod\\\\simscape\\\\utils\\\\m;C:\\\\Program Files\\\\MATLAB\\\\R2023a\\\\toolbox\\\\physmod\\\\sm\\\\core\\\\m;C:\\\\Program Files\\\\MATLAB\\\\R2023a\\\\toolbox\\\\physmod\\\\sm\\\\foundation\\\\mech;C:\\\\Program Files\\\\MATLAB\\\\R2023a\\\\toolbox\\\\physmod\\\\sm\\\\gui\\\\app\\\\m;C:\\\\Program Files\\\\MATLAB\\\\R2023a\\\\toolbox\\\\physmod\\\\sm\\\\gui\\\\gfx\\\\m;C:\\\\Program Files\\\\MATLAB\\\\R2023a\\\\toolbox\\\\physmod\\\\sm\\\\import\\\\m;C:\\\\Program Files\\\\MATLAB\\\\R2023a\\\\toolbox\\\\physmod\\\\sm\\\\local\\\\m;C:\\\\Program Files\\\\MATLAB\\\\R2023a\\\\toolbox\\\\physmod\\\\sm\\\\mli\\\\m;C:\\\\Program Files\\\\MATLAB\\\\R2023a\\\\toolbox\\\\physmod\\\\sm\\\\sli\\\\m;C:\\\\Program Files\\\\MATLAB\\\\R2023a\\\\toolbox\\\\physmod\\\\sm\\\\sli\\\\m\\\\dialog;C:\\\\Program Files\\\\MATLAB\\\\R2023a\\\\toolbox\\\\physmod\\\\sm\\\\sli\\\\m\\\\dialog\\\\toolstrip;C:\\\\Program Files\\\\MATLAB\\\\R2023a\\\\toolbox\\\\physmod\\\\sm\\\\sli\\\\m\\\\romui;C:\\\\Program Files\\\\MATLAB\\\\R2023a\\\\toolbox\\\\physmod\\\\sm\\\\sli\\\\m\\\\romui\\\\toolstrip;C:\\\\Program Files\\\\MATLAB\\\\R2023a\\\\toolbox\\\\physmod\\\\sm\\\\sm\\\\m;C:\\\\Program Files\\\\MATLAB\\\\R2023a\\\\toolbox\\\\physmod\\\\sm\\\\smdemos;C:\\\\Program Files\\\\MATLAB\\\\R2023a\\\\toolbox\\\\physmod\\\\sm\\\\smdemos\\\\backhoe;C:\\\\Program Files\\\\MATLAB\\\\R2023a\\\\toolbox\\\\physmod\\\\sm\\\\smdemos\\\\block_tackle;C:\\\\Program Files\\\\MATLAB\\\\R2023a\\\\toolbox\\\\physmod\\\\sm\\\\smdemos\\\\block_tackle\\\\images;C:\\\\Program Files\\\\MATLAB\\\\R2023a\\\\toolbox\\\\physmod\\\\sm\\\\smdemos\\\\bread_slicer;C:\\\\Program Files\\\\MATLAB\\\\R2023a\\\\toolbox\\\\physmod\\\\sm\\\\smdemos\\\\bread_slicer\\\\images;C:\\\\Program Files\\\\MATLAB\\\\R2023a\\\\toolbox\\\\physmod\\\\sm\\\\smdemos\\\\bumper_car;C:\\\\Program Files\\\\MATLAB\\\\R2023a\\\\toolbox\\\\physmod\\\\sm\\\\smdemos\\\\bumper_car\\\\images;C:\\\\Program Files\\\\MATLAB\\\\R2023a\\\\toolbox\\\\physmod\\\\sm\\\\smdemos\\\\cable_robot;C:\\\\Program Files\\\\MATLAB\\\\R2023a\\\\toolbox\\\\physmod\\\\sm\\\\smdemos\\\\cable_xy_table;C:\\\\Program Files\\\\MATLAB\\\\R2023a\\\\toolbox\\\\physmod\\\\sm\\\\smdemos\\\\cable_xy_table\\\\images;C:\\\\Program Files\\\\MATLAB\\\\R2023a\\\\toolbox\\\\physmod\\\\sm\\\\smdemos\\\\cam_flapping_wing;C:\\\\Program Files\\\\MATLAB\\\\R2023a\\\\toolbox\\\\physmod\\\\sm\\\\smdemos\\\\car_4post_testrig;C:\\\\Program Files\\\\MATLAB\\\\R2023a\\\\toolbox\\\\physmod\\\\sm\\\\smdemos\\\\car_4post_testrig\\\\images;C:\\\\Program Files\\\\MATLAB\\\\R2023a\\\\toolbox\\\\physmod\\\\sm\\\\smdemos\\\\car_heave_roll;C:\\\\Program Files\\\\MATLAB\\\\R2023a\\\\toolbox\\\\physmod\\\\sm\\\\smdemos\\\\cardan_gear;C:\\\\Program Files\\\\MATLAB\\\\R2023a\\\\toolbox\\\\physmod\\\\sm\\\\smdemos\\\\cardan_gear\\\\images;C:\\\\Program Files\\\\MATLAB\\\\R2023a\\\\toolbox\\\\physmod\\\\sm\\\\smdemos\\\\carousel;C:\\\\Program Files\\\\MATLAB\\\\R2023a\\\\toolbox\\\\physmod\\\\sm\\\\smdemos\\\\cart_double_pendulum;C:\\\\Program Files\\\\MATLAB\\\\R2023a\\\\toolbox\\\\physmod\\\\sm\\\\smdemos\\\\cart_double_pendulum\\\\images;C:\\\\Program Files\\\\MATLAB\\\\R2023a\\\\toolbox\\\\physmod\\\\sm\\\\smdemos\\\\common_gear;C:\\\\Program Files\\\\MATLAB\\\\R2023a\\\\toolbox\\\\physmod\\\\sm\\\\smdemos\\\\common_gear\\\\images;C:\\\\Program Files\\\\MATLAB\\\\R2023a\\\\toolbox\\\\physmod\\\\sm\\\\smdemos\\\\doc;C:\\\\Program Files\\\\MATLAB\\\\R2023a\\\\toolbox\\\\physmod\\\\sm\\\\smdemos\\\\doc\\\\beams;C:\\\\Program Files\\\\MATLAB\\\\R2023a\\\\toolbox\\\\physmod\\\\sm\\\\smdemos\\\\doc\\\\bevel_gear;C:\\\\Program Files\\\\MATLAB\\\\R2023a\\\\toolbox\\\\physmod\\\\sm\\\\smdemos\\\\doc\\\\common_gear_external;C:\\\\Program Files\\\\MATLAB\\\\R2023a\\\\toolbox\\\\physmod\\\\sm\\\\smdemos\\\\doc\\\\common_gear_internal;C:\\\\Program Files\\\\MATLAB\\\\R2023a\\\\toolbox\\\\physmod\\\\sm\\\\smdemos\\\\doc\\\\inertias;C:\\\\Program Files\\\\MATLAB\\\\R2023a\\\\toolbox\\\\physmod\\\\sm\\\\smdemos\\\\doc\\\\poc_cam;C:\\\\Program Files\\\\MATLAB\\\\R2023a\\\\toolbox\\\\physmod\\\\sm\\\\smdemos\\\\doc\\\\poc_flap;C:\\\\Program Files\\\\MATLAB\\\\R2023a\\\\toolbox\\\\physmod\\\\sm\\\\smdemos\\\\doc\\\\pulleys;C:\\\\Program Files\\\\MATLAB\\\\R2023a\\\\toolbox\\\\physmod\\\\sm\\\\smdemos\\\\doc\\\\pulleys\\\\images;C:\\\\Program Files\\\\MATLAB\\\\R2023a\\\\toolbox\\\\physmod\\\\sm\\\\smdemos\\\\doc\\\\rack_and_pinion;C:\\\\Program Files\\\\MATLAB\\\\R2023a\\\\toolbox\\\\physmod\\\\sm\\\\smdemos\\\\doc\\\\worm_and_gear;C:\\\\Program Files\\\\MATLAB\\\\R2023a\\\\toolbox\\\\physmod\\\\sm\\\\smdemos\\\\double_crank_aiming;C:\\\\Program Files\\\\MATLAB\\\\R2023a\\\\toolbox\\\\physmod\\\\sm\\\\smdemos\\\\double_crank_aiming\\\\images;C:\\\\Program Files\\\\MATLAB\\\\R2023a\\\\toolbox\\\\physmod\\\\sm\\\\smdemos\\\\double_wishbone_suspension;C:\\\\Program Files\\\\MATLAB\\\\R2023a\\\\toolbox\\\\physmod\\\\sm\\\\smdemos\\\\double_wishbone_suspension\\\\images;C:\\\\Program Files\\\\MATLAB\\\\R2023a\\\\toolbox\\\\physmod\\\\sm\\\\smdemos\\\\drive_right_angle;C:\\\\Program Files\\\\MATLAB\\\\R2023a\\\\toolbox\\\\physmod\\\\sm\\\\smdemos\\\\drive_right_angle\\\\images;C:\\\\Program Files\\\\MATLAB\\\\R2023a\\\\toolbox\\\\physmod\\\\sm\\\\smdemos\\\\drop_and_catch;C:\\\\Program Files\\\\MATLAB\\\\R2023a\\\\toolbox\\\\physmod\\\\sm\\\\smdemos\\\\dump_trailer;C:\\\\Program Files\\\\MATLAB\\\\R2023a\\\\toolbox\\\\physmod\\\\sm\\\\smdemos\\\\elevator;C:\\\\Program Files\\\\MATLAB\\\\R2023a\\\\toolbox\\\\physmod\\\\sm\\\\smdemos\\\\elevator\\\\images;C:\\\\Program Files\\\\MATLAB\\\\R2023a\\\\toolbox\\\\physmod\\\\sm\\\\smdemos\\\\flexible_dipper_arm;C:\\\\Program Files\\\\MATLAB\\\\R2023a\\\\toolbox\\\\physmod\\\\sm\\\\smdemos\\\\flexible_dipper_arm\\\\data;C:\\\\Program Files\\\\MATLAB\\\\R2023a\\\\toolbox\\\\physmod\\\\sm\\\\smdemos\\\\flexible_dipper_arm\\\\geometries;C:\\\\Program Files\\\\MATLAB\\\\R2023a\\\\toolbox\\\\physmod\\\\sm\\\\smdemos\\\\flexible_dipper_arm\\\\images;C:\\\\Program Files\\\\MATLAB\\\\R2023a\\\\toolbox\\\\physmod\\\\sm\\\\smdemos\\\\forklift;C:\\\\Program Files\\\\MATLAB\\\\R2023a\\\\toolbox\\\\physmod\\\\sm\\\\smdemos\\\\forklift\\\\images;C:\\\\Program Files\\\\MATLAB\\\\R2023a\\\\toolbox\\\\physmod\\\\sm\\\\smdemos\\\\grid_surface_ball;C:\\\\Program Files\\\\MATLAB\\\\R2023a\\\\toolbox\\\\physmod\\\\sm\\\\smdemos\\\\images;C:\\\\Program Files\\\\MATLAB\\\\R2023a\\\\toolbox\\\\physmod\\\\sm\\\\smdemos\\\\import\\\\four_bar;C:\\\\Program Files\\\\MATLAB\\\\R2023a\\\\toolbox\\\\physmod\\\\sm\\\\smdemos\\\\import\\\\humanoid_urdf;C:\\\\Program Files\\\\MATLAB\\\\R2023a\\\\toolbox\\\\physmod\\\\sm\\\\smdemos\\\\import\\\\robot;C:\\\\Program Files\\\\MATLAB\\\\R2023a\\\\toolbox\\\\physmod\\\\sm\\\\smdemos\\\\import\\\\robot_stepfiles;C:\\\\Program Files\\\\MATLAB\\\\R2023a\\\\toolbox\\\\physmod\\\\sm\\\\smdemos\\\\import\\\\stewart_platform;C:\\\\Program Files\\\\MATLAB\\\\R2023a\\\\toolbox\\\\physmod\\\\sm\\\\smdemos\\\\interface_elements;C:\\\\Program Files\\\\MATLAB\\\\R2023a\\\\toolbox\\\\physmod\\\\sm\\\\smdemos\\\\leadscrew_friction;C:\\\\Program Files\\\\MATLAB\\\\R2023a\\\\toolbox\\\\physmod\\\\sm\\\\smdemos\\\\linear_actuator;C:\\\\Program Files\\\\MATLAB\\\\R2023a\\\\toolbox\\\\physmod\\\\sm\\\\smdemos\\\\pick_and_place_robot;C:\\\\Program Files\\\\MATLAB\\\\R2023a\\\\toolbox\\\\physmod\\\\sm\\\\smdemos\\\\pick_and_place_robot\\\\images;C:\\\\Program Files\\\\MATLAB\\\\R2023a\\\\toolbox\\\\physmod\\\\sm\\\\smdemos\\\\potters_wheel;C:\\\\Program Files\\\\MATLAB\\\\R2023a\\\\toolbox\\\\physmod\\\\sm\\\\smdemos\\\\pto_shaft;C:\\\\Program Files\\\\MATLAB\\\\R2023a\\\\toolbox\\\\physmod\\\\sm\\\\smdemos\\\\quadcopter_package_delivery;C:\\\\Program Files\\\\MATLAB\\\\R2023a\\\\toolbox\\\\physmod\\\\sm\\\\smdemos\\\\quadcopter_package_delivery\\\\images;C:\\\\Program Files\\\\MATLAB\\\\R2023a\\\\toolbox\\\\physmod\\\\sm\\\\smdemos\\\\radial_engine;C:\\\\Program Files\\\\MATLAB\\\\R2023a\\\\toolbox\\\\physmod\\\\sm\\\\smdemos\\\\radial_engine\\\\images;C:\\\\Program Files\\\\MATLAB\\\\R2023a\\\\toolbox\\\\physmod\\\\sm\\\\smdemos\\\\robotic_wrist;C:\\\\Program Files\\\\MATLAB\\\\R2023a\\\\toolbox\\\\physmod\\\\sm\\\\smdemos\\\\sailboat;C:\\\\Program Files\\\\MATLAB\\\\R2023a\\\\toolbox\\\\physmod\\\\sm\\\\smdemos\\\\sailboat\\\\geometries;C:\\\\Program Files\\\\MATLAB\\\\R2023a\\\\toolbox\\\\physmod\\\\sm\\\\smdemos\\\\sailboat\\\\images;C:\\\\Program Files\\\\MATLAB\\\\R2023a\\\\toolbox\\\\physmod\\\\sm\\\\smdemos\\\\solar_tracker;C:\\\\Program Files\\\\MATLAB\\\\R2023a\\\\toolbox\\\\physmod\\\\sm\\\\smdemos\\\\space_manipulator;C:\\\\Program Files\\\\MATLAB\\\\R2023a\\\\toolbox\\\\physmod\\\\sm\\\\smdemos\\\\space_manipulator\\\\images;C:\\\\Program Files\\\\MATLAB\\\\R2023a\\\\toolbox\\\\physmod\\\\sm\\\\smdemos\\\\stewart_platform;C:\\\\Program Files\\\\MATLAB\\\\R2023a\\\\toolbox\\\\physmod\\\\sm\\\\smdemos\\\\stewart_platform\\\\images;C:\\\\Program Files\\\\MATLAB\\\\R2023a\\\\toolbox\\\\physmod\\\\sm\\\\smdemos\\\\suspension_templates;C:\\\\Program Files\\\\MATLAB\\\\R2023a\\\\toolbox\\\\physmod\\\\sm\\\\smdemos\\\\tower_crane;C:\\\\Program Files\\\\MATLAB\\\\R2023a\\\\toolbox\\\\physmod\\\\sm\\\\smdemos\\\\tower_crane\\\\images;C:\\\\Program Files\\\\MATLAB\\\\R2023a\\\\toolbox\\\\physmod\\\\sm\\\\smdemos\\\\vehicle_slalom;C:\\\\Program Files\\\\MATLAB\\\\R2023a\\\\toolbox\\\\physmod\\\\sm\\\\smdemos\\\\welding_robot;C:\\\\Program Files\\\\MATLAB\\\\R2023a\\\\toolbox\\\\physmod\\\\sm\\\\smdemos\\\\windshield_wiper;C:\\\\Program Files\\\\MATLAB\\\\R2023a\\\\toolbox\\\\physmod\\\\sm\\\\smdemos\\\\windshield_wiper\\\\images;C:\\\\Program Files\\\\MATLAB\\\\R2023a\\\\toolbox\\\\physmod\\\\sm\\\\smdemos\\\\wing_landing_gear;C:\\\\Program Files\\\\MATLAB\\\\R2023a\\\\toolbox\\\\physmod\\\\sm\\\\smdemos\\\\wing_landing_gear\\\\images;C:\\\\Program Files\\\\MATLAB\\\\R2023a\\\\toolbox\\\\physmod\\\\sm\\\\smdemos\\\\worm_jack;C:\\\\Program Files\\\\MATLAB\\\\R2023a\\\\toolbox\\\\physmod\\\\sm\\\\ssci\\\\continuous\\\\sli\\\\m;C:\\\\Program Files\\\\MATLAB\\\\R2023a\\\\toolbox\\\\physmod\\\\sm\\\\ssci\\\\core\\\\m;C:\\\\Program Files\\\\MATLAB\\\\R2023a\\\\toolbox\\\\physmod\\\\sm\\\\templates\\\\m;C:\\\\Program Files\\\\MATLAB\\\\R2023a\\\\toolbox\\\\physmod\\\\sps\\\\sps;C:\\\\Program Files\\\\MATLAB\\\\R2023a\\\\toolbox\\\\plccoder\\\\modeladvisor;C:\\\\Program Files\\\\MATLAB\\\\R2023a\\\\toolbox\\\\plccoder\\\\plccoder;C:\\\\Program Files\\\\MATLAB\\\\R2023a\\\\toolbox\\\\plccoder\\\\plccoder\\\\ladderlogic\\\\code;C:\\\\Program Files\\\\MATLAB\\\\R2023a\\\\toolbox\\\\plccoder\\\\plccoder\\\\ladderlogic\\\\plclib\\\\studio5000;C:\\\\Program Files\\\\MATLAB\\\\R2023a\\\\toolbox\\\\plccoder\\\\plccoder\\\\ladderlogic\\\\targets\\\\studio5000;C:\\\\Program Files\\\\MATLAB\\\\R2023a\\\\toolbox\\\\plccoder\\\\plccoderdemos;C:\\\\Program Files\\\\MATLAB\\\\R2023a\\\\toolbox\\\\plccoder\\\\plccoderdemos\\\\ladder_drawworks;C:\\\\Program Files\\\\MATLAB\\\\R2023a\\\\toolbox\\\\plccoder\\\\plccoderdemos\\\\ladder_elevator;C:\\\\Program Files\\\\MATLAB\\\\R2023a\\\\toolbox\\\\plccoder\\\\plccoderdemos\\\\ladder_househeat;C:\\\\Program Files\\\\MATLAB\\\\R2023a\\\\toolbox\\\\plccoder\\\\plccoderdemos\\\\ladder_tankcontrol;C:\\\\Program Files\\\\MATLAB\\\\R2023a\\\\toolbox\\\\plccoder\\\\plugins\\\\indraworks;C:\\\\Program Files\\\\MATLAB\\\\R2023a\\\\toolbox\\\\plccoder\\\\plugins\\\\omron;C:\\\\Program Files\\\\MATLAB\\\\R2023a\\\\toolbox\\\\plccoder\\\\plugins\\\\plcopen;C:\\\\Program Files\\\\MATLAB\\\\R2023a\\\\toolbox\\\\plccoder\\\\plugins\\\\rslogix5000;C:\\\\Program Files\\\\MATLAB\\\\R2023a\\\\toolbox\\\\plccoder\\\\plugins\\\\rslogix5000_routine;C:\\\\Program Files\\\\MATLAB\\\\R2023a\\\\toolbox\\\\plccoder\\\\plugins\\\\selectron;C:\\\\Program Files\\\\MATLAB\\\\R2023a\\\\toolbox\\\\plccoder\\\\plugins\\\\studio5000;C:\\\\Program Files\\\\MATLAB\\\\R2023a\\\\toolbox\\\\plccoder\\\\plugins\\\\studio5000_routine;C:\\\\Program Files\\\\MATLAB\\\\R2023a\\\\toolbox\\\\predmaint\\\\predmaint;C:\\\\Program Files\\\\MATLAB\\\\R2023a\\\\toolbox\\\\predmaint\\\\predmaintdemos;C:\\\\Program Files\\\\MATLAB\\\\R2023a\\\\toolbox\\\\predmaint\\\\predmaintguis;C:\\\\Program Files\\\\MATLAB\\\\R2023a\\\\toolbox\\\\realtime;C:\\\\Program Files\\\\MATLAB\\\\R2023a\\\\toolbox\\\\realtime\\\\realtime;C:\\\\Program Files\\\\MATLAB\\\\R2023a\\\\toolbox\\\\realtime\\\\realtime\\\\rtw;C:\\\\Program Files\\\\MATLAB\\\\R2023a\\\\toolbox\\\\rf\\\\rf;C:\\\\Program Files\\\\MATLAB\\\\R2023a\\\\toolbox\\\\rf\\\\rfnetparamfiles;C:\\\\Program Files\\\\MATLAB\\\\R2023a\\\\toolbox\\\\rfblks\\\\rfblks;C:\\\\Program Files\\\\MATLAB\\\\R2023a\\\\toolbox\\\\rfblks\\\\rfblksmasks;C:\\\\Program Files\\\\MATLAB\\\\R2023a\\\\toolbox\\\\rfblks\\\\rfblksmex;C:\\\\Program Files\\\\MATLAB\\\\R2023a\\\\toolbox\\\\rfpcb\\\\rfpcb;C:\\\\Program Files\\\\MATLAB\\\\R2023a\\\\toolbox\\\\rfpcb\\\\rfpcb\\\\rfpcbutilities;C:\\\\Program Files\\\\MATLAB\\\\R2023a\\\\toolbox\\\\rfpcb\\\\rfpcb\\\\shapes;C:\\\\Program Files\\\\MATLAB\\\\R2023a\\\\toolbox\\\\risk\\\\bigdata;C:\\\\Program Files\\\\MATLAB\\\\R2023a\\\\toolbox\\\\risk\\\\risk;C:\\\\Program Files\\\\MATLAB\\\\R2023a\\\\toolbox\\\\risk\\\\riskdata;C:\\\\Program Files\\\\MATLAB\\\\R2023a\\\\toolbox\\\\rl\\\\rl;C:\\\\Program Files\\\\MATLAB\\\\R2023a\\\\toolbox\\\\rl\\\\rl\\\\simulink;C:\\\\Program Files\\\\MATLAB\\\\R2023a\\\\toolbox\\\\rl\\\\rl\\\\simulink\\\\libs;C:\\\\Program Files\\\\MATLAB\\\\R2023a\\\\toolbox\\\\rl\\\\rl\\\\simulink\\\\models;C:\\\\Program Files\\\\MATLAB\\\\R2023a\\\\toolbox\\\\rl\\\\rlobsolete;C:\\\\Program Files\\\\MATLAB\\\\R2023a\\\\toolbox\\\\robotics\\\\ikdesigner;C:\\\\Program Files\\\\MATLAB\\\\R2023a\\\\toolbox\\\\robotics\\\\robotexamples;C:\\\\Program Files\\\\MATLAB\\\\R2023a\\\\toolbox\\\\robotics\\\\robotexamples\\\\robotalgs;C:\\\\Program Files\\\\MATLAB\\\\R2023a\\\\toolbox\\\\robotics\\\\robotexamples\\\\robotmanip;C:\\\\Program Files\\\\MATLAB\\\\R2023a\\\\toolbox\\\\robotics\\\\robotexamples\\\\ros;C:\\\\Program Files\\\\MATLAB\\\\R2023a\\\\toolbox\\\\robotics\\\\robotexamples\\\\ros\\\\data\\\\bags;C:\\\\Program Files\\\\MATLAB\\\\R2023a\\\\toolbox\\\\robotics\\\\robotgazebo\\\\gazebomatlab;C:\\\\Program Files\\\\MATLAB\\\\R2023a\\\\toolbox\\\\robotics\\\\robothoops;C:\\\\Program Files\\\\MATLAB\\\\R2023a\\\\toolbox\\\\robotics\\\\robotics;C:\\\\Program Files\\\\MATLAB\\\\R2023a\\\\toolbox\\\\robotics\\\\robotmanip;C:\\\\Program Files\\\\MATLAB\\\\R2023a\\\\toolbox\\\\robotics\\\\robotmanip\\\\exampleRobots\\\\iiwa_description\\\\urdf;C:\\\\Program Files\\\\MATLAB\\\\R2023a\\\\toolbox\\\\robotics\\\\robotmanip\\\\exampleRobots\\\\sawyer_description\\\\urdf;C:\\\\Program Files\\\\MATLAB\\\\R2023a\\\\toolbox\\\\robotics\\\\robotmanip\\\\navinterface;C:\\\\Program Files\\\\MATLAB\\\\R2023a\\\\toolbox\\\\robotics\\\\robotmanip\\\\robotModels\\\\robotmat;C:\\\\Program Files\\\\MATLAB\\\\R2023a\\\\toolbox\\\\robotics\\\\robotmanip\\\\robotModels\\\\roboturdf;C:\\\\Program Files\\\\MATLAB\\\\R2023a\\\\toolbox\\\\robotics\\\\robotmanip\\\\xacro2urdf\\\\bin;C:\\\\Program Files\\\\MATLAB\\\\R2023a\\\\toolbox\\\\robotics\\\\robotmobile;C:\\\\Program Files\\\\MATLAB\\\\R2023a\\\\toolbox\\\\robotics\\\\robotscenario;C:\\\\Program Files\\\\MATLAB\\\\R2023a\\\\toolbox\\\\robotics\\\\robotsimulink;C:\\\\Program Files\\\\MATLAB\\\\R2023a\\\\toolbox\\\\robotics\\\\robotsimulink\\\\blockicons;C:\\\\Program Files\\\\MATLAB\\\\R2023a\\\\toolbox\\\\robotics\\\\robotsimulink\\\\robotslgazebo;C:\\\\Program Files\\\\MATLAB\\\\R2023a\\\\toolbox\\\\robotics\\\\robotsimulink\\\\robotslmanip;C:\\\\Program Files\\\\MATLAB\\\\R2023a\\\\toolbox\\\\robotics\\\\robotsimulink\\\\robotslmobile;C:\\\\Program Files\\\\MATLAB\\\\R2023a\\\\toolbox\\\\robust\\\\rctlmi;C:\\\\Program Files\\\\MATLAB\\\\R2023a\\\\toolbox\\\\robust\\\\rctobsolete\\\\lmi;C:\\\\Program Files\\\\MATLAB\\\\R2023a\\\\toolbox\\\\robust\\\\rctobsolete\\\\mutools\\\\commands;C:\\\\Program Files\\\\MATLAB\\\\R2023a\\\\toolbox\\\\robust\\\\rctobsolete\\\\mutools\\\\subs;C:\\\\Program Files\\\\MATLAB\\\\R2023a\\\\toolbox\\\\robust\\\\rctobsolete\\\\robust;C:\\\\Program Files\\\\MATLAB\\\\R2023a\\\\toolbox\\\\robust\\\\rctutil;C:\\\\Program Files\\\\MATLAB\\\\R2023a\\\\toolbox\\\\robust\\\\robust;C:\\\\Program Files\\\\MATLAB\\\\R2023a\\\\toolbox\\\\ros\\\\codertarget;C:\\\\Program Files\\\\MATLAB\\\\R2023a\\\\toolbox\\\\ros\\\\codertarget\\\\registry;C:\\\\Program Files\\\\MATLAB\\\\R2023a\\\\toolbox\\\\ros\\\\codertarget\\\\ros2;C:\\\\Program Files\\\\MATLAB\\\\R2023a\\\\toolbox\\\\ros\\\\codertarget\\\\tlc;C:\\\\Program Files\\\\MATLAB\\\\R2023a\\\\toolbox\\\\ros\\\\mlros2;C:\\\\Program Files\\\\MATLAB\\\\R2023a\\\\toolbox\\\\ros\\\\mlros2\\\\registry;C:\\\\Program Files\\\\MATLAB\\\\R2023a\\\\toolbox\\\\ros\\\\mlros2\\\\rmwconfigui;C:\\\\Program Files\\\\MATLAB\\\\R2023a\\\\toolbox\\\\ros\\\\mlroscpp;C:\\\\Program Files\\\\MATLAB\\\\R2023a\\\\toolbox\\\\ros\\\\mlroscpp\\\\toolchain;C:\\\\Program Files\\\\MATLAB\\\\R2023a\\\\toolbox\\\\ros\\\\mlroscpp\\\\util;C:\\\\Program Files\\\\MATLAB\\\\R2023a\\\\toolbox\\\\ros\\\\preferences;C:\\\\Program Files\\\\MATLAB\\\\R2023a\\\\toolbox\\\\ros\\\\ros;C:\\\\Program Files\\\\MATLAB\\\\R2023a\\\\toolbox\\\\ros\\\\slros2;C:\\\\Program Files\\\\MATLAB\\\\R2023a\\\\toolbox\\\\ros\\\\slroscpp;C:\\\\Program Files\\\\MATLAB\\\\R2023a\\\\toolbox\\\\ros\\\\sltoolstrip\\\\m;C:\\\\Program Files\\\\MATLAB\\\\R2023a\\\\toolbox\\\\ros\\\\utilities;C:\\\\Program Files\\\\MATLAB\\\\R2023a\\\\toolbox\\\\ros\\\\utilities\\\\icons;C:\\\\Program Files\\\\MATLAB\\\\R2023a\\\\toolbox\\\\ros\\\\visualizationapp;C:\\\\Program Files\\\\MATLAB\\\\R2023a\\\\toolbox\\\\rptgen\\\\rptgen;C:\\\\Program Files\\\\MATLAB\\\\R2023a\\\\toolbox\\\\rptgen\\\\rptgendemos;C:\\\\Program Files\\\\MATLAB\\\\R2023a\\\\toolbox\\\\rptgen\\\\rptgendemos\\\\domapi;C:\\\\Program Files\\\\MATLAB\\\\R2023a\\\\toolbox\\\\rptgen\\\\xmlcomp;C:\\\\Program Files\\\\MATLAB\\\\R2023a\\\\toolbox\\\\rptgenext\\\\rptgenext;C:\\\\Program Files\\\\MATLAB\\\\R2023a\\\\toolbox\\\\rptgenext\\\\rptgenextdemos;C:\\\\Program Files\\\\MATLAB\\\\R2023a\\\\toolbox\\\\rptgenext\\\\slxmlcomp;C:\\\\Program Files\\\\MATLAB\\\\R2023a\\\\toolbox\\\\safety\\\\core\\\\sys_safety\\\\sys_safety;C:\\\\Program Files\\\\MATLAB\\\\R2023a\\\\toolbox\\\\safety\\\\manager\\\\m;C:\\\\Program Files\\\\MATLAB\\\\R2023a\\\\toolbox\\\\safety\\\\manager\\\\templates;C:\\\\Program Files\\\\MATLAB\\\\R2023a\\\\toolbox\\\\safety\\\\safety;C:\\\\Program Files\\\\MATLAB\\\\R2023a\\\\toolbox\\\\satcom\\\\satcom;C:\\\\Program Files\\\\MATLAB\\\\R2023a\\\\toolbox\\\\sequencediagram\\\\execution\\\\m;C:\\\\Program Files\\\\MATLAB\\\\R2023a\\\\toolbox\\\\sequencediagram\\\\execution_library;C:\\\\Program Files\\\\MATLAB\\\\R2023a\\\\toolbox\\\\sequencediagram\\\\sl\\\\m;C:\\\\Program Files\\\\MATLAB\\\\R2023a\\\\toolbox\\\\sequencediagram\\\\web\\\\m;C:\\\\Program Files\\\\MATLAB\\\\R2023a\\\\toolbox\\\\serdes\\\\amicodegen;C:\\\\Program Files\\\\MATLAB\\\\R2023a\\\\toolbox\\\\serdes\\\\amicodegen\\\\registry;C:\\\\Program Files\\\\MATLAB\\\\R2023a\\\\toolbox\\\\serdes\\\\helperfiles;C:\\\\Program Files\\\\MATLAB\\\\R2023a\\\\toolbox\\\\serdes\\\\serdes;C:\\\\Program Files\\\\MATLAB\\\\R2023a\\\\toolbox\\\\serdes\\\\upgradeadvisor;C:\\\\Program Files\\\\MATLAB\\\\R2023a\\\\toolbox\\\\shared\\\\adlib;C:\\\\Program Files\\\\MATLAB\\\\R2023a\\\\toolbox\\\\shared\\\\advisor;C:\\\\Program Files\\\\MATLAB\\\\R2023a\\\\toolbox\\\\shared\\\\aeroblks;C:\\\\Program Files\\\\MATLAB\\\\R2023a\\\\toolbox\\\\shared\\\\aeroblks\\\\aeroblksutilities;C:\\\\Program Files\\\\MATLAB\\\\R2023a\\\\toolbox\\\\shared\\\\aerospace\\\\quaternion_math;C:\\\\Program Files\\\\MATLAB\\\\R2023a\\\\toolbox\\\\shared\\\\appdes\\\\services;C:\\\\Program Files\\\\MATLAB\\\\R2023a\\\\toolbox\\\\shared\\\\asam\\\\a2l;C:\\\\Program Files\\\\MATLAB\\\\R2023a\\\\toolbox\\\\shared\\\\asam\\\\cdfx;C:\\\\Program Files\\\\MATLAB\\\\R2023a\\\\toolbox\\\\shared\\\\asam\\\\mcd2mc\\\\package;C:\\\\Program Files\\\\MATLAB\\\\R2023a\\\\toolbox\\\\shared\\\\asam\\\\mdf;C:\\\\Program Files\\\\MATLAB\\\\R2023a\\\\toolbox\\\\shared\\\\asynciolib;C:\\\\Program Files\\\\MATLAB\\\\R2023a\\\\toolbox\\\\shared\\\\audio\\\\signallabeler;C:\\\\Program Files\\\\MATLAB\\\\R2023a\\\\toolbox\\\\shared\\\\autonomous\\\\autonomouslib;C:\\\\Program Files\\\\MATLAB\\\\R2023a\\\\toolbox\\\\shared\\\\autonomous\\\\maplib;C:\\\\Program Files\\\\MATLAB\\\\R2023a\\\\toolbox\\\\shared\\\\autonomous\\\\maplib\\\\internal;C:\\\\Program Files\\\\MATLAB\\\\R2023a\\\\toolbox\\\\shared\\\\basemaps;C:\\\\Program Files\\\\MATLAB\\\\R2023a\\\\toolbox\\\\shared\\\\bigdata;C:\\\\Program Files\\\\MATLAB\\\\R2023a\\\\toolbox\\\\shared\\\\blelib;C:\\\\Program Files\\\\MATLAB\\\\R2023a\\\\toolbox\\\\shared\\\\buildings;C:\\\\Program Files\\\\MATLAB\\\\R2023a\\\\toolbox\\\\shared\\\\can;C:\\\\Program Files\\\\MATLAB\\\\R2023a\\\\toolbox\\\\shared\\\\can\\\\canblks;C:\\\\Program Files\\\\MATLAB\\\\R2023a\\\\toolbox\\\\shared\\\\can\\\\canmasks;C:\\\\Program Files\\\\MATLAB\\\\R2023a\\\\toolbox\\\\shared\\\\can\\\\canmex;C:\\\\Program Files\\\\MATLAB\\\\R2023a\\\\toolbox\\\\shared\\\\cgir_fe;C:\\\\Program Files\\\\MATLAB\\\\R2023a\\\\toolbox\\\\shared\\\\cgxe\\\\cgxe;C:\\\\Program Files\\\\MATLAB\\\\R2023a\\\\toolbox\\\\shared\\\\channel;C:\\\\Program Files\\\\MATLAB\\\\R2023a\\\\toolbox\\\\shared\\\\channel\\\\raytracing;C:\\\\Program Files\\\\MATLAB\\\\R2023a\\\\toolbox\\\\shared\\\\channel\\\\rfprop;C:\\\\Program Files\\\\MATLAB\\\\R2023a\\\\toolbox\\\\shared\\\\channel\\\\terrain;C:\\\\Program Files\\\\MATLAB\\\\R2023a\\\\toolbox\\\\shared\\\\cmlink\\\\matlab;C:\\\\Program Files\\\\MATLAB\\\\R2023a\\\\toolbox\\\\shared\\\\cmlink\\\\preferences;C:\\\\Program Files\\\\MATLAB\\\\R2023a\\\\toolbox\\\\shared\\\\cmlink\\\\view\\\\action_web\\\\cmlink-action-ui\\\\matlab;C:\\\\Program Files\\\\MATLAB\\\\R2023a\\\\toolbox\\\\shared\\\\cmlink\\\\view\\\\core;C:\\\\Program Files\\\\MATLAB\\\\R2023a\\\\toolbox\\\\shared\\\\codeinstrum\\\\codeinstrum;C:\\\\Program Files\\\\MATLAB\\\\R2023a\\\\toolbox\\\\shared\\\\codeinstrum\\\\core_mi\\\\core_mi;C:\\\\Program Files\\\\MATLAB\\\\R2023a\\\\toolbox\\\\shared\\\\coder\\\\coder;C:\\\\Program Files\\\\MATLAB\\\\R2023a\\\\toolbox\\\\shared\\\\coder\\\\coder\\\\gpucoder;C:\\\\Program Files\\\\MATLAB\\\\R2023a\\\\toolbox\\\\shared\\\\coder\\\\coder\\\\lib;C:\\\\Program Files\\\\MATLAB\\\\R2023a\\\\toolbox\\\\shared\\\\coder\\\\reportinfo;C:\\\\Program Files\\\\MATLAB\\\\R2023a\\\\toolbox\\\\shared\\\\codergui\\\\codergui;C:\\\\Program Files\\\\MATLAB\\\\R2023a\\\\toolbox\\\\shared\\\\comm_msblks_serdes\\\\comm_msblks_serdes;C:\\\\Program Files\\\\MATLAB\\\\R2023a\\\\toolbox\\\\shared\\\\comm_msblks_serdes\\\\scopes;C:\\\\Program Files\\\\MATLAB\\\\R2023a\\\\toolbox\\\\shared\\\\comm_msblks_serdes\\\\utilities;C:\\\\Program Files\\\\MATLAB\\\\R2023a\\\\toolbox\\\\shared\\\\comparisons;C:\\\\Program Files\\\\MATLAB\\\\R2023a\\\\toolbox\\\\shared\\\\configset;C:\\\\Program Files\\\\MATLAB\\\\R2023a\\\\toolbox\\\\shared\\\\configset_model\\\\configset;C:\\\\Program Files\\\\MATLAB\\\\R2023a\\\\toolbox\\\\shared\\\\configset_view\\\\m;C:\\\\Program Files\\\\MATLAB\\\\R2023a\\\\toolbox\\\\shared\\\\controllib\\\\engine;C:\\\\Program Files\\\\MATLAB\\\\R2023a\\\\toolbox\\\\shared\\\\controllib\\\\engine\\\\blocks;C:\\\\Program Files\\\\MATLAB\\\\R2023a\\\\toolbox\\\\shared\\\\controllib\\\\engine\\\\numerics;C:\\\\Program Files\\\\MATLAB\\\\R2023a\\\\toolbox\\\\shared\\\\controllib\\\\engine\\\\optim;C:\\\\Program Files\\\\MATLAB\\\\R2023a\\\\toolbox\\\\shared\\\\controllib\\\\engine\\\\options;C:\\\\Program Files\\\\MATLAB\\\\R2023a\\\\toolbox\\\\shared\\\\controllib\\\\estimation;C:\\\\Program Files\\\\MATLAB\\\\R2023a\\\\toolbox\\\\shared\\\\controllib\\\\general;C:\\\\Program Files\\\\MATLAB\\\\R2023a\\\\toolbox\\\\shared\\\\controllib\\\\graphics;C:\\\\Program Files\\\\MATLAB\\\\R2023a\\\\toolbox\\\\shared\\\\controllib\\\\graphics\\\\plotoptions;C:\\\\Program Files\\\\MATLAB\\\\R2023a\\\\toolbox\\\\shared\\\\controllib\\\\graphics\\\\utils;C:\\\\Program Files\\\\MATLAB\\\\R2023a\\\\toolbox\\\\shared\\\\controllib\\\\requirements;C:\\\\Program Files\\\\MATLAB\\\\R2023a\\\\toolbox\\\\shared\\\\coordinates\\\\coordinates_ml;C:\\\\Program Files\\\\MATLAB\\\\R2023a\\\\toolbox\\\\shared\\\\cosimservice\\\\ddg;C:\\\\Program Files\\\\MATLAB\\\\R2023a\\\\toolbox\\\\shared\\\\cosimservice\\\\src\\\\cosimcompiledportattribs;C:\\\\Program Files\\\\MATLAB\\\\R2023a\\\\toolbox\\\\shared\\\\cosimservice\\\\src\\\\cosimutils;C:\\\\Program Files\\\\MATLAB\\\\R2023a\\\\toolbox\\\\shared\\\\coverage_data\\\\coverage_data;C:\\\\Program Files\\\\MATLAB\\\\R2023a\\\\toolbox\\\\shared\\\\curvefitlib;C:\\\\Program Files\\\\MATLAB\\\\R2023a\\\\toolbox\\\\shared\\\\cxxfe\\\\parser_mi\\\\parser_mi;C:\\\\Program Files\\\\MATLAB\\\\R2023a\\\\toolbox\\\\shared\\\\cxxfe_mi\\\\cxxfe_mi;C:\\\\Program Files\\\\MATLAB\\\\R2023a\\\\toolbox\\\\shared\\\\dastudio;C:\\\\Program Files\\\\MATLAB\\\\R2023a\\\\toolbox\\\\shared\\\\dastudio\\\\seqdiagram;C:\\\\Program Files\\\\MATLAB\\\\R2023a\\\\toolbox\\\\shared\\\\datacreation;C:\\\\Program Files\\\\MATLAB\\\\R2023a\\\\toolbox\\\\shared\\\\datacreation\\\\datagenerator;C:\\\\Program Files\\\\MATLAB\\\\R2023a\\\\toolbox\\\\shared\\\\datacreation\\\\task;C:\\\\Program Files\\\\MATLAB\\\\R2023a\\\\toolbox\\\\shared\\\\datacreation\\\\task\\\\codegenerator;C:\\\\Program Files\\\\MATLAB\\\\R2023a\\\\toolbox\\\\shared\\\\datacreation\\\\task\\\\interface;C:\\\\Program Files\\\\MATLAB\\\\R2023a\\\\toolbox\\\\shared\\\\datacreation\\\\task\\\\ui;C:\\\\Program Files\\\\MATLAB\\\\R2023a\\\\toolbox\\\\shared\\\\datacreation\\\\uicomponent;C:\\\\Program Files\\\\MATLAB\\\\R2023a\\\\toolbox\\\\shared\\\\deviceplugindetection;C:\\\\Program Files\\\\MATLAB\\\\R2023a\\\\toolbox\\\\shared\\\\devicetree\\\\base;C:\\\\Program Files\\\\MATLAB\\\\R2023a\\\\toolbox\\\\shared\\\\diagnostic;C:\\\\Program Files\\\\MATLAB\\\\R2023a\\\\toolbox\\\\shared\\\\dlcoder_base\\\\dlcoder_base;C:\\\\Program Files\\\\MATLAB\\\\R2023a\\\\toolbox\\\\shared\\\\dnnshared;C:\\\\Program Files\\\\MATLAB\\\\R2023a\\\\toolbox\\\\shared\\\\drivingmaps;C:\\\\Program Files\\\\MATLAB\\\\R2023a\\\\toolbox\\\\shared\\\\drivingscenario;C:\\\\Program Files\\\\MATLAB\\\\R2023a\\\\toolbox\\\\shared\\\\drivingutils;C:\\\\Program Files\\\\MATLAB\\\\R2023a\\\\toolbox\\\\shared\\\\drivingvisuals;C:\\\\Program Files\\\\MATLAB\\\\R2023a\\\\toolbox\\\\shared\\\\dsp\\\\dialog;C:\\\\Program Files\\\\MATLAB\\\\R2023a\\\\toolbox\\\\shared\\\\dsp\\\\filterdesignlib;C:\\\\Program Files\\\\MATLAB\\\\R2023a\\\\toolbox\\\\shared\\\\dsp\\\\filterdesignlib\\\\filterbuilder;C:\\\\Program Files\\\\MATLAB\\\\R2023a\\\\toolbox\\\\shared\\\\dsp\\\\float2fixed;C:\\\\Program Files\\\\MATLAB\\\\R2023a\\\\toolbox\\\\shared\\\\dsp\\\\hdl;C:\\\\Program Files\\\\MATLAB\\\\R2023a\\\\toolbox\\\\shared\\\\dsp\\\\scopes;C:\\\\Program Files\\\\MATLAB\\\\R2023a\\\\toolbox\\\\shared\\\\dsp\\\\simulink\\\\dsp;C:\\\\Program Files\\\\MATLAB\\\\R2023a\\\\toolbox\\\\shared\\\\dsp\\\\vision\\\\matlab\\\\utilities;C:\\\\Program Files\\\\MATLAB\\\\R2023a\\\\toolbox\\\\shared\\\\dsp\\\\vision\\\\matlab\\\\utilities\\\\init;C:\\\\Program Files\\\\MATLAB\\\\R2023a\\\\toolbox\\\\shared\\\\dsp\\\\vision\\\\matlab\\\\utilities\\\\mex;C:\\\\Program Files\\\\MATLAB\\\\R2023a\\\\toolbox\\\\shared\\\\dsp\\\\vision\\\\matlab\\\\vision;C:\\\\Program Files\\\\MATLAB\\\\R2023a\\\\toolbox\\\\shared\\\\dsp\\\\vision\\\\simulink\\\\utilities;C:\\\\Program Files\\\\MATLAB\\\\R2023a\\\\toolbox\\\\shared\\\\dsp\\\\vision\\\\simulink\\\\utilities\\\\mex;C:\\\\Program Files\\\\MATLAB\\\\R2023a\\\\toolbox\\\\shared\\\\dsp\\\\vision\\\\simulink\\\\vision;C:\\\\Program Files\\\\MATLAB\\\\R2023a\\\\toolbox\\\\shared\\\\dsp\\\\webscopes\\\\dspwebscopesutils;C:\\\\Program Files\\\\MATLAB\\\\R2023a\\\\toolbox\\\\shared\\\\dsp\\\\webscopes\\\\mlarrayplot;C:\\\\Program Files\\\\MATLAB\\\\R2023a\\\\toolbox\\\\shared\\\\dsp\\\\webscopes\\\\mlfiltervisualizer;C:\\\\Program Files\\\\MATLAB\\\\R2023a\\\\toolbox\\\\shared\\\\dsp\\\\webscopes\\\\mlspectrumanalyzer;C:\\\\Program Files\\\\MATLAB\\\\R2023a\\\\toolbox\\\\shared\\\\dsp\\\\webscopes\\\\mltimescope;C:\\\\Program Files\\\\MATLAB\\\\R2023a\\\\toolbox\\\\shared\\\\dsp\\\\webscopes\\\\slarrayplot;C:\\\\Program Files\\\\MATLAB\\\\R2023a\\\\toolbox\\\\shared\\\\dsp\\\\webscopes\\\\slfiltervisualizer;C:\\\\Program Files\\\\MATLAB\\\\R2023a\\\\toolbox\\\\shared\\\\dsp\\\\webscopes\\\\slspectrumanalyzer;C:\\\\Program Files\\\\MATLAB\\\\R2023a\\\\toolbox\\\\shared\\\\dspblks\\\\dspblks;C:\\\\Program Files\\\\MATLAB\\\\R2023a\\\\toolbox\\\\shared\\\\dspblks\\\\dspmex;C:\\\\Program Files\\\\MATLAB\\\\R2023a\\\\toolbox\\\\shared\\\\em_cad;C:\\\\Program Files\\\\MATLAB\\\\R2023a\\\\toolbox\\\\shared\\\\em_catalog;C:\\\\Program Files\\\\MATLAB\\\\R2023a\\\\toolbox\\\\shared\\\\em_catalog\\\\cadsupport\\\\gerber;C:\\\\Program Files\\\\MATLAB\\\\R2023a\\\\toolbox\\\\shared\\\\em_catalog\\\\sharedutilities;C:\\\\Program Files\\\\MATLAB\\\\R2023a\\\\toolbox\\\\shared\\\\em_mesher;C:\\\\Program Files\\\\MATLAB\\\\R2023a\\\\toolbox\\\\shared\\\\em_solver;C:\\\\Program Files\\\\MATLAB\\\\R2023a\\\\toolbox\\\\shared\\\\em_solver2d;C:\\\\Program Files\\\\MATLAB\\\\R2023a\\\\toolbox\\\\shared\\\\eml_requirements;C:\\\\Program Files\\\\MATLAB\\\\R2023a\\\\toolbox\\\\shared\\\\etargets\\\\etargets;C:\\\\Program Files\\\\MATLAB\\\\R2023a\\\\toolbox\\\\shared\\\\etargets\\\\etargets\\\\demoutils;C:\\\\Program Files\\\\MATLAB\\\\R2023a\\\\toolbox\\\\shared\\\\examples\\\\verification;C:\\\\Program Files\\\\MATLAB\\\\R2023a\\\\toolbox\\\\shared\\\\experimentmonitor;C:\\\\Program Files\\\\MATLAB\\\\R2023a\\\\toolbox\\\\shared\\\\financelib;C:\\\\Program Files\\\\MATLAB\\\\R2023a\\\\toolbox\\\\shared\\\\fmu_base;C:\\\\Program Files\\\\MATLAB\\\\R2023a\\\\toolbox\\\\shared\\\\fmu_block;C:\\\\Program Files\\\\MATLAB\\\\R2023a\\\\toolbox\\\\shared\\\\fmu_share\\\\fmuexport;C:\\\\Program Files\\\\MATLAB\\\\R2023a\\\\toolbox\\\\shared\\\\fusion\\\\apps;C:\\\\Program Files\\\\MATLAB\\\\R2023a\\\\toolbox\\\\shared\\\\fusion\\\\utils;C:\\\\Program Files\\\\MATLAB\\\\R2023a\\\\toolbox\\\\shared\\\\geodesy;C:\\\\Program Files\\\\MATLAB\\\\R2023a\\\\toolbox\\\\shared\\\\globe;C:\\\\Program Files\\\\MATLAB\\\\R2023a\\\\toolbox\\\\shared\\\\gnss\\\\gnss;C:\\\\Program Files\\\\MATLAB\\\\R2023a\\\\toolbox\\\\shared\\\\gps;C:\\\\Program Files\\\\MATLAB\\\\R2023a\\\\toolbox\\\\shared\\\\gpu;C:\\\\Program Files\\\\MATLAB\\\\R2023a\\\\toolbox\\\\shared\\\\hadoopserializer;C:\\\\Program Files\\\\MATLAB\\\\R2023a\\\\toolbox\\\\shared\\\\hdlmotorcontrol;C:\\\\Program Files\\\\MATLAB\\\\R2023a\\\\toolbox\\\\shared\\\\hdlshared;C:\\\\Program Files\\\\MATLAB\\\\R2023a\\\\toolbox\\\\shared\\\\hdlshared\\\\hdlshared_gui;C:\\\\Program Files\\\\MATLAB\\\\R2023a\\\\toolbox\\\\shared\\\\hdlshared\\\\hdlshared_soc;C:\\\\Program Files\\\\MATLAB\\\\R2023a\\\\toolbox\\\\shared\\\\hotpluglib;C:\\\\Program Files\\\\MATLAB\\\\R2023a\\\\toolbox\\\\shared\\\\hwconnectinstaller;C:\\\\Program Files\\\\MATLAB\\\\R2023a\\\\toolbox\\\\shared\\\\hwconnectinstaller\\\\common;C:\\\\Program Files\\\\MATLAB\\\\R2023a\\\\toolbox\\\\shared\\\\hwmanager\\\\hwconnection;C:\\\\Program Files\\\\MATLAB\\\\R2023a\\\\toolbox\\\\shared\\\\hwmanager\\\\hwmanagerapp;C:\\\\Program Files\\\\MATLAB\\\\R2023a\\\\toolbox\\\\shared\\\\hwmanager\\\\hwmanagerapp\\\\clientapp;C:\\\\Program Files\\\\MATLAB\\\\R2023a\\\\toolbox\\\\shared\\\\hwmanager\\\\hwmanagerapp\\\\devicedata;C:\\\\Program Files\\\\MATLAB\\\\R2023a\\\\toolbox\\\\shared\\\\hwmanager\\\\hwmanagerapp\\\\devicedetection;C:\\\\Program Files\\\\MATLAB\\\\R2023a\\\\toolbox\\\\shared\\\\hwmanager\\\\hwmanagerapp\\\\devices;C:\\\\Program Files\\\\MATLAB\\\\R2023a\\\\toolbox\\\\shared\\\\hwmanager\\\\hwmanagerapp\\\\hwmgr;C:\\\\Program Files\\\\MATLAB\\\\R2023a\\\\toolbox\\\\shared\\\\hwmanager\\\\hwmanagerapp\\\\hwsetup;C:\\\\Program Files\\\\MATLAB\\\\R2023a\\\\toolbox\\\\shared\\\\hwmanager\\\\hwmanagerapp\\\\plugins;C:\\\\Program Files\\\\MATLAB\\\\R2023a\\\\toolbox\\\\shared\\\\hwmanager\\\\hwmanagerapp\\\\providers;C:\\\\Program Files\\\\MATLAB\\\\R2023a\\\\toolbox\\\\shared\\\\hwmanager\\\\hwmanagerapp\\\\scopes;C:\\\\Program Files\\\\MATLAB\\\\R2023a\\\\toolbox\\\\shared\\\\hwmanager\\\\hwmanagerapp\\\\shared;C:\\\\Program Files\\\\MATLAB\\\\R2023a\\\\toolbox\\\\shared\\\\hwmanager\\\\hwservices\\\\hwinfo;C:\\\\Program Files\\\\MATLAB\\\\R2023a\\\\toolbox\\\\shared\\\\hwmanager\\\\hwsetup;C:\\\\Program Files\\\\MATLAB\\\\R2023a\\\\toolbox\\\\shared\\\\hwmanager\\\\hwsetup\\\\hwtemplates;C:\\\\Program Files\\\\MATLAB\\\\R2023a\\\\toolbox\\\\shared\\\\hwmanager\\\\hwsetup\\\\hwwidgets;C:\\\\Program Files\\\\MATLAB\\\\R2023a\\\\toolbox\\\\shared\\\\hwmanager\\\\hwsetup\\\\launch;C:\\\\Program Files\\\\MATLAB\\\\R2023a\\\\toolbox\\\\shared\\\\hwmanager\\\\hwsetup\\\\thirdpartytools;C:\\\\Program Files\\\\MATLAB\\\\R2023a\\\\toolbox\\\\shared\\\\hwmanager\\\\logger;C:\\\\Program Files\\\\MATLAB\\\\R2023a\\\\toolbox\\\\shared\\\\image_io\\\\imageio_builtins;C:\\\\Program Files\\\\MATLAB\\\\R2023a\\\\toolbox\\\\shared\\\\imageio;C:\\\\Program Files\\\\MATLAB\\\\R2023a\\\\toolbox\\\\shared\\\\images_bwboundaries;C:\\\\Program Files\\\\MATLAB\\\\R2023a\\\\toolbox\\\\shared\\\\images_datatypes;C:\\\\Program Files\\\\MATLAB\\\\R2023a\\\\toolbox\\\\shared\\\\imageslib;C:\\\\Program Files\\\\MATLAB\\\\R2023a\\\\toolbox\\\\shared\\\\imaqlib;C:\\\\Program Files\\\\MATLAB\\\\R2023a\\\\toolbox\\\\shared\\\\insframework\\\\insframework;C:\\\\Program Files\\\\MATLAB\\\\R2023a\\\\toolbox\\\\shared\\\\insframework\\\\insframeworkdata;C:\\\\Program Files\\\\MATLAB\\\\R2023a\\\\toolbox\\\\shared\\\\insframework\\\\plugin\\\\plugin;C:\\\\Program Files\\\\MATLAB\\\\R2023a\\\\toolbox\\\\shared\\\\instrument;C:\\\\Program Files\\\\MATLAB\\\\R2023a\\\\toolbox\\\\shared\\\\io\\\\general;C:\\\\Program Files\\\\MATLAB\\\\R2023a\\\\toolbox\\\\shared\\\\labelutils\\\\labelutils;C:\\\\Program Files\\\\MATLAB\\\\R2023a\\\\toolbox\\\\shared\\\\lidar;C:\\\\Program Files\\\\MATLAB\\\\R2023a\\\\toolbox\\\\shared\\\\lidarsim;C:\\\\Program Files\\\\MATLAB\\\\R2023a\\\\toolbox\\\\shared\\\\lidarsim\\\\lidarsim;C:\\\\Program Files\\\\MATLAB\\\\R2023a\\\\toolbox\\\\shared\\\\lutwidget\\\\plugin\\\\chart\\\\m;C:\\\\Program Files\\\\MATLAB\\\\R2023a\\\\toolbox\\\\shared\\\\m3i;C:\\\\Program Files\\\\MATLAB\\\\R2023a\\\\toolbox\\\\shared\\\\mapgeodesy;C:\\\\Program Files\\\\MATLAB\\\\R2023a\\\\toolbox\\\\shared\\\\maputils;C:\\\\Program Files\\\\MATLAB\\\\R2023a\\\\toolbox\\\\shared\\\\matlab\\\\testframework\\\\baselines;C:\\\\Program Files\\\\MATLAB\\\\R2023a\\\\toolbox\\\\shared\\\\matlab\\\\testframework\\\\baselines_sdi;C:\\\\Program Files\\\\MATLAB\\\\R2023a\\\\toolbox\\\\shared\\\\matlab_system_block\\\\upgrade_advisor;C:\\\\Program Files\\\\MATLAB\\\\R2023a\\\\toolbox\\\\shared\\\\matlabtest\\\\coder_foundation\\\\testframework;C:\\\\Program Files\\\\MATLAB\\\\R2023a\\\\toolbox\\\\shared\\\\matlabtest\\\\compiler\\\\interfaces;C:\\\\Program Files\\\\MATLAB\\\\R2023a\\\\toolbox\\\\shared\\\\matlabtest\\\\matlabcoder\\\\testframework;C:\\\\Program Files\\\\MATLAB\\\\R2023a\\\\toolbox\\\\shared\\\\matlabtest\\\\requirements;C:\\\\Program Files\\\\MATLAB\\\\R2023a\\\\toolbox\\\\shared\\\\measure;C:\\\\Program Files\\\\MATLAB\\\\R2023a\\\\toolbox\\\\shared\\\\mlarrow;C:\\\\Program Files\\\\MATLAB\\\\R2023a\\\\toolbox\\\\shared\\\\mldatx;C:\\\\Program Files\\\\MATLAB\\\\R2023a\\\\toolbox\\\\shared\\\\mldatx\\\\file_icon_plugin\\\\matlab;C:\\\\Program Files\\\\MATLAB\\\\R2023a\\\\toolbox\\\\shared\\\\mldatx\\\\file_label_filter_plugin\\\\matlab;C:\\\\Program Files\\\\MATLAB\\\\R2023a\\\\toolbox\\\\shared\\\\mldatx\\\\file_preview_plugin\\\\matlab;C:\\\\Program Files\\\\MATLAB\\\\R2023a\\\\toolbox\\\\shared\\\\mlearnlib;C:\\\\Program Files\\\\MATLAB\\\\R2023a\\\\toolbox\\\\shared\\\\mlreportgen\\\\dom;C:\\\\Program Files\\\\MATLAB\\\\R2023a\\\\toolbox\\\\shared\\\\mlreportgen\\\\dom\\\\dom;C:\\\\Program Files\\\\MATLAB\\\\R2023a\\\\toolbox\\\\shared\\\\mlreportgen\\\\dom\\\\dom\\\\help;C:\\\\Program Files\\\\MATLAB\\\\R2023a\\\\toolbox\\\\shared\\\\mlreportgen\\\\fop;C:\\\\Program Files\\\\MATLAB\\\\R2023a\\\\toolbox\\\\shared\\\\mlreportgen\\\\ppt;C:\\\\Program Files\\\\MATLAB\\\\R2023a\\\\toolbox\\\\shared\\\\mlreportgen\\\\ppt\\\\ppt;C:\\\\Program Files\\\\MATLAB\\\\R2023a\\\\toolbox\\\\shared\\\\mlreportgen\\\\ppt\\\\ppt\\\\help;C:\\\\Program Files\\\\MATLAB\\\\R2023a\\\\toolbox\\\\shared\\\\mlreportgen\\\\re\\\\re\\\\help;C:\\\\Program Files\\\\MATLAB\\\\R2023a\\\\toolbox\\\\shared\\\\mlreportgen\\\\rpt;C:\\\\Program Files\\\\MATLAB\\\\R2023a\\\\toolbox\\\\shared\\\\mlreportgen\\\\rpt\\\\rpt;C:\\\\Program Files\\\\MATLAB\\\\R2023a\\\\toolbox\\\\shared\\\\mlreportgen\\\\utils;C:\\\\Program Files\\\\MATLAB\\\\R2023a\\\\toolbox\\\\shared\\\\mlreportgen\\\\widgets\\\\equation\\\\matlab;C:\\\\Program Files\\\\MATLAB\\\\R2023a\\\\toolbox\\\\shared\\\\mlreportgen\\\\xml\\\\xml\\\\help;C:\\\\Program Files\\\\MATLAB\\\\R2023a\\\\toolbox\\\\shared\\\\mlreportgen\\\\xml_transform\\\\xml_transform\\\\help;C:\\\\Program Files\\\\MATLAB\\\\R2023a\\\\toolbox\\\\shared\\\\mlreportgen\\\\xml_xpath\\\\xml_xpath\\\\help;C:\\\\Program Files\\\\MATLAB\\\\R2023a\\\\toolbox\\\\shared\\\\mlreq;C:\\\\Program Files\\\\MATLAB\\\\R2023a\\\\toolbox\\\\shared\\\\mlskyplot\\\\mlskyplot;C:\\\\Program Files\\\\MATLAB\\\\R2023a\\\\toolbox\\\\shared\\\\motionmodel\\\\motionmodellib;C:\\\\Program Files\\\\MATLAB\\\\R2023a\\\\toolbox\\\\shared\\\\multibody\\\\multibodylib;C:\\\\Program Files\\\\MATLAB\\\\R2023a\\\\toolbox\\\\shared\\\\multimedia;C:\\\\Program Files\\\\MATLAB\\\\R2023a\\\\toolbox\\\\shared\\\\multivercosim\\\\m;C:\\\\Program Files\\\\MATLAB\\\\R2023a\\\\toolbox\\\\shared\\\\nav_lidar\\\\nav_lidar_lib;C:\\\\Program Files\\\\MATLAB\\\\R2023a\\\\toolbox\\\\shared\\\\nav_rst\\\\nav_rst_lib;C:\\\\Program Files\\\\MATLAB\\\\R2023a\\\\toolbox\\\\shared\\\\nav_rst\\\\nav_rst_simulink;C:\\\\Program Files\\\\MATLAB\\\\R2023a\\\\toolbox\\\\shared\\\\nav_rst\\\\nav_rst_simulink\\\\blockicons;C:\\\\Program Files\\\\MATLAB\\\\R2023a\\\\toolbox\\\\shared\\\\networklib;C:\\\\Program Files\\\\MATLAB\\\\R2023a\\\\toolbox\\\\shared\\\\opcount;C:\\\\Program Files\\\\MATLAB\\\\R2023a\\\\toolbox\\\\shared\\\\opcount\\\\base;C:\\\\Program Files\\\\MATLAB\\\\R2023a\\\\toolbox\\\\shared\\\\openstreetmapdata;C:\\\\Program Files\\\\MATLAB\\\\R2023a\\\\toolbox\\\\shared\\\\optimlib;C:\\\\Program Files\\\\MATLAB\\\\R2023a\\\\toolbox\\\\shared\\\\orbit;C:\\\\Program Files\\\\MATLAB\\\\R2023a\\\\toolbox\\\\shared\\\\orbit\\\\orbitdata;C:\\\\Program Files\\\\MATLAB\\\\R2023a\\\\toolbox\\\\shared\\\\parseutils;C:\\\\Program Files\\\\MATLAB\\\\R2023a\\\\toolbox\\\\shared\\\\pdelib;C:\\\\Program Files\\\\MATLAB\\\\R2023a\\\\toolbox\\\\shared\\\\pegparserlib\\\\pegparser;C:\\\\Program Files\\\\MATLAB\\\\R2023a\\\\toolbox\\\\shared\\\\performance;C:\\\\Program Files\\\\MATLAB\\\\R2023a\\\\toolbox\\\\shared\\\\phasedfusion;C:\\\\Program Files\\\\MATLAB\\\\R2023a\\\\toolbox\\\\shared\\\\planning;C:\\\\Program Files\\\\MATLAB\\\\R2023a\\\\toolbox\\\\shared\\\\pointclouds;C:\\\\Program Files\\\\MATLAB\\\\R2023a\\\\toolbox\\\\shared\\\\polyspace;C:\\\\Program Files\\\\MATLAB\\\\R2023a\\\\toolbox\\\\shared\\\\polyspace\\\\configure_mi;C:\\\\Program Files\\\\MATLAB\\\\R2023a\\\\toolbox\\\\shared\\\\polytraj;C:\\\\Program Files\\\\MATLAB\\\\R2023a\\\\toolbox\\\\shared\\\\positioning\\\\positioning;C:\\\\Program Files\\\\MATLAB\\\\R2023a\\\\toolbox\\\\shared\\\\positioning\\\\positioningdata;C:\\\\Program Files\\\\MATLAB\\\\R2023a\\\\toolbox\\\\shared\\\\positioning\\\\simulink;C:\\\\Program Files\\\\MATLAB\\\\R2023a\\\\toolbox\\\\shared\\\\positioning\\\\simulink\\\\blockicons;C:\\\\Program Files\\\\MATLAB\\\\R2023a\\\\toolbox\\\\shared\\\\positioning\\\\simulink\\\\utilities;C:\\\\Program Files\\\\MATLAB\\\\R2023a\\\\toolbox\\\\shared\\\\positioning\\\\utilities\\\\utilities;C:\\\\Program Files\\\\MATLAB\\\\R2023a\\\\toolbox\\\\shared\\\\pslink;C:\\\\Program Files\\\\MATLAB\\\\R2023a\\\\toolbox\\\\shared\\\\python_importer\\\\m;C:\\\\Program Files\\\\MATLAB\\\\R2023a\\\\toolbox\\\\shared\\\\radarfusion;C:\\\\Program Files\\\\MATLAB\\\\R2023a\\\\toolbox\\\\shared\\\\raytracer;C:\\\\Program Files\\\\MATLAB\\\\R2023a\\\\toolbox\\\\shared\\\\reqmgt;C:\\\\Program Files\\\\MATLAB\\\\R2023a\\\\toolbox\\\\shared\\\\reqmgt\\\\editorPlugin;C:\\\\Program Files\\\\MATLAB\\\\R2023a\\\\toolbox\\\\shared\\\\reqmgt\\\\mmutils;C:\\\\Program Files\\\\MATLAB\\\\R2023a\\\\toolbox\\\\shared\\\\reqmgt_file_preview_plugin\\\\matlab;C:\\\\Program Files\\\\MATLAB\\\\R2023a\\\\toolbox\\\\shared\\\\rfblks_ideal;C:\\\\Program Files\\\\MATLAB\\\\R2023a\\\\toolbox\\\\shared\\\\rfblks_ideal\\\\utilities;C:\\\\Program Files\\\\MATLAB\\\\R2023a\\\\toolbox\\\\shared\\\\rffit;C:\\\\Program Files\\\\MATLAB\\\\R2023a\\\\toolbox\\\\shared\\\\rflib;C:\\\\Program Files\\\\MATLAB\\\\R2023a\\\\toolbox\\\\shared\\\\roadnetwork;C:\\\\Program Files\\\\MATLAB\\\\R2023a\\\\toolbox\\\\shared\\\\roadrunnerapi\\\\roadrunnerapi;C:\\\\Program Files\\\\MATLAB\\\\R2023a\\\\toolbox\\\\shared\\\\roadrunnermaps\\\\roadrunnermaps;C:\\\\Program Files\\\\MATLAB\\\\R2023a\\\\toolbox\\\\shared\\\\robotics\\\\robotappscore;C:\\\\Program Files\\\\MATLAB\\\\R2023a\\\\toolbox\\\\shared\\\\robotics\\\\robotcore;C:\\\\Program Files\\\\MATLAB\\\\R2023a\\\\toolbox\\\\shared\\\\robotics\\\\robotdata\\\\meshes;C:\\\\Program Files\\\\MATLAB\\\\R2023a\\\\toolbox\\\\shared\\\\robotics\\\\robotslcore;C:\\\\Program Files\\\\MATLAB\\\\R2023a\\\\toolbox\\\\shared\\\\robotics\\\\robotslcore\\\\blockicons;C:\\\\Program Files\\\\MATLAB\\\\R2023a\\\\toolbox\\\\shared\\\\robotics\\\\robotutils;C:\\\\Program Files\\\\MATLAB\\\\R2023a\\\\toolbox\\\\shared\\\\rotations\\\\rotationslib;C:\\\\Program Files\\\\MATLAB\\\\R2023a\\\\toolbox\\\\shared\\\\rptgen;C:\\\\Program Files\\\\MATLAB\\\\R2023a\\\\toolbox\\\\shared\\\\sdi;C:\\\\Program Files\\\\MATLAB\\\\R2023a\\\\toolbox\\\\shared\\\\sdi_matlabunit;C:\\\\Program Files\\\\MATLAB\\\\R2023a\\\\toolbox\\\\shared\\\\sdi_visuals;C:\\\\Program Files\\\\MATLAB\\\\R2023a\\\\toolbox\\\\shared\\\\sensorsim\\\\coordinates;C:\\\\Program Files\\\\MATLAB\\\\R2023a\\\\toolbox\\\\shared\\\\sensorsim\\\\gps;C:\\\\Program Files\\\\MATLAB\\\\R2023a\\\\toolbox\\\\shared\\\\sensorsim\\\\gps\\\\simulink;C:\\\\Program Files\\\\MATLAB\\\\R2023a\\\\toolbox\\\\shared\\\\sensorsim\\\\gps\\\\simulink\\\\blockicons;C:\\\\Program Files\\\\MATLAB\\\\R2023a\\\\toolbox\\\\shared\\\\sensorsim\\\\ins;C:\\\\Program Files\\\\MATLAB\\\\R2023a\\\\toolbox\\\\shared\\\\sensorsim\\\\ins\\\\simulink;C:\\\\Program Files\\\\MATLAB\\\\R2023a\\\\toolbox\\\\shared\\\\sensorsim\\\\ins\\\\simulink\\\\blockicons;C:\\\\Program Files\\\\MATLAB\\\\R2023a\\\\toolbox\\\\shared\\\\sensorsim\\\\ins\\\\simulink\\\\utilities;C:\\\\Program Files\\\\MATLAB\\\\R2023a\\\\toolbox\\\\shared\\\\sensorsim\\\\trajectories\\\\trajectories;C:\\\\Program Files\\\\MATLAB\\\\R2023a\\\\toolbox\\\\shared\\\\sensorsim\\\\ultrasonic;C:\\\\Program Files\\\\MATLAB\\\\R2023a\\\\toolbox\\\\shared\\\\seriallib;C:\\\\Program Files\\\\MATLAB\\\\R2023a\\\\toolbox\\\\shared\\\\seriallib\\\\serialblks;C:\\\\Program Files\\\\MATLAB\\\\R2023a\\\\toolbox\\\\shared\\\\sfunctionbuilderjs\\\\m;C:\\\\Program Files\\\\MATLAB\\\\R2023a\\\\toolbox\\\\shared\\\\sharedgui;C:\\\\Program Files\\\\MATLAB\\\\R2023a\\\\toolbox\\\\shared\\\\sigbldr;C:\\\\Program Files\\\\MATLAB\\\\R2023a\\\\toolbox\\\\shared\\\\sigbldr_import;C:\\\\Program Files\\\\MATLAB\\\\R2023a\\\\toolbox\\\\shared\\\\siglib;C:\\\\Program Files\\\\MATLAB\\\\R2023a\\\\toolbox\\\\shared\\\\signal_featureextraction\\\\signalfeatureextraction;C:\\\\Program Files\\\\MATLAB\\\\R2023a\\\\toolbox\\\\shared\\\\signallabelutils\\\\signallabelutils;C:\\\\Program Files\\\\MATLAB\\\\R2023a\\\\toolbox\\\\shared\\\\signalwavelet\\\\signalwavelet;C:\\\\Program Files\\\\MATLAB\\\\R2023a\\\\toolbox\\\\shared\\\\sigwebappsutils\\\\src;C:\\\\Program Files\\\\MATLAB\\\\R2023a\\\\toolbox\\\\shared\\\\sim3d\\\\sim3d;C:\\\\Program Files\\\\MATLAB\\\\R2023a\\\\toolbox\\\\shared\\\\sim3d_projects\\\\automotive_project\\\\UE4;C:\\\\Program Files\\\\MATLAB\\\\R2023a\\\\toolbox\\\\shared\\\\sim3dblks\\\\sim3dblks;C:\\\\Program Files\\\\MATLAB\\\\R2023a\\\\toolbox\\\\shared\\\\sim3dblks\\\\sim3dblksutils;C:\\\\Program Files\\\\MATLAB\\\\R2023a\\\\toolbox\\\\shared\\\\simtargets;C:\\\\Program Files\\\\MATLAB\\\\R2023a\\\\toolbox\\\\shared\\\\simulink\\\\fmuexport;C:\\\\Program Files\\\\MATLAB\\\\R2023a\\\\toolbox\\\\shared\\\\simulink\\\\simulation_data;C:\\\\Program Files\\\\MATLAB\\\\R2023a\\\\toolbox\\\\shared\\\\simulink\\\\slcheck_services;C:\\\\Program Files\\\\MATLAB\\\\R2023a\\\\toolbox\\\\shared\\\\simulink\\\\sysarch\\\\sysarch;C:\\\\Program Files\\\\MATLAB\\\\R2023a\\\\toolbox\\\\shared\\\\simulinkcoder\\\\profiles;C:\\\\Program Files\\\\MATLAB\\\\R2023a\\\\toolbox\\\\shared\\\\simulinktest_matlabunit;C:\\\\Program Files\\\\MATLAB\\\\R2023a\\\\toolbox\\\\shared\\\\sl_async_streaming;C:\\\\Program Files\\\\MATLAB\\\\R2023a\\\\toolbox\\\\shared\\\\sl_coverage_configset;C:\\\\Program Files\\\\MATLAB\\\\R2023a\\\\toolbox\\\\shared\\\\sl_messages;C:\\\\Program Files\\\\MATLAB\\\\R2023a\\\\toolbox\\\\shared\\\\sl_multicore\\\\dfs;C:\\\\Program Files\\\\MATLAB\\\\R2023a\\\\toolbox\\\\shared\\\\sl_multicore\\\\multicoredesigner;C:\\\\Program Files\\\\MATLAB\\\\R2023a\\\\toolbox\\\\shared\\\\sl_swarch\\\\swmodeling;C:\\\\Program Files\\\\MATLAB\\\\R2023a\\\\toolbox\\\\shared\\\\sl_units_mldatx;C:\\\\Program Files\\\\MATLAB\\\\R2023a\\\\toolbox\\\\shared\\\\sl_web_widgets;C:\\\\Program Files\\\\MATLAB\\\\R2023a\\\\toolbox\\\\shared\\\\slcc\\\\slcc;C:\\\\Program Files\\\\MATLAB\\\\R2023a\\\\toolbox\\\\shared\\\\slcc_cov\\\\slcc_cov;C:\\\\Program Files\\\\MATLAB\\\\R2023a\\\\toolbox\\\\shared\\\\slcc_importer\\\\m;C:\\\\Program Files\\\\MATLAB\\\\R2023a\\\\toolbox\\\\shared\\\\slcheck\\\\check;C:\\\\Program Files\\\\MATLAB\\\\R2023a\\\\toolbox\\\\shared\\\\slcheck\\\\utils;C:\\\\Program Files\\\\MATLAB\\\\R2023a\\\\toolbox\\\\shared\\\\slci\\\\slci;C:\\\\Program Files\\\\MATLAB\\\\R2023a\\\\toolbox\\\\shared\\\\slcontrollib;C:\\\\Program Files\\\\MATLAB\\\\R2023a\\\\toolbox\\\\shared\\\\slcontrollib\\\\blocks;C:\\\\Program Files\\\\MATLAB\\\\R2023a\\\\toolbox\\\\shared\\\\slcontrollib\\\\explorer;C:\\\\Program Files\\\\MATLAB\\\\R2023a\\\\toolbox\\\\shared\\\\slcontrollib\\\\general;C:\\\\Program Files\\\\MATLAB\\\\R2023a\\\\toolbox\\\\shared\\\\slcontrollib\\\\graphics;C:\\\\Program Files\\\\MATLAB\\\\R2023a\\\\toolbox\\\\shared\\\\slcontrollib\\\\modelpack;C:\\\\Program Files\\\\MATLAB\\\\R2023a\\\\toolbox\\\\shared\\\\slcontrollib\\\\operating_points;C:\\\\Program Files\\\\MATLAB\\\\R2023a\\\\toolbox\\\\shared\\\\sldv;C:\\\\Program Files\\\\MATLAB\\\\R2023a\\\\toolbox\\\\shared\\\\sldv_cc\\\\sldv_cc;C:\\\\Program Files\\\\MATLAB\\\\R2023a\\\\toolbox\\\\shared\\\\slmleditor\\\\m;C:\\\\Program Files\\\\MATLAB\\\\R2023a\\\\toolbox\\\\shared\\\\slpir;C:\\\\Program Files\\\\MATLAB\\\\R2023a\\\\toolbox\\\\shared\\\\slreportgen\\\\reportexplorer;C:\\\\Program Files\\\\MATLAB\\\\R2023a\\\\toolbox\\\\shared\\\\slreportgen\\\\rpt;C:\\\\Program Files\\\\MATLAB\\\\R2023a\\\\toolbox\\\\shared\\\\slreportgen\\\\rpt\\\\rpt;C:\\\\Program Files\\\\MATLAB\\\\R2023a\\\\toolbox\\\\shared\\\\slreportgen\\\\utils;C:\\\\Program Files\\\\MATLAB\\\\R2023a\\\\toolbox\\\\shared\\\\slreq;C:\\\\Program Files\\\\MATLAB\\\\R2023a\\\\toolbox\\\\shared\\\\slvnv_core;C:\\\\Program Files\\\\MATLAB\\\\R2023a\\\\toolbox\\\\shared\\\\slwizard;C:\\\\Program Files\\\\MATLAB\\\\R2023a\\\\toolbox\\\\shared\\\\smoothers;C:\\\\Program Files\\\\MATLAB\\\\R2023a\\\\toolbox\\\\shared\\\\soc;C:\\\\Program Files\\\\MATLAB\\\\R2023a\\\\toolbox\\\\shared\\\\soc\\\\blocks;C:\\\\Program Files\\\\MATLAB\\\\R2023a\\\\toolbox\\\\shared\\\\soc\\\\embedded_linux_explorer;C:\\\\Program Files\\\\MATLAB\\\\R2023a\\\\toolbox\\\\shared\\\\soc\\\\hdlipimporter;C:\\\\Program Files\\\\MATLAB\\\\R2023a\\\\toolbox\\\\shared\\\\soc\\\\hdlipimporter\\\\blocks;C:\\\\Program Files\\\\MATLAB\\\\R2023a\\\\toolbox\\\\shared\\\\soc\\\\processor;C:\\\\Program Files\\\\MATLAB\\\\R2023a\\\\toolbox\\\\shared\\\\soc\\\\processor\\\\blocks;C:\\\\Program Files\\\\MATLAB\\\\R2023a\\\\toolbox\\\\shared\\\\soc\\\\processor\\\\blocks\\\\common;C:\\\\Program Files\\\\MATLAB\\\\R2023a\\\\toolbox\\\\shared\\\\soc\\\\processor\\\\blocks\\\\interconnect\\\\mex;C:\\\\Program Files\\\\MATLAB\\\\R2023a\\\\toolbox\\\\shared\\\\soc\\\\processor\\\\blocks\\\\mex;C:\\\\Program Files\\\\MATLAB\\\\R2023a\\\\toolbox\\\\shared\\\\soc\\\\processor\\\\blocks\\\\scheduler;C:\\\\Program Files\\\\MATLAB\\\\R2023a\\\\toolbox\\\\shared\\\\soc\\\\processor\\\\profiler;C:\\\\Program Files\\\\MATLAB\\\\R2023a\\\\toolbox\\\\shared\\\\soc\\\\processor\\\\utilities;C:\\\\Program Files\\\\MATLAB\\\\R2023a\\\\toolbox\\\\shared\\\\soc\\\\shared;C:\\\\Program Files\\\\MATLAB\\\\R2023a\\\\toolbox\\\\shared\\\\soc\\\\shared\\\\blocks;C:\\\\Program Files\\\\MATLAB\\\\R2023a\\\\toolbox\\\\shared\\\\soc\\\\shared\\\\blocks\\\\mex;C:\\\\Program Files\\\\MATLAB\\\\R2023a\\\\toolbox\\\\shared\\\\soc\\\\shared\\\\util;C:\\\\Program Files\\\\MATLAB\\\\R2023a\\\\toolbox\\\\shared\\\\soc\\\\sltoolstrip\\\\m;C:\\\\Program Files\\\\MATLAB\\\\R2023a\\\\toolbox\\\\shared\\\\soc\\\\socbuilder;C:\\\\Program Files\\\\MATLAB\\\\R2023a\\\\toolbox\\\\shared\\\\socio;C:\\\\Program Files\\\\MATLAB\\\\R2023a\\\\toolbox\\\\shared\\\\spatialmath\\\\matlab;C:\\\\Program Files\\\\MATLAB\\\\R2023a\\\\toolbox\\\\shared\\\\spc\\\\src_ml;C:\\\\Program Files\\\\MATLAB\\\\R2023a\\\\toolbox\\\\shared\\\\spcuilib\\\\applications;C:\\\\Program Files\\\\MATLAB\\\\R2023a\\\\toolbox\\\\shared\\\\spcuilib\\\\iomanager;C:\\\\Program Files\\\\MATLAB\\\\R2023a\\\\toolbox\\\\shared\\\\spcuilib\\\\logicanalyzer;C:\\\\Program Files\\\\MATLAB\\\\R2023a\\\\toolbox\\\\shared\\\\spcuilib\\\\matrixviewer;C:\\\\Program Files\\\\MATLAB\\\\R2023a\\\\toolbox\\\\shared\\\\spcuilib\\\\slscopes;C:\\\\Program Files\\\\MATLAB\\\\R2023a\\\\toolbox\\\\shared\\\\spcuilib\\\\sltimescope;C:\\\\Program Files\\\\MATLAB\\\\R2023a\\\\toolbox\\\\shared\\\\spcuilib\\\\slwebscopes;C:\\\\Program Files\\\\MATLAB\\\\R2023a\\\\toolbox\\\\shared\\\\spcuilib\\\\slwebscopespbcproxyreg;C:\\\\Program Files\\\\MATLAB\\\\R2023a\\\\toolbox\\\\shared\\\\spcuilib\\\\unifiedscopes;C:\\\\Program Files\\\\MATLAB\\\\R2023a\\\\toolbox\\\\shared\\\\spcuilib\\\\webscopes;C:\\\\Program Files\\\\MATLAB\\\\R2023a\\\\toolbox\\\\shared\\\\spreadsheet;C:\\\\Program Files\\\\MATLAB\\\\R2023a\\\\toolbox\\\\shared\\\\ssfmcos;C:\\\\Program Files\\\\MATLAB\\\\R2023a\\\\toolbox\\\\shared\\\\ssfsensorbase\\\\ssfsensorbase;C:\\\\Program Files\\\\MATLAB\\\\R2023a\\\\toolbox\\\\shared\\\\stateflow;C:\\\\Program Files\\\\MATLAB\\\\R2023a\\\\toolbox\\\\shared\\\\statslib;C:\\\\Program Files\\\\MATLAB\\\\R2023a\\\\toolbox\\\\shared\\\\statslib\\\\gpu;C:\\\\Program Files\\\\MATLAB\\\\R2023a\\\\toolbox\\\\shared\\\\statslib\\\\sensitivity;C:\\\\Program Files\\\\MATLAB\\\\R2023a\\\\toolbox\\\\shared\\\\supportpkgservices\\\\installedapi;C:\\\\Program Files\\\\MATLAB\\\\R2023a\\\\toolbox\\\\shared\\\\supportpkgservices\\\\installservices;C:\\\\Program Files\\\\MATLAB\\\\R2023a\\\\toolbox\\\\shared\\\\supportpkgservices\\\\legacysupportpkginfo;C:\\\\Program Files\\\\MATLAB\\\\R2023a\\\\toolbox\\\\shared\\\\supportpkgservices\\\\supportpackageroot;C:\\\\Program Files\\\\MATLAB\\\\R2023a\\\\toolbox\\\\shared\\\\supportsoftware\\\\launcher;C:\\\\Program Files\\\\MATLAB\\\\R2023a\\\\toolbox\\\\shared\\\\supportsoftware\\\\services;C:\\\\Program Files\\\\MATLAB\\\\R2023a\\\\toolbox\\\\shared\\\\supportsoftware\\\\upgrade;C:\\\\Program Files\\\\MATLAB\\\\R2023a\\\\toolbox\\\\shared\\\\surrogatelib;C:\\\\Program Files\\\\MATLAB\\\\R2023a\\\\toolbox\\\\shared\\\\system\\\\accelerator;C:\\\\Program Files\\\\MATLAB\\\\R2023a\\\\toolbox\\\\shared\\\\system\\\\coder;C:\\\\Program Files\\\\MATLAB\\\\R2023a\\\\toolbox\\\\shared\\\\system\\\\coreblocks;C:\\\\Program Files\\\\MATLAB\\\\R2023a\\\\toolbox\\\\shared\\\\system\\\\sfun;C:\\\\Program Files\\\\MATLAB\\\\R2023a\\\\toolbox\\\\shared\\\\system\\\\simulink;C:\\\\Program Files\\\\MATLAB\\\\R2023a\\\\toolbox\\\\shared\\\\system\\\\simulink_block;C:\\\\Program Files\\\\MATLAB\\\\R2023a\\\\toolbox\\\\shared\\\\tdms;C:\\\\Program Files\\\\MATLAB\\\\R2023a\\\\toolbox\\\\shared\\\\tdms\\\\tdmsds;C:\\\\Program Files\\\\MATLAB\\\\R2023a\\\\toolbox\\\\shared\\\\tdms\\\\tdmsio;C:\\\\Program Files\\\\MATLAB\\\\R2023a\\\\toolbox\\\\shared\\\\template_core;C:\\\\Program Files\\\\MATLAB\\\\R2023a\\\\toolbox\\\\shared\\\\terrain;C:\\\\Program Files\\\\MATLAB\\\\R2023a\\\\toolbox\\\\shared\\\\testmeaslib\\\\apps;C:\\\\Program Files\\\\MATLAB\\\\R2023a\\\\toolbox\\\\shared\\\\testmeaslib\\\\general;C:\\\\Program Files\\\\MATLAB\\\\R2023a\\\\toolbox\\\\shared\\\\testmeaslib\\\\hwutils\\\\vnt;C:\\\\Program Files\\\\MATLAB\\\\R2023a\\\\toolbox\\\\shared\\\\testmeaslib\\\\simulink;C:\\\\Program Files\\\\MATLAB\\\\R2023a\\\\toolbox\\\\shared\\\\threejs;C:\\\\Program Files\\\\MATLAB\\\\R2023a\\\\toolbox\\\\shared\\\\toolstrip_coder_app\\\\plugin\\\\m;C:\\\\Program Files\\\\MATLAB\\\\R2023a\\\\toolbox\\\\shared\\\\tracking\\\\blks;C:\\\\Program Files\\\\MATLAB\\\\R2023a\\\\toolbox\\\\shared\\\\tracking\\\\fusionlib;C:\\\\Program Files\\\\MATLAB\\\\R2023a\\\\toolbox\\\\shared\\\\tracking\\\\trackinglib;C:\\\\Program Files\\\\MATLAB\\\\R2023a\\\\toolbox\\\\shared\\\\tracking\\\\trackinglib\\\\blocks;C:\\\\Program Files\\\\MATLAB\\\\R2023a\\\\toolbox\\\\shared\\\\transportapp;C:\\\\Program Files\\\\MATLAB\\\\R2023a\\\\toolbox\\\\shared\\\\transportclients;C:\\\\Program Files\\\\MATLAB\\\\R2023a\\\\toolbox\\\\shared\\\\transportlib;C:\\\\Program Files\\\\MATLAB\\\\R2023a\\\\toolbox\\\\shared\\\\uav_rst\\\\matlab;C:\\\\Program Files\\\\MATLAB\\\\R2023a\\\\toolbox\\\\shared\\\\uav_rst\\\\simulink;C:\\\\Program Files\\\\MATLAB\\\\R2023a\\\\toolbox\\\\shared\\\\uav_rst\\\\simulink\\\\blockicons;C:\\\\Program Files\\\\MATLAB\\\\R2023a\\\\toolbox\\\\shared\\\\vehicle_protocols\\\\j1939blks;C:\\\\Program Files\\\\MATLAB\\\\R2023a\\\\toolbox\\\\shared\\\\vehicle_protocols\\\\j1939mex;C:\\\\Program Files\\\\MATLAB\\\\R2023a\\\\toolbox\\\\shared\\\\viewmodel\\\\viewmodel;C:\\\\Program Files\\\\MATLAB\\\\R2023a\\\\toolbox\\\\shared\\\\virtualfileio;C:\\\\Program Files\\\\MATLAB\\\\R2023a\\\\toolbox\\\\shared\\\\webuiconnector\\\\m;C:\\\\Program Files\\\\MATLAB\\\\R2023a\\\\toolbox\\\\shared\\\\wireless;C:\\\\Program Files\\\\MATLAB\\\\R2023a\\\\toolbox\\\\shared\\\\xcp;C:\\\\Program Files\\\\MATLAB\\\\R2023a\\\\toolbox\\\\shared\\\\xcp\\\\xcpblks;C:\\\\Program Files\\\\MATLAB\\\\R2023a\\\\toolbox\\\\shared\\\\xcp\\\\xcpmex;C:\\\\Program Files\\\\MATLAB\\\\R2023a\\\\toolbox\\\\shared\\\\xcpcore\\\\blocks;C:\\\\Program Files\\\\MATLAB\\\\R2023a\\\\toolbox\\\\shared_dl_targets_src;C:\\\\Program Files\\\\MATLAB\\\\R2023a\\\\toolbox\\\\si\\\\si;C:\\\\Program Files\\\\MATLAB\\\\R2023a\\\\toolbox\\\\signal\\\\deep;C:\\\\Program Files\\\\MATLAB\\\\R2023a\\\\toolbox\\\\signal\\\\edffileanalyzer\\\\src;C:\\\\Program Files\\\\MATLAB\\\\R2023a\\\\toolbox\\\\signal\\\\gpu;C:\\\\Program Files\\\\MATLAB\\\\R2023a\\\\toolbox\\\\signal\\\\sigappsshared;C:\\\\Program Files\\\\MATLAB\\\\R2023a\\\\toolbox\\\\signal\\\\signal;C:\\\\Program Files\\\\MATLAB\\\\R2023a\\\\toolbox\\\\signal\\\\signalanalyzer;C:\\\\Program Files\\\\MATLAB\\\\R2023a\\\\toolbox\\\\signal\\\\signallabeler;C:\\\\Program Files\\\\MATLAB\\\\R2023a\\\\toolbox\\\\signal\\\\sigtools;C:\\\\Program Files\\\\MATLAB\\\\R2023a\\\\toolbox\\\\signal\\\\sptoolgui;C:\\\\Program Files\\\\MATLAB\\\\R2023a\\\\toolbox\\\\simbio\\\\comparisons\\\\comparisons;C:\\\\Program Files\\\\MATLAB\\\\R2023a\\\\toolbox\\\\simbio\\\\simbio;C:\\\\Program Files\\\\MATLAB\\\\R2023a\\\\toolbox\\\\simbio\\\\simbiodemos;C:\\\\Program Files\\\\MATLAB\\\\R2023a\\\\toolbox\\\\simrf\\\\simrf;C:\\\\Program Files\\\\MATLAB\\\\R2023a\\\\toolbox\\\\simrf\\\\simrf\\\\advisor;C:\\\\Program Files\\\\MATLAB\\\\R2023a\\\\toolbox\\\\simrf\\\\simrfV2;C:\\\\Program Files\\\\MATLAB\\\\R2023a\\\\toolbox\\\\simrf\\\\simrfV2masks;C:\\\\Program Files\\\\MATLAB\\\\R2023a\\\\toolbox\\\\simrf\\\\simrf_top;C:\\\\Program Files\\\\MATLAB\\\\R2023a\\\\toolbox\\\\simulink_standalone\\\\shared;C:\\\\Program Files\\\\MATLAB\\\\R2023a\\\\toolbox\\\\simulink_standalone\\\\utils;C:\\\\Program Files\\\\MATLAB\\\\R2023a\\\\toolbox\\\\simulinkcompiler\\\\appruntime;C:\\\\Program Files\\\\MATLAB\\\\R2023a\\\\toolbox\\\\simulinkcompiler\\\\examples;C:\\\\Program Files\\\\MATLAB\\\\R2023a\\\\toolbox\\\\simulinkcompiler\\\\simulinkcompiler;C:\\\\Program Files\\\\MATLAB\\\\R2023a\\\\toolbox\\\\simulinktest\\\\block_libraries;C:\\\\Program Files\\\\MATLAB\\\\R2023a\\\\toolbox\\\\simulinktest\\\\core\\\\assessments\\\\assessments;C:\\\\Program Files\\\\MATLAB\\\\R2023a\\\\toolbox\\\\simulinktest\\\\core\\\\assessments\\\\expressions;C:\\\\Program Files\\\\MATLAB\\\\R2023a\\\\toolbox\\\\simulinktest\\\\core\\\\assessments_editor\\\\assessments_editor;C:\\\\Program Files\\\\MATLAB\\\\R2023a\\\\toolbox\\\\simulinktest\\\\core\\\\fuzzer\\\\fuzzer;C:\\\\Program Files\\\\MATLAB\\\\R2023a\\\\toolbox\\\\simulinktest\\\\core\\\\injector\\\\injector;C:\\\\Program Files\\\\MATLAB\\\\R2023a\\\\toolbox\\\\simulinktest\\\\core\\\\observer\\\\observer;C:\\\\Program Files\\\\MATLAB\\\\R2023a\\\\toolbox\\\\simulinktest\\\\core\\\\simharness\\\\simharness;C:\\\\Program Files\\\\MATLAB\\\\R2023a\\\\toolbox\\\\simulinktest\\\\core\\\\slt_blkmaputil\\\\slt_blkmaputil;C:\\\\Program Files\\\\MATLAB\\\\R2023a\\\\toolbox\\\\simulinktest\\\\core\\\\testadvisor\\\\testadvisor;C:\\\\Program Files\\\\MATLAB\\\\R2023a\\\\toolbox\\\\simulinktest\\\\core\\\\testsequence\\\\testsequence;C:\\\\Program Files\\\\MATLAB\\\\R2023a\\\\toolbox\\\\simulinktest\\\\simulinktest;C:\\\\Program Files\\\\MATLAB\\\\R2023a\\\\toolbox\\\\sl3d\\\\rtc_plugins\\\\rtc_vrml_language_support\\\\matlab;C:\\\\Program Files\\\\MATLAB\\\\R2023a\\\\toolbox\\\\sl3d\\\\sl3d;C:\\\\Program Files\\\\MATLAB\\\\R2023a\\\\toolbox\\\\sl3d\\\\sl3ddemos;C:\\\\Program Files\\\\MATLAB\\\\R2023a\\\\toolbox\\\\sl3d\\\\sl3dext\\\\sim3d;C:\\\\Program Files\\\\MATLAB\\\\R2023a\\\\toolbox\\\\sl3d\\\\sl3dext\\\\sl3d;C:\\\\Program Files\\\\MATLAB\\\\R2023a\\\\toolbox\\\\sl_data\\\\matlabFunctions\\\\matlab;C:\\\\Program Files\\\\MATLAB\\\\R2023a\\\\toolbox\\\\sl_pir_cap;C:\\\\Program Files\\\\MATLAB\\\\R2023a\\\\toolbox\\\\sl_variants\\\\advisor_checks\\\\checks\\\\m;C:\\\\Program Files\\\\MATLAB\\\\R2023a\\\\toolbox\\\\sl_variants\\\\analyzer\\\\datamodel\\\\web\\\\UI;C:\\\\Program Files\\\\MATLAB\\\\R2023a\\\\toolbox\\\\sl_variants\\\\analyzer\\\\slplugin\\\\m;C:\\\\Program Files\\\\MATLAB\\\\R2023a\\\\toolbox\\\\sl_variants\\\\config_obj\\\\m;C:\\\\Program Files\\\\MATLAB\\\\R2023a\\\\toolbox\\\\sl_variants\\\\manager\\\\core\\\\m;C:\\\\Program Files\\\\MATLAB\\\\R2023a\\\\toolbox\\\\sl_variants\\\\manager\\\\ui\\\\m;C:\\\\Program Files\\\\MATLAB\\\\R2023a\\\\toolbox\\\\sl_variants\\\\manager\\\\ui\\\\vmgrtsplugin;C:\\\\Program Files\\\\MATLAB\\\\R2023a\\\\toolbox\\\\sl_variants\\\\reducer\\\\core\\\\m;C:\\\\Program Files\\\\MATLAB\\\\R2023a\\\\toolbox\\\\sl_variants\\\\utils\\\\m;C:\\\\Program Files\\\\MATLAB\\\\R2023a\\\\toolbox\\\\sl_xls;C:\\\\Program Files\\\\MATLAB\\\\R2023a\\\\toolbox\\\\slcheck;C:\\\\Program Files\\\\MATLAB\\\\R2023a\\\\toolbox\\\\slcheck\\\\do178b;C:\\\\Program Files\\\\MATLAB\\\\R2023a\\\\toolbox\\\\slcheck\\\\highintegrity;C:\\\\Program Files\\\\MATLAB\\\\R2023a\\\\toolbox\\\\slcheck\\\\iec61508;C:\\\\Program Files\\\\MATLAB\\\\R2023a\\\\toolbox\\\\slcheck\\\\mametrics;C:\\\\Program Files\\\\MATLAB\\\\R2023a\\\\toolbox\\\\slcheck\\\\model_refactoring;C:\\\\Program Files\\\\MATLAB\\\\R2023a\\\\toolbox\\\\slcheck\\\\slcheckdemos;C:\\\\Program Files\\\\MATLAB\\\\R2023a\\\\toolbox\\\\slcheck\\\\slcheckdemos\\\\slicerdemos;C:\\\\Program Files\\\\MATLAB\\\\R2023a\\\\toolbox\\\\slcheck\\\\slmetrics\\\\ml;C:\\\\Program Files\\\\MATLAB\\\\R2023a\\\\toolbox\\\\slcheck\\\\slmetrics_mmt\\\\ml;C:\\\\Program Files\\\\MATLAB\\\\R2023a\\\\toolbox\\\\slcheck\\\\styleguide;C:\\\\Program Files\\\\MATLAB\\\\R2023a\\\\toolbox\\\\slcheck_edittime_sdp\\\\ml;C:\\\\Program Files\\\\MATLAB\\\\R2023a\\\\toolbox\\\\slci\\\\slci;C:\\\\Program Files\\\\MATLAB\\\\R2023a\\\\toolbox\\\\slci\\\\slci_manualreview\\\\m;C:\\\\Program Files\\\\MATLAB\\\\R2023a\\\\toolbox\\\\slci\\\\slci_toolstrip\\\\m;C:\\\\Program Files\\\\MATLAB\\\\R2023a\\\\toolbox\\\\slci\\\\slci_view\\\\m;C:\\\\Program Files\\\\MATLAB\\\\R2023a\\\\toolbox\\\\slci\\\\slcidemos;C:\\\\Program Files\\\\MATLAB\\\\R2023a\\\\toolbox\\\\slcontrol\\\\slcontrol;C:\\\\Program Files\\\\MATLAB\\\\R2023a\\\\toolbox\\\\slcontrol\\\\slctrlguis;C:\\\\Program Files\\\\MATLAB\\\\R2023a\\\\toolbox\\\\slcontrol\\\\slctrlobsolete;C:\\\\Program Files\\\\MATLAB\\\\R2023a\\\\toolbox\\\\slcontrol\\\\slctrlutil;C:\\\\Program Files\\\\MATLAB\\\\R2023a\\\\toolbox\\\\slcoverage;C:\\\\Program Files\\\\MATLAB\\\\R2023a\\\\toolbox\\\\slcoverage\\\\sltoolstrip\\\\m;C:\\\\Program Files\\\\MATLAB\\\\R2023a\\\\toolbox\\\\slde\\\\slde;C:\\\\Program Files\\\\MATLAB\\\\R2023a\\\\toolbox\\\\slde\\\\templates;C:\\\\Program Files\\\\MATLAB\\\\R2023a\\\\toolbox\\\\sldo\\\\sldo;C:\\\\Program Files\\\\MATLAB\\\\R2023a\\\\toolbox\\\\sldo\\\\sldoguis;C:\\\\Program Files\\\\MATLAB\\\\R2023a\\\\toolbox\\\\sldo\\\\slestim\\\\slestguis;C:\\\\Program Files\\\\MATLAB\\\\R2023a\\\\toolbox\\\\sldo\\\\slestim\\\\slestim;C:\\\\Program Files\\\\MATLAB\\\\R2023a\\\\toolbox\\\\sldo\\\\slestim\\\\slestmex;C:\\\\Program Files\\\\MATLAB\\\\R2023a\\\\toolbox\\\\sldo\\\\slestim\\\\slestutil;C:\\\\Program Files\\\\MATLAB\\\\R2023a\\\\toolbox\\\\sldo\\\\sloptim\\\\sloptguis;C:\\\\Program Files\\\\MATLAB\\\\R2023a\\\\toolbox\\\\sldo\\\\sloptim\\\\sloptim;C:\\\\Program Files\\\\MATLAB\\\\R2023a\\\\toolbox\\\\sldo\\\\sloptim\\\\sloptobsolete;C:\\\\Program Files\\\\MATLAB\\\\R2023a\\\\toolbox\\\\sldrt\\\\coder;C:\\\\Program Files\\\\MATLAB\\\\R2023a\\\\toolbox\\\\sldrt\\\\rtw;C:\\\\Program Files\\\\MATLAB\\\\R2023a\\\\toolbox\\\\sldrt\\\\sldrt;C:\\\\Program Files\\\\MATLAB\\\\R2023a\\\\toolbox\\\\sldrt\\\\sldrtexamples;C:\\\\Program Files\\\\MATLAB\\\\R2023a\\\\toolbox\\\\sldv\\\\sldv;C:\\\\Program Files\\\\MATLAB\\\\R2023a\\\\toolbox\\\\sldv\\\\sldvdemos;C:\\\\Program Files\\\\MATLAB\\\\R2023a\\\\toolbox\\\\sldv\\\\slicer;C:\\\\Program Files\\\\MATLAB\\\\R2023a\\\\toolbox\\\\sldv\\\\slicer\\\\gui;C:\\\\Program Files\\\\MATLAB\\\\R2023a\\\\toolbox\\\\slrealtime\\\\appdesigner;C:\\\\Program Files\\\\MATLAB\\\\R2023a\\\\toolbox\\\\slrealtime\\\\examples;C:\\\\Program Files\\\\MATLAB\\\\R2023a\\\\toolbox\\\\slrealtime\\\\simulink\\\\advisor;C:\\\\Program Files\\\\MATLAB\\\\R2023a\\\\toolbox\\\\slrealtime\\\\simulink\\\\blocks;C:\\\\Program Files\\\\MATLAB\\\\R2023a\\\\toolbox\\\\slrealtime\\\\simulink\\\\blocks\\\\IP;C:\\\\Program Files\\\\MATLAB\\\\R2023a\\\\toolbox\\\\slrealtime\\\\simulink\\\\blocks\\\\dds;C:\\\\Program Files\\\\MATLAB\\\\R2023a\\\\toolbox\\\\slrealtime\\\\simulink\\\\blocks\\\\obsolete;C:\\\\Program Files\\\\MATLAB\\\\R2023a\\\\toolbox\\\\slrealtime\\\\simulink\\\\blocks\\\\obsolete\\\\forwarding;C:\\\\Program Files\\\\MATLAB\\\\R2023a\\\\toolbox\\\\slrealtime\\\\simulink\\\\blocks\\\\obsolete\\\\xpcobsolete;C:\\\\Program Files\\\\MATLAB\\\\R2023a\\\\toolbox\\\\slrealtime\\\\simulink\\\\coder;C:\\\\Program Files\\\\MATLAB\\\\R2023a\\\\toolbox\\\\slrealtime\\\\simulink\\\\coder\\\\crl;C:\\\\Program Files\\\\MATLAB\\\\R2023a\\\\toolbox\\\\slrealtime\\\\simulink\\\\coder\\\\obsolete;C:\\\\Program Files\\\\MATLAB\\\\R2023a\\\\toolbox\\\\slrealtime\\\\simulink\\\\coder\\\\obsolete\\\\rtw;C:\\\\Program Files\\\\MATLAB\\\\R2023a\\\\toolbox\\\\slrealtime\\\\simulink\\\\coder\\\\rtw;C:\\\\Program Files\\\\MATLAB\\\\R2023a\\\\toolbox\\\\slrealtime\\\\simulink\\\\coder_plugin\\\\m;C:\\\\Program Files\\\\MATLAB\\\\R2023a\\\\toolbox\\\\slrealtime\\\\slrealtime;C:\\\\Program Files\\\\MATLAB\\\\R2023a\\\\toolbox\\\\slrealtime\\\\toolstrip\\\\m;C:\\\\Program Files\\\\MATLAB\\\\R2023a\\\\toolbox\\\\slreportgen\\\\rpt2api;C:\\\\Program Files\\\\MATLAB\\\\R2023a\\\\toolbox\\\\slreportgen\\\\webview;C:\\\\Program Files\\\\MATLAB\\\\R2023a\\\\toolbox\\\\slrequirements\\\\comparisons\\\\rptgen;C:\\\\Program Files\\\\MATLAB\\\\R2023a\\\\toolbox\\\\slrequirements\\\\slrequirements;C:\\\\Program Files\\\\MATLAB\\\\R2023a\\\\toolbox\\\\slrequirements\\\\slrequirements\\\\builtin_profiles\\\\safety;C:\\\\Program Files\\\\MATLAB\\\\R2023a\\\\toolbox\\\\slrequirements\\\\slrequirementsdemos;C:\\\\Program Files\\\\MATLAB\\\\R2023a\\\\toolbox\\\\slrequirements\\\\src\\\\slrequirements\\\\comparisons\\\\mldesktop\\\\matlab;C:\\\\Program Files\\\\MATLAB\\\\R2023a\\\\toolbox\\\\slsim\\\\design;C:\\\\Program Files\\\\MATLAB\\\\R2023a\\\\toolbox\\\\sltp\\\\m;C:\\\\Program Files\\\\MATLAB\\\\R2023a\\\\toolbox\\\\slvnv\\\\rmidemos;C:\\\\Program Files\\\\MATLAB\\\\R2023a\\\\toolbox\\\\slvnv\\\\slvnv;C:\\\\Program Files\\\\MATLAB\\\\R2023a\\\\toolbox\\\\soc;C:\\\\Program Files\\\\MATLAB\\\\R2023a\\\\toolbox\\\\soc\\\\blocks;C:\\\\Program Files\\\\MATLAB\\\\R2023a\\\\toolbox\\\\soc\\\\complexity;C:\\\\Program Files\\\\MATLAB\\\\R2023a\\\\toolbox\\\\soc\\\\complexity\\\\app;C:\\\\Program Files\\\\MATLAB\\\\R2023a\\\\toolbox\\\\soc\\\\complexity\\\\cli;C:\\\\Program Files\\\\MATLAB\\\\R2023a\\\\toolbox\\\\soc\\\\customhardwaretarget;C:\\\\Program Files\\\\MATLAB\\\\R2023a\\\\toolbox\\\\soc\\\\customhardwaretarget\\\\registry;C:\\\\Program Files\\\\MATLAB\\\\R2023a\\\\toolbox\\\\soc\\\\fpga;C:\\\\Program Files\\\\MATLAB\\\\R2023a\\\\toolbox\\\\soc\\\\fpga\\\\simulation;C:\\\\Program Files\\\\MATLAB\\\\R2023a\\\\toolbox\\\\soc\\\\fpga\\\\target;C:\\\\Program Files\\\\MATLAB\\\\R2023a\\\\toolbox\\\\soc\\\\fpga\\\\utilities;C:\\\\Program Files\\\\MATLAB\\\\R2023a\\\\toolbox\\\\soc\\\\hardwareboards\\\\alterasoc;C:\\\\Program Files\\\\MATLAB\\\\R2023a\\\\toolbox\\\\soc\\\\hardwareboards\\\\aurix_target;C:\\\\Program Files\\\\MATLAB\\\\R2023a\\\\toolbox\\\\soc\\\\hardwareboards\\\\rfsoc;C:\\\\Program Files\\\\MATLAB\\\\R2023a\\\\toolbox\\\\soc\\\\hardwareboards\\\\stm32;C:\\\\Program Files\\\\MATLAB\\\\R2023a\\\\toolbox\\\\soc\\\\hardwareboards\\\\versal;C:\\\\Program Files\\\\MATLAB\\\\R2023a\\\\toolbox\\\\soc\\\\hardwareboards\\\\xilinxfpga;C:\\\\Program Files\\\\MATLAB\\\\R2023a\\\\toolbox\\\\soc\\\\hardwareboards\\\\zynq;C:\\\\Program Files\\\\MATLAB\\\\R2023a\\\\toolbox\\\\soc\\\\processor\\\\profiler\\\\kernelprofiler;C:\\\\Program Files\\\\MATLAB\\\\R2023a\\\\toolbox\\\\soc\\\\soc\\\\memmap;C:\\\\Program Files\\\\MATLAB\\\\R2023a\\\\toolbox\\\\soc\\\\socexamples;C:\\\\Program Files\\\\MATLAB\\\\R2023a\\\\toolbox\\\\soc\\\\templates;C:\\\\Program Files\\\\MATLAB\\\\R2023a\\\\toolbox\\\\ssm\\\\scenarioblks\\\\scenarioblks;C:\\\\Program Files\\\\MATLAB\\\\R2023a\\\\toolbox\\\\ssm\\\\sl_agent_metadata_m;C:\\\\Program Files\\\\MATLAB\\\\R2023a\\\\toolbox\\\\ssm\\\\ssm_m;C:\\\\Program Files\\\\MATLAB\\\\R2023a\\\\toolbox\\\\stats\\\\anomaly;C:\\\\Program Files\\\\MATLAB\\\\R2023a\\\\toolbox\\\\stats\\\\bayesoptim;C:\\\\Program Files\\\\MATLAB\\\\R2023a\\\\toolbox\\\\stats\\\\bigdata;C:\\\\Program Files\\\\MATLAB\\\\R2023a\\\\toolbox\\\\stats\\\\blocks;C:\\\\Program Files\\\\MATLAB\\\\R2023a\\\\toolbox\\\\stats\\\\blocks\\\\classregblks;C:\\\\Program Files\\\\MATLAB\\\\R2023a\\\\toolbox\\\\stats\\\\builtins;C:\\\\Program Files\\\\MATLAB\\\\R2023a\\\\toolbox\\\\stats\\\\classreg;C:\\\\Program Files\\\\MATLAB\\\\R2023a\\\\toolbox\\\\stats\\\\clustering;C:\\\\Program Files\\\\MATLAB\\\\R2023a\\\\toolbox\\\\stats\\\\distributed;C:\\\\Program Files\\\\MATLAB\\\\R2023a\\\\toolbox\\\\stats\\\\featlearn;C:\\\\Program Files\\\\MATLAB\\\\R2023a\\\\toolbox\\\\stats\\\\gpu;C:\\\\Program Files\\\\MATLAB\\\\R2023a\\\\toolbox\\\\stats\\\\hypothesis;C:\\\\Program Files\\\\MATLAB\\\\R2023a\\\\toolbox\\\\stats\\\\incremental;C:\\\\Program Files\\\\MATLAB\\\\R2023a\\\\toolbox\\\\stats\\\\livetasks;C:\\\\Program Files\\\\MATLAB\\\\R2023a\\\\toolbox\\\\stats\\\\mlearnapps;C:\\\\Program Files\\\\MATLAB\\\\R2023a\\\\toolbox\\\\stats\\\\responsible;C:\\\\Program Files\\\\MATLAB\\\\R2023a\\\\toolbox\\\\stats\\\\semisupervised;C:\\\\Program Files\\\\MATLAB\\\\R2023a\\\\toolbox\\\\stats\\\\stats;C:\\\\Program Files\\\\MATLAB\\\\R2023a\\\\toolbox\\\\stats\\\\statsdemos;C:\\\\Program Files\\\\MATLAB\\\\R2023a\\\\toolbox\\\\stats\\\\timeseries;C:\\\\Program Files\\\\MATLAB\\\\R2023a\\\\toolbox\\\\stm\\\\comparisons\\\\mldesktop\\\\matlab;C:\\\\Program Files\\\\MATLAB\\\\R2023a\\\\toolbox\\\\stm\\\\stm;C:\\\\Program Files\\\\MATLAB\\\\R2023a\\\\toolbox\\\\stm\\\\stm\\\\matlabunit;C:\\\\Program Files\\\\MATLAB\\\\R2023a\\\\toolbox\\\\symbolic\\\\graphics;C:\\\\Program Files\\\\MATLAB\\\\R2023a\\\\toolbox\\\\symbolic\\\\symbolic;C:\\\\Program Files\\\\MATLAB\\\\R2023a\\\\toolbox\\\\symbolic\\\\tasks;C:\\\\Program Files\\\\MATLAB\\\\R2023a\\\\toolbox\\\\sysarch\\\\sysarch;C:\\\\Program Files\\\\MATLAB\\\\R2023a\\\\toolbox\\\\sysarch\\\\sysarch\\\\profiles;C:\\\\Program Files\\\\MATLAB\\\\R2023a\\\\toolbox\\\\sysarch\\\\sysarch_api;C:\\\\Program Files\\\\MATLAB\\\\R2023a\\\\toolbox\\\\sysarch\\\\sysarch_interfaces;C:\\\\Program Files\\\\MATLAB\\\\R2023a\\\\toolbox\\\\systemcomposer\\\\allocation\\\\allocation;C:\\\\Program Files\\\\MATLAB\\\\R2023a\\\\toolbox\\\\systemcomposer\\\\analysis\\\\analysis;C:\\\\Program Files\\\\MATLAB\\\\R2023a\\\\toolbox\\\\systemcomposer\\\\comparisons\\\\mldesktop\\\\matlab;C:\\\\Program Files\\\\MATLAB\\\\R2023a\\\\toolbox\\\\systemcomposer\\\\examples;C:\\\\Program Files\\\\MATLAB\\\\R2023a\\\\toolbox\\\\systemcomposer\\\\examples\\\\rpt;C:\\\\Program Files\\\\MATLAB\\\\R2023a\\\\toolbox\\\\systemcomposer\\\\interfaces\\\\interfaces;C:\\\\Program Files\\\\MATLAB\\\\R2023a\\\\toolbox\\\\systemcomposer\\\\matrix\\\\matrix;C:\\\\Program Files\\\\MATLAB\\\\R2023a\\\\toolbox\\\\systemcomposer\\\\profile\\\\designer;C:\\\\Program Files\\\\MATLAB\\\\R2023a\\\\toolbox\\\\systemcomposer\\\\protobuf\\\\protobuf;C:\\\\Program Files\\\\MATLAB\\\\R2023a\\\\toolbox\\\\systemcomposer\\\\systemcomposer;C:\\\\Program Files\\\\MATLAB\\\\R2023a\\\\toolbox\\\\systemcomposer\\\\templates;C:\\\\Program Files\\\\MATLAB\\\\R2023a\\\\toolbox\\\\target;C:\\\\Program Files\\\\MATLAB\\\\R2023a\\\\toolbox\\\\target\\\\codertarget;C:\\\\Program Files\\\\MATLAB\\\\R2023a\\\\toolbox\\\\target\\\\codertarget\\\\matlabcoder;C:\\\\Program Files\\\\MATLAB\\\\R2023a\\\\toolbox\\\\target\\\\codertarget\\\\rtw;C:\\\\Program Files\\\\MATLAB\\\\R2023a\\\\toolbox\\\\target\\\\codertarget\\\\sltoolstrip\\\\m;C:\\\\Program Files\\\\MATLAB\\\\R2023a\\\\toolbox\\\\target\\\\extensions\\\\operatingsystem\\\\linux\\\\blks;C:\\\\Program Files\\\\MATLAB\\\\R2023a\\\\toolbox\\\\target\\\\extensions\\\\operatingsystem\\\\linux\\\\blks\\\\masks;C:\\\\Program Files\\\\MATLAB\\\\R2023a\\\\toolbox\\\\target\\\\extensions\\\\operatingsystem\\\\linux\\\\blks\\\\mex;C:\\\\Program Files\\\\MATLAB\\\\R2023a\\\\toolbox\\\\target\\\\extensions\\\\operatingsystem\\\\linux\\\\src;C:\\\\Program Files\\\\MATLAB\\\\R2023a\\\\toolbox\\\\target\\\\extensions\\\\operatingsystem\\\\windows\\\\blks;C:\\\\Program Files\\\\MATLAB\\\\R2023a\\\\toolbox\\\\target\\\\extensions\\\\operatingsystem\\\\windows\\\\blks\\\\masks;C:\\\\Program Files\\\\MATLAB\\\\R2023a\\\\toolbox\\\\target\\\\extensions\\\\operatingsystem\\\\windows\\\\blks\\\\mex;C:\\\\Program Files\\\\MATLAB\\\\R2023a\\\\toolbox\\\\target\\\\extensions\\\\processor\\\\ARM\\\\tfl;C:\\\\Program Files\\\\MATLAB\\\\R2023a\\\\toolbox\\\\target\\\\extensions\\\\processor\\\\intelhost\\\\tfl;C:\\\\Program Files\\\\MATLAB\\\\R2023a\\\\toolbox\\\\target\\\\extensions\\\\processor\\\\shared;C:\\\\Program Files\\\\MATLAB\\\\R2023a\\\\toolbox\\\\target\\\\extensions\\\\processor\\\\shared\\\\ti;C:\\\\Program Files\\\\MATLAB\\\\R2023a\\\\toolbox\\\\target\\\\extensions\\\\processor\\\\shared\\\\ti\\\\blks;C:\\\\Program Files\\\\MATLAB\\\\R2023a\\\\toolbox\\\\target\\\\extensions\\\\processor\\\\shared\\\\ti\\\\blks\\\\masks;C:\\\\Program Files\\\\MATLAB\\\\R2023a\\\\toolbox\\\\target\\\\extensions\\\\processor\\\\shared\\\\ti\\\\blks\\\\mex;C:\\\\Program Files\\\\MATLAB\\\\R2023a\\\\toolbox\\\\target\\\\extensions\\\\processor\\\\shared\\\\ti\\\\mdlinfo;C:\\\\Program Files\\\\MATLAB\\\\R2023a\\\\toolbox\\\\target\\\\extensions\\\\processor\\\\shared\\\\ti\\\\utils;C:\\\\Program Files\\\\MATLAB\\\\R2023a\\\\toolbox\\\\target\\\\extensions\\\\processor\\\\tic2000;C:\\\\Program Files\\\\MATLAB\\\\R2023a\\\\toolbox\\\\target\\\\extensions\\\\processor\\\\tic2000\\\\rtw;C:\\\\Program Files\\\\MATLAB\\\\R2023a\\\\toolbox\\\\target\\\\foundation;C:\\\\Program Files\\\\MATLAB\\\\R2023a\\\\toolbox\\\\target\\\\foundation\\\\blks;C:\\\\Program Files\\\\MATLAB\\\\R2023a\\\\toolbox\\\\target\\\\foundation\\\\blks\\\\masks;C:\\\\Program Files\\\\MATLAB\\\\R2023a\\\\toolbox\\\\target\\\\foundation\\\\blks\\\\mex;C:\\\\Program Files\\\\MATLAB\\\\R2023a\\\\toolbox\\\\target\\\\foundation\\\\utils;C:\\\\Program Files\\\\MATLAB\\\\R2023a\\\\toolbox\\\\target\\\\foundation\\\\utils\\\\resource_config;C:\\\\Program Files\\\\MATLAB\\\\R2023a\\\\toolbox\\\\target\\\\shared\\\\armcortexabase;C:\\\\Program Files\\\\MATLAB\\\\R2023a\\\\toolbox\\\\target\\\\shared\\\\armcortexabase\\\\utils;C:\\\\Program Files\\\\MATLAB\\\\R2023a\\\\toolbox\\\\target\\\\shared\\\\armcortexmbase;C:\\\\Program Files\\\\MATLAB\\\\R2023a\\\\toolbox\\\\target\\\\shared\\\\armcortexmbase\\\\blocks;C:\\\\Program Files\\\\MATLAB\\\\R2023a\\\\toolbox\\\\target\\\\shared\\\\armcortexmbase\\\\blocks\\\\masks;C:\\\\Program Files\\\\MATLAB\\\\R2023a\\\\toolbox\\\\target\\\\shared\\\\armcortexmbase\\\\blocks\\\\mex;C:\\\\Program Files\\\\MATLAB\\\\R2023a\\\\toolbox\\\\target\\\\shared\\\\armcortexmbase\\\\registry;C:\\\\Program Files\\\\MATLAB\\\\R2023a\\\\toolbox\\\\target\\\\shared\\\\asyncioplugins;C:\\\\Program Files\\\\MATLAB\\\\R2023a\\\\toolbox\\\\target\\\\shared\\\\devicedrivers_coder;C:\\\\Program Files\\\\MATLAB\\\\R2023a\\\\toolbox\\\\target\\\\shared\\\\embedded_utilities;C:\\\\Program Files\\\\MATLAB\\\\R2023a\\\\toolbox\\\\target\\\\shared\\\\embedded_utilities\\\\blocks;C:\\\\Program Files\\\\MATLAB\\\\R2023a\\\\toolbox\\\\target\\\\shared\\\\embedded_utilities\\\\blocks\\\\mex;C:\\\\Program Files\\\\MATLAB\\\\R2023a\\\\toolbox\\\\target\\\\shared\\\\embedded_utilities\\\\common;C:\\\\Program Files\\\\MATLAB\\\\R2023a\\\\toolbox\\\\target\\\\shared\\\\file_logging;C:\\\\Program Files\\\\MATLAB\\\\R2023a\\\\toolbox\\\\target\\\\shared\\\\ioplayback;C:\\\\Program Files\\\\MATLAB\\\\R2023a\\\\toolbox\\\\target\\\\shared\\\\ioserver;C:\\\\Program Files\\\\MATLAB\\\\R2023a\\\\toolbox\\\\target\\\\shared\\\\linux_ioserver;C:\\\\Program Files\\\\MATLAB\\\\R2023a\\\\toolbox\\\\target\\\\shared\\\\peripherals;C:\\\\Program Files\\\\MATLAB\\\\R2023a\\\\toolbox\\\\target\\\\shared\\\\svd;C:\\\\Program Files\\\\MATLAB\\\\R2023a\\\\toolbox\\\\target\\\\shared\\\\svd\\\\blocks;C:\\\\Program Files\\\\MATLAB\\\\R2023a\\\\toolbox\\\\target\\\\shared\\\\svd\\\\blocks\\\\mex;C:\\\\Program Files\\\\MATLAB\\\\R2023a\\\\toolbox\\\\target\\\\shared\\\\svd\\\\common;C:\\\\Program Files\\\\MATLAB\\\\R2023a\\\\toolbox\\\\target\\\\shared\\\\target_plugins\\\\targetHiddenBlkInsert;C:\\\\Program Files\\\\MATLAB\\\\R2023a\\\\toolbox\\\\target\\\\shared\\\\targetauthoring;C:\\\\Program Files\\\\MATLAB\\\\R2023a\\\\toolbox\\\\targetframework\\\\configuration\\\\matlab;C:\\\\Program Files\\\\MATLAB\\\\R2023a\\\\toolbox\\\\targetframework\\\\data\\\\dmsi\\\\matlabonly;C:\\\\Program Files\\\\MATLAB\\\\R2023a\\\\toolbox\\\\targetframework\\\\matlab;C:\\\\Program Files\\\\MATLAB\\\\R2023a\\\\toolbox\\\\targetframework\\\\matlabwrapper;C:\\\\Program Files\\\\MATLAB\\\\R2023a\\\\toolbox\\\\targetframework\\\\model\\\\foundation\\\\matlab;C:\\\\Program Files\\\\MATLAB\\\\R2023a\\\\toolbox\\\\targetframework\\\\model\\\\target\\\\matlab;C:\\\\Program Files\\\\MATLAB\\\\R2023a\\\\toolbox\\\\targetframework\\\\plugins\\\\legacyconnection\\\\matlabprovider\\\\matlab;C:\\\\Program Files\\\\MATLAB\\\\R2023a\\\\toolbox\\\\targetframework\\\\utilities\\\\supportpackage;C:\\\\Program Files\\\\MATLAB\\\\R2023a\\\\toolbox\\\\textanalytics\\\\BERT\\\\matlab;C:\\\\Program Files\\\\MATLAB\\\\R2023a\\\\toolbox\\\\textanalytics\\\\livetasks;C:\\\\Program Files\\\\MATLAB\\\\R2023a\\\\toolbox\\\\textanalytics\\\\textanalytics;C:\\\\Program Files\\\\MATLAB\\\\R2023a\\\\toolbox\\\\vdynblks;C:\\\\Program Files\\\\MATLAB\\\\R2023a\\\\toolbox\\\\vdynblks\\\\vdynblks;C:\\\\Program Files\\\\MATLAB\\\\R2023a\\\\toolbox\\\\vdynblks\\\\vdynblksutilities;C:\\\\Program Files\\\\MATLAB\\\\R2023a\\\\toolbox\\\\vdynblks\\\\vdyndemos;C:\\\\Program Files\\\\MATLAB\\\\R2023a\\\\toolbox\\\\vision\\\\gpu;C:\\\\Program Files\\\\MATLAB\\\\R2023a\\\\toolbox\\\\vision\\\\vision;C:\\\\Program Files\\\\MATLAB\\\\R2023a\\\\toolbox\\\\vision\\\\visiondata;C:\\\\Program Files\\\\MATLAB\\\\R2023a\\\\toolbox\\\\vision\\\\visiondemos;C:\\\\Program Files\\\\MATLAB\\\\R2023a\\\\toolbox\\\\vision\\\\visionutilities;C:\\\\Program Files\\\\MATLAB\\\\R2023a\\\\toolbox\\\\vision\\\\visionutilities\\\\visioninit;C:\\\\Program Files\\\\MATLAB\\\\R2023a\\\\toolbox\\\\vision\\\\visionutilities\\\\visionmex;C:\\\\Program Files\\\\MATLAB\\\\R2023a\\\\toolbox\\\\visionhdl\\\\templates;C:\\\\Program Files\\\\MATLAB\\\\R2023a\\\\toolbox\\\\visionhdl\\\\visionhdl;C:\\\\Program Files\\\\MATLAB\\\\R2023a\\\\toolbox\\\\visionhdl\\\\visionhdlutilities;C:\\\\Program Files\\\\MATLAB\\\\R2023a\\\\toolbox\\\\visionhdl\\\\visionhdlutilities\\\\visionhdlinit;C:\\\\Program Files\\\\MATLAB\\\\R2023a\\\\toolbox\\\\vnt\\\\apps\\\\canapplet;C:\\\\Program Files\\\\MATLAB\\\\R2023a\\\\toolbox\\\\vnt\\\\apps\\\\canapplets_shared;C:\\\\Program Files\\\\MATLAB\\\\R2023a\\\\toolbox\\\\vnt\\\\apps\\\\canfdapplet;C:\\\\Program Files\\\\MATLAB\\\\R2023a\\\\toolbox\\\\vnt\\\\apps\\\\provider;C:\\\\Program Files\\\\MATLAB\\\\R2023a\\\\toolbox\\\\vnt\\\\vnt;C:\\\\Program Files\\\\MATLAB\\\\R2023a\\\\toolbox\\\\vnt\\\\vntblks\\\\vntblks;C:\\\\Program Files\\\\MATLAB\\\\R2023a\\\\toolbox\\\\vnt\\\\vntblks\\\\vntmasks;C:\\\\Program Files\\\\MATLAB\\\\R2023a\\\\toolbox\\\\vnt\\\\vntblks\\\\vntmex;C:\\\\Program Files\\\\MATLAB\\\\R2023a\\\\toolbox\\\\wavelet\\\\apps\\\\imageanalyzer;C:\\\\Program Files\\\\MATLAB\\\\R2023a\\\\toolbox\\\\wavelet\\\\apps\\\\mra\\\\src;C:\\\\Program Files\\\\MATLAB\\\\R2023a\\\\toolbox\\\\wavelet\\\\apps\\\\timefrequencyanalyzer;C:\\\\Program Files\\\\MATLAB\\\\R2023a\\\\toolbox\\\\wavelet\\\\apps\\\\waveletsignaldenoiser\\\\src;C:\\\\Program Files\\\\MATLAB\\\\R2023a\\\\toolbox\\\\wavelet\\\\apps\\\\wv1Danalyzer\\\\src;C:\\\\Program Files\\\\MATLAB\\\\R2023a\\\\toolbox\\\\wavelet\\\\compression;C:\\\\Program Files\\\\MATLAB\\\\R2023a\\\\toolbox\\\\wavelet\\\\deep;C:\\\\Program Files\\\\MATLAB\\\\R2023a\\\\toolbox\\\\wavelet\\\\wavelet;C:\\\\Program Files\\\\MATLAB\\\\R2023a\\\\toolbox\\\\wavelet\\\\wmultisig1d;C:\\\\Program Files\\\\MATLAB\\\\R2023a\\\\ui\\\\composite_dv_widget_mi\\\\m;C:\\\\Program Files\\\\MATLAB\\\\R2023a\\\\ui\\\\desktop-default-plugins\\\\matlab'"
      ]
     },
     "execution_count": 1,
     "metadata": {},
     "output_type": "execute_result"
    }
   ],
   "source": [
    "import cv2\n",
    "import pandas as pd\n",
    "import dippykit as dip\n",
    "import numpy as np                                   \n",
    "import matplotlib.pyplot as plt   \n",
    "from skimage import exposure \n",
    "from skimage.exposure import match_histograms \n",
    "import matlab.engine\n",
    "import glob\n",
    "import ssim.ssimlib as pyssim\n",
    "from PIL import Image\n",
    "import os \n",
    "import pywt\n",
    "from keras.models import load_model\n",
    "eng = matlab.engine.start_matlab()\n",
    "eng.addpath(\"Function\\InputWeights\")\n",
    "eng.addpath(\"Function\\InputWeights_U\")\n",
    "eng.addpath(\"Function\")"
   ]
  },
  {
   "cell_type": "markdown",
   "metadata": {},
   "source": [
    "# Functions"
   ]
  },
  {
   "cell_type": "code",
   "execution_count": 2,
   "metadata": {},
   "outputs": [],
   "source": [
    "def nlmeans_denoise(image, h=3, templateWindowSize=7, searchWindowSize=21):\n",
    "    # Perform Non-Local Means Denoising using OpenCV\n",
    "    return cv2.fastNlMeansDenoising(image, None, h, templateWindowSize, searchWindowSize)\n",
    "\n",
    "def wavelet_denoise(img, threshold=20):\n",
    "\n",
    "    channels = cv2.split(img)\n",
    "\n",
    "    # Apply wavelet denoising to each channel independently\n",
    "    denoised_channels = []\n",
    "    for channel in channels:\n",
    "        # Perform 2D wavelet transform\n",
    "        coeffs = pywt.dwt2(channel, 'bior1.3')\n",
    "\n",
    "        # Thresholding: Set small coefficients to zero\n",
    "        coeffs = tuple(map(lambda x: pywt.threshold(x, threshold, mode='soft'), coeffs))\n",
    "\n",
    "        # Inverse 2D wavelet transform\n",
    "        denoised_channel = pywt.idwt2(coeffs, 'bior1.3')\n",
    "\n",
    "        # Clip values to be in the valid range [0, 255]\n",
    "        denoised_channel = np.clip(denoised_channel, 0, 255)\n",
    "\n",
    "        # Convert to uint8 (required for image display)\n",
    "        denoised_channel = denoised_channel.astype(np.uint8)\n",
    "\n",
    "        denoised_channels.append(denoised_channel)\n",
    "\n",
    "    # Merge the denoised channels back into an RGB image\n",
    "    denoised_img = cv2.merge(denoised_channels)\n",
    "\n",
    "    return denoised_img\n",
    "\n",
    "def combine_denoising_methods(image):\n",
    "\n",
    "    # Apply NLMeans denoising\n",
    "    nlmeans_denoised = nlmeans_denoise(image)\n",
    "\n",
    "    # Apply wavelet denoising\n",
    "    wavelet_denoised = wavelet_denoise(image)\n",
    "\n",
    "    nlmeans_denoised = np.array(nlmeans_denoised)\n",
    "    wavelet_denoised = np.array(wavelet_denoised)\n",
    "\n",
    "    nlmeans_denoised_norm = nlmeans_denoised / 255.0\n",
    "    wavelet_denoised_norm = wavelet_denoised / 255.0\n",
    "\n",
    "\n",
    "    # Combine the results (you can experiment with different blending strategies)\n",
    "    combined_denoised_norm = 0.2 * nlmeans_denoised_norm + 0.8 * wavelet_denoised_norm\n",
    "\n",
    "    combined_denoised = (combined_denoised_norm * 255).astype(np.uint8)\n",
    "\n",
    "    return combined_denoised"
   ]
  },
  {
   "cell_type": "code",
   "execution_count": 3,
   "metadata": {},
   "outputs": [],
   "source": [
    "def psnr_2_lsts(lst1,gt_lst2):\n",
    "    psnrs = []\n",
    "    for i,j in zip(lst1,gt_lst2):\n",
    "        val = cv2.PSNR(j, i)\n",
    "        psnrs.append(val)\n",
    "    return psnrs\n",
    "\n",
    "def plot_normal_distribution(old_psnrs, new_psnrs):\n",
    "    # Calculate mean and standard deviation for each dataset\n",
    "    mean1 = np.mean(old_psnrs)\n",
    "    std_dev1 = np.std(old_psnrs)\n",
    "\n",
    "    mean2 = np.mean(new_psnrs)\n",
    "    std_dev2 = np.std(new_psnrs)\n",
    "\n",
    "    # Create a range of x values\n",
    "    x = np.linspace(min(old_psnrs + new_psnrs), max(old_psnrs + new_psnrs), 100)\n",
    "\n",
    "    # Generate probability density functions (PDFs) for each dataset\n",
    "    pdf1 = 1 / (std_dev1 * np.sqrt(2 * np.pi)) * np.exp(-(x - mean1)**2 / (2 * std_dev1**2))\n",
    "    pdf2 = 1 / (std_dev2 * np.sqrt(2 * np.pi)) * np.exp(-(x - mean2)**2 / (2 * std_dev2**2))\n",
    "\n",
    "    # Plot the normal distribution curves\n",
    "    plt.plot(x, pdf1, label='old_psnrs', color='blue')\n",
    "    plt.plot(x, pdf2, label='new_psnrs', color='red')\n",
    "\n",
    "    plt.xlabel('X-axis')\n",
    "    plt.ylabel('Probability Density')\n",
    "    plt.title('Normal Distribution of Data')\n",
    "    plt.legend()\n",
    "\n",
    "    plt.show()"
   ]
  },
  {
   "cell_type": "code",
   "execution_count": 4,
   "metadata": {},
   "outputs": [],
   "source": [
    "class Evaluation_Metrics:\n",
    "    def __init__(self):\n",
    "        pass  \n",
    "\n",
    "    def psnr(self, img1, img2):\n",
    "        return dip.metrics.PSNR(img1, img2)\n",
    "\n",
    "    def mse(self, img1, img2):\n",
    "        return dip.metrics.MSE(img1, img2)\n",
    "\n",
    "    def ssim(self, img1, img2):\n",
    "        img1=cv2.cvtColor(img1,cv2.COLOR_BGR2GRAY)\n",
    "        img2=cv2.cvtColor(img2,cv2.COLOR_BGR2GRAY)\n",
    "        return dip.metrics.SSIM(img1, img2)[0]\n",
    "    def cwssim(self,img1,img2):\n",
    "        img1_pillow = Image.fromarray(img1)\n",
    "        img2_pillow = Image.fromarray(img2)\n",
    "        similarity = pyssim.SSIM(img1_pillow).cw_ssim_value(img2_pillow)\n",
    "        return similarity\n",
    "    def unique(self, img1, img2):\n",
    "        return eng.mslUNIQUE(img1, img2)\n",
    "\n",
    "    def ms_unique(self, img1, img2):\n",
    "        return eng.mslMSUNIQUE(img1, img2)\n",
    "\n",
    "    def summer(self, img1, img2):\n",
    "        return eng.SUMMER(img1, img2)\n",
    "\n",
    "    def csv(self, img1, img2):\n",
    "        return eng.csv(img1, img2)\n",
    "metrics=Evaluation_Metrics()"
   ]
  },
  {
   "cell_type": "code",
   "execution_count": 5,
   "metadata": {},
   "outputs": [],
   "source": [
    "def evaluation_metrics(noise_type,noise_level,denoisy_img,noisy_img,gt):\n",
    "    eval_dict = {}\n",
    "    eval_dict['noise_type'] = noise_type\n",
    "    eval_dict['noise_level'] = noise_level\n",
    "    # ******************* PSNR *******************\n",
    "    psnr_noisy = metrics.psnr(noisy_img,gt)\n",
    "    psnr_denoisy =metrics.psnr(denoisy_img,gt)\n",
    "    eval_dict['PSNR_noisy'] = psnr_noisy\n",
    "    eval_dict['PSNR_denoisy'] = psnr_denoisy\n",
    "\n",
    "    # ******************* SSIM ******************* \n",
    "    ssim_noisy = metrics.ssim(noisy_img,gt)\n",
    "    ssim_denoisy =metrics.ssim(denoisy_img,gt)\n",
    "    eval_dict['SSIM_noisy'] = ssim_noisy\n",
    "    eval_dict['SSIM_denoisy'] = ssim_denoisy\n",
    "\n",
    "    # ******************* CW-SSIM ******************* \n",
    "    cw_ssim_noisy = metrics.cwssim(noisy_img,gt)\n",
    "    cw_ssim_denoisy = metrics.cwssim(denoisy_img,gt)\n",
    "    eval_dict['CW-SSIM_noisy'] = cw_ssim_noisy\n",
    "    eval_dict['CW-SSIM_denoisy'] = ssim_denoisy\n",
    "    # ******************* UNIQUE ******************* \n",
    "    unique_noisy = metrics.unique(noisy_img,gt)\n",
    "    unique_denoisy =metrics.unique(denoisy_img,gt)\n",
    "    eval_dict['unique_noisy'] = unique_noisy\n",
    "    eval_dict['unique_denoisy'] = unique_denoisy\n",
    "\n",
    "    # ******************* MS-UNIQUE ******************* \n",
    "    ms_unique_noisy = metrics.ms_unique(noisy_img,gt)\n",
    "    ms_unique_denoisy =metrics.ms_unique(denoisy_img,gt)\n",
    "    eval_dict['ms_unique_noisy'] = ms_unique_noisy\n",
    "    eval_dict['ms_unique_denoisy'] = ms_unique_denoisy\n",
    "\n",
    "    # ******************* CSV ******************* \n",
    "    csv_noisy = metrics.csv(noisy_img,gt)\n",
    "    csv_denoisy =metrics.csv(denoisy_img,gt)\n",
    "    eval_dict['csv_noisy'] = csv_noisy\n",
    "    eval_dict['csv_denoisy'] = csv_denoisy\n",
    "    # ******************* SUMMER *******************\n",
    "    summer_noisy = metrics.summer(noisy_img,gt)\n",
    "    summer_denoisy =metrics.summer(denoisy_img,gt)\n",
    "    eval_dict['summer_noisy'] = summer_noisy\n",
    "    eval_dict['summer_denoisy'] = summer_denoisy\n",
    "\n",
    "    return eval_dict\n",
    "\n",
    "def list_of_dicts_to_dataframe(data):\n",
    "    df = pd.DataFrame(data)\n",
    "    return df"
   ]
  },
  {
   "cell_type": "code",
   "execution_count": 6,
   "metadata": {},
   "outputs": [],
   "source": [
    "def convert(img):\n",
    "    image= cv2.cvtColor(img,cv2.COLOR_BGR2RGB)\n",
    "    return image"
   ]
  },
  {
   "cell_type": "markdown",
   "metadata": {},
   "source": [
    "# Load Datasets"
   ]
  },
  {
   "cell_type": "code",
   "execution_count": 7,
   "metadata": {},
   "outputs": [],
   "source": [
    "img_folder=glob.glob('CURE-OR-Train/*')"
   ]
  },
  {
   "cell_type": "code",
   "execution_count": 8,
   "metadata": {},
   "outputs": [],
   "source": [
    "color_image_folder=img_folder[:4950]"
   ]
  },
  {
   "cell_type": "code",
   "execution_count": 9,
   "metadata": {},
   "outputs": [],
   "source": [
    "categories = {\n",
    "    \"01_No_challenge\": color_image_folder[:150],\n",
    "    \"02_Resize_level1\": color_image_folder[150:300],\n",
    "    \"02_Resize_level2\": color_image_folder[300:450],\n",
    "    \"02_Resize_level3\": color_image_folder[450:600],\n",
    "    \"02_Resize_level4\": color_image_folder[600:750],\n",
    "    \"03_Underexposure_level1\": color_image_folder[750:900],\n",
    "    \"03_Underexposure_level2\": color_image_folder[900:1050],\n",
    "    \"03_Underexposure_level3\": color_image_folder[1050:1200],\n",
    "    \"03_Underexposure_level4\": color_image_folder[1200:1350],\n",
    "    \"04_Overexposure_level1\": color_image_folder[1350:1500],\n",
    "    \"04_Overexposure_level2\": color_image_folder[1500:1650],\n",
    "    \"04_Overexposure_level3\": color_image_folder[1650:1800],\n",
    "    \"04_Overexposure_level4\": color_image_folder[1800:1950],\n",
    "    \"05_Gaussian_blur_level1\": color_image_folder[1950:2100],\n",
    "    \"05_Gaussian_blur_level2\": color_image_folder[2100:2250],\n",
    "    \"05_Gaussian_blur_level3\": color_image_folder[2250:2400],\n",
    "    \"05_Gaussian_blur_level4\": color_image_folder[2400:2550],\n",
    "    \"06_Contrast_level1\": color_image_folder[2550:2700],\n",
    "    \"06_Contrast_level2\": color_image_folder[2700:2850],\n",
    "    \"06_Contrast_level3\": color_image_folder[2850:3000],\n",
    "    \"06_Contrast_level4\": color_image_folder[3000:3150],\n",
    "    \"07_Dirty_lens_1_level1\": color_image_folder[3150:3300],\n",
    "    \"07_Dirty_lens_1_level2\": color_image_folder[3300:3450],\n",
    "    \"07_Dirty_lens_1_level3\": color_image_folder[3450:3600],\n",
    "    \"07_Dirty_lens_1_level4\": color_image_folder[3600:3750],\n",
    "    \"08_Dirty_lens_2_level1\": color_image_folder[3750:3900],\n",
    "    \"08_Dirty_lens_2_level2\": color_image_folder[3900:4050],\n",
    "    \"08_Dirty_lens_2_level3\": color_image_folder[4050:4200],\n",
    "    \"08_Dirty_lens_2_level4\": color_image_folder[4200:4350],\n",
    "    \"09_Salt_and_pepper_noise_level1\": color_image_folder[4350:4500],\n",
    "    \"09_Salt_and_pepper_noise_level2\": color_image_folder[4500:4650],\n",
    "    \"09_Salt_and_pepper_noise_level3\": color_image_folder[4650:4800],\n",
    "    \"09_Salt_and_pepper_noise_level4\": color_image_folder[4800:4950]\n",
    "}"
   ]
  },
  {
   "cell_type": "code",
   "execution_count": 10,
   "metadata": {},
   "outputs": [],
   "source": [
    "reference_bg1 = r\"C:\\Users\\ajayr\\Documents\\Masters\\3rd Sem\\Digital Image Processing\\Project\\CURE-OR-Train\\00022.jpg\""
   ]
  },
  {
   "cell_type": "markdown",
   "metadata": {},
   "source": [
    "# Denoising Algorithm NLMean + Wavelet Denoising"
   ]
  },
  {
   "cell_type": "code",
   "execution_count": 11,
   "metadata": {},
   "outputs": [],
   "source": [
    "empty=[]\n",
    "h = 10 \n",
    "tempWinSize = 7\n",
    "searchWinSize = 21"
   ]
  },
  {
   "cell_type": "markdown",
   "metadata": {},
   "source": [
    "## Resize\n"
   ]
  },
  {
   "cell_type": "markdown",
   "metadata": {},
   "source": [
    "##### Level 1"
   ]
  },
  {
   "cell_type": "code",
   "execution_count": 12,
   "metadata": {},
   "outputs": [],
   "source": [
    "for i in range(10):\n",
    "    noisy_image=cv2.imread(categories['02_Resize_level1'][i])\n",
    "    noisy_image=cv2.resize(noisy_image, (256, 256))\n",
    "    reference_image = cv2.imread(categories['01_No_challenge'][i])\n",
    "    reference_image=cv2.resize(reference_image, (256, 256))\n",
    "    denoised_img = combine_denoising_methods(noisy_image)\n",
    "    empty.append(evaluation_metrics(\"Resize\",\"1\",denoised_img,noisy_image,reference_image))"
   ]
  },
  {
   "cell_type": "markdown",
   "metadata": {},
   "source": [
    "##### Level 2"
   ]
  },
  {
   "cell_type": "code",
   "execution_count": 13,
   "metadata": {},
   "outputs": [],
   "source": [
    "for i in range(10):\n",
    "    noisy_image=cv2.imread(categories['02_Resize_level2'][i])\n",
    "    noisy_image=cv2.resize(noisy_image, (256, 256))\n",
    "    reference_image = cv2.imread(categories['01_No_challenge'][i])\n",
    "    reference_image=cv2.resize(reference_image, (256, 256))\n",
    "    denoised_img = combine_denoising_methods(noisy_image)\n",
    "    empty.append(evaluation_metrics(\"Resize\",\"2\",denoised_img,noisy_image,reference_image))"
   ]
  },
  {
   "cell_type": "markdown",
   "metadata": {},
   "source": [
    "##### Level 3"
   ]
  },
  {
   "cell_type": "code",
   "execution_count": 14,
   "metadata": {},
   "outputs": [],
   "source": [
    "for i in range(10):\n",
    "    noisy_image=cv2.imread(categories['02_Resize_level3'][i])\n",
    "    noisy_image=cv2.resize(noisy_image, (256, 256))\n",
    "    reference_image = cv2.imread(categories['01_No_challenge'][i])\n",
    "    reference_image=cv2.resize(reference_image, (256, 256))\n",
    "    denoised_img = combine_denoising_methods(noisy_image)\n",
    "    empty.append(evaluation_metrics(\"Resize\",\"3\",denoised_img,noisy_image,reference_image))"
   ]
  },
  {
   "cell_type": "markdown",
   "metadata": {},
   "source": [
    "##### Level 4"
   ]
  },
  {
   "cell_type": "code",
   "execution_count": 15,
   "metadata": {},
   "outputs": [],
   "source": [
    "for i in range(10):\n",
    "    noisy_image=cv2.imread(categories['02_Resize_level4'][i])\n",
    "    noisy_image=cv2.resize(noisy_image, (256, 256))\n",
    "    reference_image = cv2.imread(categories['01_No_challenge'][i])\n",
    "    reference_image=cv2.resize(reference_image, (256, 256))\n",
    "    denoised_img = combine_denoising_methods(noisy_image)\n",
    "    empty.append(evaluation_metrics(\"Resize\",\"4\",denoised_img,noisy_image,reference_image))"
   ]
  },
  {
   "cell_type": "markdown",
   "metadata": {},
   "source": [
    "## Underexposure"
   ]
  },
  {
   "cell_type": "markdown",
   "metadata": {},
   "source": [
    "##### Level 1"
   ]
  },
  {
   "cell_type": "code",
   "execution_count": 16,
   "metadata": {},
   "outputs": [],
   "source": [
    "for i in range(10):\n",
    "    noisy_image=cv2.imread(categories['03_Underexposure_level1'][i])\n",
    "    noisy_image=cv2.resize(noisy_image, (256, 256))\n",
    "    reference_image = cv2.imread(categories['01_No_challenge'][i])\n",
    "    reference_image=cv2.resize(reference_image, (256, 256))\n",
    "    denoised_img = combine_denoising_methods(noisy_image)\n",
    "    empty.append(evaluation_metrics(\"Underexposure\",\"1\",denoised_img,noisy_image,reference_image))"
   ]
  },
  {
   "cell_type": "markdown",
   "metadata": {},
   "source": [
    "##### Level 2"
   ]
  },
  {
   "cell_type": "code",
   "execution_count": 17,
   "metadata": {},
   "outputs": [],
   "source": [
    "for i in range(10):\n",
    "    noisy_image=cv2.imread(categories['03_Underexposure_level2'][i])\n",
    "    noisy_image=cv2.resize(noisy_image, (256, 256))\n",
    "    reference_image = cv2.imread(categories['01_No_challenge'][i])\n",
    "    reference_image=cv2.resize(reference_image, (256, 256))\n",
    "    denoised_img = combine_denoising_methods(noisy_image)\n",
    "    empty.append(evaluation_metrics(\"Underexposure\",\"2\",denoised_img,noisy_image,reference_image))"
   ]
  },
  {
   "cell_type": "markdown",
   "metadata": {},
   "source": [
    "##### Level 3"
   ]
  },
  {
   "cell_type": "code",
   "execution_count": 18,
   "metadata": {},
   "outputs": [],
   "source": [
    "for i in range(10):\n",
    "    noisy_image=cv2.imread(categories['03_Underexposure_level3'][i])\n",
    "    noisy_image=cv2.resize(noisy_image, (256, 256))\n",
    "    reference_image = cv2.imread(categories['01_No_challenge'][i])\n",
    "    reference_image=cv2.resize(reference_image, (256, 256))\n",
    "    denoised_img = combine_denoising_methods(noisy_image)\n",
    "    empty.append(evaluation_metrics(\"Underexposure\",\"3\",denoised_img,noisy_image,reference_image))"
   ]
  },
  {
   "cell_type": "markdown",
   "metadata": {},
   "source": [
    "##### Level 4"
   ]
  },
  {
   "cell_type": "code",
   "execution_count": 19,
   "metadata": {},
   "outputs": [],
   "source": [
    "for i in range(10):\n",
    "    noisy_image=cv2.imread(categories['03_Underexposure_level4'][i])\n",
    "    noisy_image=cv2.resize(noisy_image, (256, 256))\n",
    "    reference_image = cv2.imread(categories['01_No_challenge'][i])\n",
    "    reference_image=cv2.resize(reference_image, (256, 256))\n",
    "    denoised_img = combine_denoising_methods(noisy_image)\n",
    "    empty.append(evaluation_metrics(\"Underexposure\",\"4\",denoised_img,noisy_image,reference_image))"
   ]
  },
  {
   "cell_type": "markdown",
   "metadata": {},
   "source": [
    "## Overexposure"
   ]
  },
  {
   "cell_type": "markdown",
   "metadata": {},
   "source": [
    "##### Level 1"
   ]
  },
  {
   "cell_type": "code",
   "execution_count": 20,
   "metadata": {},
   "outputs": [],
   "source": [
    "for i in range(10):\n",
    "    noisy_image=cv2.imread(categories['04_Overexposure_level1'][i])\n",
    "    noisy_image=cv2.resize(noisy_image, (256, 256))\n",
    "    reference_image = cv2.imread(categories['01_No_challenge'][i])\n",
    "    reference_image=cv2.resize(reference_image, (256, 256))\n",
    "    denoised_img = combine_denoising_methods(noisy_image)\n",
    "    empty.append(evaluation_metrics(\"Overexposure\",\"1\",denoised_img,noisy_image,reference_image))"
   ]
  },
  {
   "cell_type": "markdown",
   "metadata": {},
   "source": [
    "##### Level 2"
   ]
  },
  {
   "cell_type": "code",
   "execution_count": 21,
   "metadata": {},
   "outputs": [],
   "source": [
    "for i in range(10):\n",
    "    noisy_image=cv2.imread(categories['04_Overexposure_level2'][i])\n",
    "    noisy_image=cv2.resize(noisy_image, (256, 256))\n",
    "    reference_image = cv2.imread(categories['01_No_challenge'][i])\n",
    "    reference_image=cv2.resize(reference_image, (256, 256))\n",
    "    denoised_img = combine_denoising_methods(noisy_image)\n",
    "    empty.append(evaluation_metrics(\"Overexposure\",\"2\",denoised_img,noisy_image,reference_image))"
   ]
  },
  {
   "cell_type": "markdown",
   "metadata": {},
   "source": [
    "##### Level 3"
   ]
  },
  {
   "cell_type": "code",
   "execution_count": 22,
   "metadata": {},
   "outputs": [],
   "source": [
    "for i in range(10):\n",
    "    noisy_image=cv2.imread(categories['04_Overexposure_level3'][i])\n",
    "    noisy_image=cv2.resize(noisy_image, (256, 256))\n",
    "    reference_image = cv2.imread(categories['01_No_challenge'][i])\n",
    "    reference_image=cv2.resize(reference_image, (256, 256))\n",
    "    denoised_img = combine_denoising_methods(noisy_image)\n",
    "    empty.append(evaluation_metrics(\"Overexposure\",\"3\",denoised_img,noisy_image,reference_image))"
   ]
  },
  {
   "cell_type": "markdown",
   "metadata": {},
   "source": [
    "##### Level 4"
   ]
  },
  {
   "cell_type": "code",
   "execution_count": 23,
   "metadata": {},
   "outputs": [],
   "source": [
    "for i in range(10):\n",
    "    noisy_image=cv2.imread(categories['04_Overexposure_level4'][i])\n",
    "    noisy_image=cv2.resize(noisy_image, (256, 256))\n",
    "    reference_image = cv2.imread(categories['01_No_challenge'][i])\n",
    "    reference_image=cv2.resize(reference_image, (256, 256))\n",
    "    denoised_img = combine_denoising_methods(noisy_image)\n",
    "    empty.append(evaluation_metrics(\"Overexposure\",\"4\",denoised_img,noisy_image,reference_image))"
   ]
  },
  {
   "cell_type": "markdown",
   "metadata": {},
   "source": [
    "## Gaussian blur"
   ]
  },
  {
   "cell_type": "markdown",
   "metadata": {},
   "source": [
    "##### Level 1"
   ]
  },
  {
   "cell_type": "code",
   "execution_count": 24,
   "metadata": {},
   "outputs": [],
   "source": [
    "for i in range(10):\n",
    "    noisy_image=cv2.imread(categories['05_Gaussian_blur_level1'][i])\n",
    "    noisy_image=cv2.resize(noisy_image, (256, 256))\n",
    "    reference_image = cv2.imread(categories['01_No_challenge'][i])\n",
    "    reference_image=cv2.resize(reference_image, (256, 256))\n",
    "    denoised_img = combine_denoising_methods(noisy_image)\n",
    "    empty.append(evaluation_metrics(\"Gaussian Blur\",\"1\",denoised_img,noisy_image,reference_image))"
   ]
  },
  {
   "cell_type": "markdown",
   "metadata": {},
   "source": [
    "##### Level 2"
   ]
  },
  {
   "cell_type": "code",
   "execution_count": 25,
   "metadata": {},
   "outputs": [],
   "source": [
    "for i in range(10):\n",
    "    noisy_image=cv2.imread(categories['05_Gaussian_blur_level2'][i])\n",
    "    noisy_image=cv2.resize(noisy_image, (256, 256))\n",
    "    reference_image = cv2.imread(categories['01_No_challenge'][i])\n",
    "    reference_image=cv2.resize(reference_image, (256, 256))\n",
    "    denoised_img = combine_denoising_methods(noisy_image)\n",
    "    empty.append(evaluation_metrics(\"Gaussian Blur\",\"2\",denoised_img,noisy_image,reference_image))"
   ]
  },
  {
   "cell_type": "markdown",
   "metadata": {},
   "source": [
    "##### Level 3"
   ]
  },
  {
   "cell_type": "code",
   "execution_count": 26,
   "metadata": {},
   "outputs": [],
   "source": [
    "for i in range(10):\n",
    "    noisy_image=cv2.imread(categories['05_Gaussian_blur_level3'][i])\n",
    "    noisy_image=cv2.resize(noisy_image, (256, 256))\n",
    "    reference_image = cv2.imread(categories['01_No_challenge'][i])\n",
    "    reference_image=cv2.resize(reference_image, (256, 256))\n",
    "    denoised_img = combine_denoising_methods(noisy_image)\n",
    "    empty.append(evaluation_metrics(\"Gaussian Blur\",\"3\",denoised_img,noisy_image,reference_image))"
   ]
  },
  {
   "cell_type": "markdown",
   "metadata": {},
   "source": [
    "##### Level 4"
   ]
  },
  {
   "cell_type": "code",
   "execution_count": 27,
   "metadata": {},
   "outputs": [],
   "source": [
    "for i in range(10):\n",
    "    noisy_image=cv2.imread(categories['05_Gaussian_blur_level4'][i])\n",
    "    noisy_image=cv2.resize(noisy_image, (256, 256))\n",
    "    reference_image = cv2.imread(categories['01_No_challenge'][i])\n",
    "    reference_image=cv2.resize(reference_image, (256, 256))\n",
    "    denoised_img = combine_denoising_methods(noisy_image)\n",
    "    empty.append(evaluation_metrics(\"Gaussian Blur\",\"4\",denoised_img,noisy_image,reference_image))"
   ]
  },
  {
   "cell_type": "markdown",
   "metadata": {},
   "source": [
    "## Contrast level"
   ]
  },
  {
   "cell_type": "markdown",
   "metadata": {},
   "source": [
    "##### Level 1"
   ]
  },
  {
   "cell_type": "code",
   "execution_count": 28,
   "metadata": {},
   "outputs": [],
   "source": [
    "for i in range(10):\n",
    "    noisy_image=cv2.imread(categories['06_Contrast_level1'][i])\n",
    "    noisy_image=cv2.resize(noisy_image, (256, 256))\n",
    "    reference_image = cv2.imread(categories['01_No_challenge'][i])\n",
    "    reference_image=cv2.resize(reference_image, (256, 256))\n",
    "    denoised_img = combine_denoising_methods(noisy_image)\n",
    "    empty.append(evaluation_metrics(\"Contrast level\",\"1\",denoised_img,noisy_image,reference_image))"
   ]
  },
  {
   "cell_type": "markdown",
   "metadata": {},
   "source": [
    "##### Level 2"
   ]
  },
  {
   "cell_type": "code",
   "execution_count": 29,
   "metadata": {},
   "outputs": [],
   "source": [
    "for i in range(10):\n",
    "    noisy_image=cv2.imread(categories['06_Contrast_level2'][i])\n",
    "    noisy_image=cv2.resize(noisy_image, (256, 256))\n",
    "    reference_image = cv2.imread(categories['01_No_challenge'][i])\n",
    "    reference_image=cv2.resize(reference_image, (256, 256))\n",
    "    denoised_img = combine_denoising_methods(noisy_image)\n",
    "    empty.append(evaluation_metrics(\"Contrast level\",\"2\",denoised_img,noisy_image,reference_image))"
   ]
  },
  {
   "cell_type": "markdown",
   "metadata": {},
   "source": [
    "##### Level 3"
   ]
  },
  {
   "cell_type": "code",
   "execution_count": 30,
   "metadata": {},
   "outputs": [],
   "source": [
    "for i in range(10):\n",
    "    noisy_image=cv2.imread(categories['06_Contrast_level3'][i])\n",
    "    noisy_image=cv2.resize(noisy_image, (256, 256))\n",
    "    reference_image = cv2.imread(categories['01_No_challenge'][i])\n",
    "    reference_image=cv2.resize(reference_image, (256, 256))\n",
    "    denoised_img = combine_denoising_methods(noisy_image)\n",
    "    empty.append(evaluation_metrics(\"Contrast level\",\"3\",denoised_img,noisy_image,reference_image))"
   ]
  },
  {
   "cell_type": "markdown",
   "metadata": {},
   "source": [
    "##### Level 4"
   ]
  },
  {
   "cell_type": "code",
   "execution_count": 31,
   "metadata": {},
   "outputs": [],
   "source": [
    "for i in range(10):\n",
    "    noisy_image=cv2.imread(categories['06_Contrast_level4'][i])\n",
    "    noisy_image=cv2.resize(noisy_image, (256, 256))\n",
    "    reference_image = cv2.imread(categories['01_No_challenge'][i])\n",
    "    reference_image=cv2.resize(reference_image, (256, 256))\n",
    "    denoised_img = combine_denoising_methods(noisy_image)\n",
    "    empty.append(evaluation_metrics(\"Contrast level\",\"4\",denoised_img,noisy_image,reference_image))"
   ]
  },
  {
   "cell_type": "markdown",
   "metadata": {},
   "source": [
    "## Dirty Lens 1"
   ]
  },
  {
   "cell_type": "markdown",
   "metadata": {},
   "source": [
    "##### Level 1"
   ]
  },
  {
   "cell_type": "code",
   "execution_count": 32,
   "metadata": {},
   "outputs": [],
   "source": [
    "for i in range(10):\n",
    "    noisy_image=cv2.imread(categories['07_Dirty_lens_1_level1'][i])\n",
    "    noisy_image=cv2.resize(noisy_image, (256, 256))\n",
    "    reference_image = cv2.imread(categories['01_No_challenge'][i])\n",
    "    reference_image=cv2.resize(reference_image, (256, 256))\n",
    "    denoised_img = combine_denoising_methods(noisy_image)\n",
    "    empty.append(evaluation_metrics(\"Diry Lens 1\",\"1\",denoised_img,noisy_image,reference_image))"
   ]
  },
  {
   "cell_type": "markdown",
   "metadata": {},
   "source": [
    "##### Level 2"
   ]
  },
  {
   "cell_type": "code",
   "execution_count": 33,
   "metadata": {},
   "outputs": [],
   "source": [
    "for i in range(10):\n",
    "    noisy_image=cv2.imread(categories['07_Dirty_lens_1_level2'][i])\n",
    "    noisy_image=cv2.resize(noisy_image, (256, 256))\n",
    "    reference_image = cv2.imread(categories['01_No_challenge'][i])\n",
    "    reference_image=cv2.resize(reference_image, (256, 256))\n",
    "    denoised_img = combine_denoising_methods(noisy_image)\n",
    "    empty.append(evaluation_metrics(\"Diry Lens 1\",\"2\",denoised_img,noisy_image,reference_image))"
   ]
  },
  {
   "cell_type": "markdown",
   "metadata": {},
   "source": [
    "##### Level 3"
   ]
  },
  {
   "cell_type": "code",
   "execution_count": 34,
   "metadata": {},
   "outputs": [],
   "source": [
    "for i in range(10):\n",
    "    noisy_image=cv2.imread(categories['07_Dirty_lens_1_level3'][i])\n",
    "    noisy_image=cv2.resize(noisy_image, (256, 256))\n",
    "    reference_image = cv2.imread(categories['01_No_challenge'][i])\n",
    "    reference_image=cv2.resize(reference_image, (256, 256))\n",
    "    denoised_img = combine_denoising_methods(noisy_image)\n",
    "    empty.append(evaluation_metrics(\"Diry Lens 1\",\"3\",denoised_img,noisy_image,reference_image))"
   ]
  },
  {
   "cell_type": "markdown",
   "metadata": {},
   "source": [
    "##### Level 4"
   ]
  },
  {
   "cell_type": "code",
   "execution_count": 35,
   "metadata": {},
   "outputs": [],
   "source": [
    "for i in range(10):\n",
    "    noisy_image=cv2.imread(categories['07_Dirty_lens_1_level4'][i])\n",
    "    noisy_image=cv2.resize(noisy_image, (256, 256))\n",
    "    reference_image = cv2.imread(categories['01_No_challenge'][i])\n",
    "    reference_image=cv2.resize(reference_image, (256, 256))\n",
    "    denoised_img = combine_denoising_methods(noisy_image)\n",
    "    empty.append(evaluation_metrics(\"Diry Lens 1\",\"4\",denoised_img,noisy_image,reference_image))"
   ]
  },
  {
   "cell_type": "markdown",
   "metadata": {},
   "source": [
    "## Dirty Lens 2"
   ]
  },
  {
   "cell_type": "markdown",
   "metadata": {},
   "source": [
    "##### Level 1"
   ]
  },
  {
   "cell_type": "code",
   "execution_count": 36,
   "metadata": {},
   "outputs": [],
   "source": [
    "for i in range(10):\n",
    "    noisy_image=cv2.imread(categories['08_Dirty_lens_2_level1'][i])\n",
    "    noisy_image=cv2.resize(noisy_image, (256, 256))\n",
    "    reference_image = cv2.imread(categories['01_No_challenge'][i])\n",
    "    reference_image=cv2.resize(reference_image, (256, 256))\n",
    "    denoised_img = combine_denoising_methods(noisy_image)\n",
    "    empty.append(evaluation_metrics(\"Diry Lens 2\",\"1\",denoised_img,noisy_image,reference_image))"
   ]
  },
  {
   "cell_type": "markdown",
   "metadata": {},
   "source": [
    "##### Level 2"
   ]
  },
  {
   "cell_type": "code",
   "execution_count": 37,
   "metadata": {},
   "outputs": [],
   "source": [
    "for i in range(10):\n",
    "    noisy_image=cv2.imread(categories['08_Dirty_lens_2_level2'][i])\n",
    "    noisy_image=cv2.resize(noisy_image, (256, 256))\n",
    "    reference_image = cv2.imread(categories['01_No_challenge'][i])\n",
    "    reference_image=cv2.resize(reference_image, (256, 256))\n",
    "    denoised_img = combine_denoising_methods(noisy_image)\n",
    "    empty.append(evaluation_metrics(\"Diry Lens 2\",\"2\",denoised_img,noisy_image,reference_image))"
   ]
  },
  {
   "cell_type": "markdown",
   "metadata": {},
   "source": [
    "##### Level 3"
   ]
  },
  {
   "cell_type": "code",
   "execution_count": 38,
   "metadata": {},
   "outputs": [],
   "source": [
    "for i in range(10):\n",
    "    noisy_image=cv2.imread(categories['08_Dirty_lens_2_level3'][i])\n",
    "    noisy_image=cv2.resize(noisy_image, (256, 256))\n",
    "    reference_image = cv2.imread(categories['01_No_challenge'][i])\n",
    "    reference_image=cv2.resize(reference_image, (256, 256))\n",
    "    denoised_img = combine_denoising_methods(noisy_image)\n",
    "    empty.append(evaluation_metrics(\"Diry Lens 2\",\"3\",denoised_img,noisy_image,reference_image))"
   ]
  },
  {
   "cell_type": "markdown",
   "metadata": {},
   "source": [
    "##### Level 4"
   ]
  },
  {
   "cell_type": "code",
   "execution_count": 39,
   "metadata": {},
   "outputs": [],
   "source": [
    "for i in range(10):\n",
    "    noisy_image=cv2.imread(categories['08_Dirty_lens_2_level4'][i])\n",
    "    noisy_image=cv2.resize(noisy_image, (256, 256))\n",
    "    reference_image = cv2.imread(categories['01_No_challenge'][i])\n",
    "    reference_image=cv2.resize(reference_image, (256, 256))\n",
    "    denoised_img = combine_denoising_methods(noisy_image)\n",
    "    empty.append(evaluation_metrics(\"Diry Lens 2\",\"4\",denoised_img,noisy_image,reference_image))"
   ]
  },
  {
   "cell_type": "markdown",
   "metadata": {},
   "source": [
    "## Salt and Pepper"
   ]
  },
  {
   "cell_type": "markdown",
   "metadata": {},
   "source": [
    "##### Level 1"
   ]
  },
  {
   "cell_type": "code",
   "execution_count": 40,
   "metadata": {},
   "outputs": [],
   "source": [
    "for i in range(10):\n",
    "    noisy_image=cv2.imread(categories['09_Salt_and_pepper_noise_level1'][i])\n",
    "    noisy_image=cv2.resize(noisy_image, (256, 256))\n",
    "    reference_image = cv2.imread(categories['01_No_challenge'][i])\n",
    "    reference_image=cv2.resize(reference_image, (256, 256))\n",
    "    denoised_img = combine_denoising_methods(noisy_image)\n",
    "    empty.append(evaluation_metrics(\"Salt and Pepper\",\"1\",denoised_img,noisy_image,reference_image))"
   ]
  },
  {
   "cell_type": "markdown",
   "metadata": {},
   "source": [
    "##### Level 2"
   ]
  },
  {
   "cell_type": "code",
   "execution_count": 41,
   "metadata": {},
   "outputs": [],
   "source": [
    "for i in range(10):\n",
    "    noisy_image=cv2.imread(categories['09_Salt_and_pepper_noise_level2'][i])\n",
    "    noisy_image=cv2.resize(noisy_image, (256, 256))\n",
    "    reference_image = cv2.imread(categories['01_No_challenge'][i])\n",
    "    reference_image=cv2.resize(reference_image, (256, 256))\n",
    "    denoised_img = combine_denoising_methods(noisy_image)\n",
    "    empty.append(evaluation_metrics(\"Salt and Pepper\",\"2\",denoised_img,noisy_image,reference_image))"
   ]
  },
  {
   "cell_type": "markdown",
   "metadata": {},
   "source": [
    "##### Level 3"
   ]
  },
  {
   "cell_type": "code",
   "execution_count": 42,
   "metadata": {},
   "outputs": [],
   "source": [
    "for i in range(10):\n",
    "    noisy_image=cv2.imread(categories['09_Salt_and_pepper_noise_level3'][i])\n",
    "    noisy_image=cv2.resize(noisy_image, (256, 256))\n",
    "    reference_image = cv2.imread(categories['01_No_challenge'][i])\n",
    "    reference_image=cv2.resize(reference_image, (256, 256))\n",
    "    denoised_img = combine_denoising_methods(noisy_image)\n",
    "    empty.append(evaluation_metrics(\"Salt and Pepper\",\"3\",denoised_img,noisy_image,reference_image))"
   ]
  },
  {
   "cell_type": "markdown",
   "metadata": {},
   "source": [
    "##### Level 4"
   ]
  },
  {
   "cell_type": "code",
   "execution_count": 43,
   "metadata": {},
   "outputs": [],
   "source": [
    "for i in range(10):\n",
    "    noisy_image=cv2.imread(categories['09_Salt_and_pepper_noise_level4'][i])\n",
    "    noisy_image=cv2.resize(noisy_image, (256, 256))\n",
    "    reference_image = cv2.imread(categories['01_No_challenge'][i])\n",
    "    reference_image=cv2.resize(reference_image, (256, 256))\n",
    "    denoised_img = combine_denoising_methods(noisy_image)\n",
    "    empty.append(evaluation_metrics(\"Salt and Pepper\",\"4\",denoised_img,noisy_image,reference_image))"
   ]
  },
  {
   "cell_type": "code",
   "execution_count": 44,
   "metadata": {},
   "outputs": [
    {
     "data": {
      "text/html": [
       "<div>\n",
       "<style scoped>\n",
       "    .dataframe tbody tr th:only-of-type {\n",
       "        vertical-align: middle;\n",
       "    }\n",
       "\n",
       "    .dataframe tbody tr th {\n",
       "        vertical-align: top;\n",
       "    }\n",
       "\n",
       "    .dataframe thead th {\n",
       "        text-align: right;\n",
       "    }\n",
       "</style>\n",
       "<table border=\"1\" class=\"dataframe\">\n",
       "  <thead>\n",
       "    <tr style=\"text-align: right;\">\n",
       "      <th></th>\n",
       "      <th>noise_type</th>\n",
       "      <th>noise_level</th>\n",
       "      <th>PSNR_noisy</th>\n",
       "      <th>PSNR_denoisy</th>\n",
       "      <th>SSIM_noisy</th>\n",
       "      <th>SSIM_denoisy</th>\n",
       "      <th>CW-SSIM_noisy</th>\n",
       "      <th>CW-SSIM_denoisy</th>\n",
       "      <th>unique_noisy</th>\n",
       "      <th>unique_denoisy</th>\n",
       "      <th>ms_unique_noisy</th>\n",
       "      <th>ms_unique_denoisy</th>\n",
       "      <th>csv_noisy</th>\n",
       "      <th>csv_denoisy</th>\n",
       "      <th>summer_noisy</th>\n",
       "      <th>summer_denoisy</th>\n",
       "    </tr>\n",
       "  </thead>\n",
       "  <tbody>\n",
       "    <tr>\n",
       "      <th>0</th>\n",
       "      <td>Resize</td>\n",
       "      <td>1</td>\n",
       "      <td>49.495453</td>\n",
       "      <td>29.419853</td>\n",
       "      <td>0.991943</td>\n",
       "      <td>0.979586</td>\n",
       "      <td>0.982948</td>\n",
       "      <td>0.979586</td>\n",
       "      <td>0.988335</td>\n",
       "      <td>0.986372</td>\n",
       "      <td>0.989336</td>\n",
       "      <td>0.987236</td>\n",
       "      <td>0.993298</td>\n",
       "      <td>0.990115</td>\n",
       "      <td>4.908180</td>\n",
       "      <td>4.831170</td>\n",
       "    </tr>\n",
       "    <tr>\n",
       "      <th>1</th>\n",
       "      <td>Resize</td>\n",
       "      <td>1</td>\n",
       "      <td>48.099791</td>\n",
       "      <td>29.362503</td>\n",
       "      <td>0.992052</td>\n",
       "      <td>0.982478</td>\n",
       "      <td>0.990709</td>\n",
       "      <td>0.982478</td>\n",
       "      <td>0.989720</td>\n",
       "      <td>0.987873</td>\n",
       "      <td>0.990120</td>\n",
       "      <td>0.988823</td>\n",
       "      <td>0.993959</td>\n",
       "      <td>0.990351</td>\n",
       "      <td>4.892379</td>\n",
       "      <td>4.801595</td>\n",
       "    </tr>\n",
       "    <tr>\n",
       "      <th>2</th>\n",
       "      <td>Resize</td>\n",
       "      <td>1</td>\n",
       "      <td>49.085993</td>\n",
       "      <td>29.375618</td>\n",
       "      <td>0.991164</td>\n",
       "      <td>0.981812</td>\n",
       "      <td>0.983002</td>\n",
       "      <td>0.981812</td>\n",
       "      <td>0.988041</td>\n",
       "      <td>0.985710</td>\n",
       "      <td>0.987315</td>\n",
       "      <td>0.985726</td>\n",
       "      <td>0.997866</td>\n",
       "      <td>0.990089</td>\n",
       "      <td>4.908367</td>\n",
       "      <td>4.835393</td>\n",
       "    </tr>\n",
       "    <tr>\n",
       "      <th>3</th>\n",
       "      <td>Resize</td>\n",
       "      <td>1</td>\n",
       "      <td>48.790185</td>\n",
       "      <td>29.405195</td>\n",
       "      <td>0.992166</td>\n",
       "      <td>0.965187</td>\n",
       "      <td>0.992644</td>\n",
       "      <td>0.965187</td>\n",
       "      <td>0.990173</td>\n",
       "      <td>0.987180</td>\n",
       "      <td>0.990856</td>\n",
       "      <td>0.988732</td>\n",
       "      <td>0.993649</td>\n",
       "      <td>0.988927</td>\n",
       "      <td>4.903935</td>\n",
       "      <td>4.807363</td>\n",
       "    </tr>\n",
       "    <tr>\n",
       "      <th>4</th>\n",
       "      <td>Resize</td>\n",
       "      <td>1</td>\n",
       "      <td>48.159459</td>\n",
       "      <td>29.389947</td>\n",
       "      <td>0.992729</td>\n",
       "      <td>0.982655</td>\n",
       "      <td>0.989717</td>\n",
       "      <td>0.982655</td>\n",
       "      <td>0.989651</td>\n",
       "      <td>0.987181</td>\n",
       "      <td>0.990568</td>\n",
       "      <td>0.988728</td>\n",
       "      <td>0.993837</td>\n",
       "      <td>0.989601</td>\n",
       "      <td>4.897213</td>\n",
       "      <td>4.799509</td>\n",
       "    </tr>\n",
       "    <tr>\n",
       "      <th>...</th>\n",
       "      <td>...</td>\n",
       "      <td>...</td>\n",
       "      <td>...</td>\n",
       "      <td>...</td>\n",
       "      <td>...</td>\n",
       "      <td>...</td>\n",
       "      <td>...</td>\n",
       "      <td>...</td>\n",
       "      <td>...</td>\n",
       "      <td>...</td>\n",
       "      <td>...</td>\n",
       "      <td>...</td>\n",
       "      <td>...</td>\n",
       "      <td>...</td>\n",
       "      <td>...</td>\n",
       "      <td>...</td>\n",
       "    </tr>\n",
       "    <tr>\n",
       "      <th>315</th>\n",
       "      <td>Salt and Pepper</td>\n",
       "      <td>4</td>\n",
       "      <td>27.883859</td>\n",
       "      <td>27.964642</td>\n",
       "      <td>0.031104</td>\n",
       "      <td>0.044517</td>\n",
       "      <td>0.270894</td>\n",
       "      <td>0.044517</td>\n",
       "      <td>0.001134</td>\n",
       "      <td>0.001144</td>\n",
       "      <td>0.102823</td>\n",
       "      <td>0.103644</td>\n",
       "      <td>0.954979</td>\n",
       "      <td>0.954042</td>\n",
       "      <td>2.468916</td>\n",
       "      <td>2.466521</td>\n",
       "    </tr>\n",
       "    <tr>\n",
       "      <th>316</th>\n",
       "      <td>Salt and Pepper</td>\n",
       "      <td>4</td>\n",
       "      <td>27.903623</td>\n",
       "      <td>27.976514</td>\n",
       "      <td>0.031429</td>\n",
       "      <td>0.044995</td>\n",
       "      <td>0.285287</td>\n",
       "      <td>0.044995</td>\n",
       "      <td>0.001630</td>\n",
       "      <td>0.001655</td>\n",
       "      <td>0.096972</td>\n",
       "      <td>0.097954</td>\n",
       "      <td>0.956101</td>\n",
       "      <td>0.957058</td>\n",
       "      <td>2.876035</td>\n",
       "      <td>2.872791</td>\n",
       "    </tr>\n",
       "    <tr>\n",
       "      <th>317</th>\n",
       "      <td>Salt and Pepper</td>\n",
       "      <td>4</td>\n",
       "      <td>27.893378</td>\n",
       "      <td>27.945950</td>\n",
       "      <td>0.036818</td>\n",
       "      <td>0.051181</td>\n",
       "      <td>0.290597</td>\n",
       "      <td>0.051181</td>\n",
       "      <td>0.001997</td>\n",
       "      <td>0.002018</td>\n",
       "      <td>0.121939</td>\n",
       "      <td>0.122833</td>\n",
       "      <td>0.953420</td>\n",
       "      <td>0.953982</td>\n",
       "      <td>3.297429</td>\n",
       "      <td>3.286162</td>\n",
       "    </tr>\n",
       "    <tr>\n",
       "      <th>318</th>\n",
       "      <td>Salt and Pepper</td>\n",
       "      <td>4</td>\n",
       "      <td>27.885621</td>\n",
       "      <td>27.968331</td>\n",
       "      <td>0.031711</td>\n",
       "      <td>0.045535</td>\n",
       "      <td>0.283078</td>\n",
       "      <td>0.045535</td>\n",
       "      <td>0.001063</td>\n",
       "      <td>0.001082</td>\n",
       "      <td>0.093628</td>\n",
       "      <td>0.094379</td>\n",
       "      <td>0.956077</td>\n",
       "      <td>0.955465</td>\n",
       "      <td>2.118243</td>\n",
       "      <td>2.112244</td>\n",
       "    </tr>\n",
       "    <tr>\n",
       "      <th>319</th>\n",
       "      <td>Salt and Pepper</td>\n",
       "      <td>4</td>\n",
       "      <td>27.892397</td>\n",
       "      <td>27.937962</td>\n",
       "      <td>0.031310</td>\n",
       "      <td>0.044205</td>\n",
       "      <td>0.357175</td>\n",
       "      <td>0.044205</td>\n",
       "      <td>0.005325</td>\n",
       "      <td>0.005399</td>\n",
       "      <td>0.138175</td>\n",
       "      <td>0.139360</td>\n",
       "      <td>0.949321</td>\n",
       "      <td>0.951848</td>\n",
       "      <td>3.060952</td>\n",
       "      <td>3.045543</td>\n",
       "    </tr>\n",
       "  </tbody>\n",
       "</table>\n",
       "<p>320 rows × 16 columns</p>\n",
       "</div>"
      ],
      "text/plain": [
       "          noise_type noise_level  PSNR_noisy  PSNR_denoisy  SSIM_noisy  \\\n",
       "0             Resize           1   49.495453     29.419853    0.991943   \n",
       "1             Resize           1   48.099791     29.362503    0.992052   \n",
       "2             Resize           1   49.085993     29.375618    0.991164   \n",
       "3             Resize           1   48.790185     29.405195    0.992166   \n",
       "4             Resize           1   48.159459     29.389947    0.992729   \n",
       "..               ...         ...         ...           ...         ...   \n",
       "315  Salt and Pepper           4   27.883859     27.964642    0.031104   \n",
       "316  Salt and Pepper           4   27.903623     27.976514    0.031429   \n",
       "317  Salt and Pepper           4   27.893378     27.945950    0.036818   \n",
       "318  Salt and Pepper           4   27.885621     27.968331    0.031711   \n",
       "319  Salt and Pepper           4   27.892397     27.937962    0.031310   \n",
       "\n",
       "     SSIM_denoisy  CW-SSIM_noisy  CW-SSIM_denoisy  unique_noisy  \\\n",
       "0        0.979586       0.982948         0.979586      0.988335   \n",
       "1        0.982478       0.990709         0.982478      0.989720   \n",
       "2        0.981812       0.983002         0.981812      0.988041   \n",
       "3        0.965187       0.992644         0.965187      0.990173   \n",
       "4        0.982655       0.989717         0.982655      0.989651   \n",
       "..            ...            ...              ...           ...   \n",
       "315      0.044517       0.270894         0.044517      0.001134   \n",
       "316      0.044995       0.285287         0.044995      0.001630   \n",
       "317      0.051181       0.290597         0.051181      0.001997   \n",
       "318      0.045535       0.283078         0.045535      0.001063   \n",
       "319      0.044205       0.357175         0.044205      0.005325   \n",
       "\n",
       "     unique_denoisy  ms_unique_noisy  ms_unique_denoisy  csv_noisy  \\\n",
       "0          0.986372         0.989336           0.987236   0.993298   \n",
       "1          0.987873         0.990120           0.988823   0.993959   \n",
       "2          0.985710         0.987315           0.985726   0.997866   \n",
       "3          0.987180         0.990856           0.988732   0.993649   \n",
       "4          0.987181         0.990568           0.988728   0.993837   \n",
       "..              ...              ...                ...        ...   \n",
       "315        0.001144         0.102823           0.103644   0.954979   \n",
       "316        0.001655         0.096972           0.097954   0.956101   \n",
       "317        0.002018         0.121939           0.122833   0.953420   \n",
       "318        0.001082         0.093628           0.094379   0.956077   \n",
       "319        0.005399         0.138175           0.139360   0.949321   \n",
       "\n",
       "     csv_denoisy  summer_noisy  summer_denoisy  \n",
       "0       0.990115      4.908180        4.831170  \n",
       "1       0.990351      4.892379        4.801595  \n",
       "2       0.990089      4.908367        4.835393  \n",
       "3       0.988927      4.903935        4.807363  \n",
       "4       0.989601      4.897213        4.799509  \n",
       "..           ...           ...             ...  \n",
       "315     0.954042      2.468916        2.466521  \n",
       "316     0.957058      2.876035        2.872791  \n",
       "317     0.953982      3.297429        3.286162  \n",
       "318     0.955465      2.118243        2.112244  \n",
       "319     0.951848      3.060952        3.045543  \n",
       "\n",
       "[320 rows x 16 columns]"
      ]
     },
     "execution_count": 44,
     "metadata": {},
     "output_type": "execute_result"
    }
   ],
   "source": [
    "Final_Data=list_of_dicts_to_dataframe(empty)\n",
    "Final_Data\n"
   ]
  },
  {
   "cell_type": "code",
   "execution_count": 45,
   "metadata": {},
   "outputs": [],
   "source": [
    "Final_Data.to_csv(r\"C:\\Users\\ajayr\\Documents\\Masters\\3rd Sem\\Digital Image Processing\\Project\\Results\\Denoising\\Wavelet+NLMeans\\CURE-OR\\CURE_OR_results.csv\")"
   ]
  },
  {
   "cell_type": "markdown",
   "metadata": {},
   "source": [
    "# Denoising Algorithm Autoencoders"
   ]
  },
  {
   "cell_type": "code",
   "execution_count": 46,
   "metadata": {},
   "outputs": [
    {
     "name": "stderr",
     "output_type": "stream",
     "text": [
      "[2023-11-30 17:08:15,730] DEBUG: Creating converter from 3 to 5\n",
      "[2023-11-30 17:08:15,857] WARNING: From c:\\Users\\ajayr\\miniconda3\\envs\\dip_project\\lib\\site-packages\\keras\\src\\backend.py:1398: The name tf.executing_eagerly_outside_functions is deprecated. Please use tf.compat.v1.executing_eagerly_outside_functions instead.\n",
      "\n",
      "[2023-11-30 17:08:15,900] WARNING: From c:\\Users\\ajayr\\miniconda3\\envs\\dip_project\\lib\\site-packages\\keras\\src\\layers\\pooling\\max_pooling2d.py:161: The name tf.nn.max_pool is deprecated. Please use tf.nn.max_pool2d instead.\n",
      "\n"
     ]
    }
   ],
   "source": [
    "empty=[]\n",
    "model_path = 'Models\\model_CURE_OR.h5'\n",
    "model = load_model(model_path)"
   ]
  },
  {
   "cell_type": "markdown",
   "metadata": {},
   "source": [
    "## Resize"
   ]
  },
  {
   "cell_type": "markdown",
   "metadata": {},
   "source": [
    "##### Level 1"
   ]
  },
  {
   "cell_type": "code",
   "execution_count": 47,
   "metadata": {},
   "outputs": [
    {
     "name": "stdout",
     "output_type": "stream",
     "text": [
      "1/1 [==============================] - 0s 229ms/step\n",
      "1/1 [==============================] - 0s 145ms/step\n",
      "1/1 [==============================] - 0s 119ms/step\n",
      "1/1 [==============================] - 0s 116ms/step\n",
      "1/1 [==============================] - 0s 112ms/step\n",
      "1/1 [==============================] - 0s 114ms/step\n",
      "1/1 [==============================] - 0s 118ms/step\n",
      "1/1 [==============================] - 0s 109ms/step\n",
      "1/1 [==============================] - 0s 128ms/step\n",
      "1/1 [==============================] - 0s 114ms/step\n"
     ]
    }
   ],
   "source": [
    "for i in range(10):\n",
    "    noisy_image=cv2.imread(categories['02_Resize_level1'][i])\n",
    "    noisy_image=cv2.resize(noisy_image, (256, 256))\n",
    "    img=np.reshape(noisy_image, (1, 256, 256, 3))\n",
    "    reference_image = cv2.imread(categories['01_No_challenge'][i])\n",
    "    reference_image=cv2.resize(reference_image, (256, 256))\n",
    "    denoised_img = model.predict(img)\n",
    "    denoised_img=np.reshape(denoised_img, (256, 256, 3))\n",
    "    denoised_img = (denoised_img * 255).astype(np.uint8)\n",
    "    empty.append(evaluation_metrics(\"Resize\",\"1\",denoised_img,noisy_image,reference_image))"
   ]
  },
  {
   "cell_type": "markdown",
   "metadata": {},
   "source": [
    "##### Level 2"
   ]
  },
  {
   "cell_type": "code",
   "execution_count": 48,
   "metadata": {},
   "outputs": [
    {
     "name": "stdout",
     "output_type": "stream",
     "text": [
      "1/1 [==============================] - 0s 125ms/step\n",
      "1/1 [==============================] - 0s 110ms/step\n",
      "1/1 [==============================] - 0s 112ms/step\n",
      "1/1 [==============================] - 0s 112ms/step\n",
      "1/1 [==============================] - 0s 109ms/step\n",
      "1/1 [==============================] - 0s 112ms/step\n",
      "1/1 [==============================] - 0s 117ms/step\n",
      "1/1 [==============================] - 0s 118ms/step\n",
      "1/1 [==============================] - 0s 113ms/step\n",
      "1/1 [==============================] - 0s 113ms/step\n"
     ]
    }
   ],
   "source": [
    "for i in range(10):\n",
    "    noisy_image=cv2.imread(categories['02_Resize_level2'][i])\n",
    "    noisy_image=cv2.resize(noisy_image, (256, 256))\n",
    "    img=np.reshape(noisy_image, (1, 256, 256, 3))\n",
    "    reference_image = cv2.imread(categories['01_No_challenge'][i])\n",
    "    reference_image=cv2.resize(reference_image, (256, 256))\n",
    "    denoised_img = model.predict(img)\n",
    "    denoised_img=np.reshape(denoised_img, (256, 256, 3))\n",
    "    denoised_img = (denoised_img * 255).astype(np.uint8)\n",
    "    empty.append(evaluation_metrics(\"Resize\",\"2\",denoised_img,noisy_image,reference_image))"
   ]
  },
  {
   "cell_type": "markdown",
   "metadata": {},
   "source": [
    "##### Level 3"
   ]
  },
  {
   "cell_type": "code",
   "execution_count": 49,
   "metadata": {},
   "outputs": [
    {
     "name": "stdout",
     "output_type": "stream",
     "text": [
      "1/1 [==============================] - 0s 117ms/step\n",
      "1/1 [==============================] - 0s 115ms/step\n",
      "1/1 [==============================] - 0s 109ms/step\n",
      "1/1 [==============================] - 0s 112ms/step\n",
      "1/1 [==============================] - 0s 111ms/step\n",
      "1/1 [==============================] - 0s 114ms/step\n",
      "1/1 [==============================] - 0s 113ms/step\n",
      "1/1 [==============================] - 0s 112ms/step\n",
      "1/1 [==============================] - 0s 110ms/step\n",
      "1/1 [==============================] - 0s 107ms/step\n"
     ]
    }
   ],
   "source": [
    "for i in range(10):\n",
    "    noisy_image=cv2.imread(categories['02_Resize_level3'][i])\n",
    "    noisy_image=cv2.resize(noisy_image, (256, 256))\n",
    "    img=np.reshape(noisy_image, (1, 256, 256, 3))\n",
    "    reference_image = cv2.imread(categories['01_No_challenge'][i])\n",
    "    reference_image=cv2.resize(reference_image, (256, 256))\n",
    "    denoised_img = model.predict(img)\n",
    "    denoised_img=np.reshape(denoised_img, (256, 256, 3))\n",
    "    denoised_img = (denoised_img * 255).astype(np.uint8)\n",
    "    empty.append(evaluation_metrics(\"Resize\",\"3\",denoised_img,noisy_image,reference_image))"
   ]
  },
  {
   "cell_type": "markdown",
   "metadata": {},
   "source": [
    "##### Level 4"
   ]
  },
  {
   "cell_type": "code",
   "execution_count": 50,
   "metadata": {},
   "outputs": [
    {
     "name": "stdout",
     "output_type": "stream",
     "text": [
      "1/1 [==============================] - 0s 133ms/step\n",
      "1/1 [==============================] - 0s 119ms/step\n",
      "1/1 [==============================] - 0s 113ms/step\n",
      "1/1 [==============================] - 0s 115ms/step\n",
      "1/1 [==============================] - 0s 119ms/step\n",
      "1/1 [==============================] - 0s 114ms/step\n",
      "1/1 [==============================] - 0s 114ms/step\n",
      "1/1 [==============================] - 0s 114ms/step\n",
      "1/1 [==============================] - 0s 114ms/step\n",
      "1/1 [==============================] - 0s 116ms/step\n"
     ]
    }
   ],
   "source": [
    "for i in range(10):\n",
    "    noisy_image=cv2.imread(categories['02_Resize_level4'][i])\n",
    "    noisy_image=cv2.resize(noisy_image, (256, 256))\n",
    "    img=np.reshape(noisy_image, (1, 256, 256, 3))\n",
    "    reference_image = cv2.imread(categories['01_No_challenge'][i])\n",
    "    reference_image=cv2.resize(reference_image, (256, 256))\n",
    "    denoised_img = model.predict(img)\n",
    "    denoised_img=np.reshape(denoised_img, (256, 256, 3))\n",
    "    denoised_img = (denoised_img * 255).astype(np.uint8)\n",
    "    empty.append(evaluation_metrics(\"Resize\",\"4\",denoised_img,noisy_image,reference_image))"
   ]
  },
  {
   "cell_type": "markdown",
   "metadata": {},
   "source": [
    "## Underexposure"
   ]
  },
  {
   "cell_type": "markdown",
   "metadata": {},
   "source": [
    "##### Level 1"
   ]
  },
  {
   "cell_type": "code",
   "execution_count": 51,
   "metadata": {},
   "outputs": [
    {
     "name": "stdout",
     "output_type": "stream",
     "text": [
      "1/1 [==============================] - 0s 134ms/step\n",
      "1/1 [==============================] - 0s 116ms/step\n",
      "1/1 [==============================] - 0s 112ms/step\n",
      "1/1 [==============================] - 0s 116ms/step\n",
      "1/1 [==============================] - 0s 121ms/step\n",
      "1/1 [==============================] - 0s 116ms/step\n",
      "1/1 [==============================] - 0s 120ms/step\n",
      "1/1 [==============================] - 0s 124ms/step\n",
      "1/1 [==============================] - 0s 121ms/step\n",
      "1/1 [==============================] - 0s 122ms/step\n"
     ]
    }
   ],
   "source": [
    "for i in range(10):\n",
    "    noisy_image=cv2.imread(categories['03_Underexposure_level1'][i])\n",
    "    noisy_image=cv2.resize(noisy_image, (256, 256))\n",
    "    img=np.reshape(noisy_image, (1, 256, 256, 3))\n",
    "    reference_image = cv2.imread(categories['01_No_challenge'][i])\n",
    "    reference_image=cv2.resize(reference_image, (256, 256))\n",
    "    denoised_img = model.predict(img)\n",
    "    denoised_img=np.reshape(denoised_img, (256, 256, 3))\n",
    "    denoised_img = (denoised_img * 255).astype(np.uint8)\n",
    "    empty.append(evaluation_metrics(\"Underexposure\",\"1\",denoised_img,noisy_image,reference_image))"
   ]
  },
  {
   "cell_type": "markdown",
   "metadata": {},
   "source": [
    "##### Level 2"
   ]
  },
  {
   "cell_type": "code",
   "execution_count": 52,
   "metadata": {},
   "outputs": [
    {
     "name": "stdout",
     "output_type": "stream",
     "text": [
      "1/1 [==============================] - 0s 124ms/step\n",
      "1/1 [==============================] - 0s 124ms/step\n",
      "1/1 [==============================] - 0s 124ms/step\n",
      "1/1 [==============================] - 0s 124ms/step\n",
      "1/1 [==============================] - 0s 118ms/step\n",
      "1/1 [==============================] - 0s 130ms/step\n",
      "1/1 [==============================] - 0s 112ms/step\n",
      "1/1 [==============================] - 0s 119ms/step\n",
      "1/1 [==============================] - 0s 135ms/step\n",
      "1/1 [==============================] - 0s 119ms/step\n"
     ]
    }
   ],
   "source": [
    "for i in range(10):\n",
    "    noisy_image=cv2.imread(categories['03_Underexposure_level2'][i])\n",
    "    noisy_image=cv2.resize(noisy_image, (256, 256))\n",
    "    img=np.reshape(noisy_image, (1, 256, 256, 3))\n",
    "    reference_image = cv2.imread(categories['01_No_challenge'][i])\n",
    "    reference_image=cv2.resize(reference_image, (256, 256))\n",
    "    denoised_img = model.predict(img)\n",
    "    denoised_img=np.reshape(denoised_img, (256, 256, 3))\n",
    "    denoised_img = (denoised_img * 255).astype(np.uint8)\n",
    "    empty.append(evaluation_metrics(\"Underexposure\",\"2\",denoised_img,noisy_image,reference_image))"
   ]
  },
  {
   "cell_type": "markdown",
   "metadata": {},
   "source": [
    "##### Level 3"
   ]
  },
  {
   "cell_type": "code",
   "execution_count": 53,
   "metadata": {},
   "outputs": [
    {
     "name": "stdout",
     "output_type": "stream",
     "text": [
      "1/1 [==============================] - 0s 129ms/step\n",
      "1/1 [==============================] - 0s 119ms/step\n",
      "1/1 [==============================] - 0s 115ms/step\n",
      "1/1 [==============================] - 0s 113ms/step\n",
      "1/1 [==============================] - 0s 117ms/step\n",
      "1/1 [==============================] - 0s 115ms/step\n",
      "1/1 [==============================] - 0s 116ms/step\n",
      "1/1 [==============================] - 0s 110ms/step\n",
      "1/1 [==============================] - 0s 114ms/step\n",
      "1/1 [==============================] - 0s 112ms/step\n"
     ]
    }
   ],
   "source": [
    "for i in range(10):\n",
    "    noisy_image=cv2.imread(categories['03_Underexposure_level3'][i])\n",
    "    noisy_image=cv2.resize(noisy_image, (256, 256))\n",
    "    img=np.reshape(noisy_image, (1, 256, 256, 3))\n",
    "    reference_image = cv2.imread(categories['01_No_challenge'][i])\n",
    "    reference_image=cv2.resize(reference_image, (256, 256))\n",
    "    denoised_img = model.predict(img)\n",
    "    denoised_img=np.reshape(denoised_img, (256, 256, 3))\n",
    "    denoised_img = (denoised_img * 255).astype(np.uint8)\n",
    "    empty.append(evaluation_metrics(\"Underexposure\",\"3\",denoised_img,noisy_image,reference_image))"
   ]
  },
  {
   "cell_type": "markdown",
   "metadata": {},
   "source": [
    "##### Level 4"
   ]
  },
  {
   "cell_type": "code",
   "execution_count": 54,
   "metadata": {},
   "outputs": [
    {
     "name": "stdout",
     "output_type": "stream",
     "text": [
      "1/1 [==============================] - 0s 117ms/step\n",
      "1/1 [==============================] - 0s 119ms/step\n",
      "1/1 [==============================] - 0s 122ms/step\n",
      "1/1 [==============================] - 0s 114ms/step\n",
      "1/1 [==============================] - 0s 112ms/step\n",
      "1/1 [==============================] - 0s 117ms/step\n",
      "1/1 [==============================] - 0s 111ms/step\n",
      "1/1 [==============================] - 0s 114ms/step\n",
      "1/1 [==============================] - 0s 113ms/step\n",
      "1/1 [==============================] - 0s 112ms/step\n"
     ]
    }
   ],
   "source": [
    "for i in range(10):\n",
    "    noisy_image=cv2.imread(categories['03_Underexposure_level4'][i])\n",
    "    noisy_image=cv2.resize(noisy_image, (256, 256))\n",
    "    img=np.reshape(noisy_image, (1, 256, 256, 3))\n",
    "    reference_image = cv2.imread(categories['01_No_challenge'][i])\n",
    "    reference_image=cv2.resize(reference_image, (256, 256))\n",
    "    denoised_img = model.predict(img)\n",
    "    denoised_img=np.reshape(denoised_img, (256, 256, 3))\n",
    "    denoised_img = (denoised_img * 255).astype(np.uint8)\n",
    "    empty.append(evaluation_metrics(\"Underexposure\",\"4\",denoised_img,noisy_image,reference_image))"
   ]
  },
  {
   "cell_type": "markdown",
   "metadata": {},
   "source": [
    "## Overexposure"
   ]
  },
  {
   "cell_type": "markdown",
   "metadata": {},
   "source": [
    "##### Level 1"
   ]
  },
  {
   "cell_type": "code",
   "execution_count": 55,
   "metadata": {},
   "outputs": [
    {
     "name": "stdout",
     "output_type": "stream",
     "text": [
      "1/1 [==============================] - 0s 122ms/step\n",
      "1/1 [==============================] - 0s 111ms/step\n",
      "1/1 [==============================] - 0s 112ms/step\n",
      "1/1 [==============================] - 0s 118ms/step\n",
      "1/1 [==============================] - 0s 118ms/step\n",
      "1/1 [==============================] - 0s 112ms/step\n",
      "1/1 [==============================] - 0s 114ms/step\n",
      "1/1 [==============================] - 0s 116ms/step\n",
      "1/1 [==============================] - 0s 115ms/step\n",
      "1/1 [==============================] - 0s 116ms/step\n"
     ]
    }
   ],
   "source": [
    "for i in range(10):\n",
    "    noisy_image=cv2.imread(categories['04_Overexposure_level1'][i])\n",
    "    noisy_image=cv2.resize(noisy_image, (256, 256))\n",
    "    img=np.reshape(noisy_image, (1, 256, 256, 3))\n",
    "    reference_image = cv2.imread(categories['01_No_challenge'][i])\n",
    "    reference_image=cv2.resize(reference_image, (256, 256))\n",
    "    denoised_img = model.predict(img)\n",
    "    denoised_img=np.reshape(denoised_img, (256, 256, 3))\n",
    "    denoised_img = (denoised_img * 255).astype(np.uint8)\n",
    "    empty.append(evaluation_metrics(\"Overexposure\",\"1\",denoised_img,noisy_image,reference_image))"
   ]
  },
  {
   "cell_type": "markdown",
   "metadata": {},
   "source": [
    "##### Level 2"
   ]
  },
  {
   "cell_type": "code",
   "execution_count": 56,
   "metadata": {},
   "outputs": [
    {
     "name": "stdout",
     "output_type": "stream",
     "text": [
      "1/1 [==============================] - 0s 132ms/step\n",
      "1/1 [==============================] - 0s 114ms/step\n",
      "1/1 [==============================] - 0s 112ms/step\n",
      "1/1 [==============================] - 0s 111ms/step\n",
      "1/1 [==============================] - 0s 113ms/step\n",
      "1/1 [==============================] - 0s 115ms/step\n",
      "1/1 [==============================] - 0s 113ms/step\n",
      "1/1 [==============================] - 0s 114ms/step\n",
      "1/1 [==============================] - 0s 118ms/step\n",
      "1/1 [==============================] - 0s 113ms/step\n"
     ]
    }
   ],
   "source": [
    "for i in range(10):\n",
    "    noisy_image=cv2.imread(categories['04_Overexposure_level2'][i])\n",
    "    noisy_image=cv2.resize(noisy_image, (256, 256))\n",
    "    img=np.reshape(noisy_image, (1, 256, 256, 3))\n",
    "    reference_image = cv2.imread(categories['01_No_challenge'][i])\n",
    "    reference_image=cv2.resize(reference_image, (256, 256))\n",
    "    denoised_img = model.predict(img)\n",
    "    denoised_img=np.reshape(denoised_img, (256, 256, 3))\n",
    "    denoised_img = (denoised_img * 255).astype(np.uint8)\n",
    "    empty.append(evaluation_metrics(\"Overexposure\",\"2\",denoised_img,noisy_image,reference_image))"
   ]
  },
  {
   "cell_type": "markdown",
   "metadata": {},
   "source": [
    "##### Level 3"
   ]
  },
  {
   "cell_type": "code",
   "execution_count": 57,
   "metadata": {},
   "outputs": [
    {
     "name": "stdout",
     "output_type": "stream",
     "text": [
      "1/1 [==============================] - 0s 120ms/step\n",
      "1/1 [==============================] - 0s 112ms/step\n",
      "1/1 [==============================] - 0s 120ms/step\n",
      "1/1 [==============================] - 0s 119ms/step\n",
      "1/1 [==============================] - 0s 115ms/step\n",
      "1/1 [==============================] - 0s 114ms/step\n",
      "1/1 [==============================] - 0s 117ms/step\n",
      "1/1 [==============================] - 0s 115ms/step\n",
      "1/1 [==============================] - 0s 111ms/step\n",
      "1/1 [==============================] - 0s 111ms/step\n"
     ]
    }
   ],
   "source": [
    "for i in range(10):\n",
    "    noisy_image=cv2.imread(categories['04_Overexposure_level3'][i])\n",
    "    noisy_image=cv2.resize(noisy_image, (256, 256))\n",
    "    img=np.reshape(noisy_image, (1, 256, 256, 3))\n",
    "    reference_image = cv2.imread(categories['01_No_challenge'][i])\n",
    "    reference_image=cv2.resize(reference_image, (256, 256))\n",
    "    denoised_img = model.predict(img)\n",
    "    denoised_img=np.reshape(denoised_img, (256, 256, 3))\n",
    "    denoised_img = (denoised_img * 255).astype(np.uint8)\n",
    "    empty.append(evaluation_metrics(\"Overexposure\",\"3\",denoised_img,noisy_image,reference_image))"
   ]
  },
  {
   "cell_type": "markdown",
   "metadata": {},
   "source": [
    "##### Level 4"
   ]
  },
  {
   "cell_type": "code",
   "execution_count": 58,
   "metadata": {},
   "outputs": [
    {
     "name": "stdout",
     "output_type": "stream",
     "text": [
      "1/1 [==============================] - 0s 124ms/step\n",
      "1/1 [==============================] - 0s 112ms/step\n",
      "1/1 [==============================] - 0s 117ms/step\n",
      "1/1 [==============================] - 0s 111ms/step\n",
      "1/1 [==============================] - 0s 115ms/step\n",
      "1/1 [==============================] - 0s 114ms/step\n",
      "1/1 [==============================] - 0s 114ms/step\n",
      "1/1 [==============================] - 0s 114ms/step\n",
      "1/1 [==============================] - 0s 113ms/step\n",
      "1/1 [==============================] - 0s 112ms/step\n"
     ]
    }
   ],
   "source": [
    "for i in range(10):\n",
    "    noisy_image=cv2.imread(categories['04_Overexposure_level4'][i])\n",
    "    noisy_image=cv2.resize(noisy_image, (256, 256))\n",
    "    img=np.reshape(noisy_image, (1, 256, 256, 3))\n",
    "    reference_image = cv2.imread(categories['01_No_challenge'][i])\n",
    "    reference_image=cv2.resize(reference_image, (256, 256))\n",
    "    denoised_img = model.predict(img)\n",
    "    denoised_img=np.reshape(denoised_img, (256, 256, 3))\n",
    "    denoised_img = (denoised_img * 255).astype(np.uint8)\n",
    "    empty.append(evaluation_metrics(\"Overexposure\",\"4\",denoised_img,noisy_image,reference_image))"
   ]
  },
  {
   "cell_type": "markdown",
   "metadata": {},
   "source": [
    "## Gaussian blur"
   ]
  },
  {
   "cell_type": "markdown",
   "metadata": {},
   "source": [
    "##### Level 1"
   ]
  },
  {
   "cell_type": "code",
   "execution_count": 59,
   "metadata": {},
   "outputs": [
    {
     "name": "stdout",
     "output_type": "stream",
     "text": [
      "1/1 [==============================] - 0s 122ms/step\n",
      "1/1 [==============================] - 0s 117ms/step\n",
      "1/1 [==============================] - 0s 114ms/step\n",
      "1/1 [==============================] - 0s 115ms/step\n",
      "1/1 [==============================] - 0s 112ms/step\n",
      "1/1 [==============================] - 0s 128ms/step\n",
      "1/1 [==============================] - 0s 122ms/step\n",
      "1/1 [==============================] - 0s 113ms/step\n",
      "1/1 [==============================] - 0s 116ms/step\n",
      "1/1 [==============================] - 0s 114ms/step\n"
     ]
    }
   ],
   "source": [
    "for i in range(10):\n",
    "    noisy_image=cv2.imread(categories['05_Gaussian_blur_level1'][i])\n",
    "    noisy_image=cv2.resize(noisy_image, (256, 256))\n",
    "    img=np.reshape(noisy_image, (1, 256, 256, 3))\n",
    "    reference_image = cv2.imread(categories['01_No_challenge'][i])\n",
    "    reference_image=cv2.resize(reference_image, (256, 256))\n",
    "    denoised_img = model.predict(img)\n",
    "    denoised_img=np.reshape(denoised_img, (256, 256, 3))\n",
    "    denoised_img = (denoised_img * 255).astype(np.uint8)\n",
    "    empty.append(evaluation_metrics(\"Gaussian_blur\",\"1\",denoised_img,noisy_image,reference_image))"
   ]
  },
  {
   "cell_type": "markdown",
   "metadata": {},
   "source": [
    "##### Level 2"
   ]
  },
  {
   "cell_type": "code",
   "execution_count": 60,
   "metadata": {},
   "outputs": [
    {
     "name": "stdout",
     "output_type": "stream",
     "text": [
      "1/1 [==============================] - 0s 125ms/step\n",
      "1/1 [==============================] - 0s 113ms/step\n",
      "1/1 [==============================] - 0s 113ms/step\n",
      "1/1 [==============================] - 0s 115ms/step\n",
      "1/1 [==============================] - 0s 112ms/step\n",
      "1/1 [==============================] - 0s 120ms/step\n",
      "1/1 [==============================] - 0s 123ms/step\n",
      "1/1 [==============================] - 0s 114ms/step\n",
      "1/1 [==============================] - 0s 114ms/step\n",
      "1/1 [==============================] - 0s 110ms/step\n"
     ]
    }
   ],
   "source": [
    "for i in range(10):\n",
    "    noisy_image=cv2.imread(categories['05_Gaussian_blur_level2'][i])\n",
    "    noisy_image=cv2.resize(noisy_image, (256, 256))\n",
    "    img=np.reshape(noisy_image, (1, 256, 256, 3))\n",
    "    reference_image = cv2.imread(categories['01_No_challenge'][i])\n",
    "    reference_image=cv2.resize(reference_image, (256, 256))\n",
    "    denoised_img = model.predict(img)\n",
    "    denoised_img=np.reshape(denoised_img, (256, 256, 3))\n",
    "    denoised_img = (denoised_img * 255).astype(np.uint8)\n",
    "    empty.append(evaluation_metrics(\"Gaussian_blur\",\"2\",denoised_img,noisy_image,reference_image))"
   ]
  },
  {
   "cell_type": "markdown",
   "metadata": {},
   "source": [
    "##### Level 3"
   ]
  },
  {
   "cell_type": "code",
   "execution_count": 61,
   "metadata": {},
   "outputs": [
    {
     "name": "stdout",
     "output_type": "stream",
     "text": [
      "1/1 [==============================] - 0s 120ms/step\n",
      "1/1 [==============================] - 0s 113ms/step\n",
      "1/1 [==============================] - 0s 114ms/step\n",
      "1/1 [==============================] - 0s 113ms/step\n",
      "1/1 [==============================] - 0s 113ms/step\n",
      "1/1 [==============================] - 0s 117ms/step\n",
      "1/1 [==============================] - 0s 125ms/step\n",
      "1/1 [==============================] - 0s 119ms/step\n",
      "1/1 [==============================] - 0s 122ms/step\n",
      "1/1 [==============================] - 0s 118ms/step\n"
     ]
    }
   ],
   "source": [
    "for i in range(10):\n",
    "    noisy_image=cv2.imread(categories['05_Gaussian_blur_level3'][i])\n",
    "    noisy_image=cv2.resize(noisy_image, (256, 256))\n",
    "    img=np.reshape(noisy_image, (1, 256, 256, 3))\n",
    "    reference_image = cv2.imread(categories['01_No_challenge'][i])\n",
    "    reference_image=cv2.resize(reference_image, (256, 256))\n",
    "    denoised_img = model.predict(img)\n",
    "    denoised_img=np.reshape(denoised_img, (256, 256, 3))\n",
    "    denoised_img = (denoised_img * 255).astype(np.uint8)\n",
    "    empty.append(evaluation_metrics(\"Gaussian_blur\",\"3\",denoised_img,noisy_image,reference_image))"
   ]
  },
  {
   "cell_type": "markdown",
   "metadata": {},
   "source": [
    "##### Level 4"
   ]
  },
  {
   "cell_type": "code",
   "execution_count": 62,
   "metadata": {},
   "outputs": [
    {
     "name": "stdout",
     "output_type": "stream",
     "text": [
      "1/1 [==============================] - 0s 125ms/step\n",
      "1/1 [==============================] - 0s 123ms/step\n",
      "1/1 [==============================] - 0s 116ms/step\n",
      "1/1 [==============================] - 0s 123ms/step\n",
      "1/1 [==============================] - 0s 118ms/step\n",
      "1/1 [==============================] - 0s 113ms/step\n",
      "1/1 [==============================] - 0s 115ms/step\n",
      "1/1 [==============================] - 0s 115ms/step\n",
      "1/1 [==============================] - 0s 113ms/step\n",
      "1/1 [==============================] - 0s 104ms/step\n"
     ]
    }
   ],
   "source": [
    "for i in range(10):\n",
    "    noisy_image=cv2.imread(categories['05_Gaussian_blur_level4'][i])\n",
    "    noisy_image=cv2.resize(noisy_image, (256, 256))\n",
    "    img=np.reshape(noisy_image, (1, 256, 256, 3))\n",
    "    reference_image = cv2.imread(categories['01_No_challenge'][i])\n",
    "    reference_image=cv2.resize(reference_image, (256, 256))\n",
    "    denoised_img = model.predict(img)\n",
    "    denoised_img=np.reshape(denoised_img, (256, 256, 3))\n",
    "    denoised_img = (denoised_img * 255).astype(np.uint8)\n",
    "    empty.append(evaluation_metrics(\"Gaussian_blur\",\"4\",denoised_img,noisy_image,reference_image))"
   ]
  },
  {
   "cell_type": "markdown",
   "metadata": {},
   "source": [
    "## Contrast"
   ]
  },
  {
   "cell_type": "markdown",
   "metadata": {},
   "source": [
    "##### Level 1"
   ]
  },
  {
   "cell_type": "code",
   "execution_count": 63,
   "metadata": {},
   "outputs": [
    {
     "name": "stdout",
     "output_type": "stream",
     "text": [
      "1/1 [==============================] - 0s 120ms/step\n",
      "1/1 [==============================] - 0s 111ms/step\n",
      "1/1 [==============================] - 0s 112ms/step\n",
      "1/1 [==============================] - 0s 118ms/step\n",
      "1/1 [==============================] - 0s 115ms/step\n",
      "1/1 [==============================] - 0s 122ms/step\n",
      "1/1 [==============================] - 0s 122ms/step\n",
      "1/1 [==============================] - 0s 109ms/step\n",
      "1/1 [==============================] - 0s 117ms/step\n",
      "1/1 [==============================] - 0s 112ms/step\n"
     ]
    }
   ],
   "source": [
    "for i in range(10):\n",
    "    noisy_image=cv2.imread(categories['06_Contrast_level1'][i])\n",
    "    noisy_image=cv2.resize(noisy_image, (256, 256))\n",
    "    img=np.reshape(noisy_image, (1, 256, 256, 3))\n",
    "    reference_image = cv2.imread(categories['01_No_challenge'][i])\n",
    "    reference_image=cv2.resize(reference_image, (256, 256))\n",
    "    denoised_img = model.predict(img)\n",
    "    denoised_img=np.reshape(denoised_img, (256, 256, 3))\n",
    "    denoised_img = (denoised_img * 255).astype(np.uint8)\n",
    "    empty.append(evaluation_metrics(\"Contrast Level\",\"1\",denoised_img,noisy_image,reference_image))"
   ]
  },
  {
   "cell_type": "markdown",
   "metadata": {},
   "source": [
    "##### Level 2"
   ]
  },
  {
   "cell_type": "code",
   "execution_count": 64,
   "metadata": {},
   "outputs": [
    {
     "name": "stdout",
     "output_type": "stream",
     "text": [
      "1/1 [==============================] - 0s 117ms/step\n",
      "1/1 [==============================] - 0s 125ms/step\n",
      "1/1 [==============================] - 0s 118ms/step\n",
      "1/1 [==============================] - 0s 124ms/step\n",
      "1/1 [==============================] - 0s 119ms/step\n",
      "1/1 [==============================] - 0s 118ms/step\n",
      "1/1 [==============================] - 0s 113ms/step\n",
      "1/1 [==============================] - 0s 121ms/step\n",
      "1/1 [==============================] - 0s 131ms/step\n",
      "1/1 [==============================] - 0s 122ms/step\n"
     ]
    }
   ],
   "source": [
    "for i in range(10):\n",
    "    noisy_image=cv2.imread(categories['06_Contrast_level2'][i])\n",
    "    noisy_image=cv2.resize(noisy_image, (256, 256))\n",
    "    img=np.reshape(noisy_image, (1, 256, 256, 3))\n",
    "    reference_image = cv2.imread(categories['01_No_challenge'][i])\n",
    "    reference_image=cv2.resize(reference_image, (256, 256))\n",
    "    denoised_img = model.predict(img)\n",
    "    denoised_img=np.reshape(denoised_img, (256, 256, 3))\n",
    "    denoised_img = (denoised_img * 255).astype(np.uint8)\n",
    "    empty.append(evaluation_metrics(\"Contrast Level\",\"2\",denoised_img,noisy_image,reference_image))"
   ]
  },
  {
   "cell_type": "markdown",
   "metadata": {},
   "source": [
    "##### Level 3"
   ]
  },
  {
   "cell_type": "code",
   "execution_count": 65,
   "metadata": {},
   "outputs": [
    {
     "name": "stdout",
     "output_type": "stream",
     "text": [
      "1/1 [==============================] - 0s 131ms/step\n",
      "1/1 [==============================] - 0s 128ms/step\n",
      "1/1 [==============================] - 0s 126ms/step\n",
      "1/1 [==============================] - 0s 108ms/step\n",
      "1/1 [==============================] - 0s 107ms/step\n",
      "1/1 [==============================] - 0s 113ms/step\n",
      "1/1 [==============================] - 0s 117ms/step\n",
      "1/1 [==============================] - 0s 115ms/step\n",
      "1/1 [==============================] - 0s 111ms/step\n",
      "1/1 [==============================] - 0s 111ms/step\n"
     ]
    }
   ],
   "source": [
    "for i in range(10):\n",
    "    noisy_image=cv2.imread(categories['06_Contrast_level3'][i])\n",
    "    noisy_image=cv2.resize(noisy_image, (256, 256))\n",
    "    img=np.reshape(noisy_image, (1, 256, 256, 3))\n",
    "    reference_image = cv2.imread(categories['01_No_challenge'][i])\n",
    "    reference_image=cv2.resize(reference_image, (256, 256))\n",
    "    denoised_img = model.predict(img)\n",
    "    denoised_img=np.reshape(denoised_img, (256, 256, 3))\n",
    "    denoised_img = (denoised_img * 255).astype(np.uint8)\n",
    "    empty.append(evaluation_metrics(\"Contrast Level\",\"3\",denoised_img,noisy_image,reference_image))"
   ]
  },
  {
   "cell_type": "markdown",
   "metadata": {},
   "source": [
    "##### Level 4"
   ]
  },
  {
   "cell_type": "code",
   "execution_count": 66,
   "metadata": {},
   "outputs": [
    {
     "name": "stdout",
     "output_type": "stream",
     "text": [
      "1/1 [==============================] - 0s 117ms/step\n",
      "1/1 [==============================] - 0s 114ms/step\n",
      "1/1 [==============================] - 0s 115ms/step\n",
      "1/1 [==============================] - 0s 110ms/step\n",
      "1/1 [==============================] - 0s 115ms/step\n",
      "1/1 [==============================] - 0s 119ms/step\n",
      "1/1 [==============================] - 0s 117ms/step\n",
      "1/1 [==============================] - 0s 112ms/step\n",
      "1/1 [==============================] - 0s 115ms/step\n",
      "1/1 [==============================] - 0s 116ms/step\n"
     ]
    }
   ],
   "source": [
    "for i in range(10):\n",
    "    noisy_image=cv2.imread(categories['06_Contrast_level4'][i])\n",
    "    noisy_image=cv2.resize(noisy_image, (256, 256))\n",
    "    img=np.reshape(noisy_image, (1, 256, 256, 3))\n",
    "    reference_image = cv2.imread(categories['01_No_challenge'][i])\n",
    "    reference_image=cv2.resize(reference_image, (256, 256))\n",
    "    denoised_img = model.predict(img)\n",
    "    denoised_img=np.reshape(denoised_img, (256, 256, 3))\n",
    "    denoised_img = (denoised_img * 255).astype(np.uint8)\n",
    "    empty.append(evaluation_metrics(\"Contrast Level\",\"4\",denoised_img,noisy_image,reference_image))"
   ]
  },
  {
   "cell_type": "markdown",
   "metadata": {},
   "source": [
    "## Dirty lens 1"
   ]
  },
  {
   "cell_type": "markdown",
   "metadata": {},
   "source": [
    "##### Level 1"
   ]
  },
  {
   "cell_type": "code",
   "execution_count": 67,
   "metadata": {},
   "outputs": [
    {
     "name": "stdout",
     "output_type": "stream",
     "text": [
      "1/1 [==============================] - 0s 116ms/step\n",
      "1/1 [==============================] - 0s 113ms/step\n",
      "1/1 [==============================] - 0s 114ms/step\n",
      "1/1 [==============================] - 0s 113ms/step\n",
      "1/1 [==============================] - 0s 116ms/step\n",
      "1/1 [==============================] - 0s 114ms/step\n",
      "1/1 [==============================] - 0s 117ms/step\n",
      "1/1 [==============================] - 0s 117ms/step\n",
      "1/1 [==============================] - 0s 114ms/step\n",
      "1/1 [==============================] - 0s 111ms/step\n"
     ]
    }
   ],
   "source": [
    "for i in range(10):\n",
    "    noisy_image=cv2.imread(categories['07_Dirty_lens_1_level1'][i])\n",
    "    noisy_image=cv2.resize(noisy_image, (256, 256))\n",
    "    img=np.reshape(noisy_image, (1, 256, 256, 3))\n",
    "    reference_image = cv2.imread(categories['01_No_challenge'][i])\n",
    "    reference_image=cv2.resize(reference_image, (256, 256))\n",
    "    denoised_img = model.predict(img)\n",
    "    denoised_img=np.reshape(denoised_img, (256, 256, 3))\n",
    "    denoised_img = (denoised_img * 255).astype(np.uint8)\n",
    "    empty.append(evaluation_metrics(\"Dirty Lens 1\",\"1\",denoised_img,noisy_image,reference_image))"
   ]
  },
  {
   "cell_type": "markdown",
   "metadata": {},
   "source": [
    "##### Level 2"
   ]
  },
  {
   "cell_type": "code",
   "execution_count": 68,
   "metadata": {},
   "outputs": [
    {
     "name": "stdout",
     "output_type": "stream",
     "text": [
      "1/1 [==============================] - 0s 117ms/step\n",
      "1/1 [==============================] - 0s 117ms/step\n",
      "1/1 [==============================] - 0s 124ms/step\n",
      "1/1 [==============================] - 0s 115ms/step\n",
      "1/1 [==============================] - 0s 113ms/step\n",
      "1/1 [==============================] - 0s 111ms/step\n",
      "1/1 [==============================] - 0s 114ms/step\n",
      "1/1 [==============================] - 0s 112ms/step\n",
      "1/1 [==============================] - 0s 113ms/step\n",
      "1/1 [==============================] - 0s 113ms/step\n"
     ]
    }
   ],
   "source": [
    "for i in range(10):\n",
    "    noisy_image=cv2.imread(categories['07_Dirty_lens_1_level2'][i])\n",
    "    noisy_image=cv2.resize(noisy_image, (256, 256))\n",
    "    img=np.reshape(noisy_image, (1, 256, 256, 3))\n",
    "    reference_image = cv2.imread(categories['01_No_challenge'][i])\n",
    "    reference_image=cv2.resize(reference_image, (256, 256))\n",
    "    denoised_img = model.predict(img)\n",
    "    denoised_img=np.reshape(denoised_img, (256, 256, 3))\n",
    "    denoised_img = (denoised_img * 255).astype(np.uint8)\n",
    "    empty.append(evaluation_metrics(\"Dirty Lens 1\",\"2\",denoised_img,noisy_image,reference_image))"
   ]
  },
  {
   "cell_type": "markdown",
   "metadata": {},
   "source": [
    "##### Level 3"
   ]
  },
  {
   "cell_type": "code",
   "execution_count": 69,
   "metadata": {},
   "outputs": [
    {
     "name": "stdout",
     "output_type": "stream",
     "text": [
      "1/1 [==============================] - 0s 116ms/step\n",
      "1/1 [==============================] - 0s 110ms/step\n",
      "1/1 [==============================] - 0s 116ms/step\n",
      "1/1 [==============================] - 0s 109ms/step\n",
      "1/1 [==============================] - 0s 112ms/step\n",
      "1/1 [==============================] - 0s 117ms/step\n",
      "1/1 [==============================] - 0s 121ms/step\n",
      "1/1 [==============================] - 0s 109ms/step\n",
      "1/1 [==============================] - 0s 116ms/step\n",
      "1/1 [==============================] - 0s 109ms/step\n"
     ]
    }
   ],
   "source": [
    "for i in range(10):\n",
    "    noisy_image=cv2.imread(categories['07_Dirty_lens_1_level3'][i])\n",
    "    noisy_image=cv2.resize(noisy_image, (256, 256))\n",
    "    img=np.reshape(noisy_image, (1, 256, 256, 3))\n",
    "    reference_image = cv2.imread(categories['01_No_challenge'][i])\n",
    "    reference_image=cv2.resize(reference_image, (256, 256))\n",
    "    denoised_img = model.predict(img)\n",
    "    denoised_img=np.reshape(denoised_img, (256, 256, 3))\n",
    "    denoised_img = (denoised_img * 255).astype(np.uint8)\n",
    "    empty.append(evaluation_metrics(\"Dirty Lens 1\",\"3\",denoised_img,noisy_image,reference_image))"
   ]
  },
  {
   "cell_type": "markdown",
   "metadata": {},
   "source": [
    "##### Level 4"
   ]
  },
  {
   "cell_type": "code",
   "execution_count": 70,
   "metadata": {},
   "outputs": [
    {
     "name": "stdout",
     "output_type": "stream",
     "text": [
      "1/1 [==============================] - 0s 118ms/step\n",
      "1/1 [==============================] - 0s 116ms/step\n",
      "1/1 [==============================] - 0s 115ms/step\n",
      "1/1 [==============================] - 0s 117ms/step\n",
      "1/1 [==============================] - 0s 111ms/step\n",
      "1/1 [==============================] - 0s 109ms/step\n",
      "1/1 [==============================] - 0s 116ms/step\n",
      "1/1 [==============================] - 0s 110ms/step\n",
      "1/1 [==============================] - 0s 113ms/step\n",
      "1/1 [==============================] - 0s 113ms/step\n"
     ]
    }
   ],
   "source": [
    "for i in range(10):\n",
    "    noisy_image=cv2.imread(categories['07_Dirty_lens_1_level4'][i])\n",
    "    noisy_image=cv2.resize(noisy_image, (256, 256))\n",
    "    img=np.reshape(noisy_image, (1, 256, 256, 3))\n",
    "    reference_image = cv2.imread(categories['01_No_challenge'][i])\n",
    "    reference_image=cv2.resize(reference_image, (256, 256))\n",
    "    denoised_img = model.predict(img)\n",
    "    denoised_img=np.reshape(denoised_img, (256, 256, 3))\n",
    "    denoised_img = (denoised_img * 255).astype(np.uint8)\n",
    "    empty.append(evaluation_metrics(\"Dirty Lens 1\",\"4\",denoised_img,noisy_image,reference_image))"
   ]
  },
  {
   "cell_type": "markdown",
   "metadata": {},
   "source": [
    "## Dirty Lens 2"
   ]
  },
  {
   "cell_type": "markdown",
   "metadata": {},
   "source": [
    "##### Level 1"
   ]
  },
  {
   "cell_type": "code",
   "execution_count": 71,
   "metadata": {},
   "outputs": [
    {
     "name": "stdout",
     "output_type": "stream",
     "text": [
      "1/1 [==============================] - 0s 121ms/step\n",
      "1/1 [==============================] - 0s 116ms/step\n",
      "1/1 [==============================] - 0s 114ms/step\n",
      "1/1 [==============================] - 0s 114ms/step\n",
      "1/1 [==============================] - 0s 115ms/step\n",
      "1/1 [==============================] - 0s 113ms/step\n",
      "1/1 [==============================] - 0s 111ms/step\n",
      "1/1 [==============================] - 0s 113ms/step\n",
      "1/1 [==============================] - 0s 113ms/step\n",
      "1/1 [==============================] - 0s 115ms/step\n"
     ]
    }
   ],
   "source": [
    "for i in range(10):\n",
    "    noisy_image=cv2.imread(categories['08_Dirty_lens_2_level1'][i])\n",
    "    noisy_image=cv2.resize(noisy_image, (256, 256))\n",
    "    img=np.reshape(noisy_image, (1, 256, 256, 3))\n",
    "    reference_image = cv2.imread(categories['01_No_challenge'][i])\n",
    "    reference_image=cv2.resize(reference_image, (256, 256))\n",
    "    denoised_img = model.predict(img)\n",
    "    denoised_img=np.reshape(denoised_img, (256, 256, 3))\n",
    "    denoised_img = (denoised_img * 255).astype(np.uint8)\n",
    "    empty.append(evaluation_metrics(\"Dirty Lens 2\",\"1\",denoised_img,noisy_image,reference_image))"
   ]
  },
  {
   "cell_type": "markdown",
   "metadata": {},
   "source": [
    "##### Level 2"
   ]
  },
  {
   "cell_type": "code",
   "execution_count": 72,
   "metadata": {},
   "outputs": [
    {
     "name": "stdout",
     "output_type": "stream",
     "text": [
      "1/1 [==============================] - 0s 133ms/step\n",
      "1/1 [==============================] - 0s 118ms/step\n",
      "1/1 [==============================] - 0s 113ms/step\n",
      "1/1 [==============================] - 0s 122ms/step\n",
      "1/1 [==============================] - 0s 111ms/step\n",
      "1/1 [==============================] - 0s 115ms/step\n",
      "1/1 [==============================] - 0s 115ms/step\n",
      "1/1 [==============================] - 0s 111ms/step\n",
      "1/1 [==============================] - 0s 112ms/step\n",
      "1/1 [==============================] - 0s 119ms/step\n"
     ]
    }
   ],
   "source": [
    "for i in range(10):\n",
    "    noisy_image=cv2.imread(categories['08_Dirty_lens_2_level2'][i])\n",
    "    noisy_image=cv2.resize(noisy_image, (256, 256))\n",
    "    img=np.reshape(noisy_image, (1, 256, 256, 3))\n",
    "    reference_image = cv2.imread(categories['01_No_challenge'][i])\n",
    "    reference_image=cv2.resize(reference_image, (256, 256))\n",
    "    denoised_img = model.predict(img)\n",
    "    denoised_img=np.reshape(denoised_img, (256, 256, 3))\n",
    "    denoised_img = (denoised_img * 255).astype(np.uint8)\n",
    "    empty.append(evaluation_metrics(\"Dirty Lens 2\",\"2\",denoised_img,noisy_image,reference_image))"
   ]
  },
  {
   "cell_type": "markdown",
   "metadata": {},
   "source": [
    "##### Level 3"
   ]
  },
  {
   "cell_type": "code",
   "execution_count": 73,
   "metadata": {},
   "outputs": [
    {
     "name": "stdout",
     "output_type": "stream",
     "text": [
      "1/1 [==============================] - 0s 121ms/step\n",
      "1/1 [==============================] - 0s 110ms/step\n",
      "1/1 [==============================] - 0s 114ms/step\n",
      "1/1 [==============================] - 0s 116ms/step\n",
      "1/1 [==============================] - 0s 118ms/step\n",
      "1/1 [==============================] - 0s 117ms/step\n",
      "1/1 [==============================] - 0s 114ms/step\n",
      "1/1 [==============================] - 0s 112ms/step\n",
      "1/1 [==============================] - 0s 112ms/step\n",
      "1/1 [==============================] - 0s 110ms/step\n"
     ]
    }
   ],
   "source": [
    "for i in range(10):\n",
    "    noisy_image=cv2.imread(categories['08_Dirty_lens_2_level3'][i])\n",
    "    noisy_image=cv2.resize(noisy_image, (256, 256))\n",
    "    img=np.reshape(noisy_image, (1, 256, 256, 3))\n",
    "    reference_image = cv2.imread(categories['01_No_challenge'][i])\n",
    "    reference_image=cv2.resize(reference_image, (256, 256))\n",
    "    denoised_img = model.predict(img)\n",
    "    denoised_img=np.reshape(denoised_img, (256, 256, 3))\n",
    "    denoised_img = (denoised_img * 255).astype(np.uint8)\n",
    "    empty.append(evaluation_metrics(\"Dirty Lens 2\",\"3\",denoised_img,noisy_image,reference_image))"
   ]
  },
  {
   "cell_type": "markdown",
   "metadata": {},
   "source": [
    "##### Level 4"
   ]
  },
  {
   "cell_type": "code",
   "execution_count": 74,
   "metadata": {},
   "outputs": [
    {
     "name": "stdout",
     "output_type": "stream",
     "text": [
      "1/1 [==============================] - 0s 118ms/step\n",
      "1/1 [==============================] - 0s 119ms/step\n",
      "1/1 [==============================] - 0s 115ms/step\n",
      "1/1 [==============================] - 0s 118ms/step\n",
      "1/1 [==============================] - 0s 113ms/step\n",
      "1/1 [==============================] - 0s 117ms/step\n",
      "1/1 [==============================] - 0s 110ms/step\n",
      "1/1 [==============================] - 0s 125ms/step\n",
      "1/1 [==============================] - 0s 127ms/step\n",
      "1/1 [==============================] - 0s 121ms/step\n"
     ]
    }
   ],
   "source": [
    "for i in range(10):\n",
    "    noisy_image=cv2.imread(categories['08_Dirty_lens_2_level4'][i])\n",
    "    noisy_image=cv2.resize(noisy_image, (256, 256))\n",
    "    img=np.reshape(noisy_image, (1, 256, 256, 3))\n",
    "    reference_image = cv2.imread(categories['01_No_challenge'][i])\n",
    "    reference_image=cv2.resize(reference_image, (256, 256))\n",
    "    denoised_img = model.predict(img)\n",
    "    denoised_img=np.reshape(denoised_img, (256, 256, 3))\n",
    "    denoised_img = (denoised_img * 255).astype(np.uint8)\n",
    "    empty.append(evaluation_metrics(\"Dirty Lens 2\",\"4\",denoised_img,noisy_image,reference_image))"
   ]
  },
  {
   "cell_type": "markdown",
   "metadata": {},
   "source": [
    "## Salt and Pepper"
   ]
  },
  {
   "cell_type": "markdown",
   "metadata": {},
   "source": [
    "##### Level 1"
   ]
  },
  {
   "cell_type": "code",
   "execution_count": 75,
   "metadata": {},
   "outputs": [
    {
     "name": "stdout",
     "output_type": "stream",
     "text": [
      "1/1 [==============================] - 0s 116ms/step\n",
      "1/1 [==============================] - 0s 118ms/step\n",
      "1/1 [==============================] - 0s 122ms/step\n",
      "1/1 [==============================] - 0s 126ms/step\n",
      "1/1 [==============================] - 0s 118ms/step\n",
      "1/1 [==============================] - 0s 126ms/step\n",
      "1/1 [==============================] - 0s 118ms/step\n",
      "1/1 [==============================] - 0s 119ms/step\n",
      "1/1 [==============================] - 0s 118ms/step\n",
      "1/1 [==============================] - 0s 123ms/step\n"
     ]
    }
   ],
   "source": [
    "for i in range(10):\n",
    "    noisy_image=cv2.imread(categories['09_Salt_and_pepper_noise_level1'][i])\n",
    "    noisy_image=cv2.resize(noisy_image, (256, 256))\n",
    "    img=np.reshape(noisy_image, (1, 256, 256, 3))\n",
    "    reference_image = cv2.imread(categories['01_No_challenge'][i])\n",
    "    reference_image=cv2.resize(reference_image, (256, 256))\n",
    "    denoised_img = model.predict(img)\n",
    "    denoised_img=np.reshape(denoised_img, (256, 256, 3))\n",
    "    denoised_img = (denoised_img * 255).astype(np.uint8)\n",
    "    empty.append(evaluation_metrics(\"Salt and Pepper\",\"1\",denoised_img,noisy_image,reference_image))"
   ]
  },
  {
   "cell_type": "markdown",
   "metadata": {},
   "source": [
    "##### Level 2"
   ]
  },
  {
   "cell_type": "code",
   "execution_count": 76,
   "metadata": {},
   "outputs": [
    {
     "name": "stdout",
     "output_type": "stream",
     "text": [
      "1/1 [==============================] - 0s 133ms/step\n",
      "1/1 [==============================] - 0s 117ms/step\n",
      "1/1 [==============================] - 0s 120ms/step\n",
      "1/1 [==============================] - 0s 120ms/step\n",
      "1/1 [==============================] - 0s 127ms/step\n",
      "1/1 [==============================] - 0s 124ms/step\n",
      "1/1 [==============================] - 0s 124ms/step\n",
      "1/1 [==============================] - 0s 120ms/step\n",
      "1/1 [==============================] - 0s 118ms/step\n",
      "1/1 [==============================] - 0s 117ms/step\n"
     ]
    }
   ],
   "source": [
    "for i in range(10):\n",
    "    noisy_image=cv2.imread(categories['09_Salt_and_pepper_noise_level2'][i])\n",
    "    noisy_image=cv2.resize(noisy_image, (256, 256))\n",
    "    img=np.reshape(noisy_image, (1, 256, 256, 3))\n",
    "    reference_image = cv2.imread(categories['01_No_challenge'][i])\n",
    "    reference_image=cv2.resize(reference_image, (256, 256))\n",
    "    denoised_img = model.predict(img)\n",
    "    denoised_img=np.reshape(denoised_img, (256, 256, 3))\n",
    "    denoised_img = (denoised_img * 255).astype(np.uint8)\n",
    "    empty.append(evaluation_metrics(\"Salt and Pepper\",\"2\",denoised_img,noisy_image,reference_image))"
   ]
  },
  {
   "cell_type": "markdown",
   "metadata": {},
   "source": [
    "##### Level 3"
   ]
  },
  {
   "cell_type": "code",
   "execution_count": 77,
   "metadata": {},
   "outputs": [
    {
     "name": "stdout",
     "output_type": "stream",
     "text": [
      "1/1 [==============================] - 0s 117ms/step\n",
      "1/1 [==============================] - 0s 111ms/step\n",
      "1/1 [==============================] - 0s 120ms/step\n",
      "1/1 [==============================] - 0s 115ms/step\n",
      "1/1 [==============================] - 0s 114ms/step\n",
      "1/1 [==============================] - 0s 124ms/step\n",
      "1/1 [==============================] - 0s 107ms/step\n",
      "1/1 [==============================] - 0s 112ms/step\n",
      "1/1 [==============================] - 0s 113ms/step\n",
      "1/1 [==============================] - 0s 115ms/step\n"
     ]
    }
   ],
   "source": [
    "for i in range(10):\n",
    "    noisy_image=cv2.imread(categories['09_Salt_and_pepper_noise_level3'][i])\n",
    "    noisy_image=cv2.resize(noisy_image, (256, 256))\n",
    "    img=np.reshape(noisy_image, (1, 256, 256, 3))\n",
    "    reference_image = cv2.imread(categories['01_No_challenge'][i])\n",
    "    reference_image=cv2.resize(reference_image, (256, 256))\n",
    "    denoised_img = model.predict(img)\n",
    "    denoised_img=np.reshape(denoised_img, (256, 256, 3))\n",
    "    denoised_img = (denoised_img * 255).astype(np.uint8)\n",
    "    empty.append(evaluation_metrics(\"Salt and Pepper\",\"3\",denoised_img,noisy_image,reference_image))"
   ]
  },
  {
   "cell_type": "markdown",
   "metadata": {},
   "source": [
    "##### Level 4"
   ]
  },
  {
   "cell_type": "code",
   "execution_count": 78,
   "metadata": {},
   "outputs": [
    {
     "name": "stdout",
     "output_type": "stream",
     "text": [
      "1/1 [==============================] - 0s 115ms/step\n",
      "1/1 [==============================] - 0s 113ms/step\n",
      "1/1 [==============================] - 0s 112ms/step\n",
      "1/1 [==============================] - 0s 118ms/step\n",
      "1/1 [==============================] - 0s 121ms/step\n",
      "1/1 [==============================] - 0s 120ms/step\n",
      "1/1 [==============================] - 0s 114ms/step\n",
      "1/1 [==============================] - 0s 111ms/step\n",
      "1/1 [==============================] - 0s 114ms/step\n",
      "1/1 [==============================] - 0s 111ms/step\n"
     ]
    }
   ],
   "source": [
    "for i in range(10):\n",
    "    noisy_image=cv2.imread(categories['09_Salt_and_pepper_noise_level4'][i])\n",
    "    noisy_image=cv2.resize(noisy_image, (256, 256))\n",
    "    img=np.reshape(noisy_image, (1, 256, 256, 3))\n",
    "    reference_image = cv2.imread(categories['01_No_challenge'][i])\n",
    "    reference_image=cv2.resize(reference_image, (256, 256))\n",
    "    denoised_img = model.predict(img)\n",
    "    denoised_img=np.reshape(denoised_img, (256, 256, 3))\n",
    "    denoised_img = (denoised_img * 255).astype(np.uint8)\n",
    "    empty.append(evaluation_metrics(\"Salt and Pepper\",\"4\",denoised_img,noisy_image,reference_image))"
   ]
  },
  {
   "cell_type": "code",
   "execution_count": 79,
   "metadata": {},
   "outputs": [
    {
     "data": {
      "text/html": [
       "<div>\n",
       "<style scoped>\n",
       "    .dataframe tbody tr th:only-of-type {\n",
       "        vertical-align: middle;\n",
       "    }\n",
       "\n",
       "    .dataframe tbody tr th {\n",
       "        vertical-align: top;\n",
       "    }\n",
       "\n",
       "    .dataframe thead th {\n",
       "        text-align: right;\n",
       "    }\n",
       "</style>\n",
       "<table border=\"1\" class=\"dataframe\">\n",
       "  <thead>\n",
       "    <tr style=\"text-align: right;\">\n",
       "      <th></th>\n",
       "      <th>noise_type</th>\n",
       "      <th>noise_level</th>\n",
       "      <th>PSNR_noisy</th>\n",
       "      <th>PSNR_denoisy</th>\n",
       "      <th>SSIM_noisy</th>\n",
       "      <th>SSIM_denoisy</th>\n",
       "      <th>CW-SSIM_noisy</th>\n",
       "      <th>CW-SSIM_denoisy</th>\n",
       "      <th>unique_noisy</th>\n",
       "      <th>unique_denoisy</th>\n",
       "      <th>ms_unique_noisy</th>\n",
       "      <th>ms_unique_denoisy</th>\n",
       "      <th>csv_noisy</th>\n",
       "      <th>csv_denoisy</th>\n",
       "      <th>summer_noisy</th>\n",
       "      <th>summer_denoisy</th>\n",
       "    </tr>\n",
       "  </thead>\n",
       "  <tbody>\n",
       "    <tr>\n",
       "      <th>0</th>\n",
       "      <td>Resize</td>\n",
       "      <td>1</td>\n",
       "      <td>49.495453</td>\n",
       "      <td>28.932970</td>\n",
       "      <td>0.991943</td>\n",
       "      <td>0.770124</td>\n",
       "      <td>0.982948</td>\n",
       "      <td>0.770124</td>\n",
       "      <td>0.988335</td>\n",
       "      <td>0.000718</td>\n",
       "      <td>0.989336</td>\n",
       "      <td>0.262296</td>\n",
       "      <td>0.993298</td>\n",
       "      <td>0.965931</td>\n",
       "      <td>4.908180</td>\n",
       "      <td>1.383874</td>\n",
       "    </tr>\n",
       "    <tr>\n",
       "      <th>1</th>\n",
       "      <td>Resize</td>\n",
       "      <td>1</td>\n",
       "      <td>48.099791</td>\n",
       "      <td>28.507022</td>\n",
       "      <td>0.992052</td>\n",
       "      <td>0.724948</td>\n",
       "      <td>0.990709</td>\n",
       "      <td>0.724948</td>\n",
       "      <td>0.989720</td>\n",
       "      <td>0.002527</td>\n",
       "      <td>0.990120</td>\n",
       "      <td>0.231178</td>\n",
       "      <td>0.993959</td>\n",
       "      <td>0.957071</td>\n",
       "      <td>4.892379</td>\n",
       "      <td>4.999045</td>\n",
       "    </tr>\n",
       "    <tr>\n",
       "      <th>2</th>\n",
       "      <td>Resize</td>\n",
       "      <td>1</td>\n",
       "      <td>49.085993</td>\n",
       "      <td>29.115937</td>\n",
       "      <td>0.991164</td>\n",
       "      <td>0.725787</td>\n",
       "      <td>0.983002</td>\n",
       "      <td>0.725787</td>\n",
       "      <td>0.988041</td>\n",
       "      <td>0.000072</td>\n",
       "      <td>0.987315</td>\n",
       "      <td>0.144336</td>\n",
       "      <td>0.997866</td>\n",
       "      <td>0.979053</td>\n",
       "      <td>4.908367</td>\n",
       "      <td>4.999834</td>\n",
       "    </tr>\n",
       "    <tr>\n",
       "      <th>3</th>\n",
       "      <td>Resize</td>\n",
       "      <td>1</td>\n",
       "      <td>48.790185</td>\n",
       "      <td>29.197247</td>\n",
       "      <td>0.992166</td>\n",
       "      <td>0.723405</td>\n",
       "      <td>0.992644</td>\n",
       "      <td>0.723405</td>\n",
       "      <td>0.990173</td>\n",
       "      <td>0.027565</td>\n",
       "      <td>0.990856</td>\n",
       "      <td>0.372651</td>\n",
       "      <td>0.993649</td>\n",
       "      <td>0.949613</td>\n",
       "      <td>4.903935</td>\n",
       "      <td>1.233038</td>\n",
       "    </tr>\n",
       "    <tr>\n",
       "      <th>4</th>\n",
       "      <td>Resize</td>\n",
       "      <td>1</td>\n",
       "      <td>48.159459</td>\n",
       "      <td>28.679472</td>\n",
       "      <td>0.992729</td>\n",
       "      <td>0.756882</td>\n",
       "      <td>0.989717</td>\n",
       "      <td>0.756882</td>\n",
       "      <td>0.989651</td>\n",
       "      <td>0.000609</td>\n",
       "      <td>0.990568</td>\n",
       "      <td>0.148970</td>\n",
       "      <td>0.993837</td>\n",
       "      <td>0.954681</td>\n",
       "      <td>4.897213</td>\n",
       "      <td>3.832468</td>\n",
       "    </tr>\n",
       "    <tr>\n",
       "      <th>...</th>\n",
       "      <td>...</td>\n",
       "      <td>...</td>\n",
       "      <td>...</td>\n",
       "      <td>...</td>\n",
       "      <td>...</td>\n",
       "      <td>...</td>\n",
       "      <td>...</td>\n",
       "      <td>...</td>\n",
       "      <td>...</td>\n",
       "      <td>...</td>\n",
       "      <td>...</td>\n",
       "      <td>...</td>\n",
       "      <td>...</td>\n",
       "      <td>...</td>\n",
       "      <td>...</td>\n",
       "      <td>...</td>\n",
       "    </tr>\n",
       "    <tr>\n",
       "      <th>315</th>\n",
       "      <td>Salt and Pepper</td>\n",
       "      <td>4</td>\n",
       "      <td>27.883859</td>\n",
       "      <td>28.989451</td>\n",
       "      <td>0.031104</td>\n",
       "      <td>0.772142</td>\n",
       "      <td>0.270894</td>\n",
       "      <td>0.772142</td>\n",
       "      <td>0.001134</td>\n",
       "      <td>0.000116</td>\n",
       "      <td>0.102823</td>\n",
       "      <td>0.193195</td>\n",
       "      <td>0.954979</td>\n",
       "      <td>0.971632</td>\n",
       "      <td>2.468916</td>\n",
       "      <td>5.000000</td>\n",
       "    </tr>\n",
       "    <tr>\n",
       "      <th>316</th>\n",
       "      <td>Salt and Pepper</td>\n",
       "      <td>4</td>\n",
       "      <td>27.903623</td>\n",
       "      <td>28.790719</td>\n",
       "      <td>0.031429</td>\n",
       "      <td>0.766909</td>\n",
       "      <td>0.285287</td>\n",
       "      <td>0.766909</td>\n",
       "      <td>0.001630</td>\n",
       "      <td>0.000089</td>\n",
       "      <td>0.096972</td>\n",
       "      <td>0.152551</td>\n",
       "      <td>0.956101</td>\n",
       "      <td>0.971414</td>\n",
       "      <td>2.876035</td>\n",
       "      <td>5.000000</td>\n",
       "    </tr>\n",
       "    <tr>\n",
       "      <th>317</th>\n",
       "      <td>Salt and Pepper</td>\n",
       "      <td>4</td>\n",
       "      <td>27.893378</td>\n",
       "      <td>29.629162</td>\n",
       "      <td>0.036818</td>\n",
       "      <td>0.743835</td>\n",
       "      <td>0.290597</td>\n",
       "      <td>0.743835</td>\n",
       "      <td>0.001997</td>\n",
       "      <td>0.000144</td>\n",
       "      <td>0.121939</td>\n",
       "      <td>0.184065</td>\n",
       "      <td>0.953420</td>\n",
       "      <td>0.967775</td>\n",
       "      <td>3.297429</td>\n",
       "      <td>5.000000</td>\n",
       "    </tr>\n",
       "    <tr>\n",
       "      <th>318</th>\n",
       "      <td>Salt and Pepper</td>\n",
       "      <td>4</td>\n",
       "      <td>27.885621</td>\n",
       "      <td>28.611380</td>\n",
       "      <td>0.031711</td>\n",
       "      <td>0.753719</td>\n",
       "      <td>0.283078</td>\n",
       "      <td>0.753719</td>\n",
       "      <td>0.001063</td>\n",
       "      <td>0.000100</td>\n",
       "      <td>0.093628</td>\n",
       "      <td>0.149705</td>\n",
       "      <td>0.956077</td>\n",
       "      <td>0.971228</td>\n",
       "      <td>2.118243</td>\n",
       "      <td>5.000000</td>\n",
       "    </tr>\n",
       "    <tr>\n",
       "      <th>319</th>\n",
       "      <td>Salt and Pepper</td>\n",
       "      <td>4</td>\n",
       "      <td>27.892397</td>\n",
       "      <td>29.061455</td>\n",
       "      <td>0.031310</td>\n",
       "      <td>0.703152</td>\n",
       "      <td>0.357175</td>\n",
       "      <td>0.703152</td>\n",
       "      <td>0.005325</td>\n",
       "      <td>0.000052</td>\n",
       "      <td>0.138175</td>\n",
       "      <td>0.145663</td>\n",
       "      <td>0.949321</td>\n",
       "      <td>0.963288</td>\n",
       "      <td>3.060952</td>\n",
       "      <td>5.000000</td>\n",
       "    </tr>\n",
       "  </tbody>\n",
       "</table>\n",
       "<p>320 rows × 16 columns</p>\n",
       "</div>"
      ],
      "text/plain": [
       "          noise_type noise_level  PSNR_noisy  PSNR_denoisy  SSIM_noisy  \\\n",
       "0             Resize           1   49.495453     28.932970    0.991943   \n",
       "1             Resize           1   48.099791     28.507022    0.992052   \n",
       "2             Resize           1   49.085993     29.115937    0.991164   \n",
       "3             Resize           1   48.790185     29.197247    0.992166   \n",
       "4             Resize           1   48.159459     28.679472    0.992729   \n",
       "..               ...         ...         ...           ...         ...   \n",
       "315  Salt and Pepper           4   27.883859     28.989451    0.031104   \n",
       "316  Salt and Pepper           4   27.903623     28.790719    0.031429   \n",
       "317  Salt and Pepper           4   27.893378     29.629162    0.036818   \n",
       "318  Salt and Pepper           4   27.885621     28.611380    0.031711   \n",
       "319  Salt and Pepper           4   27.892397     29.061455    0.031310   \n",
       "\n",
       "     SSIM_denoisy  CW-SSIM_noisy  CW-SSIM_denoisy  unique_noisy  \\\n",
       "0        0.770124       0.982948         0.770124      0.988335   \n",
       "1        0.724948       0.990709         0.724948      0.989720   \n",
       "2        0.725787       0.983002         0.725787      0.988041   \n",
       "3        0.723405       0.992644         0.723405      0.990173   \n",
       "4        0.756882       0.989717         0.756882      0.989651   \n",
       "..            ...            ...              ...           ...   \n",
       "315      0.772142       0.270894         0.772142      0.001134   \n",
       "316      0.766909       0.285287         0.766909      0.001630   \n",
       "317      0.743835       0.290597         0.743835      0.001997   \n",
       "318      0.753719       0.283078         0.753719      0.001063   \n",
       "319      0.703152       0.357175         0.703152      0.005325   \n",
       "\n",
       "     unique_denoisy  ms_unique_noisy  ms_unique_denoisy  csv_noisy  \\\n",
       "0          0.000718         0.989336           0.262296   0.993298   \n",
       "1          0.002527         0.990120           0.231178   0.993959   \n",
       "2          0.000072         0.987315           0.144336   0.997866   \n",
       "3          0.027565         0.990856           0.372651   0.993649   \n",
       "4          0.000609         0.990568           0.148970   0.993837   \n",
       "..              ...              ...                ...        ...   \n",
       "315        0.000116         0.102823           0.193195   0.954979   \n",
       "316        0.000089         0.096972           0.152551   0.956101   \n",
       "317        0.000144         0.121939           0.184065   0.953420   \n",
       "318        0.000100         0.093628           0.149705   0.956077   \n",
       "319        0.000052         0.138175           0.145663   0.949321   \n",
       "\n",
       "     csv_denoisy  summer_noisy  summer_denoisy  \n",
       "0       0.965931      4.908180        1.383874  \n",
       "1       0.957071      4.892379        4.999045  \n",
       "2       0.979053      4.908367        4.999834  \n",
       "3       0.949613      4.903935        1.233038  \n",
       "4       0.954681      4.897213        3.832468  \n",
       "..           ...           ...             ...  \n",
       "315     0.971632      2.468916        5.000000  \n",
       "316     0.971414      2.876035        5.000000  \n",
       "317     0.967775      3.297429        5.000000  \n",
       "318     0.971228      2.118243        5.000000  \n",
       "319     0.963288      3.060952        5.000000  \n",
       "\n",
       "[320 rows x 16 columns]"
      ]
     },
     "execution_count": 79,
     "metadata": {},
     "output_type": "execute_result"
    }
   ],
   "source": [
    "Final_Data=list_of_dicts_to_dataframe(empty)\n",
    "Final_Data"
   ]
  },
  {
   "cell_type": "code",
   "execution_count": 80,
   "metadata": {},
   "outputs": [],
   "source": [
    "Final_Data.to_csv(r\"C:\\Users\\ajayr\\Documents\\Masters\\3rd Sem\\Digital Image Processing\\Project\\Results\\Denoising\\Deep learning\\CURE_OR\\CURE_OR_results.csv\")"
   ]
  },
  {
   "cell_type": "markdown",
   "metadata": {},
   "source": [
    "# Enhancement Algorithm Histogram Matching"
   ]
  },
  {
   "cell_type": "markdown",
   "metadata": {},
   "source": [
    "## Resize"
   ]
  },
  {
   "cell_type": "code",
   "execution_count": 81,
   "metadata": {},
   "outputs": [],
   "source": [
    "empty=[]"
   ]
  },
  {
   "cell_type": "markdown",
   "metadata": {},
   "source": [
    "##### Level 1"
   ]
  },
  {
   "cell_type": "code",
   "execution_count": 82,
   "metadata": {},
   "outputs": [],
   "source": [
    "for i in range(10):\n",
    "    noisy_image=cv2.imread(categories['02_Resize_level1'][i])\n",
    "    noisy_image=cv2.resize(noisy_image, (256, 256))\n",
    "    reference_image = cv2.imread(categories['01_No_challenge'][i])\n",
    "    reference_image=cv2.resize(reference_image, (256, 256))\n",
    "    denoised_img = match_histograms(noisy_image,reference_image, channel_axis=-1)\n",
    "    empty.append(evaluation_metrics(\"Resize\",\"1\",denoised_img,noisy_image,reference_image))"
   ]
  },
  {
   "cell_type": "markdown",
   "metadata": {},
   "source": [
    "##### Level 2"
   ]
  },
  {
   "cell_type": "code",
   "execution_count": 83,
   "metadata": {},
   "outputs": [],
   "source": [
    "for i in range(10):\n",
    "    noisy_image=cv2.imread(categories['02_Resize_level2'][i])\n",
    "    noisy_image=cv2.resize(noisy_image, (256, 256))\n",
    "    reference_image = cv2.imread(categories['01_No_challenge'][i])\n",
    "    reference_image=cv2.resize(reference_image, (256, 256))\n",
    "    denoised_img = match_histograms(noisy_image,reference_image, channel_axis=-1)\n",
    "    empty.append(evaluation_metrics(\"Resize\",\"2\",denoised_img,noisy_image,reference_image))"
   ]
  },
  {
   "cell_type": "markdown",
   "metadata": {},
   "source": [
    "##### Level 3"
   ]
  },
  {
   "cell_type": "code",
   "execution_count": 84,
   "metadata": {},
   "outputs": [],
   "source": [
    "for i in range(10):\n",
    "    noisy_image=cv2.imread(categories['02_Resize_level3'][i])\n",
    "    noisy_image=cv2.resize(noisy_image, (256, 256))\n",
    "    reference_image = cv2.imread(categories['01_No_challenge'][i])\n",
    "    reference_image=cv2.resize(reference_image, (256, 256))\n",
    "    denoised_img = match_histograms(noisy_image,reference_image, channel_axis=-1)\n",
    "    empty.append(evaluation_metrics(\"Resize\",\"3\",denoised_img,noisy_image,reference_image))"
   ]
  },
  {
   "cell_type": "markdown",
   "metadata": {},
   "source": [
    "##### Level 4"
   ]
  },
  {
   "cell_type": "code",
   "execution_count": 85,
   "metadata": {},
   "outputs": [],
   "source": [
    "for i in range(10):\n",
    "    noisy_image=cv2.imread(categories['02_Resize_level4'][i])\n",
    "    noisy_image=cv2.resize(noisy_image, (256, 256))\n",
    "    reference_image = cv2.imread(categories['01_No_challenge'][i])\n",
    "    reference_image=cv2.resize(reference_image, (256, 256))\n",
    "    denoised_img = match_histograms(noisy_image,reference_image, channel_axis=-1)\n",
    "    empty.append(evaluation_metrics(\"Resize\",\"4\",denoised_img,noisy_image,reference_image))"
   ]
  },
  {
   "cell_type": "markdown",
   "metadata": {},
   "source": [
    "## Underexposure"
   ]
  },
  {
   "cell_type": "markdown",
   "metadata": {},
   "source": [
    "##### Level 1"
   ]
  },
  {
   "cell_type": "code",
   "execution_count": 86,
   "metadata": {},
   "outputs": [],
   "source": [
    "for i in range(10):\n",
    "    noisy_image=cv2.imread(categories[\"03_Underexposure_level1\"][i])\n",
    "    noisy_image=cv2.resize(noisy_image, (256, 256))\n",
    "    reference_image = cv2.imread(categories['01_No_challenge'][i])\n",
    "    reference_image=cv2.resize(reference_image, (256, 256))\n",
    "    denoised_img = match_histograms(noisy_image,reference_image, channel_axis=-1)\n",
    "    empty.append(evaluation_metrics(\"Underexposure\",\"1\",denoised_img,noisy_image,reference_image))"
   ]
  },
  {
   "cell_type": "markdown",
   "metadata": {},
   "source": [
    "##### Level 2"
   ]
  },
  {
   "cell_type": "code",
   "execution_count": 87,
   "metadata": {},
   "outputs": [],
   "source": [
    "for i in range(10):\n",
    "    noisy_image=cv2.imread(categories[\"03_Underexposure_level2\"][i])\n",
    "    noisy_image=cv2.resize(noisy_image, (256, 256))\n",
    "    reference_image = cv2.imread(categories['01_No_challenge'][i])\n",
    "    reference_image=cv2.resize(reference_image, (256, 256))\n",
    "    denoised_img = match_histograms(noisy_image,reference_image, channel_axis=-1)\n",
    "    empty.append(evaluation_metrics(\"Underexposure\",\"2\",denoised_img,noisy_image,reference_image))"
   ]
  },
  {
   "cell_type": "markdown",
   "metadata": {},
   "source": [
    "##### Level 3"
   ]
  },
  {
   "cell_type": "code",
   "execution_count": 88,
   "metadata": {},
   "outputs": [],
   "source": [
    "for i in range(10):\n",
    "    noisy_image=cv2.imread(categories[\"03_Underexposure_level3\"][i])\n",
    "    noisy_image=cv2.resize(noisy_image, (256, 256))\n",
    "    reference_image = cv2.imread(categories['01_No_challenge'][i])\n",
    "    reference_image=cv2.resize(reference_image, (256, 256))\n",
    "    denoised_img = match_histograms(noisy_image,reference_image, channel_axis=-1)\n",
    "    empty.append(evaluation_metrics(\"Underexposure\",\"3\",denoised_img,noisy_image,reference_image))"
   ]
  },
  {
   "cell_type": "markdown",
   "metadata": {},
   "source": [
    "##### Level 4"
   ]
  },
  {
   "cell_type": "code",
   "execution_count": 89,
   "metadata": {},
   "outputs": [],
   "source": [
    "for i in range(10):\n",
    "    noisy_image=cv2.imread(categories[\"03_Underexposure_level4\"][i])\n",
    "    noisy_image=cv2.resize(noisy_image, (256, 256))\n",
    "    reference_image = cv2.imread(categories['01_No_challenge'][i])\n",
    "    reference_image=cv2.resize(reference_image, (256, 256))\n",
    "    denoised_img = match_histograms(noisy_image,reference_image, channel_axis=-1)\n",
    "    empty.append(evaluation_metrics(\"Underexposure\",\"4\",denoised_img,noisy_image,reference_image))"
   ]
  },
  {
   "cell_type": "markdown",
   "metadata": {},
   "source": [
    "## Overexposure"
   ]
  },
  {
   "cell_type": "markdown",
   "metadata": {},
   "source": [
    "##### Level 1"
   ]
  },
  {
   "cell_type": "code",
   "execution_count": 90,
   "metadata": {},
   "outputs": [],
   "source": [
    "for i in range(10):\n",
    "    noisy_image=cv2.imread(categories[\"04_Overexposure_level1\"][i])\n",
    "    noisy_image=cv2.resize(noisy_image, (256, 256))\n",
    "    reference_image = cv2.imread(categories['01_No_challenge'][i])\n",
    "    reference_image=cv2.resize(reference_image, (256, 256))\n",
    "    denoised_img = match_histograms(noisy_image,reference_image, channel_axis=-1)\n",
    "    empty.append(evaluation_metrics(\"Overexposure\",\"1\",denoised_img,noisy_image,reference_image))"
   ]
  },
  {
   "cell_type": "markdown",
   "metadata": {},
   "source": [
    "##### Level 2"
   ]
  },
  {
   "cell_type": "code",
   "execution_count": 91,
   "metadata": {},
   "outputs": [],
   "source": [
    "for i in range(10):\n",
    "    noisy_image=cv2.imread(categories[\"04_Overexposure_level2\"][i])\n",
    "    noisy_image=cv2.resize(noisy_image, (256, 256))\n",
    "    reference_image = cv2.imread(categories['01_No_challenge'][i])\n",
    "    reference_image=cv2.resize(reference_image, (256, 256))\n",
    "    denoised_img = match_histograms(noisy_image,reference_image, channel_axis=-1)\n",
    "    empty.append(evaluation_metrics(\"Overexposure\",\"2\",denoised_img,noisy_image,reference_image))"
   ]
  },
  {
   "cell_type": "markdown",
   "metadata": {},
   "source": [
    "##### Level 3"
   ]
  },
  {
   "cell_type": "code",
   "execution_count": 92,
   "metadata": {},
   "outputs": [],
   "source": [
    "for i in range(10):\n",
    "    noisy_image=cv2.imread(categories[\"04_Overexposure_level3\"][i])\n",
    "    noisy_image=cv2.resize(noisy_image, (256, 256))\n",
    "    reference_image = cv2.imread(categories['01_No_challenge'][i])\n",
    "    reference_image=cv2.resize(reference_image, (256, 256))\n",
    "    denoised_img = match_histograms(noisy_image,reference_image, channel_axis=-1)\n",
    "    empty.append(evaluation_metrics(\"Overexposure\",\"3\",denoised_img,noisy_image,reference_image))"
   ]
  },
  {
   "cell_type": "markdown",
   "metadata": {},
   "source": [
    "##### Level 4"
   ]
  },
  {
   "cell_type": "code",
   "execution_count": 93,
   "metadata": {},
   "outputs": [],
   "source": [
    "for i in range(10):\n",
    "    noisy_image=cv2.imread(categories[\"04_Overexposure_level4\"][i])\n",
    "    noisy_image=cv2.resize(noisy_image, (256, 256))\n",
    "    reference_image = cv2.imread(categories['01_No_challenge'][i])\n",
    "    reference_image=cv2.resize(reference_image, (256, 256))\n",
    "    denoised_img = match_histograms(noisy_image,reference_image, channel_axis=-1)\n",
    "    empty.append(evaluation_metrics(\"Overexposure\",\"4\",denoised_img,noisy_image,reference_image))"
   ]
  },
  {
   "cell_type": "markdown",
   "metadata": {},
   "source": [
    "## Gaussian blur"
   ]
  },
  {
   "cell_type": "markdown",
   "metadata": {},
   "source": [
    "##### Level 1"
   ]
  },
  {
   "cell_type": "code",
   "execution_count": 94,
   "metadata": {},
   "outputs": [],
   "source": [
    "for i in range(10):\n",
    "    noisy_image=cv2.imread(categories[\"05_Gaussian_blur_level1\"][i])\n",
    "    noisy_image=cv2.resize(noisy_image, (256, 256))\n",
    "    reference_image = cv2.imread(categories['01_No_challenge'][i])\n",
    "    reference_image=cv2.resize(reference_image, (256, 256))\n",
    "    denoised_img = match_histograms(noisy_image,reference_image, channel_axis=-1)\n",
    "    empty.append(evaluation_metrics(\"Gaussian_blur\",\"1\",denoised_img,noisy_image,reference_image))"
   ]
  },
  {
   "cell_type": "markdown",
   "metadata": {},
   "source": [
    "##### Level 2"
   ]
  },
  {
   "cell_type": "code",
   "execution_count": 95,
   "metadata": {},
   "outputs": [],
   "source": [
    "for i in range(10):\n",
    "    noisy_image=cv2.imread(categories[\"05_Gaussian_blur_level2\"][i])\n",
    "    noisy_image=cv2.resize(noisy_image, (256, 256))\n",
    "    reference_image = cv2.imread(categories['01_No_challenge'][i])\n",
    "    reference_image=cv2.resize(reference_image, (256, 256))\n",
    "    denoised_img = match_histograms(noisy_image,reference_image, channel_axis=-1)\n",
    "    empty.append(evaluation_metrics(\"Gaussian_blur\",\"2\",denoised_img,noisy_image,reference_image))"
   ]
  },
  {
   "cell_type": "markdown",
   "metadata": {},
   "source": [
    "##### Level 3"
   ]
  },
  {
   "cell_type": "code",
   "execution_count": 96,
   "metadata": {},
   "outputs": [],
   "source": [
    "for i in range(10):\n",
    "    noisy_image=cv2.imread(categories[\"05_Gaussian_blur_level3\"][i])\n",
    "    noisy_image=cv2.resize(noisy_image, (256, 256))\n",
    "    reference_image = cv2.imread(categories['01_No_challenge'][i])\n",
    "    reference_image=cv2.resize(reference_image, (256, 256))\n",
    "    denoised_img = match_histograms(noisy_image,reference_image, channel_axis=-1)\n",
    "    empty.append(evaluation_metrics(\"Gaussian_blur\",\"3\",denoised_img,noisy_image,reference_image))"
   ]
  },
  {
   "cell_type": "markdown",
   "metadata": {},
   "source": [
    "##### Level 4"
   ]
  },
  {
   "cell_type": "code",
   "execution_count": 97,
   "metadata": {},
   "outputs": [],
   "source": [
    "for i in range(10):\n",
    "    noisy_image=cv2.imread(categories[\"05_Gaussian_blur_level4\"][i])\n",
    "    noisy_image=cv2.resize(noisy_image, (256, 256))\n",
    "    reference_image = cv2.imread(categories['01_No_challenge'][i])\n",
    "    reference_image=cv2.resize(reference_image, (256, 256))\n",
    "    denoised_img = match_histograms(noisy_image,reference_image, channel_axis=-1)\n",
    "    empty.append(evaluation_metrics(\"Gaussian_blur\",\"4\",denoised_img,noisy_image,reference_image))"
   ]
  },
  {
   "cell_type": "markdown",
   "metadata": {},
   "source": [
    "## Contrast"
   ]
  },
  {
   "cell_type": "markdown",
   "metadata": {},
   "source": [
    "##### Level 1"
   ]
  },
  {
   "cell_type": "code",
   "execution_count": 98,
   "metadata": {},
   "outputs": [],
   "source": [
    "for i in range(10):\n",
    "    noisy_image=cv2.imread(categories[\"06_Contrast_level1\"][i])\n",
    "    noisy_image=cv2.resize(noisy_image, (256, 256))\n",
    "    reference_image = cv2.imread(categories['01_No_challenge'][i])\n",
    "    reference_image=cv2.resize(reference_image, (256, 256))\n",
    "    denoised_img = match_histograms(noisy_image,reference_image, channel_axis=-1)\n",
    "    empty.append(evaluation_metrics(\"Contrast\",\"1\",denoised_img,noisy_image,reference_image))"
   ]
  },
  {
   "cell_type": "markdown",
   "metadata": {},
   "source": [
    "##### Level 2"
   ]
  },
  {
   "cell_type": "code",
   "execution_count": 99,
   "metadata": {},
   "outputs": [],
   "source": [
    "for i in range(10):\n",
    "    noisy_image=cv2.imread(categories[\"06_Contrast_level2\"][i])\n",
    "    noisy_image=cv2.resize(noisy_image, (256, 256))\n",
    "    reference_image = cv2.imread(categories['01_No_challenge'][i])\n",
    "    reference_image=cv2.resize(reference_image, (256, 256))\n",
    "    denoised_img = match_histograms(noisy_image,reference_image, channel_axis=-1)\n",
    "    empty.append(evaluation_metrics(\"Contrast\",\"2\",denoised_img,noisy_image,reference_image))"
   ]
  },
  {
   "cell_type": "markdown",
   "metadata": {},
   "source": [
    "##### Level 3"
   ]
  },
  {
   "cell_type": "code",
   "execution_count": 100,
   "metadata": {},
   "outputs": [],
   "source": [
    "for i in range(10):\n",
    "    noisy_image=cv2.imread(categories[\"06_Contrast_level3\"][i])\n",
    "    noisy_image=cv2.resize(noisy_image, (256, 256))\n",
    "    reference_image = cv2.imread(categories['01_No_challenge'][i])\n",
    "    reference_image=cv2.resize(reference_image, (256, 256))\n",
    "    denoised_img = match_histograms(noisy_image,reference_image, channel_axis=-1)\n",
    "    empty.append(evaluation_metrics(\"Contrast\",\"3\",denoised_img,noisy_image,reference_image))"
   ]
  },
  {
   "cell_type": "markdown",
   "metadata": {},
   "source": [
    "##### Level 4"
   ]
  },
  {
   "cell_type": "code",
   "execution_count": 101,
   "metadata": {},
   "outputs": [],
   "source": [
    "for i in range(10):\n",
    "    noisy_image=cv2.imread(categories[\"06_Contrast_level4\"][i])\n",
    "    noisy_image=cv2.resize(noisy_image, (256, 256))\n",
    "    reference_image = cv2.imread(categories['01_No_challenge'][i])\n",
    "    reference_image=cv2.resize(reference_image, (256, 256))\n",
    "    denoised_img = match_histograms(noisy_image,reference_image, channel_axis=-1)\n",
    "    empty.append(evaluation_metrics(\"Contrast\",\"4\",denoised_img,noisy_image,reference_image))"
   ]
  },
  {
   "cell_type": "markdown",
   "metadata": {},
   "source": [
    "## Dirty lens 1"
   ]
  },
  {
   "cell_type": "markdown",
   "metadata": {},
   "source": [
    "##### Level 1"
   ]
  },
  {
   "cell_type": "code",
   "execution_count": 102,
   "metadata": {},
   "outputs": [],
   "source": [
    "for i in range(10):\n",
    "    noisy_image=cv2.imread(categories[\"07_Dirty_lens_1_level1\"][i])\n",
    "    noisy_image=cv2.resize(noisy_image, (256, 256))\n",
    "    reference_image = cv2.imread(categories['01_No_challenge'][i])\n",
    "    reference_image=cv2.resize(reference_image, (256, 256))\n",
    "    denoised_img = match_histograms(noisy_image,reference_image, channel_axis=-1)\n",
    "    empty.append(evaluation_metrics(\"Dirty Lens 1\",\"1\",denoised_img,noisy_image,reference_image))"
   ]
  },
  {
   "cell_type": "markdown",
   "metadata": {},
   "source": [
    "##### Level 2"
   ]
  },
  {
   "cell_type": "code",
   "execution_count": 103,
   "metadata": {},
   "outputs": [],
   "source": [
    "for i in range(10):\n",
    "    noisy_image=cv2.imread(categories[\"07_Dirty_lens_1_level2\"][i])\n",
    "    noisy_image=cv2.resize(noisy_image, (256, 256))\n",
    "    reference_image = cv2.imread(categories['01_No_challenge'][i])\n",
    "    reference_image=cv2.resize(reference_image, (256, 256))\n",
    "    denoised_img = match_histograms(noisy_image,reference_image, channel_axis=-1)\n",
    "    empty.append(evaluation_metrics(\"Dirty Lens 1\",\"2\",denoised_img,noisy_image,reference_image))"
   ]
  },
  {
   "cell_type": "markdown",
   "metadata": {},
   "source": [
    "##### Level 3"
   ]
  },
  {
   "cell_type": "code",
   "execution_count": 104,
   "metadata": {},
   "outputs": [],
   "source": [
    "for i in range(10):\n",
    "    noisy_image=cv2.imread(categories[\"07_Dirty_lens_1_level3\"][i])\n",
    "    noisy_image=cv2.resize(noisy_image, (256, 256))\n",
    "    reference_image = cv2.imread(categories['01_No_challenge'][i])\n",
    "    reference_image=cv2.resize(reference_image, (256, 256))\n",
    "    denoised_img = match_histograms(noisy_image,reference_image, channel_axis=-1)\n",
    "    empty.append(evaluation_metrics(\"Dirty Lens 1\",\"3\",denoised_img,noisy_image,reference_image))"
   ]
  },
  {
   "cell_type": "markdown",
   "metadata": {},
   "source": [
    "##### Level 4"
   ]
  },
  {
   "cell_type": "code",
   "execution_count": 105,
   "metadata": {},
   "outputs": [],
   "source": [
    "for i in range(10):\n",
    "    noisy_image=cv2.imread(categories[\"07_Dirty_lens_1_level4\"][i])\n",
    "    noisy_image=cv2.resize(noisy_image, (256, 256))\n",
    "    reference_image = cv2.imread(categories['01_No_challenge'][i])\n",
    "    reference_image=cv2.resize(reference_image, (256, 256))\n",
    "    denoised_img = match_histograms(noisy_image,reference_image, channel_axis=-1)\n",
    "    empty.append(evaluation_metrics(\"Dirty Lens 1\",\"4\",denoised_img,noisy_image,reference_image))"
   ]
  },
  {
   "cell_type": "markdown",
   "metadata": {},
   "source": [
    "## Dirty lens 2"
   ]
  },
  {
   "cell_type": "markdown",
   "metadata": {},
   "source": [
    "##### Level 1"
   ]
  },
  {
   "cell_type": "code",
   "execution_count": 106,
   "metadata": {},
   "outputs": [],
   "source": [
    "for i in range(10):\n",
    "    noisy_image=cv2.imread(categories[\"08_Dirty_lens_2_level1\"][i])\n",
    "    noisy_image=cv2.resize(noisy_image, (256, 256))\n",
    "    reference_image = cv2.imread(categories['01_No_challenge'][i])\n",
    "    reference_image=cv2.resize(reference_image, (256, 256))\n",
    "    denoised_img = match_histograms(noisy_image,reference_image, channel_axis=-1)\n",
    "    empty.append(evaluation_metrics(\"Dirty Lens 2\",\"1\",denoised_img,noisy_image,reference_image))"
   ]
  },
  {
   "cell_type": "markdown",
   "metadata": {},
   "source": [
    "##### Level 2"
   ]
  },
  {
   "cell_type": "code",
   "execution_count": 107,
   "metadata": {},
   "outputs": [],
   "source": [
    "for i in range(10):\n",
    "    noisy_image=cv2.imread(categories[\"08_Dirty_lens_2_level2\"][i])\n",
    "    noisy_image=cv2.resize(noisy_image, (256, 256))\n",
    "    reference_image = cv2.imread(categories['01_No_challenge'][i])\n",
    "    reference_image=cv2.resize(reference_image, (256, 256))\n",
    "    denoised_img = match_histograms(noisy_image,reference_image, channel_axis=-1)\n",
    "    empty.append(evaluation_metrics(\"Dirty Lens 2\",\"2\",denoised_img,noisy_image,reference_image))"
   ]
  },
  {
   "cell_type": "markdown",
   "metadata": {},
   "source": [
    "##### Level 3"
   ]
  },
  {
   "cell_type": "code",
   "execution_count": 108,
   "metadata": {},
   "outputs": [],
   "source": [
    "for i in range(10):\n",
    "    noisy_image=cv2.imread(categories[\"08_Dirty_lens_2_level3\"][i])\n",
    "    noisy_image=cv2.resize(noisy_image, (256, 256))\n",
    "    reference_image = cv2.imread(categories['01_No_challenge'][i])\n",
    "    reference_image=cv2.resize(reference_image, (256, 256))\n",
    "    denoised_img = match_histograms(noisy_image,reference_image, channel_axis=-1)\n",
    "    empty.append(evaluation_metrics(\"Dirty Lens 2\",\"3\",denoised_img,noisy_image,reference_image))"
   ]
  },
  {
   "cell_type": "markdown",
   "metadata": {},
   "source": [
    "##### Level 4"
   ]
  },
  {
   "cell_type": "code",
   "execution_count": 109,
   "metadata": {},
   "outputs": [],
   "source": [
    "for i in range(10):\n",
    "    noisy_image=cv2.imread(categories[\"08_Dirty_lens_2_level4\"][i])\n",
    "    noisy_image=cv2.resize(noisy_image, (256, 256))\n",
    "    reference_image = cv2.imread(categories['01_No_challenge'][i])\n",
    "    reference_image=cv2.resize(reference_image, (256, 256))\n",
    "    denoised_img = match_histograms(noisy_image,reference_image, channel_axis=-1)\n",
    "    empty.append(evaluation_metrics(\"Dirty Lens 2\",\"4\",denoised_img,noisy_image,reference_image))"
   ]
  },
  {
   "cell_type": "markdown",
   "metadata": {},
   "source": [
    "## Salt & pepper noise"
   ]
  },
  {
   "cell_type": "markdown",
   "metadata": {},
   "source": [
    "##### Level 1"
   ]
  },
  {
   "cell_type": "code",
   "execution_count": 110,
   "metadata": {},
   "outputs": [],
   "source": [
    "for i in range(10):\n",
    "    noisy_image=cv2.imread(categories[\"09_Salt_and_pepper_noise_level1\"][i])\n",
    "    noisy_image=cv2.resize(noisy_image, (256, 256))\n",
    "    reference_image = cv2.imread(categories['01_No_challenge'][i])\n",
    "    reference_image=cv2.resize(reference_image, (256, 256))\n",
    "    denoised_img = match_histograms(noisy_image,reference_image, channel_axis=-1)\n",
    "    empty.append(evaluation_metrics(\"Salt and Pepper\",\"1\",denoised_img,noisy_image,reference_image))"
   ]
  },
  {
   "cell_type": "markdown",
   "metadata": {},
   "source": [
    "##### Level 2"
   ]
  },
  {
   "cell_type": "code",
   "execution_count": 111,
   "metadata": {},
   "outputs": [],
   "source": [
    "for i in range(10):\n",
    "    noisy_image=cv2.imread(categories[\"09_Salt_and_pepper_noise_level2\"][i])\n",
    "    noisy_image=cv2.resize(noisy_image, (256, 256))\n",
    "    reference_image = cv2.imread(categories['01_No_challenge'][i])\n",
    "    reference_image=cv2.resize(reference_image, (256, 256))\n",
    "    denoised_img = match_histograms(noisy_image,reference_image, channel_axis=-1)\n",
    "    empty.append(evaluation_metrics(\"Salt and Pepper\",\"2\",denoised_img,noisy_image,reference_image))"
   ]
  },
  {
   "cell_type": "markdown",
   "metadata": {},
   "source": [
    "##### Level 3"
   ]
  },
  {
   "cell_type": "code",
   "execution_count": 112,
   "metadata": {},
   "outputs": [],
   "source": [
    "for i in range(10):\n",
    "    noisy_image=cv2.imread(categories[\"09_Salt_and_pepper_noise_level3\"][i])\n",
    "    noisy_image=cv2.resize(noisy_image, (256, 256))\n",
    "    reference_image = cv2.imread(categories['01_No_challenge'][i])\n",
    "    reference_image=cv2.resize(reference_image, (256, 256))\n",
    "    denoised_img = match_histograms(noisy_image,reference_image, channel_axis=-1)\n",
    "    empty.append(evaluation_metrics(\"Salt and Pepper\",\"3\",denoised_img,noisy_image,reference_image))"
   ]
  },
  {
   "cell_type": "markdown",
   "metadata": {},
   "source": [
    "##### Level 4"
   ]
  },
  {
   "cell_type": "code",
   "execution_count": 113,
   "metadata": {},
   "outputs": [],
   "source": [
    "for i in range(10):\n",
    "    noisy_image=cv2.imread(categories[\"09_Salt_and_pepper_noise_level4\"][i])\n",
    "    noisy_image=cv2.resize(noisy_image, (256, 256))\n",
    "    reference_image = cv2.imread(categories['01_No_challenge'][i])\n",
    "    reference_image=cv2.resize(reference_image, (256, 256))\n",
    "    denoised_img = match_histograms(noisy_image,reference_image, channel_axis=-1)\n",
    "    empty.append(evaluation_metrics(\"Salt and Pepper\",\"4\",denoised_img,noisy_image,reference_image))"
   ]
  },
  {
   "cell_type": "code",
   "execution_count": 114,
   "metadata": {},
   "outputs": [
    {
     "data": {
      "text/html": [
       "<div>\n",
       "<style scoped>\n",
       "    .dataframe tbody tr th:only-of-type {\n",
       "        vertical-align: middle;\n",
       "    }\n",
       "\n",
       "    .dataframe tbody tr th {\n",
       "        vertical-align: top;\n",
       "    }\n",
       "\n",
       "    .dataframe thead th {\n",
       "        text-align: right;\n",
       "    }\n",
       "</style>\n",
       "<table border=\"1\" class=\"dataframe\">\n",
       "  <thead>\n",
       "    <tr style=\"text-align: right;\">\n",
       "      <th></th>\n",
       "      <th>noise_type</th>\n",
       "      <th>noise_level</th>\n",
       "      <th>PSNR_noisy</th>\n",
       "      <th>PSNR_denoisy</th>\n",
       "      <th>SSIM_noisy</th>\n",
       "      <th>SSIM_denoisy</th>\n",
       "      <th>CW-SSIM_noisy</th>\n",
       "      <th>CW-SSIM_denoisy</th>\n",
       "      <th>unique_noisy</th>\n",
       "      <th>unique_denoisy</th>\n",
       "      <th>ms_unique_noisy</th>\n",
       "      <th>ms_unique_denoisy</th>\n",
       "      <th>csv_noisy</th>\n",
       "      <th>csv_denoisy</th>\n",
       "      <th>summer_noisy</th>\n",
       "      <th>summer_denoisy</th>\n",
       "    </tr>\n",
       "  </thead>\n",
       "  <tbody>\n",
       "    <tr>\n",
       "      <th>0</th>\n",
       "      <td>Resize</td>\n",
       "      <td>1</td>\n",
       "      <td>49.495453</td>\n",
       "      <td>46.751071</td>\n",
       "      <td>0.991943</td>\n",
       "      <td>0.990378</td>\n",
       "      <td>0.982948</td>\n",
       "      <td>0.990378</td>\n",
       "      <td>0.988335</td>\n",
       "      <td>0.979370</td>\n",
       "      <td>0.989336</td>\n",
       "      <td>0.983762</td>\n",
       "      <td>0.993298</td>\n",
       "      <td>0.990424</td>\n",
       "      <td>4.908180</td>\n",
       "      <td>4.856787</td>\n",
       "    </tr>\n",
       "    <tr>\n",
       "      <th>1</th>\n",
       "      <td>Resize</td>\n",
       "      <td>1</td>\n",
       "      <td>48.099791</td>\n",
       "      <td>46.120692</td>\n",
       "      <td>0.992052</td>\n",
       "      <td>0.990187</td>\n",
       "      <td>0.990709</td>\n",
       "      <td>0.990187</td>\n",
       "      <td>0.989720</td>\n",
       "      <td>0.984415</td>\n",
       "      <td>0.990120</td>\n",
       "      <td>0.986318</td>\n",
       "      <td>0.993959</td>\n",
       "      <td>0.990456</td>\n",
       "      <td>4.892379</td>\n",
       "      <td>4.837076</td>\n",
       "    </tr>\n",
       "    <tr>\n",
       "      <th>2</th>\n",
       "      <td>Resize</td>\n",
       "      <td>1</td>\n",
       "      <td>49.085993</td>\n",
       "      <td>46.910706</td>\n",
       "      <td>0.991164</td>\n",
       "      <td>0.989463</td>\n",
       "      <td>0.983002</td>\n",
       "      <td>0.989463</td>\n",
       "      <td>0.988041</td>\n",
       "      <td>0.979786</td>\n",
       "      <td>0.987315</td>\n",
       "      <td>0.980805</td>\n",
       "      <td>0.997866</td>\n",
       "      <td>0.990608</td>\n",
       "      <td>4.908367</td>\n",
       "      <td>4.852881</td>\n",
       "    </tr>\n",
       "    <tr>\n",
       "      <th>3</th>\n",
       "      <td>Resize</td>\n",
       "      <td>1</td>\n",
       "      <td>48.790185</td>\n",
       "      <td>46.084372</td>\n",
       "      <td>0.992166</td>\n",
       "      <td>0.990310</td>\n",
       "      <td>0.992644</td>\n",
       "      <td>0.990310</td>\n",
       "      <td>0.990173</td>\n",
       "      <td>0.984924</td>\n",
       "      <td>0.990856</td>\n",
       "      <td>0.987976</td>\n",
       "      <td>0.993649</td>\n",
       "      <td>0.990459</td>\n",
       "      <td>4.903935</td>\n",
       "      <td>4.855071</td>\n",
       "    </tr>\n",
       "    <tr>\n",
       "      <th>4</th>\n",
       "      <td>Resize</td>\n",
       "      <td>1</td>\n",
       "      <td>48.159459</td>\n",
       "      <td>45.904451</td>\n",
       "      <td>0.992729</td>\n",
       "      <td>0.991462</td>\n",
       "      <td>0.989717</td>\n",
       "      <td>0.991462</td>\n",
       "      <td>0.989651</td>\n",
       "      <td>0.984111</td>\n",
       "      <td>0.990568</td>\n",
       "      <td>0.985955</td>\n",
       "      <td>0.993837</td>\n",
       "      <td>0.990832</td>\n",
       "      <td>4.897213</td>\n",
       "      <td>4.849249</td>\n",
       "    </tr>\n",
       "    <tr>\n",
       "      <th>...</th>\n",
       "      <td>...</td>\n",
       "      <td>...</td>\n",
       "      <td>...</td>\n",
       "      <td>...</td>\n",
       "      <td>...</td>\n",
       "      <td>...</td>\n",
       "      <td>...</td>\n",
       "      <td>...</td>\n",
       "      <td>...</td>\n",
       "      <td>...</td>\n",
       "      <td>...</td>\n",
       "      <td>...</td>\n",
       "      <td>...</td>\n",
       "      <td>...</td>\n",
       "      <td>...</td>\n",
       "      <td>...</td>\n",
       "    </tr>\n",
       "    <tr>\n",
       "      <th>315</th>\n",
       "      <td>Salt and Pepper</td>\n",
       "      <td>4</td>\n",
       "      <td>27.883859</td>\n",
       "      <td>29.117595</td>\n",
       "      <td>0.031104</td>\n",
       "      <td>0.208882</td>\n",
       "      <td>0.270894</td>\n",
       "      <td>0.208882</td>\n",
       "      <td>0.001134</td>\n",
       "      <td>0.003306</td>\n",
       "      <td>0.102823</td>\n",
       "      <td>0.271708</td>\n",
       "      <td>0.954979</td>\n",
       "      <td>0.960452</td>\n",
       "      <td>2.468916</td>\n",
       "      <td>4.862430</td>\n",
       "    </tr>\n",
       "    <tr>\n",
       "      <th>316</th>\n",
       "      <td>Salt and Pepper</td>\n",
       "      <td>4</td>\n",
       "      <td>27.903623</td>\n",
       "      <td>29.122024</td>\n",
       "      <td>0.031429</td>\n",
       "      <td>0.246420</td>\n",
       "      <td>0.285287</td>\n",
       "      <td>0.246420</td>\n",
       "      <td>0.001630</td>\n",
       "      <td>0.007015</td>\n",
       "      <td>0.096972</td>\n",
       "      <td>0.251967</td>\n",
       "      <td>0.956101</td>\n",
       "      <td>0.961471</td>\n",
       "      <td>2.876035</td>\n",
       "      <td>4.957414</td>\n",
       "    </tr>\n",
       "    <tr>\n",
       "      <th>317</th>\n",
       "      <td>Salt and Pepper</td>\n",
       "      <td>4</td>\n",
       "      <td>27.893378</td>\n",
       "      <td>29.080472</td>\n",
       "      <td>0.036818</td>\n",
       "      <td>0.118823</td>\n",
       "      <td>0.290597</td>\n",
       "      <td>0.118823</td>\n",
       "      <td>0.001997</td>\n",
       "      <td>0.003631</td>\n",
       "      <td>0.121939</td>\n",
       "      <td>0.256178</td>\n",
       "      <td>0.953420</td>\n",
       "      <td>0.956510</td>\n",
       "      <td>3.297429</td>\n",
       "      <td>4.725632</td>\n",
       "    </tr>\n",
       "    <tr>\n",
       "      <th>318</th>\n",
       "      <td>Salt and Pepper</td>\n",
       "      <td>4</td>\n",
       "      <td>27.885621</td>\n",
       "      <td>29.105886</td>\n",
       "      <td>0.031711</td>\n",
       "      <td>0.247557</td>\n",
       "      <td>0.283078</td>\n",
       "      <td>0.247557</td>\n",
       "      <td>0.001063</td>\n",
       "      <td>0.005511</td>\n",
       "      <td>0.093628</td>\n",
       "      <td>0.247792</td>\n",
       "      <td>0.956077</td>\n",
       "      <td>0.960341</td>\n",
       "      <td>2.118243</td>\n",
       "      <td>4.845338</td>\n",
       "    </tr>\n",
       "    <tr>\n",
       "      <th>319</th>\n",
       "      <td>Salt and Pepper</td>\n",
       "      <td>4</td>\n",
       "      <td>27.892397</td>\n",
       "      <td>28.940937</td>\n",
       "      <td>0.031310</td>\n",
       "      <td>0.053281</td>\n",
       "      <td>0.357175</td>\n",
       "      <td>0.053281</td>\n",
       "      <td>0.005325</td>\n",
       "      <td>0.007357</td>\n",
       "      <td>0.138175</td>\n",
       "      <td>0.196818</td>\n",
       "      <td>0.949321</td>\n",
       "      <td>0.950452</td>\n",
       "      <td>3.060952</td>\n",
       "      <td>3.630054</td>\n",
       "    </tr>\n",
       "  </tbody>\n",
       "</table>\n",
       "<p>320 rows × 16 columns</p>\n",
       "</div>"
      ],
      "text/plain": [
       "          noise_type noise_level  PSNR_noisy  PSNR_denoisy  SSIM_noisy  \\\n",
       "0             Resize           1   49.495453     46.751071    0.991943   \n",
       "1             Resize           1   48.099791     46.120692    0.992052   \n",
       "2             Resize           1   49.085993     46.910706    0.991164   \n",
       "3             Resize           1   48.790185     46.084372    0.992166   \n",
       "4             Resize           1   48.159459     45.904451    0.992729   \n",
       "..               ...         ...         ...           ...         ...   \n",
       "315  Salt and Pepper           4   27.883859     29.117595    0.031104   \n",
       "316  Salt and Pepper           4   27.903623     29.122024    0.031429   \n",
       "317  Salt and Pepper           4   27.893378     29.080472    0.036818   \n",
       "318  Salt and Pepper           4   27.885621     29.105886    0.031711   \n",
       "319  Salt and Pepper           4   27.892397     28.940937    0.031310   \n",
       "\n",
       "     SSIM_denoisy  CW-SSIM_noisy  CW-SSIM_denoisy  unique_noisy  \\\n",
       "0        0.990378       0.982948         0.990378      0.988335   \n",
       "1        0.990187       0.990709         0.990187      0.989720   \n",
       "2        0.989463       0.983002         0.989463      0.988041   \n",
       "3        0.990310       0.992644         0.990310      0.990173   \n",
       "4        0.991462       0.989717         0.991462      0.989651   \n",
       "..            ...            ...              ...           ...   \n",
       "315      0.208882       0.270894         0.208882      0.001134   \n",
       "316      0.246420       0.285287         0.246420      0.001630   \n",
       "317      0.118823       0.290597         0.118823      0.001997   \n",
       "318      0.247557       0.283078         0.247557      0.001063   \n",
       "319      0.053281       0.357175         0.053281      0.005325   \n",
       "\n",
       "     unique_denoisy  ms_unique_noisy  ms_unique_denoisy  csv_noisy  \\\n",
       "0          0.979370         0.989336           0.983762   0.993298   \n",
       "1          0.984415         0.990120           0.986318   0.993959   \n",
       "2          0.979786         0.987315           0.980805   0.997866   \n",
       "3          0.984924         0.990856           0.987976   0.993649   \n",
       "4          0.984111         0.990568           0.985955   0.993837   \n",
       "..              ...              ...                ...        ...   \n",
       "315        0.003306         0.102823           0.271708   0.954979   \n",
       "316        0.007015         0.096972           0.251967   0.956101   \n",
       "317        0.003631         0.121939           0.256178   0.953420   \n",
       "318        0.005511         0.093628           0.247792   0.956077   \n",
       "319        0.007357         0.138175           0.196818   0.949321   \n",
       "\n",
       "     csv_denoisy  summer_noisy  summer_denoisy  \n",
       "0       0.990424      4.908180        4.856787  \n",
       "1       0.990456      4.892379        4.837076  \n",
       "2       0.990608      4.908367        4.852881  \n",
       "3       0.990459      4.903935        4.855071  \n",
       "4       0.990832      4.897213        4.849249  \n",
       "..           ...           ...             ...  \n",
       "315     0.960452      2.468916        4.862430  \n",
       "316     0.961471      2.876035        4.957414  \n",
       "317     0.956510      3.297429        4.725632  \n",
       "318     0.960341      2.118243        4.845338  \n",
       "319     0.950452      3.060952        3.630054  \n",
       "\n",
       "[320 rows x 16 columns]"
      ]
     },
     "execution_count": 114,
     "metadata": {},
     "output_type": "execute_result"
    }
   ],
   "source": [
    "Final_Data=list_of_dicts_to_dataframe(empty)\n",
    "Final_Data"
   ]
  },
  {
   "cell_type": "code",
   "execution_count": 115,
   "metadata": {},
   "outputs": [],
   "source": [
    "Final_Data.to_csv(r\"C:\\Users\\ajayr\\Documents\\Masters\\3rd Sem\\Digital Image Processing\\Project\\Results\\Enhancement\\CURE-OR\\CURE_OR_results.csv\")"
   ]
  },
  {
   "cell_type": "code",
   "execution_count": null,
   "metadata": {},
   "outputs": [],
   "source": []
  },
  {
   "cell_type": "code",
   "execution_count": null,
   "metadata": {},
   "outputs": [],
   "source": []
  },
  {
   "cell_type": "code",
   "execution_count": null,
   "metadata": {},
   "outputs": [],
   "source": []
  }
 ],
 "metadata": {
  "kernelspec": {
   "display_name": "dip_project",
   "language": "python",
   "name": "python3"
  },
  "language_info": {
   "codemirror_mode": {
    "name": "ipython",
    "version": 3
   },
   "file_extension": ".py",
   "mimetype": "text/x-python",
   "name": "python",
   "nbconvert_exporter": "python",
   "pygments_lexer": "ipython3",
   "version": "3.9.18"
  }
 },
 "nbformat": 4,
 "nbformat_minor": 2
}
